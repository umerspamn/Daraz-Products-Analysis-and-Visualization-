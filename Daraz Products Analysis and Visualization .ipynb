{
 "cells": [
  {
   "cell_type": "code",
   "execution_count": 2,
   "id": "c2f76fb0",
   "metadata": {},
   "outputs": [],
   "source": [
    "import pandas as pd \n",
    "import numpy as np \n",
    "import matplotlib.pyplot as plt\n",
    "import plotly.express as px"
   ]
  },
  {
   "cell_type": "code",
   "execution_count": 3,
   "id": "6c59ebd4",
   "metadata": {},
   "outputs": [
    {
     "data": {
      "text/html": [
       "<div>\n",
       "<style scoped>\n",
       "    .dataframe tbody tr th:only-of-type {\n",
       "        vertical-align: middle;\n",
       "    }\n",
       "\n",
       "    .dataframe tbody tr th {\n",
       "        vertical-align: top;\n",
       "    }\n",
       "\n",
       "    .dataframe thead th {\n",
       "        text-align: right;\n",
       "    }\n",
       "</style>\n",
       "<table border=\"1\" class=\"dataframe\">\n",
       "  <thead>\n",
       "    <tr style=\"text-align: right;\">\n",
       "      <th></th>\n",
       "      <th>LABEL-1</th>\n",
       "      <th>product1</th>\n",
       "      <th>LABEL-3</th>\n",
       "      <th>real price</th>\n",
       "      <th>LABEL-5</th>\n",
       "      <th>LABEL-6</th>\n",
       "      <th>LABEL-7</th>\n",
       "      <th>LABEL-8</th>\n",
       "      <th>LABEL-9</th>\n",
       "      <th>product 2</th>\n",
       "      <th>...</th>\n",
       "      <th>LABEL-53</th>\n",
       "      <th>LABEL-54</th>\n",
       "      <th>LABEL-55</th>\n",
       "      <th>LABEL-56</th>\n",
       "      <th>LABEL-57</th>\n",
       "      <th>LABEL-58</th>\n",
       "      <th>LABEL-59</th>\n",
       "      <th>LABEL-60</th>\n",
       "      <th>LABEL-61</th>\n",
       "      <th>LABEL-62</th>\n",
       "    </tr>\n",
       "  </thead>\n",
       "  <tbody>\n",
       "    <tr>\n",
       "      <th>0</th>\n",
       "      <td>https://static-01.daraz.pk/p/71ae853f953bc8964...</td>\n",
       "      <td>Wipers - Kitchen Shelf Cleaning Wiper - Window...</td>\n",
       "      <td>Rs.</td>\n",
       "      <td>149</td>\n",
       "      <td>Rs.</td>\n",
       "      <td>350</td>\n",
       "      <td>-57%</td>\n",
       "      <td>(306)</td>\n",
       "      <td>https://static-01.daraz.pk/p/c8bf94c7ee9b27c06...</td>\n",
       "      <td>Flowery Pore-Refining Treatment Gel (Niacinami...</td>\n",
       "      <td>...</td>\n",
       "      <td>NaN</td>\n",
       "      <td>NaN</td>\n",
       "      <td>NaN</td>\n",
       "      <td>NaN</td>\n",
       "      <td>NaN</td>\n",
       "      <td>NaN</td>\n",
       "      <td>NaN</td>\n",
       "      <td>NaN</td>\n",
       "      <td>NaN</td>\n",
       "      <td>NaN</td>\n",
       "    </tr>\n",
       "    <tr>\n",
       "      <th>1</th>\n",
       "      <td>https://static-01.daraz.pk/p/6f3ab016cb2420e4b...</td>\n",
       "      <td>Winter Cap and neck for Boy - Girls</td>\n",
       "      <td>Rs.</td>\n",
       "      <td>488</td>\n",
       "      <td>Rs.</td>\n",
       "      <td>999</td>\n",
       "      <td>-51%</td>\n",
       "      <td>(921)</td>\n",
       "      <td>https://static-01.daraz.pk/p/4af103f1a9fffc098...</td>\n",
       "      <td>caps for men cap winter cap songting cap and n...</td>\n",
       "      <td>...</td>\n",
       "      <td>NaN</td>\n",
       "      <td>NaN</td>\n",
       "      <td>NaN</td>\n",
       "      <td>NaN</td>\n",
       "      <td>NaN</td>\n",
       "      <td>NaN</td>\n",
       "      <td>NaN</td>\n",
       "      <td>NaN</td>\n",
       "      <td>NaN</td>\n",
       "      <td>NaN</td>\n",
       "    </tr>\n",
       "    <tr>\n",
       "      <th>2</th>\n",
       "      <td>https://static-01.daraz.pk/p/27d937c553d9e4aee...</td>\n",
       "      <td>【Ready Stock+FREE Shipping+COD】Xiaomi Bluetoot...</td>\n",
       "      <td>Rs.</td>\n",
       "      <td>1,399</td>\n",
       "      <td>Rs.</td>\n",
       "      <td>2,400</td>\n",
       "      <td>-42%</td>\n",
       "      <td>(128)</td>\n",
       "      <td>https://static-01.daraz.pk/p/df1d003e9474d338d...</td>\n",
       "      <td>Oud Collection - Arabic Perfumes Dirham_Men - ...</td>\n",
       "      <td>...</td>\n",
       "      <td>NaN</td>\n",
       "      <td>NaN</td>\n",
       "      <td>NaN</td>\n",
       "      <td>NaN</td>\n",
       "      <td>NaN</td>\n",
       "      <td>NaN</td>\n",
       "      <td>NaN</td>\n",
       "      <td>NaN</td>\n",
       "      <td>NaN</td>\n",
       "      <td>NaN</td>\n",
       "    </tr>\n",
       "    <tr>\n",
       "      <th>3</th>\n",
       "      <td>NaN</td>\n",
       "      <td>NaN</td>\n",
       "      <td>NaN</td>\n",
       "      <td>NaN</td>\n",
       "      <td>NaN</td>\n",
       "      <td>NaN</td>\n",
       "      <td>NaN</td>\n",
       "      <td>NaN</td>\n",
       "      <td>NaN</td>\n",
       "      <td>NaN</td>\n",
       "      <td>...</td>\n",
       "      <td>Rs.</td>\n",
       "      <td>999.0</td>\n",
       "      <td>-70%</td>\n",
       "      <td>(10)</td>\n",
       "      <td>NaN</td>\n",
       "      <td>NaN</td>\n",
       "      <td>NaN</td>\n",
       "      <td>NaN</td>\n",
       "      <td>NaN</td>\n",
       "      <td>NaN</td>\n",
       "    </tr>\n",
       "    <tr>\n",
       "      <th>4</th>\n",
       "      <td>https://static-01.daraz.pk/p/469852247bd3a7df0...</td>\n",
       "      <td>The Vintage Clothing Pack of 2 Hoodies For Men...</td>\n",
       "      <td>Rs.</td>\n",
       "      <td>1,749</td>\n",
       "      <td>Rs.</td>\n",
       "      <td>2,500</td>\n",
       "      <td>-30%</td>\n",
       "      <td>(151)</td>\n",
       "      <td>https://static-01.daraz.pk/p/fc587c24e28a99635...</td>\n",
       "      <td>Clothes Storage Bags Organizer Under Bed Stora...</td>\n",
       "      <td>...</td>\n",
       "      <td>NaN</td>\n",
       "      <td>NaN</td>\n",
       "      <td>NaN</td>\n",
       "      <td>NaN</td>\n",
       "      <td>https://img.alicdn.com/imgextra/i2/O1CN01m9OC6...</td>\n",
       "      <td>https://img.alicdn.com/imgextra/i2/O1CN01m9OC6...</td>\n",
       "      <td>NaN</td>\n",
       "      <td>NaN</td>\n",
       "      <td>NaN</td>\n",
       "      <td>NaN</td>\n",
       "    </tr>\n",
       "    <tr>\n",
       "      <th>5</th>\n",
       "      <td>https://static-01.daraz.pk/p/a6005613838d526c3...</td>\n",
       "      <td>Beautious Eyebrow Stamp Shaping Kit, One Step ...</td>\n",
       "      <td>Rs.</td>\n",
       "      <td>319</td>\n",
       "      <td>Rs.</td>\n",
       "      <td>599</td>\n",
       "      <td>-47%</td>\n",
       "      <td>(406)</td>\n",
       "      <td>https://pk-live-21.slatic.net/kf/S84b4559ef054...</td>\n",
       "      <td>Upgraded Version V5.2 Chip TWS G11 Wireless Ou...</td>\n",
       "      <td>...</td>\n",
       "      <td>NaN</td>\n",
       "      <td>NaN</td>\n",
       "      <td>NaN</td>\n",
       "      <td>NaN</td>\n",
       "      <td>NaN</td>\n",
       "      <td>NaN</td>\n",
       "      <td>https://img.alicdn.com/imgextra/i2/O1CN01m9OC6...</td>\n",
       "      <td>NaN</td>\n",
       "      <td>NaN</td>\n",
       "      <td>NaN</td>\n",
       "    </tr>\n",
       "    <tr>\n",
       "      <th>6</th>\n",
       "      <td>https://static-01.daraz.pk/p/8c679008c9f18c526...</td>\n",
       "      <td>Original M10 &amp; M19 &amp; M28 M90 &amp; i12 Double Wire...</td>\n",
       "      <td>Rs.</td>\n",
       "      <td>499</td>\n",
       "      <td>Rs.</td>\n",
       "      <td>1,600</td>\n",
       "      <td>-69%</td>\n",
       "      <td>(214)</td>\n",
       "      <td>https://pk-live-21.slatic.net/kf/S509df6205c46...</td>\n",
       "      <td>Ladies Luxury Golden Fashion Watch For Women's...</td>\n",
       "      <td>...</td>\n",
       "      <td>NaN</td>\n",
       "      <td>NaN</td>\n",
       "      <td>NaN</td>\n",
       "      <td>NaN</td>\n",
       "      <td>NaN</td>\n",
       "      <td>NaN</td>\n",
       "      <td>NaN</td>\n",
       "      <td>https://img.alicdn.com/imgextra/i2/O1CN01m9OC6...</td>\n",
       "      <td>NaN</td>\n",
       "      <td>NaN</td>\n",
       "    </tr>\n",
       "    <tr>\n",
       "      <th>7</th>\n",
       "      <td>https://static-01.daraz.pk/p/7bf416cb0e05ec963...</td>\n",
       "      <td>Stitched Heavy Embroidered Maxi with Koti (Sep...</td>\n",
       "      <td>Rs.</td>\n",
       "      <td>1,575</td>\n",
       "      <td>Rs.</td>\n",
       "      <td>2,999</td>\n",
       "      <td>-47%</td>\n",
       "      <td>(15)</td>\n",
       "      <td>https://static-01.daraz.pk/p/868a277aa0dd1c7ec...</td>\n",
       "      <td>Men's Running Shoes Men's Slip-on Shoes Tennis...</td>\n",
       "      <td>...</td>\n",
       "      <td>NaN</td>\n",
       "      <td>NaN</td>\n",
       "      <td>NaN</td>\n",
       "      <td>NaN</td>\n",
       "      <td>NaN</td>\n",
       "      <td>NaN</td>\n",
       "      <td>NaN</td>\n",
       "      <td>NaN</td>\n",
       "      <td>NaN</td>\n",
       "      <td>NaN</td>\n",
       "    </tr>\n",
       "    <tr>\n",
       "      <th>8</th>\n",
       "      <td>https://pk-live-21.slatic.net/kf/Sf440430a6bf7...</td>\n",
       "      <td>Winter Warm Thickening Wool Gloves Knitted Fli...</td>\n",
       "      <td>Rs.</td>\n",
       "      <td>499</td>\n",
       "      <td>Rs.</td>\n",
       "      <td>696</td>\n",
       "      <td>-28%</td>\n",
       "      <td>(9)</td>\n",
       "      <td>https://static-01.daraz.pk/p/09d4383a42e47925a...</td>\n",
       "      <td>Branded Watch For Men and Boys Latest Design W...</td>\n",
       "      <td>...</td>\n",
       "      <td>NaN</td>\n",
       "      <td>NaN</td>\n",
       "      <td>NaN</td>\n",
       "      <td>NaN</td>\n",
       "      <td>NaN</td>\n",
       "      <td>NaN</td>\n",
       "      <td>https://img.alicdn.com/imgextra/i2/O1CN01m9OC6...</td>\n",
       "      <td>NaN</td>\n",
       "      <td>NaN</td>\n",
       "      <td>NaN</td>\n",
       "    </tr>\n",
       "    <tr>\n",
       "      <th>9</th>\n",
       "      <td>https://static-01.daraz.pk/p/ab46a63e4f6caf9fc...</td>\n",
       "      <td>Multifunctional Portable Large Capacity Travel...</td>\n",
       "      <td>Rs.</td>\n",
       "      <td>999</td>\n",
       "      <td>Rs.</td>\n",
       "      <td>2,000</td>\n",
       "      <td>-50%</td>\n",
       "      <td>(45)</td>\n",
       "      <td>https://static-01.daraz.pk/p/2c2ab66f6afb090cf...</td>\n",
       "      <td>Sunaina Textile 3 Piece Malai Linen Printed Un...</td>\n",
       "      <td>...</td>\n",
       "      <td>NaN</td>\n",
       "      <td>NaN</td>\n",
       "      <td>NaN</td>\n",
       "      <td>NaN</td>\n",
       "      <td>NaN</td>\n",
       "      <td>NaN</td>\n",
       "      <td>https://img.alicdn.com/imgextra/i2/O1CN01m9OC6...</td>\n",
       "      <td>NaN</td>\n",
       "      <td>https://img.alicdn.com/imgextra/i2/O1CN01m9OC6...</td>\n",
       "      <td>NaN</td>\n",
       "    </tr>\n",
       "    <tr>\n",
       "      <th>10</th>\n",
       "      <td>https://static-01.daraz.pk/p/b4861cff5710a6a28...</td>\n",
       "      <td>Stylish Printed Front Two Pocket Hooded Tracks...</td>\n",
       "      <td>Rs.</td>\n",
       "      <td>2,499</td>\n",
       "      <td>Rs.</td>\n",
       "      <td>3,299</td>\n",
       "      <td>-24%</td>\n",
       "      <td>(6)</td>\n",
       "      <td>https://static-01.daraz.pk/p/547236861adba4a9d...</td>\n",
       "      <td>Original i12 Tws Touch Sensor Airpods_  m10 m2...</td>\n",
       "      <td>...</td>\n",
       "      <td>NaN</td>\n",
       "      <td>NaN</td>\n",
       "      <td>NaN</td>\n",
       "      <td>NaN</td>\n",
       "      <td>NaN</td>\n",
       "      <td>NaN</td>\n",
       "      <td>NaN</td>\n",
       "      <td>NaN</td>\n",
       "      <td>NaN</td>\n",
       "      <td>NaN</td>\n",
       "    </tr>\n",
       "    <tr>\n",
       "      <th>11</th>\n",
       "      <td>https://static-01.daraz.pk/p/f2750e8cff84324e5...</td>\n",
       "      <td>LOVE STYLE FONT NECKLACE, DOUBLE NAME NECKLACE...</td>\n",
       "      <td>Rs.</td>\n",
       "      <td>619</td>\n",
       "      <td>Rs.</td>\n",
       "      <td>999</td>\n",
       "      <td>-38%</td>\n",
       "      <td>(15)</td>\n",
       "      <td>https://static-01.daraz.pk/p/e50ed4f81d4537622...</td>\n",
       "      <td>Cotton Satin Double Bedsheet Embroided</td>\n",
       "      <td>...</td>\n",
       "      <td>NaN</td>\n",
       "      <td>NaN</td>\n",
       "      <td>NaN</td>\n",
       "      <td>NaN</td>\n",
       "      <td>NaN</td>\n",
       "      <td>NaN</td>\n",
       "      <td>NaN</td>\n",
       "      <td>NaN</td>\n",
       "      <td>NaN</td>\n",
       "      <td>NaN</td>\n",
       "    </tr>\n",
       "    <tr>\n",
       "      <th>12</th>\n",
       "      <td>https://static-01.daraz.pk/p/72a47d19ae83b4f60...</td>\n",
       "      <td>(Buy 1 Get 1 Free) New S10 Handsfree High Bass...</td>\n",
       "      <td>Rs.</td>\n",
       "      <td>429</td>\n",
       "      <td>Rs.</td>\n",
       "      <td>1,800</td>\n",
       "      <td>-76%</td>\n",
       "      <td>(81)</td>\n",
       "      <td>https://pk-live-21.slatic.net/kf/Sa52befac5a87...</td>\n",
       "      <td>5PCS Set Women Starry Sky Dial Watch Brand Des...</td>\n",
       "      <td>...</td>\n",
       "      <td>NaN</td>\n",
       "      <td>NaN</td>\n",
       "      <td>NaN</td>\n",
       "      <td>NaN</td>\n",
       "      <td>NaN</td>\n",
       "      <td>NaN</td>\n",
       "      <td>NaN</td>\n",
       "      <td>NaN</td>\n",
       "      <td>NaN</td>\n",
       "      <td>NaN</td>\n",
       "    </tr>\n",
       "    <tr>\n",
       "      <th>13</th>\n",
       "      <td>https://static-01.daraz.pk/p/4cd19815f1ed11d27...</td>\n",
       "      <td>Toiletry Bag Travel Cosmetic Bag, Shaving Kit,...</td>\n",
       "      <td>Rs.</td>\n",
       "      <td>430</td>\n",
       "      <td>Rs.</td>\n",
       "      <td>1,350</td>\n",
       "      <td>-68%</td>\n",
       "      <td>(398)</td>\n",
       "      <td>https://static-01.daraz.pk/p/04f39c0b9a5c8aef9...</td>\n",
       "      <td>Home &amp; Office Multipurpose Plastic Rack / Room...</td>\n",
       "      <td>...</td>\n",
       "      <td>NaN</td>\n",
       "      <td>NaN</td>\n",
       "      <td>NaN</td>\n",
       "      <td>NaN</td>\n",
       "      <td>NaN</td>\n",
       "      <td>https://img.alicdn.com/imgextra/i2/O1CN01m9OC6...</td>\n",
       "      <td>NaN</td>\n",
       "      <td>NaN</td>\n",
       "      <td>NaN</td>\n",
       "      <td>NaN</td>\n",
       "    </tr>\n",
       "    <tr>\n",
       "      <th>14</th>\n",
       "      <td>https://static-01.daraz.pk/p/3d220102107f01ce2...</td>\n",
       "      <td>I7 Mini Bluetooth Headset Earbud Single Wirele...</td>\n",
       "      <td>Rs.</td>\n",
       "      <td>319</td>\n",
       "      <td>Rs.</td>\n",
       "      <td>1,000</td>\n",
       "      <td>-68%</td>\n",
       "      <td>(907)</td>\n",
       "      <td>https://static-01.daraz.pk/p/54dab5bcbcc1794b9...</td>\n",
       "      <td>Fashion Women Hand Wrist Warmer Winter Fingerl...</td>\n",
       "      <td>...</td>\n",
       "      <td>NaN</td>\n",
       "      <td>NaN</td>\n",
       "      <td>NaN</td>\n",
       "      <td>NaN</td>\n",
       "      <td>NaN</td>\n",
       "      <td>https://img.alicdn.com/imgextra/i2/O1CN01m9OC6...</td>\n",
       "      <td>https://img.alicdn.com/imgextra/i2/O1CN01m9OC6...</td>\n",
       "      <td>NaN</td>\n",
       "      <td>NaN</td>\n",
       "      <td>NaN</td>\n",
       "    </tr>\n",
       "    <tr>\n",
       "      <th>15</th>\n",
       "      <td>https://static-01.daraz.pk/p/8e6c6e8f45f75f30d...</td>\n",
       "      <td>Cool Sports Vacuum Flask Stainless Steel Water...</td>\n",
       "      <td>Rs.</td>\n",
       "      <td>947</td>\n",
       "      <td>Rs.</td>\n",
       "      <td>2,000</td>\n",
       "      <td>-53%</td>\n",
       "      <td>(589)</td>\n",
       "      <td>https://static-01.daraz.pk/p/7c2972d0d8e0d1c43...</td>\n",
       "      <td>Lifestyle Glory Heart Wooden Clock With Premiu...</td>\n",
       "      <td>...</td>\n",
       "      <td>NaN</td>\n",
       "      <td>NaN</td>\n",
       "      <td>NaN</td>\n",
       "      <td>NaN</td>\n",
       "      <td>NaN</td>\n",
       "      <td>NaN</td>\n",
       "      <td>NaN</td>\n",
       "      <td>NaN</td>\n",
       "      <td>https://img.alicdn.com/imgextra/i2/O1CN01m9OC6...</td>\n",
       "      <td>NaN</td>\n",
       "    </tr>\n",
       "    <tr>\n",
       "      <th>16</th>\n",
       "      <td>https://static-01.daraz.pk/p/cdcd146106efb7fa2...</td>\n",
       "      <td>Swetshirt And Pajama Trouser For Kids Baby Boy...</td>\n",
       "      <td>Rs.</td>\n",
       "      <td>748</td>\n",
       "      <td>Rs.</td>\n",
       "      <td>1,400</td>\n",
       "      <td>-47%</td>\n",
       "      <td>(1050)</td>\n",
       "      <td>https://static-01.daraz.pk/p/79a7091876e67954d...</td>\n",
       "      <td>Glorya Decor Qul Clock Wooden Islamic Calligra...</td>\n",
       "      <td>...</td>\n",
       "      <td>NaN</td>\n",
       "      <td>NaN</td>\n",
       "      <td>NaN</td>\n",
       "      <td>NaN</td>\n",
       "      <td>NaN</td>\n",
       "      <td>NaN</td>\n",
       "      <td>NaN</td>\n",
       "      <td>https://img.alicdn.com/imgextra/i2/O1CN01m9OC6...</td>\n",
       "      <td>NaN</td>\n",
       "      <td>NaN</td>\n",
       "    </tr>\n",
       "    <tr>\n",
       "      <th>17</th>\n",
       "      <td>https://pk-live-21.slatic.net/kf/Sd0ade1ba5818...</td>\n",
       "      <td>Silver Plating Couple Rings</td>\n",
       "      <td>Rs.</td>\n",
       "      <td>550</td>\n",
       "      <td>NaN</td>\n",
       "      <td>NaN</td>\n",
       "      <td>NaN</td>\n",
       "      <td>(16)</td>\n",
       "      <td>https://static-01.daraz.pk/p/9950bb2aa955d6bae...</td>\n",
       "      <td>Wanter - 100Pcs / Square Almond Oval Coffin Sh...</td>\n",
       "      <td>...</td>\n",
       "      <td>NaN</td>\n",
       "      <td>NaN</td>\n",
       "      <td>NaN</td>\n",
       "      <td>NaN</td>\n",
       "      <td>NaN</td>\n",
       "      <td>NaN</td>\n",
       "      <td>NaN</td>\n",
       "      <td>NaN</td>\n",
       "      <td>https://img.alicdn.com/imgextra/i2/O1CN01m9OC6...</td>\n",
       "      <td>NaN</td>\n",
       "    </tr>\n",
       "    <tr>\n",
       "      <th>18</th>\n",
       "      <td>https://static-01.daraz.pk/p/f9103dc15c0855b2d...</td>\n",
       "      <td>Zip card wallet Genuine Leather Minimalist Men...</td>\n",
       "      <td>Rs.</td>\n",
       "      <td>320</td>\n",
       "      <td>Rs.</td>\n",
       "      <td>500</td>\n",
       "      <td>-36%</td>\n",
       "      <td>(149)</td>\n",
       "      <td>https://static-01.daraz.pk/p/c04e62be1ad2bbe0f...</td>\n",
       "      <td>Men's Running Shoes Men's Slip-on Shoes Tennis...</td>\n",
       "      <td>...</td>\n",
       "      <td>NaN</td>\n",
       "      <td>NaN</td>\n",
       "      <td>NaN</td>\n",
       "      <td>NaN</td>\n",
       "      <td>NaN</td>\n",
       "      <td>NaN</td>\n",
       "      <td>https://img.alicdn.com/imgextra/i2/O1CN01m9OC6...</td>\n",
       "      <td>NaN</td>\n",
       "      <td>https://img.alicdn.com/imgextra/i2/O1CN01m9OC6...</td>\n",
       "      <td>NaN</td>\n",
       "    </tr>\n",
       "    <tr>\n",
       "      <th>19</th>\n",
       "      <td>https://static-01.daraz.pk/p/b0d56acd926b6b662...</td>\n",
       "      <td>Men's Running Shoes Summer Mesh Genuine Breath...</td>\n",
       "      <td>Rs.</td>\n",
       "      <td>999</td>\n",
       "      <td>Rs.</td>\n",
       "      <td>1,500</td>\n",
       "      <td>-33%</td>\n",
       "      <td>(599)</td>\n",
       "      <td>https://static-01.daraz.pk/p/97b48170866dbf892...</td>\n",
       "      <td>Birds on Tree 3D Wooden DIY Wall Clock Numeral...</td>\n",
       "      <td>...</td>\n",
       "      <td>NaN</td>\n",
       "      <td>NaN</td>\n",
       "      <td>NaN</td>\n",
       "      <td>NaN</td>\n",
       "      <td>https://img.alicdn.com/imgextra/i2/O1CN01m9OC6...</td>\n",
       "      <td>NaN</td>\n",
       "      <td>NaN</td>\n",
       "      <td>NaN</td>\n",
       "      <td>NaN</td>\n",
       "      <td>NaN</td>\n",
       "    </tr>\n",
       "    <tr>\n",
       "      <th>20</th>\n",
       "      <td>https://static-01.daraz.pk/p/5097bcd9febcca665...</td>\n",
       "      <td>Sogo Quartz Heater (JPN-94 / JPN-95)</td>\n",
       "      <td>Rs.</td>\n",
       "      <td>1,799</td>\n",
       "      <td>Rs.</td>\n",
       "      <td>2,500</td>\n",
       "      <td>-28%</td>\n",
       "      <td>(124)</td>\n",
       "      <td>https://static-01.daraz.pk/p/24b52b23cee2db1f0...</td>\n",
       "      <td>Stitched Namaz chadar Prayer Shawl with Sleeves</td>\n",
       "      <td>...</td>\n",
       "      <td>NaN</td>\n",
       "      <td>NaN</td>\n",
       "      <td>NaN</td>\n",
       "      <td>NaN</td>\n",
       "      <td>NaN</td>\n",
       "      <td>https://img.alicdn.com/imgextra/i2/O1CN01m9OC6...</td>\n",
       "      <td>NaN</td>\n",
       "      <td>NaN</td>\n",
       "      <td>NaN</td>\n",
       "      <td>NaN</td>\n",
       "    </tr>\n",
       "    <tr>\n",
       "      <th>21</th>\n",
       "      <td>https://static-01.daraz.pk/p/b7004eba21a70a244...</td>\n",
       "      <td>Beautious 4IN1 Super Skin Glowing Serum | 5% N...</td>\n",
       "      <td>Rs.</td>\n",
       "      <td>269</td>\n",
       "      <td>Rs.</td>\n",
       "      <td>499</td>\n",
       "      <td>-46%</td>\n",
       "      <td>(44)</td>\n",
       "      <td>https://pk-live-21.slatic.net/kf/S52ad67c6bb35...</td>\n",
       "      <td>Flowers Printed Zipper For Women Girls Customi...</td>\n",
       "      <td>...</td>\n",
       "      <td>NaN</td>\n",
       "      <td>NaN</td>\n",
       "      <td>NaN</td>\n",
       "      <td>NaN</td>\n",
       "      <td>NaN</td>\n",
       "      <td>NaN</td>\n",
       "      <td>NaN</td>\n",
       "      <td>NaN</td>\n",
       "      <td>NaN</td>\n",
       "      <td>NaN</td>\n",
       "    </tr>\n",
       "    <tr>\n",
       "      <th>22</th>\n",
       "      <td>https://static-01.daraz.pk/p/d915d599784d6746b...</td>\n",
       "      <td>Girls Soft Half Finger Gloves Plush Fingerless...</td>\n",
       "      <td>Rs.</td>\n",
       "      <td>399</td>\n",
       "      <td>Rs.</td>\n",
       "      <td>999</td>\n",
       "      <td>-60%</td>\n",
       "      <td>(178)</td>\n",
       "      <td>https://pk-live-21.slatic.net/kf/Sd36b5ba1f788...</td>\n",
       "      <td>Customize Ring With your name engraved On Ring</td>\n",
       "      <td>...</td>\n",
       "      <td>NaN</td>\n",
       "      <td>NaN</td>\n",
       "      <td>NaN</td>\n",
       "      <td>NaN</td>\n",
       "      <td>NaN</td>\n",
       "      <td>https://img.alicdn.com/imgextra/i2/O1CN01m9OC6...</td>\n",
       "      <td>NaN</td>\n",
       "      <td>NaN</td>\n",
       "      <td>NaN</td>\n",
       "      <td>NaN</td>\n",
       "    </tr>\n",
       "    <tr>\n",
       "      <th>23</th>\n",
       "      <td>https://static-01.daraz.pk/p/cb5ef07a4e9da6d22...</td>\n",
       "      <td>Men Women Home Anti-slip Slipper Winter Warm C...</td>\n",
       "      <td>Rs.</td>\n",
       "      <td>349</td>\n",
       "      <td>NaN</td>\n",
       "      <td>NaN</td>\n",
       "      <td>NaN</td>\n",
       "      <td>(48)</td>\n",
       "      <td>https://static-01.daraz.pk/p/34db63b43b5bbe0b7...</td>\n",
       "      <td>Winter Zipper Jacket Trouser Tracksuit</td>\n",
       "      <td>...</td>\n",
       "      <td>NaN</td>\n",
       "      <td>NaN</td>\n",
       "      <td>NaN</td>\n",
       "      <td>NaN</td>\n",
       "      <td>NaN</td>\n",
       "      <td>NaN</td>\n",
       "      <td>https://img.alicdn.com/imgextra/i2/O1CN01m9OC6...</td>\n",
       "      <td>NaN</td>\n",
       "      <td>NaN</td>\n",
       "      <td>NaN</td>\n",
       "    </tr>\n",
       "    <tr>\n",
       "      <th>24</th>\n",
       "      <td>https://static-01.daraz.pk/p/059b5f715f9c8b5cd...</td>\n",
       "      <td>New Design 2 Piece Hand Bag With Small Carry P...</td>\n",
       "      <td>Rs.</td>\n",
       "      <td>1,250</td>\n",
       "      <td>NaN</td>\n",
       "      <td>NaN</td>\n",
       "      <td>NaN</td>\n",
       "      <td>(581)</td>\n",
       "      <td>https://pk-live-21.slatic.net/kf/S0be3a49eef74...</td>\n",
       "      <td>Soap Holder Premium Quality - Soap Dish - Soap...</td>\n",
       "      <td>...</td>\n",
       "      <td>NaN</td>\n",
       "      <td>NaN</td>\n",
       "      <td>NaN</td>\n",
       "      <td>NaN</td>\n",
       "      <td>NaN</td>\n",
       "      <td>NaN</td>\n",
       "      <td>NaN</td>\n",
       "      <td>NaN</td>\n",
       "      <td>NaN</td>\n",
       "      <td>NaN</td>\n",
       "    </tr>\n",
       "    <tr>\n",
       "      <th>25</th>\n",
       "      <td>https://pk-live-21.slatic.net/kf/S32b63f33fabc...</td>\n",
       "      <td>A6s Bluetooth Earphones Tws In Ear Bluetooth 5...</td>\n",
       "      <td>Rs.</td>\n",
       "      <td>2,901</td>\n",
       "      <td>NaN</td>\n",
       "      <td>NaN</td>\n",
       "      <td>NaN</td>\n",
       "      <td>(2072)</td>\n",
       "      <td>https://static-01.daraz.pk/p/de675f79e3a830e5c...</td>\n",
       "      <td>Pack of 2 Black Titanium Finger Ring &amp; Black B...</td>\n",
       "      <td>...</td>\n",
       "      <td>NaN</td>\n",
       "      <td>NaN</td>\n",
       "      <td>NaN</td>\n",
       "      <td>NaN</td>\n",
       "      <td>NaN</td>\n",
       "      <td>NaN</td>\n",
       "      <td>https://img.alicdn.com/imgextra/i2/O1CN01m9OC6...</td>\n",
       "      <td>NaN</td>\n",
       "      <td>NaN</td>\n",
       "      <td>NaN</td>\n",
       "    </tr>\n",
       "    <tr>\n",
       "      <th>26</th>\n",
       "      <td>https://static-01.daraz.pk/p/506378286dfc399c0...</td>\n",
       "      <td>Beanie cap-Wool cap with neck warmer for men w...</td>\n",
       "      <td>Rs.</td>\n",
       "      <td>449</td>\n",
       "      <td>Rs.</td>\n",
       "      <td>900</td>\n",
       "      <td>-50%</td>\n",
       "      <td>(318)</td>\n",
       "      <td>https://static-01.daraz.pk/p/6ecf4f22268170608...</td>\n",
       "      <td>OASIS BLUE Fashion Women Faux Rebbit Fur Hand ...</td>\n",
       "      <td>...</td>\n",
       "      <td>NaN</td>\n",
       "      <td>NaN</td>\n",
       "      <td>NaN</td>\n",
       "      <td>NaN</td>\n",
       "      <td>https://img.alicdn.com/imgextra/i2/O1CN01m9OC6...</td>\n",
       "      <td>https://img.alicdn.com/imgextra/i2/O1CN01m9OC6...</td>\n",
       "      <td>https://img.alicdn.com/imgextra/i2/O1CN01m9OC6...</td>\n",
       "      <td>NaN</td>\n",
       "      <td>https://img.alicdn.com/imgextra/i2/O1CN01m9OC6...</td>\n",
       "      <td>NaN</td>\n",
       "    </tr>\n",
       "    <tr>\n",
       "      <th>27</th>\n",
       "      <td>https://static-01.daraz.pk/p/e5c432d64e788ba2c...</td>\n",
       "      <td>Hot Shaper Belt For Women Men Girls | Hot Shap...</td>\n",
       "      <td>Rs.</td>\n",
       "      <td>341</td>\n",
       "      <td>Rs.</td>\n",
       "      <td>1,399</td>\n",
       "      <td>-76%</td>\n",
       "      <td>(411)</td>\n",
       "      <td>https://static-01.daraz.pk/p/62e549fdb77c7453b...</td>\n",
       "      <td>Microfiber Bathing Quick Dry Hair Cap Turban W...</td>\n",
       "      <td>...</td>\n",
       "      <td>NaN</td>\n",
       "      <td>NaN</td>\n",
       "      <td>NaN</td>\n",
       "      <td>NaN</td>\n",
       "      <td>NaN</td>\n",
       "      <td>https://img.alicdn.com/imgextra/i2/O1CN01m9OC6...</td>\n",
       "      <td>https://img.alicdn.com/imgextra/i2/O1CN01m9OC6...</td>\n",
       "      <td>NaN</td>\n",
       "      <td>NaN</td>\n",
       "      <td>NaN</td>\n",
       "    </tr>\n",
       "    <tr>\n",
       "      <th>28</th>\n",
       "      <td>https://static-01.daraz.pk/p/b6ceb80f99791c8cf...</td>\n",
       "      <td>Infinix Hot 30 Back Rear Camera Protector 9H G...</td>\n",
       "      <td>Rs.</td>\n",
       "      <td>118</td>\n",
       "      <td>Rs.</td>\n",
       "      <td>195</td>\n",
       "      <td>-39%</td>\n",
       "      <td>(24)</td>\n",
       "      <td>https://pk-live-21.slatic.net/kf/S1cdf55fa7ede...</td>\n",
       "      <td>NEW TRENDY WINTER COLLECTION PLANE BASIC SKIN ...</td>\n",
       "      <td>...</td>\n",
       "      <td>NaN</td>\n",
       "      <td>NaN</td>\n",
       "      <td>NaN</td>\n",
       "      <td>NaN</td>\n",
       "      <td>NaN</td>\n",
       "      <td>NaN</td>\n",
       "      <td>NaN</td>\n",
       "      <td>NaN</td>\n",
       "      <td>NaN</td>\n",
       "      <td>NaN</td>\n",
       "    </tr>\n",
       "    <tr>\n",
       "      <th>29</th>\n",
       "      <td>https://static-01.daraz.pk/p/a69be8e0ef9173e3f...</td>\n",
       "      <td>10Pcs Multi-function Spit Bone Dish Household ...</td>\n",
       "      <td>Rs.</td>\n",
       "      <td>415</td>\n",
       "      <td>Rs.</td>\n",
       "      <td>1,500</td>\n",
       "      <td>-72%</td>\n",
       "      <td>(38)</td>\n",
       "      <td>https://static-01.daraz.pk/p/8b350c0dbb44e8d1f...</td>\n",
       "      <td>Tube cap for winter season outclass stuff / In...</td>\n",
       "      <td>...</td>\n",
       "      <td>NaN</td>\n",
       "      <td>NaN</td>\n",
       "      <td>NaN</td>\n",
       "      <td>NaN</td>\n",
       "      <td>NaN</td>\n",
       "      <td>NaN</td>\n",
       "      <td>NaN</td>\n",
       "      <td>NaN</td>\n",
       "      <td>NaN</td>\n",
       "      <td>NaN</td>\n",
       "    </tr>\n",
       "    <tr>\n",
       "      <th>30</th>\n",
       "      <td>NaN</td>\n",
       "      <td>NaN</td>\n",
       "      <td>NaN</td>\n",
       "      <td>NaN</td>\n",
       "      <td>NaN</td>\n",
       "      <td>NaN</td>\n",
       "      <td>NaN</td>\n",
       "      <td>NaN</td>\n",
       "      <td>NaN</td>\n",
       "      <td>NaN</td>\n",
       "      <td>...</td>\n",
       "      <td>NaN</td>\n",
       "      <td>NaN</td>\n",
       "      <td>NaN</td>\n",
       "      <td>NaN</td>\n",
       "      <td>NaN</td>\n",
       "      <td>NaN</td>\n",
       "      <td>NaN</td>\n",
       "      <td>NaN</td>\n",
       "      <td>NaN</td>\n",
       "      <td>Load More</td>\n",
       "    </tr>\n",
       "    <tr>\n",
       "      <th>31</th>\n",
       "      <td>NaN</td>\n",
       "      <td>NaN</td>\n",
       "      <td>NaN</td>\n",
       "      <td>NaN</td>\n",
       "      <td>NaN</td>\n",
       "      <td>NaN</td>\n",
       "      <td>NaN</td>\n",
       "      <td>NaN</td>\n",
       "      <td>NaN</td>\n",
       "      <td>NaN</td>\n",
       "      <td>...</td>\n",
       "      <td>NaN</td>\n",
       "      <td>NaN</td>\n",
       "      <td>NaN</td>\n",
       "      <td>NaN</td>\n",
       "      <td>NaN</td>\n",
       "      <td>NaN</td>\n",
       "      <td>NaN</td>\n",
       "      <td>NaN</td>\n",
       "      <td>NaN</td>\n",
       "      <td>NaN</td>\n",
       "    </tr>\n",
       "    <tr>\n",
       "      <th>32</th>\n",
       "      <td>NaN</td>\n",
       "      <td>NaN</td>\n",
       "      <td>NaN</td>\n",
       "      <td>NaN</td>\n",
       "      <td>NaN</td>\n",
       "      <td>NaN</td>\n",
       "      <td>NaN</td>\n",
       "      <td>NaN</td>\n",
       "      <td>NaN</td>\n",
       "      <td>NaN</td>\n",
       "      <td>...</td>\n",
       "      <td>NaN</td>\n",
       "      <td>NaN</td>\n",
       "      <td>NaN</td>\n",
       "      <td>NaN</td>\n",
       "      <td>NaN</td>\n",
       "      <td>NaN</td>\n",
       "      <td>NaN</td>\n",
       "      <td>NaN</td>\n",
       "      <td>NaN</td>\n",
       "      <td>NaN</td>\n",
       "    </tr>\n",
       "    <tr>\n",
       "      <th>33</th>\n",
       "      <td>NaN</td>\n",
       "      <td>NaN</td>\n",
       "      <td>NaN</td>\n",
       "      <td>NaN</td>\n",
       "      <td>NaN</td>\n",
       "      <td>NaN</td>\n",
       "      <td>NaN</td>\n",
       "      <td>NaN</td>\n",
       "      <td>NaN</td>\n",
       "      <td>NaN</td>\n",
       "      <td>...</td>\n",
       "      <td>NaN</td>\n",
       "      <td>NaN</td>\n",
       "      <td>NaN</td>\n",
       "      <td>NaN</td>\n",
       "      <td>NaN</td>\n",
       "      <td>NaN</td>\n",
       "      <td>NaN</td>\n",
       "      <td>NaN</td>\n",
       "      <td>NaN</td>\n",
       "      <td>NaN</td>\n",
       "    </tr>\n",
       "    <tr>\n",
       "      <th>34</th>\n",
       "      <td>NaN</td>\n",
       "      <td>NaN</td>\n",
       "      <td>NaN</td>\n",
       "      <td>NaN</td>\n",
       "      <td>NaN</td>\n",
       "      <td>NaN</td>\n",
       "      <td>NaN</td>\n",
       "      <td>NaN</td>\n",
       "      <td>NaN</td>\n",
       "      <td>NaN</td>\n",
       "      <td>...</td>\n",
       "      <td>NaN</td>\n",
       "      <td>NaN</td>\n",
       "      <td>NaN</td>\n",
       "      <td>NaN</td>\n",
       "      <td>NaN</td>\n",
       "      <td>NaN</td>\n",
       "      <td>NaN</td>\n",
       "      <td>NaN</td>\n",
       "      <td>NaN</td>\n",
       "      <td>NaN</td>\n",
       "    </tr>\n",
       "    <tr>\n",
       "      <th>35</th>\n",
       "      <td>NaN</td>\n",
       "      <td>NaN</td>\n",
       "      <td>NaN</td>\n",
       "      <td>NaN</td>\n",
       "      <td>NaN</td>\n",
       "      <td>NaN</td>\n",
       "      <td>NaN</td>\n",
       "      <td>NaN</td>\n",
       "      <td>NaN</td>\n",
       "      <td>NaN</td>\n",
       "      <td>...</td>\n",
       "      <td>NaN</td>\n",
       "      <td>NaN</td>\n",
       "      <td>NaN</td>\n",
       "      <td>NaN</td>\n",
       "      <td>NaN</td>\n",
       "      <td>NaN</td>\n",
       "      <td>NaN</td>\n",
       "      <td>NaN</td>\n",
       "      <td>NaN</td>\n",
       "      <td>NaN</td>\n",
       "    </tr>\n",
       "    <tr>\n",
       "      <th>36</th>\n",
       "      <td>NaN</td>\n",
       "      <td>NaN</td>\n",
       "      <td>NaN</td>\n",
       "      <td>NaN</td>\n",
       "      <td>NaN</td>\n",
       "      <td>NaN</td>\n",
       "      <td>NaN</td>\n",
       "      <td>NaN</td>\n",
       "      <td>NaN</td>\n",
       "      <td>NaN</td>\n",
       "      <td>...</td>\n",
       "      <td>NaN</td>\n",
       "      <td>NaN</td>\n",
       "      <td>NaN</td>\n",
       "      <td>NaN</td>\n",
       "      <td>NaN</td>\n",
       "      <td>NaN</td>\n",
       "      <td>NaN</td>\n",
       "      <td>NaN</td>\n",
       "      <td>NaN</td>\n",
       "      <td>NaN</td>\n",
       "    </tr>\n",
       "  </tbody>\n",
       "</table>\n",
       "<p>37 rows × 62 columns</p>\n",
       "</div>"
      ],
      "text/plain": [
       "                                              LABEL-1  \\\n",
       "0   https://static-01.daraz.pk/p/71ae853f953bc8964...   \n",
       "1   https://static-01.daraz.pk/p/6f3ab016cb2420e4b...   \n",
       "2   https://static-01.daraz.pk/p/27d937c553d9e4aee...   \n",
       "3                                                 NaN   \n",
       "4   https://static-01.daraz.pk/p/469852247bd3a7df0...   \n",
       "5   https://static-01.daraz.pk/p/a6005613838d526c3...   \n",
       "6   https://static-01.daraz.pk/p/8c679008c9f18c526...   \n",
       "7   https://static-01.daraz.pk/p/7bf416cb0e05ec963...   \n",
       "8   https://pk-live-21.slatic.net/kf/Sf440430a6bf7...   \n",
       "9   https://static-01.daraz.pk/p/ab46a63e4f6caf9fc...   \n",
       "10  https://static-01.daraz.pk/p/b4861cff5710a6a28...   \n",
       "11  https://static-01.daraz.pk/p/f2750e8cff84324e5...   \n",
       "12  https://static-01.daraz.pk/p/72a47d19ae83b4f60...   \n",
       "13  https://static-01.daraz.pk/p/4cd19815f1ed11d27...   \n",
       "14  https://static-01.daraz.pk/p/3d220102107f01ce2...   \n",
       "15  https://static-01.daraz.pk/p/8e6c6e8f45f75f30d...   \n",
       "16  https://static-01.daraz.pk/p/cdcd146106efb7fa2...   \n",
       "17  https://pk-live-21.slatic.net/kf/Sd0ade1ba5818...   \n",
       "18  https://static-01.daraz.pk/p/f9103dc15c0855b2d...   \n",
       "19  https://static-01.daraz.pk/p/b0d56acd926b6b662...   \n",
       "20  https://static-01.daraz.pk/p/5097bcd9febcca665...   \n",
       "21  https://static-01.daraz.pk/p/b7004eba21a70a244...   \n",
       "22  https://static-01.daraz.pk/p/d915d599784d6746b...   \n",
       "23  https://static-01.daraz.pk/p/cb5ef07a4e9da6d22...   \n",
       "24  https://static-01.daraz.pk/p/059b5f715f9c8b5cd...   \n",
       "25  https://pk-live-21.slatic.net/kf/S32b63f33fabc...   \n",
       "26  https://static-01.daraz.pk/p/506378286dfc399c0...   \n",
       "27  https://static-01.daraz.pk/p/e5c432d64e788ba2c...   \n",
       "28  https://static-01.daraz.pk/p/b6ceb80f99791c8cf...   \n",
       "29  https://static-01.daraz.pk/p/a69be8e0ef9173e3f...   \n",
       "30                                                NaN   \n",
       "31                                                NaN   \n",
       "32                                                NaN   \n",
       "33                                                NaN   \n",
       "34                                                NaN   \n",
       "35                                                NaN   \n",
       "36                                                NaN   \n",
       "\n",
       "                                             product1 LABEL-3 real price   \\\n",
       "0   Wipers - Kitchen Shelf Cleaning Wiper - Window...     Rs.         149   \n",
       "1                 Winter Cap and neck for Boy - Girls     Rs.         488   \n",
       "2   【Ready Stock+FREE Shipping+COD】Xiaomi Bluetoot...     Rs.       1,399   \n",
       "3                                                 NaN     NaN         NaN   \n",
       "4   The Vintage Clothing Pack of 2 Hoodies For Men...     Rs.       1,749   \n",
       "5   Beautious Eyebrow Stamp Shaping Kit, One Step ...     Rs.         319   \n",
       "6   Original M10 & M19 & M28 M90 & i12 Double Wire...     Rs.         499   \n",
       "7   Stitched Heavy Embroidered Maxi with Koti (Sep...     Rs.       1,575   \n",
       "8   Winter Warm Thickening Wool Gloves Knitted Fli...     Rs.         499   \n",
       "9   Multifunctional Portable Large Capacity Travel...     Rs.         999   \n",
       "10  Stylish Printed Front Two Pocket Hooded Tracks...     Rs.       2,499   \n",
       "11  LOVE STYLE FONT NECKLACE, DOUBLE NAME NECKLACE...     Rs.         619   \n",
       "12  (Buy 1 Get 1 Free) New S10 Handsfree High Bass...     Rs.         429   \n",
       "13  Toiletry Bag Travel Cosmetic Bag, Shaving Kit,...     Rs.         430   \n",
       "14  I7 Mini Bluetooth Headset Earbud Single Wirele...     Rs.         319   \n",
       "15  Cool Sports Vacuum Flask Stainless Steel Water...     Rs.         947   \n",
       "16  Swetshirt And Pajama Trouser For Kids Baby Boy...     Rs.         748   \n",
       "17                        Silver Plating Couple Rings     Rs.         550   \n",
       "18  Zip card wallet Genuine Leather Minimalist Men...     Rs.         320   \n",
       "19  Men's Running Shoes Summer Mesh Genuine Breath...     Rs.         999   \n",
       "20               Sogo Quartz Heater (JPN-94 / JPN-95)     Rs.       1,799   \n",
       "21  Beautious 4IN1 Super Skin Glowing Serum | 5% N...     Rs.         269   \n",
       "22  Girls Soft Half Finger Gloves Plush Fingerless...     Rs.         399   \n",
       "23  Men Women Home Anti-slip Slipper Winter Warm C...     Rs.         349   \n",
       "24  New Design 2 Piece Hand Bag With Small Carry P...     Rs.       1,250   \n",
       "25  A6s Bluetooth Earphones Tws In Ear Bluetooth 5...     Rs.       2,901   \n",
       "26  Beanie cap-Wool cap with neck warmer for men w...     Rs.         449   \n",
       "27  Hot Shaper Belt For Women Men Girls | Hot Shap...     Rs.         341   \n",
       "28  Infinix Hot 30 Back Rear Camera Protector 9H G...     Rs.         118   \n",
       "29  10Pcs Multi-function Spit Bone Dish Household ...     Rs.         415   \n",
       "30                                                NaN     NaN         NaN   \n",
       "31                                                NaN     NaN         NaN   \n",
       "32                                                NaN     NaN         NaN   \n",
       "33                                                NaN     NaN         NaN   \n",
       "34                                                NaN     NaN         NaN   \n",
       "35                                                NaN     NaN         NaN   \n",
       "36                                                NaN     NaN         NaN   \n",
       "\n",
       "   LABEL-5 LABEL-6 LABEL-7 LABEL-8  \\\n",
       "0      Rs.     350    -57%   (306)   \n",
       "1      Rs.     999    -51%   (921)   \n",
       "2      Rs.   2,400    -42%   (128)   \n",
       "3      NaN     NaN     NaN     NaN   \n",
       "4      Rs.   2,500    -30%   (151)   \n",
       "5      Rs.     599    -47%   (406)   \n",
       "6      Rs.   1,600    -69%   (214)   \n",
       "7      Rs.   2,999    -47%    (15)   \n",
       "8      Rs.     696    -28%     (9)   \n",
       "9      Rs.   2,000    -50%    (45)   \n",
       "10     Rs.   3,299    -24%     (6)   \n",
       "11     Rs.     999    -38%    (15)   \n",
       "12     Rs.   1,800    -76%    (81)   \n",
       "13     Rs.   1,350    -68%   (398)   \n",
       "14     Rs.   1,000    -68%   (907)   \n",
       "15     Rs.   2,000    -53%   (589)   \n",
       "16     Rs.   1,400    -47%  (1050)   \n",
       "17     NaN     NaN     NaN    (16)   \n",
       "18     Rs.     500    -36%   (149)   \n",
       "19     Rs.   1,500    -33%   (599)   \n",
       "20     Rs.   2,500    -28%   (124)   \n",
       "21     Rs.     499    -46%    (44)   \n",
       "22     Rs.     999    -60%   (178)   \n",
       "23     NaN     NaN     NaN    (48)   \n",
       "24     NaN     NaN     NaN   (581)   \n",
       "25     NaN     NaN     NaN  (2072)   \n",
       "26     Rs.     900    -50%   (318)   \n",
       "27     Rs.   1,399    -76%   (411)   \n",
       "28     Rs.     195    -39%    (24)   \n",
       "29     Rs.   1,500    -72%    (38)   \n",
       "30     NaN     NaN     NaN     NaN   \n",
       "31     NaN     NaN     NaN     NaN   \n",
       "32     NaN     NaN     NaN     NaN   \n",
       "33     NaN     NaN     NaN     NaN   \n",
       "34     NaN     NaN     NaN     NaN   \n",
       "35     NaN     NaN     NaN     NaN   \n",
       "36     NaN     NaN     NaN     NaN   \n",
       "\n",
       "                                              LABEL-9  \\\n",
       "0   https://static-01.daraz.pk/p/c8bf94c7ee9b27c06...   \n",
       "1   https://static-01.daraz.pk/p/4af103f1a9fffc098...   \n",
       "2   https://static-01.daraz.pk/p/df1d003e9474d338d...   \n",
       "3                                                 NaN   \n",
       "4   https://static-01.daraz.pk/p/fc587c24e28a99635...   \n",
       "5   https://pk-live-21.slatic.net/kf/S84b4559ef054...   \n",
       "6   https://pk-live-21.slatic.net/kf/S509df6205c46...   \n",
       "7   https://static-01.daraz.pk/p/868a277aa0dd1c7ec...   \n",
       "8   https://static-01.daraz.pk/p/09d4383a42e47925a...   \n",
       "9   https://static-01.daraz.pk/p/2c2ab66f6afb090cf...   \n",
       "10  https://static-01.daraz.pk/p/547236861adba4a9d...   \n",
       "11  https://static-01.daraz.pk/p/e50ed4f81d4537622...   \n",
       "12  https://pk-live-21.slatic.net/kf/Sa52befac5a87...   \n",
       "13  https://static-01.daraz.pk/p/04f39c0b9a5c8aef9...   \n",
       "14  https://static-01.daraz.pk/p/54dab5bcbcc1794b9...   \n",
       "15  https://static-01.daraz.pk/p/7c2972d0d8e0d1c43...   \n",
       "16  https://static-01.daraz.pk/p/79a7091876e67954d...   \n",
       "17  https://static-01.daraz.pk/p/9950bb2aa955d6bae...   \n",
       "18  https://static-01.daraz.pk/p/c04e62be1ad2bbe0f...   \n",
       "19  https://static-01.daraz.pk/p/97b48170866dbf892...   \n",
       "20  https://static-01.daraz.pk/p/24b52b23cee2db1f0...   \n",
       "21  https://pk-live-21.slatic.net/kf/S52ad67c6bb35...   \n",
       "22  https://pk-live-21.slatic.net/kf/Sd36b5ba1f788...   \n",
       "23  https://static-01.daraz.pk/p/34db63b43b5bbe0b7...   \n",
       "24  https://pk-live-21.slatic.net/kf/S0be3a49eef74...   \n",
       "25  https://static-01.daraz.pk/p/de675f79e3a830e5c...   \n",
       "26  https://static-01.daraz.pk/p/6ecf4f22268170608...   \n",
       "27  https://static-01.daraz.pk/p/62e549fdb77c7453b...   \n",
       "28  https://pk-live-21.slatic.net/kf/S1cdf55fa7ede...   \n",
       "29  https://static-01.daraz.pk/p/8b350c0dbb44e8d1f...   \n",
       "30                                                NaN   \n",
       "31                                                NaN   \n",
       "32                                                NaN   \n",
       "33                                                NaN   \n",
       "34                                                NaN   \n",
       "35                                                NaN   \n",
       "36                                                NaN   \n",
       "\n",
       "                                            product 2  ... LABEL-53 LABEL-54  \\\n",
       "0   Flowery Pore-Refining Treatment Gel (Niacinami...  ...      NaN      NaN   \n",
       "1   caps for men cap winter cap songting cap and n...  ...      NaN      NaN   \n",
       "2   Oud Collection - Arabic Perfumes Dirham_Men - ...  ...      NaN      NaN   \n",
       "3                                                 NaN  ...      Rs.    999.0   \n",
       "4   Clothes Storage Bags Organizer Under Bed Stora...  ...      NaN      NaN   \n",
       "5   Upgraded Version V5.2 Chip TWS G11 Wireless Ou...  ...      NaN      NaN   \n",
       "6   Ladies Luxury Golden Fashion Watch For Women's...  ...      NaN      NaN   \n",
       "7   Men's Running Shoes Men's Slip-on Shoes Tennis...  ...      NaN      NaN   \n",
       "8   Branded Watch For Men and Boys Latest Design W...  ...      NaN      NaN   \n",
       "9   Sunaina Textile 3 Piece Malai Linen Printed Un...  ...      NaN      NaN   \n",
       "10  Original i12 Tws Touch Sensor Airpods_  m10 m2...  ...      NaN      NaN   \n",
       "11             Cotton Satin Double Bedsheet Embroided  ...      NaN      NaN   \n",
       "12  5PCS Set Women Starry Sky Dial Watch Brand Des...  ...      NaN      NaN   \n",
       "13  Home & Office Multipurpose Plastic Rack / Room...  ...      NaN      NaN   \n",
       "14  Fashion Women Hand Wrist Warmer Winter Fingerl...  ...      NaN      NaN   \n",
       "15  Lifestyle Glory Heart Wooden Clock With Premiu...  ...      NaN      NaN   \n",
       "16  Glorya Decor Qul Clock Wooden Islamic Calligra...  ...      NaN      NaN   \n",
       "17  Wanter - 100Pcs / Square Almond Oval Coffin Sh...  ...      NaN      NaN   \n",
       "18  Men's Running Shoes Men's Slip-on Shoes Tennis...  ...      NaN      NaN   \n",
       "19  Birds on Tree 3D Wooden DIY Wall Clock Numeral...  ...      NaN      NaN   \n",
       "20    Stitched Namaz chadar Prayer Shawl with Sleeves  ...      NaN      NaN   \n",
       "21  Flowers Printed Zipper For Women Girls Customi...  ...      NaN      NaN   \n",
       "22     Customize Ring With your name engraved On Ring  ...      NaN      NaN   \n",
       "23             Winter Zipper Jacket Trouser Tracksuit  ...      NaN      NaN   \n",
       "24  Soap Holder Premium Quality - Soap Dish - Soap...  ...      NaN      NaN   \n",
       "25  Pack of 2 Black Titanium Finger Ring & Black B...  ...      NaN      NaN   \n",
       "26  OASIS BLUE Fashion Women Faux Rebbit Fur Hand ...  ...      NaN      NaN   \n",
       "27  Microfiber Bathing Quick Dry Hair Cap Turban W...  ...      NaN      NaN   \n",
       "28  NEW TRENDY WINTER COLLECTION PLANE BASIC SKIN ...  ...      NaN      NaN   \n",
       "29  Tube cap for winter season outclass stuff / In...  ...      NaN      NaN   \n",
       "30                                                NaN  ...      NaN      NaN   \n",
       "31                                                NaN  ...      NaN      NaN   \n",
       "32                                                NaN  ...      NaN      NaN   \n",
       "33                                                NaN  ...      NaN      NaN   \n",
       "34                                                NaN  ...      NaN      NaN   \n",
       "35                                                NaN  ...      NaN      NaN   \n",
       "36                                                NaN  ...      NaN      NaN   \n",
       "\n",
       "   LABEL-55 LABEL-56                                           LABEL-57  \\\n",
       "0       NaN      NaN                                                NaN   \n",
       "1       NaN      NaN                                                NaN   \n",
       "2       NaN      NaN                                                NaN   \n",
       "3      -70%     (10)                                                NaN   \n",
       "4       NaN      NaN  https://img.alicdn.com/imgextra/i2/O1CN01m9OC6...   \n",
       "5       NaN      NaN                                                NaN   \n",
       "6       NaN      NaN                                                NaN   \n",
       "7       NaN      NaN                                                NaN   \n",
       "8       NaN      NaN                                                NaN   \n",
       "9       NaN      NaN                                                NaN   \n",
       "10      NaN      NaN                                                NaN   \n",
       "11      NaN      NaN                                                NaN   \n",
       "12      NaN      NaN                                                NaN   \n",
       "13      NaN      NaN                                                NaN   \n",
       "14      NaN      NaN                                                NaN   \n",
       "15      NaN      NaN                                                NaN   \n",
       "16      NaN      NaN                                                NaN   \n",
       "17      NaN      NaN                                                NaN   \n",
       "18      NaN      NaN                                                NaN   \n",
       "19      NaN      NaN  https://img.alicdn.com/imgextra/i2/O1CN01m9OC6...   \n",
       "20      NaN      NaN                                                NaN   \n",
       "21      NaN      NaN                                                NaN   \n",
       "22      NaN      NaN                                                NaN   \n",
       "23      NaN      NaN                                                NaN   \n",
       "24      NaN      NaN                                                NaN   \n",
       "25      NaN      NaN                                                NaN   \n",
       "26      NaN      NaN  https://img.alicdn.com/imgextra/i2/O1CN01m9OC6...   \n",
       "27      NaN      NaN                                                NaN   \n",
       "28      NaN      NaN                                                NaN   \n",
       "29      NaN      NaN                                                NaN   \n",
       "30      NaN      NaN                                                NaN   \n",
       "31      NaN      NaN                                                NaN   \n",
       "32      NaN      NaN                                                NaN   \n",
       "33      NaN      NaN                                                NaN   \n",
       "34      NaN      NaN                                                NaN   \n",
       "35      NaN      NaN                                                NaN   \n",
       "36      NaN      NaN                                                NaN   \n",
       "\n",
       "                                             LABEL-58  \\\n",
       "0                                                 NaN   \n",
       "1                                                 NaN   \n",
       "2                                                 NaN   \n",
       "3                                                 NaN   \n",
       "4   https://img.alicdn.com/imgextra/i2/O1CN01m9OC6...   \n",
       "5                                                 NaN   \n",
       "6                                                 NaN   \n",
       "7                                                 NaN   \n",
       "8                                                 NaN   \n",
       "9                                                 NaN   \n",
       "10                                                NaN   \n",
       "11                                                NaN   \n",
       "12                                                NaN   \n",
       "13  https://img.alicdn.com/imgextra/i2/O1CN01m9OC6...   \n",
       "14  https://img.alicdn.com/imgextra/i2/O1CN01m9OC6...   \n",
       "15                                                NaN   \n",
       "16                                                NaN   \n",
       "17                                                NaN   \n",
       "18                                                NaN   \n",
       "19                                                NaN   \n",
       "20  https://img.alicdn.com/imgextra/i2/O1CN01m9OC6...   \n",
       "21                                                NaN   \n",
       "22  https://img.alicdn.com/imgextra/i2/O1CN01m9OC6...   \n",
       "23                                                NaN   \n",
       "24                                                NaN   \n",
       "25                                                NaN   \n",
       "26  https://img.alicdn.com/imgextra/i2/O1CN01m9OC6...   \n",
       "27  https://img.alicdn.com/imgextra/i2/O1CN01m9OC6...   \n",
       "28                                                NaN   \n",
       "29                                                NaN   \n",
       "30                                                NaN   \n",
       "31                                                NaN   \n",
       "32                                                NaN   \n",
       "33                                                NaN   \n",
       "34                                                NaN   \n",
       "35                                                NaN   \n",
       "36                                                NaN   \n",
       "\n",
       "                                             LABEL-59  \\\n",
       "0                                                 NaN   \n",
       "1                                                 NaN   \n",
       "2                                                 NaN   \n",
       "3                                                 NaN   \n",
       "4                                                 NaN   \n",
       "5   https://img.alicdn.com/imgextra/i2/O1CN01m9OC6...   \n",
       "6                                                 NaN   \n",
       "7                                                 NaN   \n",
       "8   https://img.alicdn.com/imgextra/i2/O1CN01m9OC6...   \n",
       "9   https://img.alicdn.com/imgextra/i2/O1CN01m9OC6...   \n",
       "10                                                NaN   \n",
       "11                                                NaN   \n",
       "12                                                NaN   \n",
       "13                                                NaN   \n",
       "14  https://img.alicdn.com/imgextra/i2/O1CN01m9OC6...   \n",
       "15                                                NaN   \n",
       "16                                                NaN   \n",
       "17                                                NaN   \n",
       "18  https://img.alicdn.com/imgextra/i2/O1CN01m9OC6...   \n",
       "19                                                NaN   \n",
       "20                                                NaN   \n",
       "21                                                NaN   \n",
       "22                                                NaN   \n",
       "23  https://img.alicdn.com/imgextra/i2/O1CN01m9OC6...   \n",
       "24                                                NaN   \n",
       "25  https://img.alicdn.com/imgextra/i2/O1CN01m9OC6...   \n",
       "26  https://img.alicdn.com/imgextra/i2/O1CN01m9OC6...   \n",
       "27  https://img.alicdn.com/imgextra/i2/O1CN01m9OC6...   \n",
       "28                                                NaN   \n",
       "29                                                NaN   \n",
       "30                                                NaN   \n",
       "31                                                NaN   \n",
       "32                                                NaN   \n",
       "33                                                NaN   \n",
       "34                                                NaN   \n",
       "35                                                NaN   \n",
       "36                                                NaN   \n",
       "\n",
       "                                             LABEL-60  \\\n",
       "0                                                 NaN   \n",
       "1                                                 NaN   \n",
       "2                                                 NaN   \n",
       "3                                                 NaN   \n",
       "4                                                 NaN   \n",
       "5                                                 NaN   \n",
       "6   https://img.alicdn.com/imgextra/i2/O1CN01m9OC6...   \n",
       "7                                                 NaN   \n",
       "8                                                 NaN   \n",
       "9                                                 NaN   \n",
       "10                                                NaN   \n",
       "11                                                NaN   \n",
       "12                                                NaN   \n",
       "13                                                NaN   \n",
       "14                                                NaN   \n",
       "15                                                NaN   \n",
       "16  https://img.alicdn.com/imgextra/i2/O1CN01m9OC6...   \n",
       "17                                                NaN   \n",
       "18                                                NaN   \n",
       "19                                                NaN   \n",
       "20                                                NaN   \n",
       "21                                                NaN   \n",
       "22                                                NaN   \n",
       "23                                                NaN   \n",
       "24                                                NaN   \n",
       "25                                                NaN   \n",
       "26                                                NaN   \n",
       "27                                                NaN   \n",
       "28                                                NaN   \n",
       "29                                                NaN   \n",
       "30                                                NaN   \n",
       "31                                                NaN   \n",
       "32                                                NaN   \n",
       "33                                                NaN   \n",
       "34                                                NaN   \n",
       "35                                                NaN   \n",
       "36                                                NaN   \n",
       "\n",
       "                                             LABEL-61   LABEL-62  \n",
       "0                                                 NaN        NaN  \n",
       "1                                                 NaN        NaN  \n",
       "2                                                 NaN        NaN  \n",
       "3                                                 NaN        NaN  \n",
       "4                                                 NaN        NaN  \n",
       "5                                                 NaN        NaN  \n",
       "6                                                 NaN        NaN  \n",
       "7                                                 NaN        NaN  \n",
       "8                                                 NaN        NaN  \n",
       "9   https://img.alicdn.com/imgextra/i2/O1CN01m9OC6...        NaN  \n",
       "10                                                NaN        NaN  \n",
       "11                                                NaN        NaN  \n",
       "12                                                NaN        NaN  \n",
       "13                                                NaN        NaN  \n",
       "14                                                NaN        NaN  \n",
       "15  https://img.alicdn.com/imgextra/i2/O1CN01m9OC6...        NaN  \n",
       "16                                                NaN        NaN  \n",
       "17  https://img.alicdn.com/imgextra/i2/O1CN01m9OC6...        NaN  \n",
       "18  https://img.alicdn.com/imgextra/i2/O1CN01m9OC6...        NaN  \n",
       "19                                                NaN        NaN  \n",
       "20                                                NaN        NaN  \n",
       "21                                                NaN        NaN  \n",
       "22                                                NaN        NaN  \n",
       "23                                                NaN        NaN  \n",
       "24                                                NaN        NaN  \n",
       "25                                                NaN        NaN  \n",
       "26  https://img.alicdn.com/imgextra/i2/O1CN01m9OC6...        NaN  \n",
       "27                                                NaN        NaN  \n",
       "28                                                NaN        NaN  \n",
       "29                                                NaN        NaN  \n",
       "30                                                NaN  Load More  \n",
       "31                                                NaN        NaN  \n",
       "32                                                NaN        NaN  \n",
       "33                                                NaN        NaN  \n",
       "34                                                NaN        NaN  \n",
       "35                                                NaN        NaN  \n",
       "36                                                NaN        NaN  \n",
       "\n",
       "[37 rows x 62 columns]"
      ]
     },
     "execution_count": 3,
     "metadata": {},
     "output_type": "execute_result"
    }
   ],
   "source": [
    "df=pd.read_excel(\"front products.xlsx\")\n",
    "df"
   ]
  },
  {
   "cell_type": "code",
   "execution_count": null,
   "id": "4605416d",
   "metadata": {},
   "outputs": [],
   "source": []
  },
  {
   "cell_type": "code",
   "execution_count": null,
   "id": "2887f7c7",
   "metadata": {},
   "outputs": [],
   "source": []
  },
  {
   "cell_type": "code",
   "execution_count": 5,
   "id": "1a27154c",
   "metadata": {},
   "outputs": [],
   "source": [
    "import pandas as pd\n",
    "\n",
    "# Assuming you already have the DataFrame named df\n",
    "\n",
    "# Create new DataFrames for each product\n",
    "df_product1 = df[['product1', 'real price', 'LABEL-8']]\n",
    "df_product2 = df[['product 2', 'real price', 'LABEL-16']]\n",
    "df_product3 = df[['product3', 'real price', 'LABEL-22']]\n",
    "df_product4 = df[['prduct4', 'LABEL-26', 'LABEL-27']]\n",
    "df_product5 = df[['prduct5', 'LABEL-31', 'LABEL-35']]\n",
    "\n",
    "# Rename columns for consistency\n",
    "df_product1.columns = ['Product', 'Real Price', 'Amount Sold']\n",
    "df_product2.columns = ['Product', 'Real Price', 'Amount Sold']\n",
    "df_product3.columns = ['Product', 'Real Price', 'Amount Sold']\n",
    "df_product4.columns = ['Product', 'Real Price', 'Amount Sold']\n",
    "df_product5.columns = ['Product', 'Real Price', 'Amount Sold']\n",
    "\n",
    "# Concatenate all DataFrames into a single DataFrame\n",
    "df = pd.concat([df_product1, df_product2, df_product3, df_product4, df_product5], ignore_index=True)\n",
    "\n"
   ]
  },
  {
   "cell_type": "code",
   "execution_count": 6,
   "id": "ae388668",
   "metadata": {},
   "outputs": [
    {
     "data": {
      "text/html": [
       "<div>\n",
       "<style scoped>\n",
       "    .dataframe tbody tr th:only-of-type {\n",
       "        vertical-align: middle;\n",
       "    }\n",
       "\n",
       "    .dataframe tbody tr th {\n",
       "        vertical-align: top;\n",
       "    }\n",
       "\n",
       "    .dataframe thead th {\n",
       "        text-align: right;\n",
       "    }\n",
       "</style>\n",
       "<table border=\"1\" class=\"dataframe\">\n",
       "  <thead>\n",
       "    <tr style=\"text-align: right;\">\n",
       "      <th></th>\n",
       "      <th>Product</th>\n",
       "      <th>Real Price</th>\n",
       "      <th>Amount Sold</th>\n",
       "    </tr>\n",
       "  </thead>\n",
       "  <tbody>\n",
       "    <tr>\n",
       "      <th>0</th>\n",
       "      <td>Wipers - Kitchen Shelf Cleaning Wiper - Window...</td>\n",
       "      <td>199</td>\n",
       "      <td>(306)</td>\n",
       "    </tr>\n",
       "    <tr>\n",
       "      <th>1</th>\n",
       "      <td>Winter Cap and neck for Boy - Girls</td>\n",
       "      <td>450</td>\n",
       "      <td>(921)</td>\n",
       "    </tr>\n",
       "    <tr>\n",
       "      <th>2</th>\n",
       "      <td>【Ready Stock+FREE Shipping+COD】Xiaomi Bluetoot...</td>\n",
       "      <td>299</td>\n",
       "      <td>(128)</td>\n",
       "    </tr>\n",
       "    <tr>\n",
       "      <th>3</th>\n",
       "      <td>NaN</td>\n",
       "      <td>NaN</td>\n",
       "      <td>NaN</td>\n",
       "    </tr>\n",
       "    <tr>\n",
       "      <th>4</th>\n",
       "      <td>The Vintage Clothing Pack of 2 Hoodies For Men...</td>\n",
       "      <td>107</td>\n",
       "      <td>(151)</td>\n",
       "    </tr>\n",
       "    <tr>\n",
       "      <th>...</th>\n",
       "      <td>...</td>\n",
       "      <td>...</td>\n",
       "      <td>...</td>\n",
       "    </tr>\n",
       "    <tr>\n",
       "      <th>180</th>\n",
       "      <td>NaN</td>\n",
       "      <td>NaN</td>\n",
       "      <td>NaN</td>\n",
       "    </tr>\n",
       "    <tr>\n",
       "      <th>181</th>\n",
       "      <td>NaN</td>\n",
       "      <td>NaN</td>\n",
       "      <td>NaN</td>\n",
       "    </tr>\n",
       "    <tr>\n",
       "      <th>182</th>\n",
       "      <td>NaN</td>\n",
       "      <td>NaN</td>\n",
       "      <td>NaN</td>\n",
       "    </tr>\n",
       "    <tr>\n",
       "      <th>183</th>\n",
       "      <td>NaN</td>\n",
       "      <td>NaN</td>\n",
       "      <td>NaN</td>\n",
       "    </tr>\n",
       "    <tr>\n",
       "      <th>184</th>\n",
       "      <td>NaN</td>\n",
       "      <td>NaN</td>\n",
       "      <td>NaN</td>\n",
       "    </tr>\n",
       "  </tbody>\n",
       "</table>\n",
       "<p>185 rows × 3 columns</p>\n",
       "</div>"
      ],
      "text/plain": [
       "                                               Product Real Price Amount Sold\n",
       "0    Wipers - Kitchen Shelf Cleaning Wiper - Window...        199       (306)\n",
       "1                  Winter Cap and neck for Boy - Girls        450       (921)\n",
       "2    【Ready Stock+FREE Shipping+COD】Xiaomi Bluetoot...        299       (128)\n",
       "3                                                  NaN        NaN         NaN\n",
       "4    The Vintage Clothing Pack of 2 Hoodies For Men...        107       (151)\n",
       "..                                                 ...        ...         ...\n",
       "180                                                NaN        NaN         NaN\n",
       "181                                                NaN        NaN         NaN\n",
       "182                                                NaN        NaN         NaN\n",
       "183                                                NaN        NaN         NaN\n",
       "184                                                NaN        NaN         NaN\n",
       "\n",
       "[185 rows x 3 columns]"
      ]
     },
     "execution_count": 6,
     "metadata": {},
     "output_type": "execute_result"
    }
   ],
   "source": [
    "df"
   ]
  },
  {
   "cell_type": "code",
   "execution_count": 7,
   "id": "16501804",
   "metadata": {},
   "outputs": [
    {
     "data": {
      "text/plain": [
       "40"
      ]
     },
     "execution_count": 7,
     "metadata": {},
     "output_type": "execute_result"
    }
   ],
   "source": [
    "df[\"Real Price\"].isnull().sum()\n"
   ]
  },
  {
   "cell_type": "code",
   "execution_count": 8,
   "id": "ff04d01e",
   "metadata": {},
   "outputs": [
    {
     "data": {
      "text/plain": [
       "40"
      ]
     },
     "execution_count": 8,
     "metadata": {},
     "output_type": "execute_result"
    }
   ],
   "source": [
    "df[\"Amount Sold\"].isnull().sum()"
   ]
  },
  {
   "cell_type": "code",
   "execution_count": 17,
   "id": "6355a17a",
   "metadata": {},
   "outputs": [],
   "source": [
    "df=df.head(5)"
   ]
  },
  {
   "cell_type": "code",
   "execution_count": 18,
   "id": "f9b04d17",
   "metadata": {},
   "outputs": [],
   "source": [
    "df=df.dropna()"
   ]
  },
  {
   "cell_type": "code",
   "execution_count": 19,
   "id": "0972b155",
   "metadata": {},
   "outputs": [
    {
     "data": {
      "text/html": [
       "<div>\n",
       "<style scoped>\n",
       "    .dataframe tbody tr th:only-of-type {\n",
       "        vertical-align: middle;\n",
       "    }\n",
       "\n",
       "    .dataframe tbody tr th {\n",
       "        vertical-align: top;\n",
       "    }\n",
       "\n",
       "    .dataframe thead th {\n",
       "        text-align: right;\n",
       "    }\n",
       "</style>\n",
       "<table border=\"1\" class=\"dataframe\">\n",
       "  <thead>\n",
       "    <tr style=\"text-align: right;\">\n",
       "      <th></th>\n",
       "      <th>Product</th>\n",
       "      <th>Real Price</th>\n",
       "      <th>Amount Sold</th>\n",
       "    </tr>\n",
       "  </thead>\n",
       "  <tbody>\n",
       "    <tr>\n",
       "      <th>0</th>\n",
       "      <td>Wipers - Kitchen Shelf Cleaning Wiper - Window...</td>\n",
       "      <td>199</td>\n",
       "      <td>(306)</td>\n",
       "    </tr>\n",
       "    <tr>\n",
       "      <th>1</th>\n",
       "      <td>Winter Cap and neck for Boy - Girls</td>\n",
       "      <td>450</td>\n",
       "      <td>(921)</td>\n",
       "    </tr>\n",
       "    <tr>\n",
       "      <th>2</th>\n",
       "      <td>【Ready Stock+FREE Shipping+COD】Xiaomi Bluetoot...</td>\n",
       "      <td>299</td>\n",
       "      <td>(128)</td>\n",
       "    </tr>\n",
       "    <tr>\n",
       "      <th>4</th>\n",
       "      <td>The Vintage Clothing Pack of 2 Hoodies For Men...</td>\n",
       "      <td>107</td>\n",
       "      <td>(151)</td>\n",
       "    </tr>\n",
       "    <tr>\n",
       "      <th>5</th>\n",
       "      <td>Beautious Eyebrow Stamp Shaping Kit, One Step ...</td>\n",
       "      <td>4,573</td>\n",
       "      <td>(406)</td>\n",
       "    </tr>\n",
       "  </tbody>\n",
       "</table>\n",
       "</div>"
      ],
      "text/plain": [
       "                                             Product Real Price Amount Sold\n",
       "0  Wipers - Kitchen Shelf Cleaning Wiper - Window...        199       (306)\n",
       "1                Winter Cap and neck for Boy - Girls        450       (921)\n",
       "2  【Ready Stock+FREE Shipping+COD】Xiaomi Bluetoot...        299       (128)\n",
       "4  The Vintage Clothing Pack of 2 Hoodies For Men...        107       (151)\n",
       "5  Beautious Eyebrow Stamp Shaping Kit, One Step ...      4,573       (406)"
      ]
     },
     "execution_count": 19,
     "metadata": {},
     "output_type": "execute_result"
    }
   ],
   "source": [
    "df"
   ]
  },
  {
   "cell_type": "code",
   "execution_count": 22,
   "id": "9857f0e9",
   "metadata": {},
   "outputs": [
    {
     "data": {
      "application/vnd.plotly.v1+json": {
       "config": {
        "plotlyServerURL": "https://plot.ly"
       },
       "data": [
        {
         "mode": "lines+markers",
         "name": "Wipers - Kitchen Shelf Cleaning Wiper - Windows/Mirror Cleaning Wiper",
         "type": "scatter",
         "x": [
          [
           "199",
           "450",
           "299",
           "107",
           "4,573"
          ],
          [
           "(306)",
           "(921)",
           "(128)",
           "(151)",
           "(406)"
          ]
         ],
         "y": [
          [
           "199",
           "450",
           "299",
           "107",
           "4,573"
          ],
          [
           "(306)",
           "(921)",
           "(128)",
           "(151)",
           "(406)"
          ]
         ]
        },
        {
         "mode": "lines+markers",
         "name": "Winter Cap and neck for Boy - Girls",
         "type": "scatter",
         "x": [
          [
           "199",
           "450",
           "299",
           "107",
           "4,573"
          ],
          [
           "(306)",
           "(921)",
           "(128)",
           "(151)",
           "(406)"
          ]
         ],
         "y": [
          [
           "199",
           "450",
           "299",
           "107",
           "4,573"
          ],
          [
           "(306)",
           "(921)",
           "(128)",
           "(151)",
           "(406)"
          ]
         ]
        },
        {
         "mode": "lines+markers",
         "name": "【Ready Stock+FREE Shipping+COD】Xiaomi Bluetooth 5.0 Earphones TWS Headphone True Wireless Earphone Touch Control Earbuds HiFi Stereo Sports Waterproof With Mic",
         "type": "scatter",
         "x": [
          [
           "199",
           "450",
           "299",
           "107",
           "4,573"
          ],
          [
           "(306)",
           "(921)",
           "(128)",
           "(151)",
           "(406)"
          ]
         ],
         "y": [
          [
           "199",
           "450",
           "299",
           "107",
           "4,573"
          ],
          [
           "(306)",
           "(921)",
           "(128)",
           "(151)",
           "(406)"
          ]
         ]
        },
        {
         "mode": "lines+markers",
         "name": "The Vintage Clothing Pack of 2 Hoodies For Men / Hoodies For Girls / Hoodies For Women Messi AW Allen Walker printed premium quality Hoodies For Men / Hoodies For Girls",
         "type": "scatter",
         "x": [
          [
           "199",
           "450",
           "299",
           "107",
           "4,573"
          ],
          [
           "(306)",
           "(921)",
           "(128)",
           "(151)",
           "(406)"
          ]
         ],
         "y": [
          [
           "199",
           "450",
           "299",
           "107",
           "4,573"
          ],
          [
           "(306)",
           "(921)",
           "(128)",
           "(151)",
           "(406)"
          ]
         ]
        },
        {
         "mode": "lines+markers",
         "name": "Beautious Eyebrow Stamp Shaping Kit, One Step Eyebrow Stamp Makeup with 3 Reusable Eyebrow Stencils and Eyebrow Pen Brushes Hairline Powder",
         "type": "scatter",
         "x": [
          [
           "199",
           "450",
           "299",
           "107",
           "4,573"
          ],
          [
           "(306)",
           "(921)",
           "(128)",
           "(151)",
           "(406)"
          ]
         ],
         "y": [
          [
           "199",
           "450",
           "299",
           "107",
           "4,573"
          ],
          [
           "(306)",
           "(921)",
           "(128)",
           "(151)",
           "(406)"
          ]
         ]
        }
       ],
       "layout": {
        "height": 600,
        "legend": {
         "x": 0,
         "y": 1
        },
        "margin": {
         "b": 50,
         "l": 50,
         "r": 50,
         "t": 50
        },
        "showlegend": true,
        "template": {
         "data": {
          "bar": [
           {
            "error_x": {
             "color": "#2a3f5f"
            },
            "error_y": {
             "color": "#2a3f5f"
            },
            "marker": {
             "line": {
              "color": "#E5ECF6",
              "width": 0.5
             },
             "pattern": {
              "fillmode": "overlay",
              "size": 10,
              "solidity": 0.2
             }
            },
            "type": "bar"
           }
          ],
          "barpolar": [
           {
            "marker": {
             "line": {
              "color": "#E5ECF6",
              "width": 0.5
             },
             "pattern": {
              "fillmode": "overlay",
              "size": 10,
              "solidity": 0.2
             }
            },
            "type": "barpolar"
           }
          ],
          "carpet": [
           {
            "aaxis": {
             "endlinecolor": "#2a3f5f",
             "gridcolor": "white",
             "linecolor": "white",
             "minorgridcolor": "white",
             "startlinecolor": "#2a3f5f"
            },
            "baxis": {
             "endlinecolor": "#2a3f5f",
             "gridcolor": "white",
             "linecolor": "white",
             "minorgridcolor": "white",
             "startlinecolor": "#2a3f5f"
            },
            "type": "carpet"
           }
          ],
          "choropleth": [
           {
            "colorbar": {
             "outlinewidth": 0,
             "ticks": ""
            },
            "type": "choropleth"
           }
          ],
          "contour": [
           {
            "colorbar": {
             "outlinewidth": 0,
             "ticks": ""
            },
            "colorscale": [
             [
              0,
              "#0d0887"
             ],
             [
              0.1111111111111111,
              "#46039f"
             ],
             [
              0.2222222222222222,
              "#7201a8"
             ],
             [
              0.3333333333333333,
              "#9c179e"
             ],
             [
              0.4444444444444444,
              "#bd3786"
             ],
             [
              0.5555555555555556,
              "#d8576b"
             ],
             [
              0.6666666666666666,
              "#ed7953"
             ],
             [
              0.7777777777777778,
              "#fb9f3a"
             ],
             [
              0.8888888888888888,
              "#fdca26"
             ],
             [
              1,
              "#f0f921"
             ]
            ],
            "type": "contour"
           }
          ],
          "contourcarpet": [
           {
            "colorbar": {
             "outlinewidth": 0,
             "ticks": ""
            },
            "type": "contourcarpet"
           }
          ],
          "heatmap": [
           {
            "colorbar": {
             "outlinewidth": 0,
             "ticks": ""
            },
            "colorscale": [
             [
              0,
              "#0d0887"
             ],
             [
              0.1111111111111111,
              "#46039f"
             ],
             [
              0.2222222222222222,
              "#7201a8"
             ],
             [
              0.3333333333333333,
              "#9c179e"
             ],
             [
              0.4444444444444444,
              "#bd3786"
             ],
             [
              0.5555555555555556,
              "#d8576b"
             ],
             [
              0.6666666666666666,
              "#ed7953"
             ],
             [
              0.7777777777777778,
              "#fb9f3a"
             ],
             [
              0.8888888888888888,
              "#fdca26"
             ],
             [
              1,
              "#f0f921"
             ]
            ],
            "type": "heatmap"
           }
          ],
          "heatmapgl": [
           {
            "colorbar": {
             "outlinewidth": 0,
             "ticks": ""
            },
            "colorscale": [
             [
              0,
              "#0d0887"
             ],
             [
              0.1111111111111111,
              "#46039f"
             ],
             [
              0.2222222222222222,
              "#7201a8"
             ],
             [
              0.3333333333333333,
              "#9c179e"
             ],
             [
              0.4444444444444444,
              "#bd3786"
             ],
             [
              0.5555555555555556,
              "#d8576b"
             ],
             [
              0.6666666666666666,
              "#ed7953"
             ],
             [
              0.7777777777777778,
              "#fb9f3a"
             ],
             [
              0.8888888888888888,
              "#fdca26"
             ],
             [
              1,
              "#f0f921"
             ]
            ],
            "type": "heatmapgl"
           }
          ],
          "histogram": [
           {
            "marker": {
             "pattern": {
              "fillmode": "overlay",
              "size": 10,
              "solidity": 0.2
             }
            },
            "type": "histogram"
           }
          ],
          "histogram2d": [
           {
            "colorbar": {
             "outlinewidth": 0,
             "ticks": ""
            },
            "colorscale": [
             [
              0,
              "#0d0887"
             ],
             [
              0.1111111111111111,
              "#46039f"
             ],
             [
              0.2222222222222222,
              "#7201a8"
             ],
             [
              0.3333333333333333,
              "#9c179e"
             ],
             [
              0.4444444444444444,
              "#bd3786"
             ],
             [
              0.5555555555555556,
              "#d8576b"
             ],
             [
              0.6666666666666666,
              "#ed7953"
             ],
             [
              0.7777777777777778,
              "#fb9f3a"
             ],
             [
              0.8888888888888888,
              "#fdca26"
             ],
             [
              1,
              "#f0f921"
             ]
            ],
            "type": "histogram2d"
           }
          ],
          "histogram2dcontour": [
           {
            "colorbar": {
             "outlinewidth": 0,
             "ticks": ""
            },
            "colorscale": [
             [
              0,
              "#0d0887"
             ],
             [
              0.1111111111111111,
              "#46039f"
             ],
             [
              0.2222222222222222,
              "#7201a8"
             ],
             [
              0.3333333333333333,
              "#9c179e"
             ],
             [
              0.4444444444444444,
              "#bd3786"
             ],
             [
              0.5555555555555556,
              "#d8576b"
             ],
             [
              0.6666666666666666,
              "#ed7953"
             ],
             [
              0.7777777777777778,
              "#fb9f3a"
             ],
             [
              0.8888888888888888,
              "#fdca26"
             ],
             [
              1,
              "#f0f921"
             ]
            ],
            "type": "histogram2dcontour"
           }
          ],
          "mesh3d": [
           {
            "colorbar": {
             "outlinewidth": 0,
             "ticks": ""
            },
            "type": "mesh3d"
           }
          ],
          "parcoords": [
           {
            "line": {
             "colorbar": {
              "outlinewidth": 0,
              "ticks": ""
             }
            },
            "type": "parcoords"
           }
          ],
          "pie": [
           {
            "automargin": true,
            "type": "pie"
           }
          ],
          "scatter": [
           {
            "fillpattern": {
             "fillmode": "overlay",
             "size": 10,
             "solidity": 0.2
            },
            "type": "scatter"
           }
          ],
          "scatter3d": [
           {
            "line": {
             "colorbar": {
              "outlinewidth": 0,
              "ticks": ""
             }
            },
            "marker": {
             "colorbar": {
              "outlinewidth": 0,
              "ticks": ""
             }
            },
            "type": "scatter3d"
           }
          ],
          "scattercarpet": [
           {
            "marker": {
             "colorbar": {
              "outlinewidth": 0,
              "ticks": ""
             }
            },
            "type": "scattercarpet"
           }
          ],
          "scattergeo": [
           {
            "marker": {
             "colorbar": {
              "outlinewidth": 0,
              "ticks": ""
             }
            },
            "type": "scattergeo"
           }
          ],
          "scattergl": [
           {
            "marker": {
             "colorbar": {
              "outlinewidth": 0,
              "ticks": ""
             }
            },
            "type": "scattergl"
           }
          ],
          "scattermapbox": [
           {
            "marker": {
             "colorbar": {
              "outlinewidth": 0,
              "ticks": ""
             }
            },
            "type": "scattermapbox"
           }
          ],
          "scatterpolar": [
           {
            "marker": {
             "colorbar": {
              "outlinewidth": 0,
              "ticks": ""
             }
            },
            "type": "scatterpolar"
           }
          ],
          "scatterpolargl": [
           {
            "marker": {
             "colorbar": {
              "outlinewidth": 0,
              "ticks": ""
             }
            },
            "type": "scatterpolargl"
           }
          ],
          "scatterternary": [
           {
            "marker": {
             "colorbar": {
              "outlinewidth": 0,
              "ticks": ""
             }
            },
            "type": "scatterternary"
           }
          ],
          "surface": [
           {
            "colorbar": {
             "outlinewidth": 0,
             "ticks": ""
            },
            "colorscale": [
             [
              0,
              "#0d0887"
             ],
             [
              0.1111111111111111,
              "#46039f"
             ],
             [
              0.2222222222222222,
              "#7201a8"
             ],
             [
              0.3333333333333333,
              "#9c179e"
             ],
             [
              0.4444444444444444,
              "#bd3786"
             ],
             [
              0.5555555555555556,
              "#d8576b"
             ],
             [
              0.6666666666666666,
              "#ed7953"
             ],
             [
              0.7777777777777778,
              "#fb9f3a"
             ],
             [
              0.8888888888888888,
              "#fdca26"
             ],
             [
              1,
              "#f0f921"
             ]
            ],
            "type": "surface"
           }
          ],
          "table": [
           {
            "cells": {
             "fill": {
              "color": "#EBF0F8"
             },
             "line": {
              "color": "white"
             }
            },
            "header": {
             "fill": {
              "color": "#C8D4E3"
             },
             "line": {
              "color": "white"
             }
            },
            "type": "table"
           }
          ]
         },
         "layout": {
          "annotationdefaults": {
           "arrowcolor": "#2a3f5f",
           "arrowhead": 0,
           "arrowwidth": 1
          },
          "autotypenumbers": "strict",
          "coloraxis": {
           "colorbar": {
            "outlinewidth": 0,
            "ticks": ""
           }
          },
          "colorscale": {
           "diverging": [
            [
             0,
             "#8e0152"
            ],
            [
             0.1,
             "#c51b7d"
            ],
            [
             0.2,
             "#de77ae"
            ],
            [
             0.3,
             "#f1b6da"
            ],
            [
             0.4,
             "#fde0ef"
            ],
            [
             0.5,
             "#f7f7f7"
            ],
            [
             0.6,
             "#e6f5d0"
            ],
            [
             0.7,
             "#b8e186"
            ],
            [
             0.8,
             "#7fbc41"
            ],
            [
             0.9,
             "#4d9221"
            ],
            [
             1,
             "#276419"
            ]
           ],
           "sequential": [
            [
             0,
             "#0d0887"
            ],
            [
             0.1111111111111111,
             "#46039f"
            ],
            [
             0.2222222222222222,
             "#7201a8"
            ],
            [
             0.3333333333333333,
             "#9c179e"
            ],
            [
             0.4444444444444444,
             "#bd3786"
            ],
            [
             0.5555555555555556,
             "#d8576b"
            ],
            [
             0.6666666666666666,
             "#ed7953"
            ],
            [
             0.7777777777777778,
             "#fb9f3a"
            ],
            [
             0.8888888888888888,
             "#fdca26"
            ],
            [
             1,
             "#f0f921"
            ]
           ],
           "sequentialminus": [
            [
             0,
             "#0d0887"
            ],
            [
             0.1111111111111111,
             "#46039f"
            ],
            [
             0.2222222222222222,
             "#7201a8"
            ],
            [
             0.3333333333333333,
             "#9c179e"
            ],
            [
             0.4444444444444444,
             "#bd3786"
            ],
            [
             0.5555555555555556,
             "#d8576b"
            ],
            [
             0.6666666666666666,
             "#ed7953"
            ],
            [
             0.7777777777777778,
             "#fb9f3a"
            ],
            [
             0.8888888888888888,
             "#fdca26"
            ],
            [
             1,
             "#f0f921"
            ]
           ]
          },
          "colorway": [
           "#636efa",
           "#EF553B",
           "#00cc96",
           "#ab63fa",
           "#FFA15A",
           "#19d3f3",
           "#FF6692",
           "#B6E880",
           "#FF97FF",
           "#FECB52"
          ],
          "font": {
           "color": "#2a3f5f"
          },
          "geo": {
           "bgcolor": "white",
           "lakecolor": "white",
           "landcolor": "#E5ECF6",
           "showlakes": true,
           "showland": true,
           "subunitcolor": "white"
          },
          "hoverlabel": {
           "align": "left"
          },
          "hovermode": "closest",
          "mapbox": {
           "style": "light"
          },
          "paper_bgcolor": "white",
          "plot_bgcolor": "#E5ECF6",
          "polar": {
           "angularaxis": {
            "gridcolor": "white",
            "linecolor": "white",
            "ticks": ""
           },
           "bgcolor": "#E5ECF6",
           "radialaxis": {
            "gridcolor": "white",
            "linecolor": "white",
            "ticks": ""
           }
          },
          "scene": {
           "xaxis": {
            "backgroundcolor": "#E5ECF6",
            "gridcolor": "white",
            "gridwidth": 2,
            "linecolor": "white",
            "showbackground": true,
            "ticks": "",
            "zerolinecolor": "white"
           },
           "yaxis": {
            "backgroundcolor": "#E5ECF6",
            "gridcolor": "white",
            "gridwidth": 2,
            "linecolor": "white",
            "showbackground": true,
            "ticks": "",
            "zerolinecolor": "white"
           },
           "zaxis": {
            "backgroundcolor": "#E5ECF6",
            "gridcolor": "white",
            "gridwidth": 2,
            "linecolor": "white",
            "showbackground": true,
            "ticks": "",
            "zerolinecolor": "white"
           }
          },
          "shapedefaults": {
           "line": {
            "color": "#2a3f5f"
           }
          },
          "ternary": {
           "aaxis": {
            "gridcolor": "white",
            "linecolor": "white",
            "ticks": ""
           },
           "baxis": {
            "gridcolor": "white",
            "linecolor": "white",
            "ticks": ""
           },
           "bgcolor": "#E5ECF6",
           "caxis": {
            "gridcolor": "white",
            "linecolor": "white",
            "ticks": ""
           }
          },
          "title": {
           "x": 0.05
          },
          "xaxis": {
           "automargin": true,
           "gridcolor": "white",
           "linecolor": "white",
           "ticks": "",
           "title": {
            "standoff": 15
           },
           "zerolinecolor": "white",
           "zerolinewidth": 2
          },
          "yaxis": {
           "automargin": true,
           "gridcolor": "white",
           "linecolor": "white",
           "ticks": "",
           "title": {
            "standoff": 15
           },
           "zerolinecolor": "white",
           "zerolinewidth": 2
          }
         }
        },
        "title": {
         "text": "Real Price vs Amount Sold for Different Products"
        },
        "width": 800,
        "xaxis": {
         "title": {
          "text": "Real Price"
         }
        },
        "yaxis": {
         "title": {
          "text": "Amount Sold"
         }
        }
       }
      },
      "text/html": [
       "<div>                            <div id=\"8f230816-37b2-40a0-b811-d31c5610a24c\" class=\"plotly-graph-div\" style=\"height:600px; width:800px;\"></div>            <script type=\"text/javascript\">                require([\"plotly\"], function(Plotly) {                    window.PLOTLYENV=window.PLOTLYENV || {};                                    if (document.getElementById(\"8f230816-37b2-40a0-b811-d31c5610a24c\")) {                    Plotly.newPlot(                        \"8f230816-37b2-40a0-b811-d31c5610a24c\",                        [{\"mode\":\"lines+markers\",\"name\":\"Wipers - Kitchen Shelf Cleaning Wiper - Windows/Mirror Cleaning Wiper\",\"x\":[[\"199\",\"450\",\"299\",\"107\",\"4,573\"],[\"(306)\",\"(921)\",\"(128)\",\"(151)\",\"(406)\"]],\"y\":[[\"199\",\"450\",\"299\",\"107\",\"4,573\"],[\"(306)\",\"(921)\",\"(128)\",\"(151)\",\"(406)\"]],\"type\":\"scatter\"},{\"mode\":\"lines+markers\",\"name\":\"Winter Cap and neck for Boy - Girls\",\"x\":[[\"199\",\"450\",\"299\",\"107\",\"4,573\"],[\"(306)\",\"(921)\",\"(128)\",\"(151)\",\"(406)\"]],\"y\":[[\"199\",\"450\",\"299\",\"107\",\"4,573\"],[\"(306)\",\"(921)\",\"(128)\",\"(151)\",\"(406)\"]],\"type\":\"scatter\"},{\"mode\":\"lines+markers\",\"name\":\"\\u3010Ready Stock+FREE Shipping+COD\\u3011Xiaomi Bluetooth 5.0 Earphones TWS Headphone True Wireless Earphone Touch Control Earbuds HiFi Stereo Sports Waterproof With Mic\",\"x\":[[\"199\",\"450\",\"299\",\"107\",\"4,573\"],[\"(306)\",\"(921)\",\"(128)\",\"(151)\",\"(406)\"]],\"y\":[[\"199\",\"450\",\"299\",\"107\",\"4,573\"],[\"(306)\",\"(921)\",\"(128)\",\"(151)\",\"(406)\"]],\"type\":\"scatter\"},{\"mode\":\"lines+markers\",\"name\":\"The Vintage Clothing Pack of 2 Hoodies For Men / Hoodies For Girls / Hoodies For Women Messi AW Allen Walker printed premium quality Hoodies For Men / Hoodies For Girls\",\"x\":[[\"199\",\"450\",\"299\",\"107\",\"4,573\"],[\"(306)\",\"(921)\",\"(128)\",\"(151)\",\"(406)\"]],\"y\":[[\"199\",\"450\",\"299\",\"107\",\"4,573\"],[\"(306)\",\"(921)\",\"(128)\",\"(151)\",\"(406)\"]],\"type\":\"scatter\"},{\"mode\":\"lines+markers\",\"name\":\"Beautious Eyebrow Stamp Shaping Kit, One Step Eyebrow Stamp Makeup with 3 Reusable Eyebrow Stencils and Eyebrow Pen Brushes Hairline Powder\",\"x\":[[\"199\",\"450\",\"299\",\"107\",\"4,573\"],[\"(306)\",\"(921)\",\"(128)\",\"(151)\",\"(406)\"]],\"y\":[[\"199\",\"450\",\"299\",\"107\",\"4,573\"],[\"(306)\",\"(921)\",\"(128)\",\"(151)\",\"(406)\"]],\"type\":\"scatter\"}],                        {\"template\":{\"data\":{\"histogram2dcontour\":[{\"type\":\"histogram2dcontour\",\"colorbar\":{\"outlinewidth\":0,\"ticks\":\"\"},\"colorscale\":[[0.0,\"#0d0887\"],[0.1111111111111111,\"#46039f\"],[0.2222222222222222,\"#7201a8\"],[0.3333333333333333,\"#9c179e\"],[0.4444444444444444,\"#bd3786\"],[0.5555555555555556,\"#d8576b\"],[0.6666666666666666,\"#ed7953\"],[0.7777777777777778,\"#fb9f3a\"],[0.8888888888888888,\"#fdca26\"],[1.0,\"#f0f921\"]]}],\"choropleth\":[{\"type\":\"choropleth\",\"colorbar\":{\"outlinewidth\":0,\"ticks\":\"\"}}],\"histogram2d\":[{\"type\":\"histogram2d\",\"colorbar\":{\"outlinewidth\":0,\"ticks\":\"\"},\"colorscale\":[[0.0,\"#0d0887\"],[0.1111111111111111,\"#46039f\"],[0.2222222222222222,\"#7201a8\"],[0.3333333333333333,\"#9c179e\"],[0.4444444444444444,\"#bd3786\"],[0.5555555555555556,\"#d8576b\"],[0.6666666666666666,\"#ed7953\"],[0.7777777777777778,\"#fb9f3a\"],[0.8888888888888888,\"#fdca26\"],[1.0,\"#f0f921\"]]}],\"heatmap\":[{\"type\":\"heatmap\",\"colorbar\":{\"outlinewidth\":0,\"ticks\":\"\"},\"colorscale\":[[0.0,\"#0d0887\"],[0.1111111111111111,\"#46039f\"],[0.2222222222222222,\"#7201a8\"],[0.3333333333333333,\"#9c179e\"],[0.4444444444444444,\"#bd3786\"],[0.5555555555555556,\"#d8576b\"],[0.6666666666666666,\"#ed7953\"],[0.7777777777777778,\"#fb9f3a\"],[0.8888888888888888,\"#fdca26\"],[1.0,\"#f0f921\"]]}],\"heatmapgl\":[{\"type\":\"heatmapgl\",\"colorbar\":{\"outlinewidth\":0,\"ticks\":\"\"},\"colorscale\":[[0.0,\"#0d0887\"],[0.1111111111111111,\"#46039f\"],[0.2222222222222222,\"#7201a8\"],[0.3333333333333333,\"#9c179e\"],[0.4444444444444444,\"#bd3786\"],[0.5555555555555556,\"#d8576b\"],[0.6666666666666666,\"#ed7953\"],[0.7777777777777778,\"#fb9f3a\"],[0.8888888888888888,\"#fdca26\"],[1.0,\"#f0f921\"]]}],\"contourcarpet\":[{\"type\":\"contourcarpet\",\"colorbar\":{\"outlinewidth\":0,\"ticks\":\"\"}}],\"contour\":[{\"type\":\"contour\",\"colorbar\":{\"outlinewidth\":0,\"ticks\":\"\"},\"colorscale\":[[0.0,\"#0d0887\"],[0.1111111111111111,\"#46039f\"],[0.2222222222222222,\"#7201a8\"],[0.3333333333333333,\"#9c179e\"],[0.4444444444444444,\"#bd3786\"],[0.5555555555555556,\"#d8576b\"],[0.6666666666666666,\"#ed7953\"],[0.7777777777777778,\"#fb9f3a\"],[0.8888888888888888,\"#fdca26\"],[1.0,\"#f0f921\"]]}],\"surface\":[{\"type\":\"surface\",\"colorbar\":{\"outlinewidth\":0,\"ticks\":\"\"},\"colorscale\":[[0.0,\"#0d0887\"],[0.1111111111111111,\"#46039f\"],[0.2222222222222222,\"#7201a8\"],[0.3333333333333333,\"#9c179e\"],[0.4444444444444444,\"#bd3786\"],[0.5555555555555556,\"#d8576b\"],[0.6666666666666666,\"#ed7953\"],[0.7777777777777778,\"#fb9f3a\"],[0.8888888888888888,\"#fdca26\"],[1.0,\"#f0f921\"]]}],\"mesh3d\":[{\"type\":\"mesh3d\",\"colorbar\":{\"outlinewidth\":0,\"ticks\":\"\"}}],\"scatter\":[{\"fillpattern\":{\"fillmode\":\"overlay\",\"size\":10,\"solidity\":0.2},\"type\":\"scatter\"}],\"parcoords\":[{\"type\":\"parcoords\",\"line\":{\"colorbar\":{\"outlinewidth\":0,\"ticks\":\"\"}}}],\"scatterpolargl\":[{\"type\":\"scatterpolargl\",\"marker\":{\"colorbar\":{\"outlinewidth\":0,\"ticks\":\"\"}}}],\"bar\":[{\"error_x\":{\"color\":\"#2a3f5f\"},\"error_y\":{\"color\":\"#2a3f5f\"},\"marker\":{\"line\":{\"color\":\"#E5ECF6\",\"width\":0.5},\"pattern\":{\"fillmode\":\"overlay\",\"size\":10,\"solidity\":0.2}},\"type\":\"bar\"}],\"scattergeo\":[{\"type\":\"scattergeo\",\"marker\":{\"colorbar\":{\"outlinewidth\":0,\"ticks\":\"\"}}}],\"scatterpolar\":[{\"type\":\"scatterpolar\",\"marker\":{\"colorbar\":{\"outlinewidth\":0,\"ticks\":\"\"}}}],\"histogram\":[{\"marker\":{\"pattern\":{\"fillmode\":\"overlay\",\"size\":10,\"solidity\":0.2}},\"type\":\"histogram\"}],\"scattergl\":[{\"type\":\"scattergl\",\"marker\":{\"colorbar\":{\"outlinewidth\":0,\"ticks\":\"\"}}}],\"scatter3d\":[{\"type\":\"scatter3d\",\"line\":{\"colorbar\":{\"outlinewidth\":0,\"ticks\":\"\"}},\"marker\":{\"colorbar\":{\"outlinewidth\":0,\"ticks\":\"\"}}}],\"scattermapbox\":[{\"type\":\"scattermapbox\",\"marker\":{\"colorbar\":{\"outlinewidth\":0,\"ticks\":\"\"}}}],\"scatterternary\":[{\"type\":\"scatterternary\",\"marker\":{\"colorbar\":{\"outlinewidth\":0,\"ticks\":\"\"}}}],\"scattercarpet\":[{\"type\":\"scattercarpet\",\"marker\":{\"colorbar\":{\"outlinewidth\":0,\"ticks\":\"\"}}}],\"carpet\":[{\"aaxis\":{\"endlinecolor\":\"#2a3f5f\",\"gridcolor\":\"white\",\"linecolor\":\"white\",\"minorgridcolor\":\"white\",\"startlinecolor\":\"#2a3f5f\"},\"baxis\":{\"endlinecolor\":\"#2a3f5f\",\"gridcolor\":\"white\",\"linecolor\":\"white\",\"minorgridcolor\":\"white\",\"startlinecolor\":\"#2a3f5f\"},\"type\":\"carpet\"}],\"table\":[{\"cells\":{\"fill\":{\"color\":\"#EBF0F8\"},\"line\":{\"color\":\"white\"}},\"header\":{\"fill\":{\"color\":\"#C8D4E3\"},\"line\":{\"color\":\"white\"}},\"type\":\"table\"}],\"barpolar\":[{\"marker\":{\"line\":{\"color\":\"#E5ECF6\",\"width\":0.5},\"pattern\":{\"fillmode\":\"overlay\",\"size\":10,\"solidity\":0.2}},\"type\":\"barpolar\"}],\"pie\":[{\"automargin\":true,\"type\":\"pie\"}]},\"layout\":{\"autotypenumbers\":\"strict\",\"colorway\":[\"#636efa\",\"#EF553B\",\"#00cc96\",\"#ab63fa\",\"#FFA15A\",\"#19d3f3\",\"#FF6692\",\"#B6E880\",\"#FF97FF\",\"#FECB52\"],\"font\":{\"color\":\"#2a3f5f\"},\"hovermode\":\"closest\",\"hoverlabel\":{\"align\":\"left\"},\"paper_bgcolor\":\"white\",\"plot_bgcolor\":\"#E5ECF6\",\"polar\":{\"bgcolor\":\"#E5ECF6\",\"angularaxis\":{\"gridcolor\":\"white\",\"linecolor\":\"white\",\"ticks\":\"\"},\"radialaxis\":{\"gridcolor\":\"white\",\"linecolor\":\"white\",\"ticks\":\"\"}},\"ternary\":{\"bgcolor\":\"#E5ECF6\",\"aaxis\":{\"gridcolor\":\"white\",\"linecolor\":\"white\",\"ticks\":\"\"},\"baxis\":{\"gridcolor\":\"white\",\"linecolor\":\"white\",\"ticks\":\"\"},\"caxis\":{\"gridcolor\":\"white\",\"linecolor\":\"white\",\"ticks\":\"\"}},\"coloraxis\":{\"colorbar\":{\"outlinewidth\":0,\"ticks\":\"\"}},\"colorscale\":{\"sequential\":[[0.0,\"#0d0887\"],[0.1111111111111111,\"#46039f\"],[0.2222222222222222,\"#7201a8\"],[0.3333333333333333,\"#9c179e\"],[0.4444444444444444,\"#bd3786\"],[0.5555555555555556,\"#d8576b\"],[0.6666666666666666,\"#ed7953\"],[0.7777777777777778,\"#fb9f3a\"],[0.8888888888888888,\"#fdca26\"],[1.0,\"#f0f921\"]],\"sequentialminus\":[[0.0,\"#0d0887\"],[0.1111111111111111,\"#46039f\"],[0.2222222222222222,\"#7201a8\"],[0.3333333333333333,\"#9c179e\"],[0.4444444444444444,\"#bd3786\"],[0.5555555555555556,\"#d8576b\"],[0.6666666666666666,\"#ed7953\"],[0.7777777777777778,\"#fb9f3a\"],[0.8888888888888888,\"#fdca26\"],[1.0,\"#f0f921\"]],\"diverging\":[[0,\"#8e0152\"],[0.1,\"#c51b7d\"],[0.2,\"#de77ae\"],[0.3,\"#f1b6da\"],[0.4,\"#fde0ef\"],[0.5,\"#f7f7f7\"],[0.6,\"#e6f5d0\"],[0.7,\"#b8e186\"],[0.8,\"#7fbc41\"],[0.9,\"#4d9221\"],[1,\"#276419\"]]},\"xaxis\":{\"gridcolor\":\"white\",\"linecolor\":\"white\",\"ticks\":\"\",\"title\":{\"standoff\":15},\"zerolinecolor\":\"white\",\"automargin\":true,\"zerolinewidth\":2},\"yaxis\":{\"gridcolor\":\"white\",\"linecolor\":\"white\",\"ticks\":\"\",\"title\":{\"standoff\":15},\"zerolinecolor\":\"white\",\"automargin\":true,\"zerolinewidth\":2},\"scene\":{\"xaxis\":{\"backgroundcolor\":\"#E5ECF6\",\"gridcolor\":\"white\",\"linecolor\":\"white\",\"showbackground\":true,\"ticks\":\"\",\"zerolinecolor\":\"white\",\"gridwidth\":2},\"yaxis\":{\"backgroundcolor\":\"#E5ECF6\",\"gridcolor\":\"white\",\"linecolor\":\"white\",\"showbackground\":true,\"ticks\":\"\",\"zerolinecolor\":\"white\",\"gridwidth\":2},\"zaxis\":{\"backgroundcolor\":\"#E5ECF6\",\"gridcolor\":\"white\",\"linecolor\":\"white\",\"showbackground\":true,\"ticks\":\"\",\"zerolinecolor\":\"white\",\"gridwidth\":2}},\"shapedefaults\":{\"line\":{\"color\":\"#2a3f5f\"}},\"annotationdefaults\":{\"arrowcolor\":\"#2a3f5f\",\"arrowhead\":0,\"arrowwidth\":1},\"geo\":{\"bgcolor\":\"white\",\"landcolor\":\"#E5ECF6\",\"subunitcolor\":\"white\",\"showland\":true,\"showlakes\":true,\"lakecolor\":\"white\"},\"title\":{\"x\":0.05},\"mapbox\":{\"style\":\"light\"}}},\"margin\":{\"l\":50,\"r\":50,\"t\":50,\"b\":50},\"legend\":{\"x\":0,\"y\":1.0},\"title\":{\"text\":\"Real Price vs Amount Sold for Different Products\"},\"xaxis\":{\"title\":{\"text\":\"Real Price\"}},\"yaxis\":{\"title\":{\"text\":\"Amount Sold\"}},\"width\":800,\"height\":600,\"showlegend\":true},                        {\"responsive\": true}                    ).then(function(){\n",
       "                            \n",
       "var gd = document.getElementById('8f230816-37b2-40a0-b811-d31c5610a24c');\n",
       "var x = new MutationObserver(function (mutations, observer) {{\n",
       "        var display = window.getComputedStyle(gd).display;\n",
       "        if (!display || display === 'none') {{\n",
       "            console.log([gd, 'removed!']);\n",
       "            Plotly.purge(gd);\n",
       "            observer.disconnect();\n",
       "        }}\n",
       "}});\n",
       "\n",
       "// Listen for the removal of the full notebook cells\n",
       "var notebookContainer = gd.closest('#notebook-container');\n",
       "if (notebookContainer) {{\n",
       "    x.observe(notebookContainer, {childList: true});\n",
       "}}\n",
       "\n",
       "// Listen for the clearing of the current output cell\n",
       "var outputEl = gd.closest('.output');\n",
       "if (outputEl) {{\n",
       "    x.observe(outputEl, {childList: true});\n",
       "}}\n",
       "\n",
       "                        })                };                });            </script>        </div>"
      ]
     },
     "metadata": {},
     "output_type": "display_data"
    }
   ],
   "source": [
    "import plotly.graph_objs as go\n",
    "import plotly.io as pio\n",
    "\n",
    "# Sample data (replace this with your actual data)\n",
    "\n",
    "\n",
    "# Creating a Plotly figure\n",
    "fig = go.Figure()\n",
    "\n",
    "# Adding lines for each product\n",
    "for index, row in df.iterrows():\n",
    "    fig.add_trace(go.Scatter(x=[df['Real Price'], df['Amount Sold']], y=[df['Real Price'], df['Amount Sold']],\n",
    "                             mode='lines+markers', name=row['Product']))\n",
    "\n",
    "# Updating layout\n",
    "fig.update_layout(title='Real Price vs Amount Sold for Different Products',\n",
    "                  xaxis_title='Real Price',\n",
    "                  yaxis_title='Amount Sold',\n",
    "                  width=800,  # Adjust width as needed\n",
    "                  height=600,  # Adjust height as needed\n",
    "                  margin=dict(l=50, r=50, t=50, b=50),  # Adjust margins\n",
    "                  showlegend=True,\n",
    "                  legend=dict(x=0, y=1.0))  # Position legend at the top right)\n",
    "\n",
    "# Show the plot\n",
    "pio.show(fig)\n"
   ]
  },
  {
   "cell_type": "code",
   "execution_count": 27,
   "id": "8f8264ac",
   "metadata": {},
   "outputs": [
    {
     "data": {
      "application/vnd.plotly.v1+json": {
       "config": {
        "plotlyServerURL": "https://plot.ly"
       },
       "data": [
        {
         "marker": {
          "color": "rgb(55, 83, 109)"
         },
         "name": "Real Price",
         "type": "bar",
         "x": [
          "Wipers - Kitchen Shelf Cleaning Wiper - Windows/Mirror Cleaning Wiper",
          "Winter Cap and neck for Boy - Girls",
          "【Ready Stock+FREE Shipping+COD】Xiaomi Bluetooth 5.0 Earphones TWS Headphone True Wireless Earphone Touch Control Earbuds HiFi Stereo Sports Waterproof With Mic",
          "The Vintage Clothing Pack of 2 Hoodies For Men / Hoodies For Girls / Hoodies For Women Messi AW Allen Walker printed premium quality Hoodies For Men / Hoodies For Girls",
          "Beautious Eyebrow Stamp Shaping Kit, One Step Eyebrow Stamp Makeup with 3 Reusable Eyebrow Stencils and Eyebrow Pen Brushes Hairline Powder",
          "Original M10 & M19 & M28 M90 & i12 Double Wireless Bluetooth Hand Free with Power Bank Earphones White bluetooth ear phone for all cell phones use",
          "Stitched Heavy Embroidered Maxi with Koti (Separate Coaty) Party Wear Maxi Dresses For Women/Eid Collection/Wedding Dress For Women",
          "Winter Warm Thickening Wool Gloves Knitted Flip Fingerless Flexible Exposed Finger Thick Mittens for Men Women",
          "Multifunctional Portable Large Capacity Travel Cosmetic Bag with Handle Makeup Organizer Bag Storage Makeup Bag Waterproof PU Leather Travel Toiletry Bag for Women",
          "Stylish Printed Front Two Pocket Hooded Tracksuit For Men",
          "LOVE STYLE FONT NECKLACE, DOUBLE NAME NECKLACE, NAME LOCKET PERSONALIZED/CUSTOMIZED DESIGN NAME NECKLACE-(PERFECT GIFT TO SEND YOUR WIFE , FIANCE, HUSBAND, FATHER , OR ANY ONE)",
          "(Buy 1 Get 1 Free) New S10 Handsfree High Bass With Good Sound Quality",
          "Toiletry Bag Travel Cosmetic Bag, Shaving Kit, Grooming Makeup Bag Pouch for Men & Women, Black, GreyHigh Quality Toiletry Bag Men/Women travel Accessories with hanging option",
          "I7 Mini Bluetooth Headset Earbud Single Wireless Earphone With Mic Stereo For all phones",
          "Cool Sports Vacuum Flask Stainless Steel Water Bottle For School Kids",
          "Swetshirt And Pajama Trouser For Kids Baby Boys And Baby Girls Imported Comfy Winter Warm Tops Clothes Sets Dresses Outfit Jannat Store",
          "Silver Plating Couple Rings",
          "Zip card wallet Genuine Leather Minimalist Men's Purse Long Wallet For Men Bi Fold Simple Wallet Clasp Card Holder Wallet Small Wallet for Men and Boys - Slim and Smart Wallet Small Wallet for Men and Boys - Slim and Smart Wallet",
          "Men's Running Shoes Summer Mesh Genuine Breathable Mesh Shoes Casual Shoes Men Sports Shoes Size Breathable Sports Shoes Women Sneakers Sports Shoes Black Running Shoes",
          "Sogo Quartz Heater (JPN-94 / JPN-95)",
          "Beautious 4IN1 Super Skin Glowing Serum | 5% Niacinamide, 30% Vitamin C 10%, Vitamin E 10% & HA | 30 ml",
          "Girls Soft Half Finger Gloves Plush Fingerless Gloves",
          "Men Women Home Anti-slip Slipper Winter Warm Cotton House Indoor Slippers",
          "New Design 2 Piece Hand Bag With Small Carry Pouch & Long Strap",
          "A6s Bluetooth Earphones Tws In Ear Bluetooth 50 Running Sports Stereo Buttons With Microphone Wireless Headphones",
          "Beanie cap-Wool cap with neck warmer for men women| Winter cap for Unisex",
          "Hot Shaper Belt For Women Men Girls | Hot Shapper Belt For Hips Belly Fat Weight Loss Back Pain | Hot Shapers Slimming Belt Suana Sweat Belt Suit For Home Gym",
          "Infinix Hot 30 Back Rear Camera Protector 9H Gorilla Flexible Protection For Infinix Hot 30",
          "10Pcs Multi-function Spit Bone Dish Household Food Grade Plastic Spit Bone Dish Round Square Set Dining Table Garbage Plate",
          "Flowery Pore-Refining Treatment Gel (Niacinamide + Witch-hazel) - 50g",
          "caps for men cap winter cap songting cap and neck fleece benie cap warm cap garam hot",
          "Oud Collection - Arabic Perfumes Dirham_Men - Eau De Perfume - 100ml Long Lasting Frangrances",
          "Clothes Storage Bags Organizer Under Bed Storage , 43L, Grey",
          "Upgraded Version V5.2 Chip TWS G11 Wireless Outdoor Sports Wireless Headset Gaming Earbuds Esports Listening Music Universal",
          "Ladies Luxury Golden Fashion Watch For Women's Ladies Classical Edition Special Watch for Ladies And Girls",
          "Men's Running Shoes Men's Slip-on Shoes Tennis Walking Casual Shoes Black Gym Breathable Work Shoes fashion shoes sneakers for men",
          "Branded Watch For Men and Boys Latest Design Wrist Watches in Multicolor",
          "Sunaina Textile 3 Piece Malai Linen Printed Unstitched Winter Collection Fabric for Girls/Womens Sunaina Vol-34",
          "Original i12 Tws Touch Sensor Airpods_  m10 m28/ Earphones With Charging Case Dock For All Mobiles",
          "Cotton Satin Double Bedsheet Embroided",
          "5PCS Set Women Starry Sky Dial Watch Brand Design Female Clock Blue Leather Band Ladies Watches Simple Casual Womens WristWatch",
          "Home & Office Multipurpose Plastic Rack / Room Organizer Home & Office Multipurpose  Plastic Rack / Room Organizer /  Shoe Rack Brown Art # SS-SSRm01",
          "Fashion Women Hand Wrist Warmer Winter Fingerless Knitted Gloves Random colors",
          "Lifestyle Glory Heart Wooden Clock With Premium Light I The New Wooden Wall Clock Big Size I Wall Clock I Wooden Wall Clock I Wall clocks for bedroom I Wall Clocks for drawing room I Wooden Wall Clocks for bedroom",
          "Glorya Decor Qul Clock Wooden Islamic Calligraphy I The New Premium Wooden Wall Clock Light Big Size I Wall Clock Wooden Wall Clock I Wall clocks for bedroom I Quartz Watch DIY Design Decoration Piece for Home Decor I Offices and for Gift Items",
          "Wanter - 100Pcs / Square Almond Oval Coffin Shape Natural & Transparent Color Artificial Nails Kit Fakee Nails Acrylic Nails For Girls Beautiful Nails Falsee Nails",
          "Men's Running Shoes Men's Slip-on Shoes Tennis Walking Casual Shoes Black Gym Breathable Rubber Work Shoes fashin shoes",
          "Birds on Tree 3D Wooden DIY Wall Clock Numeral Quartz Watch Hanging Decoration Piece for Home Decor and Girls Room Bed Rooms and for Gifts Item",
          "Stitched Namaz chadar Prayer Shawl with Sleeves",
          "Flowers Printed Zipper For Women Girls Customized By aarwah Emaan",
          "Customize Ring With your name engraved On Ring",
          "Winter Zipper Jacket Trouser Tracksuit",
          "Soap Holder Premium Quality - Soap Dish - Soap Box - Bathroom Accessories Sets Washroom Friendly Products Bathroom Products Non-perforated Shell Shape Soap Holder",
          "Pack of 2 Black Titanium Finger Ring & Black Bar Chain For Man Woman",
          "OASIS BLUE Fashion Women Faux Rebbit Fur Hand Wrist Warmer Winter Fingerless Knitted Gloves",
          "Microfiber Bathing Quick Dry Hair Cap Turban Wrap Towel Hat Hair-drying",
          "NEW TRENDY WINTER COLLECTION PLANE BASIC SKIN COLOUR HOODIE FOR MENS",
          "Tube cap for winter season outclass stuff / Inner Tube cap / Inner hijab cap / Under scarf cap for hijab",
          "Christine Princess Lipstick - Shade 304",
          "ENRAX CART Winter Solid Color Faux Rabbit  Gloves Arm Sleeve Cover Warmer Fingerless Wrist Gloves Knitted Mitten Fashion Women Gloves",
          "6pcs Square Quartz Watch Dainty Bracelets Set Women Black White Watch Dial Leather Strap Heart Leaf Infinity Bracelets Set",
          "Waterproof Jelly Solid Lipstick  Moisturizing Long Lasting Red Lip Balm  High Color Rendering Smoothing Jelly Lipstick",
          "2 Portable Digital USB Mini Stereo Wired Speakers For Laptop/PC/Mobile - Black/White",
          "Multifunction Kitchen Food chopper Machine onion chopper Hand Pull Speedy Chopper Turbo Cutter Nicer Dicer Plus Garlic Press small meat Shredders Grinder Mincer Mixer Blender can cut fruits/vegetables/nuts/herbs/onions/garlic/chili",
          "Stylish HAND WITH CUP printed Fleece Pull Over Hoodie",
          "AT Heart Wooden Clock With Premium Light I The New Wooden Wall Clock Big Size I Wall Clock I Wooden Wall Clock I Wall clocks for bedroom I Wall Clocks for drawing room I Wooden Wall Clocks for bedroom",
          "Pack of 3 - 4-Colors Non-woven Foldable Clothes Quilt Clothes Storage Bag Organizer Box New-L",
          "Latest Casual Sneaker, Lace Up Light Weight Shoes for Running, walking",
          "Modern 3D Brick Wallpaper Self Adhesive Waterproof Wall Panel Living Room Mould Proof Wall Sticker Formaldehyde-free Home Decor",
          "Top Brand Luxury Fashion Calendar Watch Men Nylon Strap Clock Sport Watches Mens Quartz Wristwatch Relogio Masculino",
          "USB Rechargeable and Solar Charging Emergency flashlight Portable Emergency Light With Charging Cable 3 Types of Lighting System",
          "6 PCS New Lxury Love Rhinestone Jewelry Ladies Ring Necklace Earrings Bracelet Set Simple Digital Leather Strap Quartz Watch",
          "AirPods_Pro Wireless Earbuds Bluetooth 5.0, Super Sound Bass, Charging Case and Extra Ear-Buds, Pop-Up Feature Compatible with All Devices",
          "New  Flat Slippers for girls and women",
          "Natural Liquid Blush - Air Cushion Liquid Blush - Cheek Liquid Blusher",
          "AKE - Motorcycle Half Face Mask Winter Wear Beard cold Protection Mask Black Red Blue Multi Color",
          "12v DC 50W LED for Solar and Battery Operated only Flood Light Waterproof For Outdoor",
          "Flexible tripod phone holder foam",
          "Solar Powered Rechargeable LED Multifunctional Portable Light USB Dual Light Source Outdoor Searchlight Camping Light Strong Fla",
          "Beautious Pack of 5 Mini Matte Lipsticks Red Brown pink lipstick",
          "Electric Room Heater/ Electric Heater With Safety Switch(400W)",
          "Chest Bag New Men Simple Nylon Fashion Waterproof One Shoulder Crossbody Bag",
          "1pair Winter Warm Plush Leg Warmers Knee Brace Support Thermal Long Leg Sleeves",
          "Large Storage Bags, Storage Bag Clothes Storage Box Bins Foldable Closet Organizers Storage Containers with Durable Handles Thick Fabric for Blanket Comforter Clothing Bedding",
          "Black Titanium Finger Ring With Cuboid Rectangle Neck Pendant Chain Necklace For Boys And Men (Pack Of 2)",
          "Very stylish smart Soap holder for bathroom soap dish modern style and space saving leaf shape soap holder self draining bathroom fitting",
          "I9 Ultra Max Smart Watch 2.19 Inch Full Touch Smartwatch Wireless Charging Bluetooth Call Watch Sport Woman Men Smartwatch"
         ],
         "y": [
          "149",
          "488",
          "1,399",
          "1,749",
          "319",
          "499",
          "1,575",
          "499",
          "999",
          "2,499",
          "619",
          "429",
          "430",
          "319",
          "947",
          "748",
          "550",
          "320",
          "999",
          "1,799",
          "269",
          "399",
          "349",
          "1,250",
          "2,901",
          "449",
          "341",
          "118",
          "415",
          "199",
          "450",
          "299",
          "107",
          "4,573",
          "899",
          "1,399",
          "279",
          "550",
          "749",
          "975",
          "2,842",
          "449",
          "315",
          "375",
          "299",
          "249",
          "999",
          "289",
          "840",
          "1,029",
          "199",
          "1,298",
          "242",
          "125",
          "335",
          "120",
          "797",
          "160",
          "280",
          "335",
          "2,992",
          "356",
          "509",
          "497",
          "1,099",
          "345",
          "271",
          "999",
          "228",
          "2,777",
          "949",
          "4,388",
          "2,128",
          "599",
          "299",
          "268",
          "799",
          "179",
          "6,455",
          "215",
          "1,585",
          "4,100",
          "499",
          "79",
          "115",
          "279",
          "1,999"
         ]
        }
       ],
       "layout": {
        "height": 600,
        "template": {
         "data": {
          "bar": [
           {
            "error_x": {
             "color": "#2a3f5f"
            },
            "error_y": {
             "color": "#2a3f5f"
            },
            "marker": {
             "line": {
              "color": "#E5ECF6",
              "width": 0.5
             },
             "pattern": {
              "fillmode": "overlay",
              "size": 10,
              "solidity": 0.2
             }
            },
            "type": "bar"
           }
          ],
          "barpolar": [
           {
            "marker": {
             "line": {
              "color": "#E5ECF6",
              "width": 0.5
             },
             "pattern": {
              "fillmode": "overlay",
              "size": 10,
              "solidity": 0.2
             }
            },
            "type": "barpolar"
           }
          ],
          "carpet": [
           {
            "aaxis": {
             "endlinecolor": "#2a3f5f",
             "gridcolor": "white",
             "linecolor": "white",
             "minorgridcolor": "white",
             "startlinecolor": "#2a3f5f"
            },
            "baxis": {
             "endlinecolor": "#2a3f5f",
             "gridcolor": "white",
             "linecolor": "white",
             "minorgridcolor": "white",
             "startlinecolor": "#2a3f5f"
            },
            "type": "carpet"
           }
          ],
          "choropleth": [
           {
            "colorbar": {
             "outlinewidth": 0,
             "ticks": ""
            },
            "type": "choropleth"
           }
          ],
          "contour": [
           {
            "colorbar": {
             "outlinewidth": 0,
             "ticks": ""
            },
            "colorscale": [
             [
              0,
              "#0d0887"
             ],
             [
              0.1111111111111111,
              "#46039f"
             ],
             [
              0.2222222222222222,
              "#7201a8"
             ],
             [
              0.3333333333333333,
              "#9c179e"
             ],
             [
              0.4444444444444444,
              "#bd3786"
             ],
             [
              0.5555555555555556,
              "#d8576b"
             ],
             [
              0.6666666666666666,
              "#ed7953"
             ],
             [
              0.7777777777777778,
              "#fb9f3a"
             ],
             [
              0.8888888888888888,
              "#fdca26"
             ],
             [
              1,
              "#f0f921"
             ]
            ],
            "type": "contour"
           }
          ],
          "contourcarpet": [
           {
            "colorbar": {
             "outlinewidth": 0,
             "ticks": ""
            },
            "type": "contourcarpet"
           }
          ],
          "heatmap": [
           {
            "colorbar": {
             "outlinewidth": 0,
             "ticks": ""
            },
            "colorscale": [
             [
              0,
              "#0d0887"
             ],
             [
              0.1111111111111111,
              "#46039f"
             ],
             [
              0.2222222222222222,
              "#7201a8"
             ],
             [
              0.3333333333333333,
              "#9c179e"
             ],
             [
              0.4444444444444444,
              "#bd3786"
             ],
             [
              0.5555555555555556,
              "#d8576b"
             ],
             [
              0.6666666666666666,
              "#ed7953"
             ],
             [
              0.7777777777777778,
              "#fb9f3a"
             ],
             [
              0.8888888888888888,
              "#fdca26"
             ],
             [
              1,
              "#f0f921"
             ]
            ],
            "type": "heatmap"
           }
          ],
          "heatmapgl": [
           {
            "colorbar": {
             "outlinewidth": 0,
             "ticks": ""
            },
            "colorscale": [
             [
              0,
              "#0d0887"
             ],
             [
              0.1111111111111111,
              "#46039f"
             ],
             [
              0.2222222222222222,
              "#7201a8"
             ],
             [
              0.3333333333333333,
              "#9c179e"
             ],
             [
              0.4444444444444444,
              "#bd3786"
             ],
             [
              0.5555555555555556,
              "#d8576b"
             ],
             [
              0.6666666666666666,
              "#ed7953"
             ],
             [
              0.7777777777777778,
              "#fb9f3a"
             ],
             [
              0.8888888888888888,
              "#fdca26"
             ],
             [
              1,
              "#f0f921"
             ]
            ],
            "type": "heatmapgl"
           }
          ],
          "histogram": [
           {
            "marker": {
             "pattern": {
              "fillmode": "overlay",
              "size": 10,
              "solidity": 0.2
             }
            },
            "type": "histogram"
           }
          ],
          "histogram2d": [
           {
            "colorbar": {
             "outlinewidth": 0,
             "ticks": ""
            },
            "colorscale": [
             [
              0,
              "#0d0887"
             ],
             [
              0.1111111111111111,
              "#46039f"
             ],
             [
              0.2222222222222222,
              "#7201a8"
             ],
             [
              0.3333333333333333,
              "#9c179e"
             ],
             [
              0.4444444444444444,
              "#bd3786"
             ],
             [
              0.5555555555555556,
              "#d8576b"
             ],
             [
              0.6666666666666666,
              "#ed7953"
             ],
             [
              0.7777777777777778,
              "#fb9f3a"
             ],
             [
              0.8888888888888888,
              "#fdca26"
             ],
             [
              1,
              "#f0f921"
             ]
            ],
            "type": "histogram2d"
           }
          ],
          "histogram2dcontour": [
           {
            "colorbar": {
             "outlinewidth": 0,
             "ticks": ""
            },
            "colorscale": [
             [
              0,
              "#0d0887"
             ],
             [
              0.1111111111111111,
              "#46039f"
             ],
             [
              0.2222222222222222,
              "#7201a8"
             ],
             [
              0.3333333333333333,
              "#9c179e"
             ],
             [
              0.4444444444444444,
              "#bd3786"
             ],
             [
              0.5555555555555556,
              "#d8576b"
             ],
             [
              0.6666666666666666,
              "#ed7953"
             ],
             [
              0.7777777777777778,
              "#fb9f3a"
             ],
             [
              0.8888888888888888,
              "#fdca26"
             ],
             [
              1,
              "#f0f921"
             ]
            ],
            "type": "histogram2dcontour"
           }
          ],
          "mesh3d": [
           {
            "colorbar": {
             "outlinewidth": 0,
             "ticks": ""
            },
            "type": "mesh3d"
           }
          ],
          "parcoords": [
           {
            "line": {
             "colorbar": {
              "outlinewidth": 0,
              "ticks": ""
             }
            },
            "type": "parcoords"
           }
          ],
          "pie": [
           {
            "automargin": true,
            "type": "pie"
           }
          ],
          "scatter": [
           {
            "fillpattern": {
             "fillmode": "overlay",
             "size": 10,
             "solidity": 0.2
            },
            "type": "scatter"
           }
          ],
          "scatter3d": [
           {
            "line": {
             "colorbar": {
              "outlinewidth": 0,
              "ticks": ""
             }
            },
            "marker": {
             "colorbar": {
              "outlinewidth": 0,
              "ticks": ""
             }
            },
            "type": "scatter3d"
           }
          ],
          "scattercarpet": [
           {
            "marker": {
             "colorbar": {
              "outlinewidth": 0,
              "ticks": ""
             }
            },
            "type": "scattercarpet"
           }
          ],
          "scattergeo": [
           {
            "marker": {
             "colorbar": {
              "outlinewidth": 0,
              "ticks": ""
             }
            },
            "type": "scattergeo"
           }
          ],
          "scattergl": [
           {
            "marker": {
             "colorbar": {
              "outlinewidth": 0,
              "ticks": ""
             }
            },
            "type": "scattergl"
           }
          ],
          "scattermapbox": [
           {
            "marker": {
             "colorbar": {
              "outlinewidth": 0,
              "ticks": ""
             }
            },
            "type": "scattermapbox"
           }
          ],
          "scatterpolar": [
           {
            "marker": {
             "colorbar": {
              "outlinewidth": 0,
              "ticks": ""
             }
            },
            "type": "scatterpolar"
           }
          ],
          "scatterpolargl": [
           {
            "marker": {
             "colorbar": {
              "outlinewidth": 0,
              "ticks": ""
             }
            },
            "type": "scatterpolargl"
           }
          ],
          "scatterternary": [
           {
            "marker": {
             "colorbar": {
              "outlinewidth": 0,
              "ticks": ""
             }
            },
            "type": "scatterternary"
           }
          ],
          "surface": [
           {
            "colorbar": {
             "outlinewidth": 0,
             "ticks": ""
            },
            "colorscale": [
             [
              0,
              "#0d0887"
             ],
             [
              0.1111111111111111,
              "#46039f"
             ],
             [
              0.2222222222222222,
              "#7201a8"
             ],
             [
              0.3333333333333333,
              "#9c179e"
             ],
             [
              0.4444444444444444,
              "#bd3786"
             ],
             [
              0.5555555555555556,
              "#d8576b"
             ],
             [
              0.6666666666666666,
              "#ed7953"
             ],
             [
              0.7777777777777778,
              "#fb9f3a"
             ],
             [
              0.8888888888888888,
              "#fdca26"
             ],
             [
              1,
              "#f0f921"
             ]
            ],
            "type": "surface"
           }
          ],
          "table": [
           {
            "cells": {
             "fill": {
              "color": "#EBF0F8"
             },
             "line": {
              "color": "white"
             }
            },
            "header": {
             "fill": {
              "color": "#C8D4E3"
             },
             "line": {
              "color": "white"
             }
            },
            "type": "table"
           }
          ]
         },
         "layout": {
          "annotationdefaults": {
           "arrowcolor": "#2a3f5f",
           "arrowhead": 0,
           "arrowwidth": 1
          },
          "autotypenumbers": "strict",
          "coloraxis": {
           "colorbar": {
            "outlinewidth": 0,
            "ticks": ""
           }
          },
          "colorscale": {
           "diverging": [
            [
             0,
             "#8e0152"
            ],
            [
             0.1,
             "#c51b7d"
            ],
            [
             0.2,
             "#de77ae"
            ],
            [
             0.3,
             "#f1b6da"
            ],
            [
             0.4,
             "#fde0ef"
            ],
            [
             0.5,
             "#f7f7f7"
            ],
            [
             0.6,
             "#e6f5d0"
            ],
            [
             0.7,
             "#b8e186"
            ],
            [
             0.8,
             "#7fbc41"
            ],
            [
             0.9,
             "#4d9221"
            ],
            [
             1,
             "#276419"
            ]
           ],
           "sequential": [
            [
             0,
             "#0d0887"
            ],
            [
             0.1111111111111111,
             "#46039f"
            ],
            [
             0.2222222222222222,
             "#7201a8"
            ],
            [
             0.3333333333333333,
             "#9c179e"
            ],
            [
             0.4444444444444444,
             "#bd3786"
            ],
            [
             0.5555555555555556,
             "#d8576b"
            ],
            [
             0.6666666666666666,
             "#ed7953"
            ],
            [
             0.7777777777777778,
             "#fb9f3a"
            ],
            [
             0.8888888888888888,
             "#fdca26"
            ],
            [
             1,
             "#f0f921"
            ]
           ],
           "sequentialminus": [
            [
             0,
             "#0d0887"
            ],
            [
             0.1111111111111111,
             "#46039f"
            ],
            [
             0.2222222222222222,
             "#7201a8"
            ],
            [
             0.3333333333333333,
             "#9c179e"
            ],
            [
             0.4444444444444444,
             "#bd3786"
            ],
            [
             0.5555555555555556,
             "#d8576b"
            ],
            [
             0.6666666666666666,
             "#ed7953"
            ],
            [
             0.7777777777777778,
             "#fb9f3a"
            ],
            [
             0.8888888888888888,
             "#fdca26"
            ],
            [
             1,
             "#f0f921"
            ]
           ]
          },
          "colorway": [
           "#636efa",
           "#EF553B",
           "#00cc96",
           "#ab63fa",
           "#FFA15A",
           "#19d3f3",
           "#FF6692",
           "#B6E880",
           "#FF97FF",
           "#FECB52"
          ],
          "font": {
           "color": "#2a3f5f"
          },
          "geo": {
           "bgcolor": "white",
           "lakecolor": "white",
           "landcolor": "#E5ECF6",
           "showlakes": true,
           "showland": true,
           "subunitcolor": "white"
          },
          "hoverlabel": {
           "align": "left"
          },
          "hovermode": "closest",
          "mapbox": {
           "style": "light"
          },
          "paper_bgcolor": "white",
          "plot_bgcolor": "#E5ECF6",
          "polar": {
           "angularaxis": {
            "gridcolor": "white",
            "linecolor": "white",
            "ticks": ""
           },
           "bgcolor": "#E5ECF6",
           "radialaxis": {
            "gridcolor": "white",
            "linecolor": "white",
            "ticks": ""
           }
          },
          "scene": {
           "xaxis": {
            "backgroundcolor": "#E5ECF6",
            "gridcolor": "white",
            "gridwidth": 2,
            "linecolor": "white",
            "showbackground": true,
            "ticks": "",
            "zerolinecolor": "white"
           },
           "yaxis": {
            "backgroundcolor": "#E5ECF6",
            "gridcolor": "white",
            "gridwidth": 2,
            "linecolor": "white",
            "showbackground": true,
            "ticks": "",
            "zerolinecolor": "white"
           },
           "zaxis": {
            "backgroundcolor": "#E5ECF6",
            "gridcolor": "white",
            "gridwidth": 2,
            "linecolor": "white",
            "showbackground": true,
            "ticks": "",
            "zerolinecolor": "white"
           }
          },
          "shapedefaults": {
           "line": {
            "color": "#2a3f5f"
           }
          },
          "ternary": {
           "aaxis": {
            "gridcolor": "white",
            "linecolor": "white",
            "ticks": ""
           },
           "baxis": {
            "gridcolor": "white",
            "linecolor": "white",
            "ticks": ""
           },
           "bgcolor": "#E5ECF6",
           "caxis": {
            "gridcolor": "white",
            "linecolor": "white",
            "ticks": ""
           }
          },
          "title": {
           "x": 0.05
          },
          "xaxis": {
           "automargin": true,
           "gridcolor": "white",
           "linecolor": "white",
           "ticks": "",
           "title": {
            "standoff": 15
           },
           "zerolinecolor": "white",
           "zerolinewidth": 2
          },
          "yaxis": {
           "automargin": true,
           "gridcolor": "white",
           "linecolor": "white",
           "ticks": "",
           "title": {
            "standoff": 15
           },
           "zerolinecolor": "white",
           "zerolinewidth": 2
          }
         }
        },
        "title": {
         "text": "Real Price for Different Products"
        },
        "width": 800,
        "xaxis": {
         "title": {
          "text": "Products"
         }
        },
        "yaxis": {
         "title": {
          "text": "Real Price"
         }
        }
       }
      },
      "text/html": [
       "<div>                            <div id=\"32a97f09-c578-4d59-bd1f-4695c0bef77d\" class=\"plotly-graph-div\" style=\"height:600px; width:800px;\"></div>            <script type=\"text/javascript\">                require([\"plotly\"], function(Plotly) {                    window.PLOTLYENV=window.PLOTLYENV || {};                                    if (document.getElementById(\"32a97f09-c578-4d59-bd1f-4695c0bef77d\")) {                    Plotly.newPlot(                        \"32a97f09-c578-4d59-bd1f-4695c0bef77d\",                        [{\"marker\":{\"color\":\"rgb(55, 83, 109)\"},\"name\":\"Real Price\",\"x\":[\"Wipers - Kitchen Shelf Cleaning Wiper - Windows/Mirror Cleaning Wiper\",\"Winter Cap and neck for Boy - Girls\",\"\\u3010Ready Stock+FREE Shipping+COD\\u3011Xiaomi Bluetooth 5.0 Earphones TWS Headphone True Wireless Earphone Touch Control Earbuds HiFi Stereo Sports Waterproof With Mic\",\"The Vintage Clothing Pack of 2 Hoodies For Men / Hoodies For Girls / Hoodies For Women Messi AW Allen Walker printed premium quality Hoodies For Men / Hoodies For Girls\",\"Beautious Eyebrow Stamp Shaping Kit, One Step Eyebrow Stamp Makeup with 3 Reusable Eyebrow Stencils and Eyebrow Pen Brushes Hairline Powder\",\"Original M10 & M19 & M28 M90 & i12 Double Wireless Bluetooth Hand Free with Power Bank Earphones White bluetooth ear phone for all cell phones use\",\"Stitched Heavy Embroidered Maxi with Koti (Separate Coaty) Party Wear Maxi Dresses For Women/Eid Collection/Wedding Dress For Women\",\"Winter Warm Thickening Wool Gloves Knitted Flip Fingerless Flexible Exposed Finger Thick Mittens for Men Women\",\"Multifunctional Portable Large Capacity Travel Cosmetic Bag with Handle Makeup Organizer Bag Storage Makeup Bag Waterproof PU Leather Travel Toiletry Bag for Women\",\"Stylish Printed Front Two Pocket Hooded Tracksuit For Men\",\"LOVE STYLE FONT NECKLACE, DOUBLE NAME NECKLACE, NAME LOCKET PERSONALIZED/CUSTOMIZED DESIGN NAME NECKLACE-(PERFECT GIFT TO SEND YOUR WIFE , FIANCE, HUSBAND, FATHER , OR ANY ONE)\",\"(Buy 1 Get 1 Free) New S10 Handsfree High Bass With Good Sound Quality\",\"Toiletry Bag Travel Cosmetic Bag, Shaving Kit, Grooming Makeup Bag Pouch for Men & Women, Black, GreyHigh Quality Toiletry Bag Men/Women travel Accessories with hanging option\",\"I7 Mini Bluetooth Headset Earbud Single Wireless Earphone With Mic Stereo For all phones\",\"Cool Sports Vacuum Flask Stainless Steel Water Bottle For School Kids\",\"Swetshirt And Pajama Trouser For Kids Baby Boys And Baby Girls Imported Comfy Winter Warm Tops Clothes Sets Dresses Outfit Jannat Store\",\"Silver Plating Couple Rings\",\"Zip card wallet Genuine Leather Minimalist Men's Purse Long Wallet For Men Bi Fold Simple Wallet Clasp Card Holder Wallet Small Wallet for Men and Boys - Slim and Smart Wallet Small Wallet for Men and Boys - Slim and Smart Wallet\",\"Men's Running Shoes Summer Mesh Genuine Breathable Mesh Shoes Casual Shoes Men Sports Shoes Size Breathable Sports Shoes Women Sneakers Sports Shoes Black Running Shoes\",\"Sogo Quartz Heater (JPN-94 / JPN-95)\",\"Beautious 4IN1 Super Skin Glowing Serum | 5% Niacinamide, 30% Vitamin C 10%, Vitamin E 10% & HA | 30 ml\",\"Girls Soft Half Finger Gloves Plush Fingerless Gloves\",\"Men Women Home Anti-slip Slipper Winter Warm Cotton House Indoor Slippers\",\"New Design 2 Piece Hand Bag With Small Carry Pouch & Long Strap\",\"A6s Bluetooth Earphones Tws In Ear Bluetooth 50 Running Sports Stereo Buttons With Microphone Wireless Headphones\",\"Beanie cap-Wool cap with neck warmer for men women| Winter cap for Unisex\",\"Hot Shaper Belt For Women Men Girls | Hot Shapper Belt For Hips Belly Fat Weight Loss Back Pain | Hot Shapers Slimming Belt Suana Sweat Belt Suit For Home Gym\",\"Infinix Hot 30 Back Rear Camera Protector 9H Gorilla Flexible Protection For Infinix Hot 30\",\"10Pcs Multi-function Spit Bone Dish Household Food Grade Plastic Spit Bone Dish Round Square Set Dining Table Garbage Plate\",\"Flowery Pore-Refining Treatment Gel (Niacinamide + Witch-hazel) - 50g\",\"caps for men cap winter cap songting cap and neck fleece benie cap warm cap garam hot\",\"Oud Collection - Arabic Perfumes Dirham_Men - Eau De Perfume - 100ml Long Lasting Frangrances\",\"Clothes Storage Bags Organizer Under Bed Storage , 43L, Grey\",\"Upgraded Version V5.2 Chip TWS G11 Wireless Outdoor Sports Wireless Headset Gaming Earbuds Esports Listening Music Universal\",\"Ladies Luxury Golden Fashion Watch For Women's Ladies Classical Edition Special Watch for Ladies And Girls\",\"Men's Running Shoes Men's Slip-on Shoes Tennis Walking Casual Shoes Black Gym Breathable Work Shoes fashion shoes sneakers for men\",\"Branded Watch For Men and Boys Latest Design Wrist Watches in Multicolor\",\"Sunaina Textile 3 Piece Malai Linen Printed Unstitched Winter Collection Fabric for Girls/Womens Sunaina Vol-34\",\"Original i12 Tws Touch Sensor Airpods_  m10 m28/ Earphones With Charging Case Dock For All Mobiles\",\"Cotton Satin Double Bedsheet Embroided\",\"5PCS Set Women Starry Sky Dial Watch Brand Design Female Clock Blue Leather Band Ladies Watches Simple Casual Womens WristWatch\",\"Home & Office Multipurpose Plastic Rack / Room Organizer Home & Office Multipurpose  Plastic Rack / Room Organizer /  Shoe Rack Brown Art # SS-SSRm01\",\"Fashion Women Hand Wrist Warmer Winter Fingerless Knitted Gloves Random colors\",\"Lifestyle Glory Heart Wooden Clock With Premium Light I The New Wooden Wall Clock Big Size I Wall Clock I Wooden Wall Clock I Wall clocks for bedroom I Wall Clocks for drawing room I Wooden Wall Clocks for bedroom\",\"Glorya Decor Qul Clock Wooden Islamic Calligraphy I The New Premium Wooden Wall Clock Light Big Size I Wall Clock Wooden Wall Clock I Wall clocks for bedroom I Quartz Watch DIY Design Decoration Piece for Home Decor I Offices and for Gift Items\",\"Wanter - 100Pcs / Square Almond Oval Coffin Shape Natural & Transparent Color Artificial Nails Kit Fakee Nails Acrylic Nails For Girls Beautiful Nails Falsee Nails\",\"Men's Running Shoes Men's Slip-on Shoes Tennis Walking Casual Shoes Black Gym Breathable Rubber Work Shoes fashin shoes\",\"Birds on Tree 3D Wooden DIY Wall Clock Numeral\\u00a0Quartz Watch Hanging Decoration Piece for Home Decor and Girls Room Bed Rooms and for Gifts Item\",\"Stitched Namaz chadar Prayer Shawl with Sleeves\",\"Flowers Printed Zipper For Women Girls Customized By aarwah Emaan\",\"Customize Ring With your name engraved On Ring\",\"Winter Zipper Jacket Trouser Tracksuit\",\"Soap Holder Premium Quality - Soap Dish - Soap Box - Bathroom Accessories Sets Washroom Friendly Products Bathroom Products Non-perforated Shell Shape Soap Holder\",\"Pack of 2 Black Titanium Finger Ring & Black Bar Chain For Man Woman\",\"OASIS BLUE Fashion Women Faux Rebbit Fur Hand Wrist Warmer Winter Fingerless Knitted Gloves\",\"Microfiber Bathing Quick Dry Hair Cap Turban Wrap Towel Hat Hair-drying\",\"NEW TRENDY WINTER COLLECTION PLANE BASIC SKIN COLOUR HOODIE FOR MENS\",\"Tube cap for winter season outclass stuff / Inner Tube cap / Inner hijab cap / Under scarf cap for hijab\",\"Christine Princess Lipstick - Shade 304\",\"ENRAX CART Winter Solid Color Faux Rabbit  Gloves Arm Sleeve Cover Warmer Fingerless Wrist Gloves Knitted Mitten Fashion Women Gloves\",\"6pcs Square Quartz Watch Dainty Bracelets Set Women Black White Watch Dial Leather Strap Heart Leaf Infinity Bracelets Set\",\"Waterproof Jelly Solid Lipstick  Moisturizing Long Lasting Red Lip Balm  High Color Rendering Smoothing Jelly Lipstick\",\"2 Portable Digital USB Mini Stereo Wired Speakers For Laptop/PC/Mobile - Black/White\",\"Multifunction Kitchen Food chopper Machine onion chopper Hand Pull Speedy Chopper Turbo Cutter Nicer Dicer Plus Garlic Press small meat Shredders Grinder Mincer Mixer Blender can cut fruits/vegetables/nuts/herbs/onions/garlic/chili\",\"Stylish HAND WITH CUP printed Fleece Pull Over Hoodie\",\"AT Heart Wooden Clock With Premium Light I The New Wooden Wall Clock Big Size I Wall Clock I Wooden Wall Clock I Wall clocks for bedroom I Wall Clocks for drawing room I Wooden Wall Clocks for bedroom\",\"Pack of 3 - 4-Colors Non-woven Foldable Clothes Quilt Clothes Storage Bag Organizer Box New-L\",\"Latest Casual Sneaker, Lace Up Light Weight Shoes for Running, walking\",\"Modern 3D Brick Wallpaper Self Adhesive Waterproof Wall Panel Living Room Mould Proof Wall Sticker Formaldehyde-free Home Decor\",\"Top Brand Luxury Fashion Calendar Watch Men Nylon Strap Clock Sport Watches Mens Quartz Wristwatch Relogio Masculino\",\"USB Rechargeable and Solar Charging Emergency flashlight Portable Emergency Light With Charging Cable 3 Types of Lighting System\",\"6 PCS New Lxury Love Rhinestone Jewelry Ladies Ring Necklace Earrings Bracelet Set Simple Digital Leather Strap Quartz Watch\",\"AirPods_Pro Wireless Earbuds Bluetooth 5.0, Super Sound Bass, Charging Case and Extra Ear-Buds, Pop-Up Feature Compatible with All Devices\",\"New  Flat Slippers for girls and women\",\"Natural Liquid Blush - Air Cushion Liquid Blush - Cheek Liquid Blusher\",\"AKE - Motorcycle Half Face Mask Winter Wear Beard cold Protection Mask Black Red Blue Multi Color\",\"12v DC 50W LED for Solar and Battery Operated only Flood Light Waterproof For Outdoor\",\"Flexible tripod phone holder foam\",\"Solar Powered Rechargeable LED Multifunctional Portable Light USB Dual Light Source Outdoor Searchlight Camping Light Strong Fla\",\"Beautious Pack of 5 Mini Matte Lipsticks Red Brown pink lipstick\",\"Electric Room Heater/ Electric Heater With Safety Switch(400W)\",\"Chest Bag New Men Simple Nylon Fashion Waterproof One Shoulder Crossbody Bag\",\"1pair Winter Warm Plush Leg Warmers Knee Brace Support Thermal Long Leg Sleeves\",\"Large Storage Bags, Storage Bag Clothes Storage Box Bins Foldable Closet Organizers Storage Containers with Durable Handles Thick Fabric for Blanket Comforter Clothing Bedding\",\"Black Titanium Finger Ring With Cuboid Rectangle Neck Pendant Chain Necklace For Boys And Men (Pack Of 2)\",\"Very stylish smart Soap holder for bathroom soap dish modern style and space saving leaf shape soap holder self draining bathroom fitting\",\"I9 Ultra Max Smart Watch 2.19 Inch Full Touch Smartwatch Wireless Charging Bluetooth Call Watch Sport Woman Men Smartwatch\"],\"y\":[\"149\",\"488\",\"1,399\",\"1,749\",\"319\",\"499\",\"1,575\",\"499\",\"999\",\"2,499\",\"619\",\"429\",\"430\",\"319\",\"947\",\"748\",\"550\",\"320\",\"999\",\"1,799\",\"269\",\"399\",\"349\",\"1,250\",\"2,901\",\"449\",\"341\",\"118\",\"415\",\"199\",\"450\",\"299\",\"107\",\"4,573\",\"899\",\"1,399\",\"279\",\"550\",\"749\",\"975\",\"2,842\",\"449\",\"315\",\"375\",\"299\",\"249\",\"999\",\"289\",\"840\",\"1,029\",\"199\",\"1,298\",\"242\",\"125\",\"335\",\"120\",\"797\",\"160\",\"280\",\"335\",\"2,992\",\"356\",\"509\",\"497\",\"1,099\",\"345\",\"271\",\"999\",\"228\",\"2,777\",\"949\",\"4,388\",\"2,128\",\"599\",\"299\",\"268\",\"799\",\"179\",\"6,455\",\"215\",\"1,585\",\"4,100\",\"499\",\"79\",\"115\",\"279\",\"1,999\"],\"type\":\"bar\"}],                        {\"template\":{\"data\":{\"histogram2dcontour\":[{\"type\":\"histogram2dcontour\",\"colorbar\":{\"outlinewidth\":0,\"ticks\":\"\"},\"colorscale\":[[0.0,\"#0d0887\"],[0.1111111111111111,\"#46039f\"],[0.2222222222222222,\"#7201a8\"],[0.3333333333333333,\"#9c179e\"],[0.4444444444444444,\"#bd3786\"],[0.5555555555555556,\"#d8576b\"],[0.6666666666666666,\"#ed7953\"],[0.7777777777777778,\"#fb9f3a\"],[0.8888888888888888,\"#fdca26\"],[1.0,\"#f0f921\"]]}],\"choropleth\":[{\"type\":\"choropleth\",\"colorbar\":{\"outlinewidth\":0,\"ticks\":\"\"}}],\"histogram2d\":[{\"type\":\"histogram2d\",\"colorbar\":{\"outlinewidth\":0,\"ticks\":\"\"},\"colorscale\":[[0.0,\"#0d0887\"],[0.1111111111111111,\"#46039f\"],[0.2222222222222222,\"#7201a8\"],[0.3333333333333333,\"#9c179e\"],[0.4444444444444444,\"#bd3786\"],[0.5555555555555556,\"#d8576b\"],[0.6666666666666666,\"#ed7953\"],[0.7777777777777778,\"#fb9f3a\"],[0.8888888888888888,\"#fdca26\"],[1.0,\"#f0f921\"]]}],\"heatmap\":[{\"type\":\"heatmap\",\"colorbar\":{\"outlinewidth\":0,\"ticks\":\"\"},\"colorscale\":[[0.0,\"#0d0887\"],[0.1111111111111111,\"#46039f\"],[0.2222222222222222,\"#7201a8\"],[0.3333333333333333,\"#9c179e\"],[0.4444444444444444,\"#bd3786\"],[0.5555555555555556,\"#d8576b\"],[0.6666666666666666,\"#ed7953\"],[0.7777777777777778,\"#fb9f3a\"],[0.8888888888888888,\"#fdca26\"],[1.0,\"#f0f921\"]]}],\"heatmapgl\":[{\"type\":\"heatmapgl\",\"colorbar\":{\"outlinewidth\":0,\"ticks\":\"\"},\"colorscale\":[[0.0,\"#0d0887\"],[0.1111111111111111,\"#46039f\"],[0.2222222222222222,\"#7201a8\"],[0.3333333333333333,\"#9c179e\"],[0.4444444444444444,\"#bd3786\"],[0.5555555555555556,\"#d8576b\"],[0.6666666666666666,\"#ed7953\"],[0.7777777777777778,\"#fb9f3a\"],[0.8888888888888888,\"#fdca26\"],[1.0,\"#f0f921\"]]}],\"contourcarpet\":[{\"type\":\"contourcarpet\",\"colorbar\":{\"outlinewidth\":0,\"ticks\":\"\"}}],\"contour\":[{\"type\":\"contour\",\"colorbar\":{\"outlinewidth\":0,\"ticks\":\"\"},\"colorscale\":[[0.0,\"#0d0887\"],[0.1111111111111111,\"#46039f\"],[0.2222222222222222,\"#7201a8\"],[0.3333333333333333,\"#9c179e\"],[0.4444444444444444,\"#bd3786\"],[0.5555555555555556,\"#d8576b\"],[0.6666666666666666,\"#ed7953\"],[0.7777777777777778,\"#fb9f3a\"],[0.8888888888888888,\"#fdca26\"],[1.0,\"#f0f921\"]]}],\"surface\":[{\"type\":\"surface\",\"colorbar\":{\"outlinewidth\":0,\"ticks\":\"\"},\"colorscale\":[[0.0,\"#0d0887\"],[0.1111111111111111,\"#46039f\"],[0.2222222222222222,\"#7201a8\"],[0.3333333333333333,\"#9c179e\"],[0.4444444444444444,\"#bd3786\"],[0.5555555555555556,\"#d8576b\"],[0.6666666666666666,\"#ed7953\"],[0.7777777777777778,\"#fb9f3a\"],[0.8888888888888888,\"#fdca26\"],[1.0,\"#f0f921\"]]}],\"mesh3d\":[{\"type\":\"mesh3d\",\"colorbar\":{\"outlinewidth\":0,\"ticks\":\"\"}}],\"scatter\":[{\"fillpattern\":{\"fillmode\":\"overlay\",\"size\":10,\"solidity\":0.2},\"type\":\"scatter\"}],\"parcoords\":[{\"type\":\"parcoords\",\"line\":{\"colorbar\":{\"outlinewidth\":0,\"ticks\":\"\"}}}],\"scatterpolargl\":[{\"type\":\"scatterpolargl\",\"marker\":{\"colorbar\":{\"outlinewidth\":0,\"ticks\":\"\"}}}],\"bar\":[{\"error_x\":{\"color\":\"#2a3f5f\"},\"error_y\":{\"color\":\"#2a3f5f\"},\"marker\":{\"line\":{\"color\":\"#E5ECF6\",\"width\":0.5},\"pattern\":{\"fillmode\":\"overlay\",\"size\":10,\"solidity\":0.2}},\"type\":\"bar\"}],\"scattergeo\":[{\"type\":\"scattergeo\",\"marker\":{\"colorbar\":{\"outlinewidth\":0,\"ticks\":\"\"}}}],\"scatterpolar\":[{\"type\":\"scatterpolar\",\"marker\":{\"colorbar\":{\"outlinewidth\":0,\"ticks\":\"\"}}}],\"histogram\":[{\"marker\":{\"pattern\":{\"fillmode\":\"overlay\",\"size\":10,\"solidity\":0.2}},\"type\":\"histogram\"}],\"scattergl\":[{\"type\":\"scattergl\",\"marker\":{\"colorbar\":{\"outlinewidth\":0,\"ticks\":\"\"}}}],\"scatter3d\":[{\"type\":\"scatter3d\",\"line\":{\"colorbar\":{\"outlinewidth\":0,\"ticks\":\"\"}},\"marker\":{\"colorbar\":{\"outlinewidth\":0,\"ticks\":\"\"}}}],\"scattermapbox\":[{\"type\":\"scattermapbox\",\"marker\":{\"colorbar\":{\"outlinewidth\":0,\"ticks\":\"\"}}}],\"scatterternary\":[{\"type\":\"scatterternary\",\"marker\":{\"colorbar\":{\"outlinewidth\":0,\"ticks\":\"\"}}}],\"scattercarpet\":[{\"type\":\"scattercarpet\",\"marker\":{\"colorbar\":{\"outlinewidth\":0,\"ticks\":\"\"}}}],\"carpet\":[{\"aaxis\":{\"endlinecolor\":\"#2a3f5f\",\"gridcolor\":\"white\",\"linecolor\":\"white\",\"minorgridcolor\":\"white\",\"startlinecolor\":\"#2a3f5f\"},\"baxis\":{\"endlinecolor\":\"#2a3f5f\",\"gridcolor\":\"white\",\"linecolor\":\"white\",\"minorgridcolor\":\"white\",\"startlinecolor\":\"#2a3f5f\"},\"type\":\"carpet\"}],\"table\":[{\"cells\":{\"fill\":{\"color\":\"#EBF0F8\"},\"line\":{\"color\":\"white\"}},\"header\":{\"fill\":{\"color\":\"#C8D4E3\"},\"line\":{\"color\":\"white\"}},\"type\":\"table\"}],\"barpolar\":[{\"marker\":{\"line\":{\"color\":\"#E5ECF6\",\"width\":0.5},\"pattern\":{\"fillmode\":\"overlay\",\"size\":10,\"solidity\":0.2}},\"type\":\"barpolar\"}],\"pie\":[{\"automargin\":true,\"type\":\"pie\"}]},\"layout\":{\"autotypenumbers\":\"strict\",\"colorway\":[\"#636efa\",\"#EF553B\",\"#00cc96\",\"#ab63fa\",\"#FFA15A\",\"#19d3f3\",\"#FF6692\",\"#B6E880\",\"#FF97FF\",\"#FECB52\"],\"font\":{\"color\":\"#2a3f5f\"},\"hovermode\":\"closest\",\"hoverlabel\":{\"align\":\"left\"},\"paper_bgcolor\":\"white\",\"plot_bgcolor\":\"#E5ECF6\",\"polar\":{\"bgcolor\":\"#E5ECF6\",\"angularaxis\":{\"gridcolor\":\"white\",\"linecolor\":\"white\",\"ticks\":\"\"},\"radialaxis\":{\"gridcolor\":\"white\",\"linecolor\":\"white\",\"ticks\":\"\"}},\"ternary\":{\"bgcolor\":\"#E5ECF6\",\"aaxis\":{\"gridcolor\":\"white\",\"linecolor\":\"white\",\"ticks\":\"\"},\"baxis\":{\"gridcolor\":\"white\",\"linecolor\":\"white\",\"ticks\":\"\"},\"caxis\":{\"gridcolor\":\"white\",\"linecolor\":\"white\",\"ticks\":\"\"}},\"coloraxis\":{\"colorbar\":{\"outlinewidth\":0,\"ticks\":\"\"}},\"colorscale\":{\"sequential\":[[0.0,\"#0d0887\"],[0.1111111111111111,\"#46039f\"],[0.2222222222222222,\"#7201a8\"],[0.3333333333333333,\"#9c179e\"],[0.4444444444444444,\"#bd3786\"],[0.5555555555555556,\"#d8576b\"],[0.6666666666666666,\"#ed7953\"],[0.7777777777777778,\"#fb9f3a\"],[0.8888888888888888,\"#fdca26\"],[1.0,\"#f0f921\"]],\"sequentialminus\":[[0.0,\"#0d0887\"],[0.1111111111111111,\"#46039f\"],[0.2222222222222222,\"#7201a8\"],[0.3333333333333333,\"#9c179e\"],[0.4444444444444444,\"#bd3786\"],[0.5555555555555556,\"#d8576b\"],[0.6666666666666666,\"#ed7953\"],[0.7777777777777778,\"#fb9f3a\"],[0.8888888888888888,\"#fdca26\"],[1.0,\"#f0f921\"]],\"diverging\":[[0,\"#8e0152\"],[0.1,\"#c51b7d\"],[0.2,\"#de77ae\"],[0.3,\"#f1b6da\"],[0.4,\"#fde0ef\"],[0.5,\"#f7f7f7\"],[0.6,\"#e6f5d0\"],[0.7,\"#b8e186\"],[0.8,\"#7fbc41\"],[0.9,\"#4d9221\"],[1,\"#276419\"]]},\"xaxis\":{\"gridcolor\":\"white\",\"linecolor\":\"white\",\"ticks\":\"\",\"title\":{\"standoff\":15},\"zerolinecolor\":\"white\",\"automargin\":true,\"zerolinewidth\":2},\"yaxis\":{\"gridcolor\":\"white\",\"linecolor\":\"white\",\"ticks\":\"\",\"title\":{\"standoff\":15},\"zerolinecolor\":\"white\",\"automargin\":true,\"zerolinewidth\":2},\"scene\":{\"xaxis\":{\"backgroundcolor\":\"#E5ECF6\",\"gridcolor\":\"white\",\"linecolor\":\"white\",\"showbackground\":true,\"ticks\":\"\",\"zerolinecolor\":\"white\",\"gridwidth\":2},\"yaxis\":{\"backgroundcolor\":\"#E5ECF6\",\"gridcolor\":\"white\",\"linecolor\":\"white\",\"showbackground\":true,\"ticks\":\"\",\"zerolinecolor\":\"white\",\"gridwidth\":2},\"zaxis\":{\"backgroundcolor\":\"#E5ECF6\",\"gridcolor\":\"white\",\"linecolor\":\"white\",\"showbackground\":true,\"ticks\":\"\",\"zerolinecolor\":\"white\",\"gridwidth\":2}},\"shapedefaults\":{\"line\":{\"color\":\"#2a3f5f\"}},\"annotationdefaults\":{\"arrowcolor\":\"#2a3f5f\",\"arrowhead\":0,\"arrowwidth\":1},\"geo\":{\"bgcolor\":\"white\",\"landcolor\":\"#E5ECF6\",\"subunitcolor\":\"white\",\"showland\":true,\"showlakes\":true,\"lakecolor\":\"white\"},\"title\":{\"x\":0.05},\"mapbox\":{\"style\":\"light\"}}},\"title\":{\"text\":\"Real Price for Different Products\"},\"xaxis\":{\"title\":{\"text\":\"Products\"}},\"yaxis\":{\"title\":{\"text\":\"Real Price\"}},\"width\":800,\"height\":600},                        {\"responsive\": true}                    ).then(function(){\n",
       "                            \n",
       "var gd = document.getElementById('32a97f09-c578-4d59-bd1f-4695c0bef77d');\n",
       "var x = new MutationObserver(function (mutations, observer) {{\n",
       "        var display = window.getComputedStyle(gd).display;\n",
       "        if (!display || display === 'none') {{\n",
       "            console.log([gd, 'removed!']);\n",
       "            Plotly.purge(gd);\n",
       "            observer.disconnect();\n",
       "        }}\n",
       "}});\n",
       "\n",
       "// Listen for the removal of the full notebook cells\n",
       "var notebookContainer = gd.closest('#notebook-container');\n",
       "if (notebookContainer) {{\n",
       "    x.observe(notebookContainer, {childList: true});\n",
       "}}\n",
       "\n",
       "// Listen for the clearing of the current output cell\n",
       "var outputEl = gd.closest('.output');\n",
       "if (outputEl) {{\n",
       "    x.observe(outputEl, {childList: true});\n",
       "}}\n",
       "\n",
       "                        })                };                });            </script>        </div>"
      ]
     },
     "metadata": {},
     "output_type": "display_data"
    }
   ],
   "source": [
    "import pandas as pd\n",
    "import plotly.graph_objs as go\n",
    "import plotly.io as pio\n",
    "\n",
    "# Load data from Excel file\n",
    "df = pd.read_excel('front products.xlsx')\n",
    "\n",
    "# Filter columns containing product names and real prices\n",
    "product_cols = [col for col in df.columns if 'product' in col.lower()]\n",
    "price_cols = [col for col in df.columns if 'real price' in col.lower()]\n",
    "\n",
    "# Extract product names and real prices\n",
    "products = []\n",
    "prices = []\n",
    "for product_col, price_col in zip(product_cols, price_cols):\n",
    "    products.extend(df[product_col].dropna())\n",
    "    prices.extend(df[price_col].dropna())\n",
    "\n",
    "# Create a new DataFrame with the cleaned data\n",
    "cleaned_df = pd.DataFrame({'Product': products, 'Real Price': prices})\n",
    "\n",
    "# Create a bar graph\n",
    "fig = go.Figure()\n",
    "\n",
    "# Add bar trace for real price\n",
    "fig.add_trace(go.Bar(\n",
    "    x=cleaned_df['Product'],\n",
    "    y=cleaned_df['Real Price'],\n",
    "    name='Real Price',\n",
    "    marker=dict(color='rgb(55, 83, 109)')\n",
    "))\n",
    "\n",
    "# Update layout\n",
    "fig.update_layout(\n",
    "    title='Real Price for Different Products',\n",
    "    xaxis_title='Products',\n",
    "    yaxis_title='Real Price',\n",
    "    width=800,  # Adjust width as needed\n",
    "    height=600,  # Adjust height as needed\n",
    ")\n",
    "\n",
    "# Show the plot\n",
    "pio.show(fig)\n"
   ]
  },
  {
   "cell_type": "code",
   "execution_count": 28,
   "id": "709f32aa",
   "metadata": {
    "scrolled": true
   },
   "outputs": [
    {
     "data": {
      "application/vnd.plotly.v1+json": {
       "config": {
        "plotlyServerURL": "https://plot.ly"
       },
       "data": [
        {
         "marker": {
          "color": "rgb(55, 83, 109)"
         },
         "name": "Real Price",
         "type": "bar",
         "x": [
          0,
          1,
          2,
          3,
          4,
          5,
          6,
          7,
          8,
          9,
          10,
          11,
          12,
          13,
          14,
          15,
          16,
          17,
          18,
          19,
          20,
          21,
          22,
          23,
          24,
          25,
          26,
          27,
          28,
          29,
          30,
          31,
          32,
          33,
          34,
          35,
          36,
          37,
          38,
          39,
          40,
          41,
          42,
          43,
          44,
          45,
          46,
          47,
          48,
          49,
          50,
          51,
          52,
          53,
          54,
          55,
          56,
          57,
          58,
          59,
          60,
          61,
          62,
          63,
          64,
          65,
          66,
          67,
          68,
          69,
          70,
          71,
          72,
          73,
          74,
          75,
          76,
          77,
          78,
          79,
          80,
          81,
          82,
          83,
          84,
          85,
          86
         ],
         "y": [
          "149",
          "488",
          "1,399",
          "1,749",
          "319",
          "499",
          "1,575",
          "499",
          "999",
          "2,499",
          "619",
          "429",
          "430",
          "319",
          "947",
          "748",
          "550",
          "320",
          "999",
          "1,799",
          "269",
          "399",
          "349",
          "1,250",
          "2,901",
          "449",
          "341",
          "118",
          "415",
          "199",
          "450",
          "299",
          "107",
          "4,573",
          "899",
          "1,399",
          "279",
          "550",
          "749",
          "975",
          "2,842",
          "449",
          "315",
          "375",
          "299",
          "249",
          "999",
          "289",
          "840",
          "1,029",
          "199",
          "1,298",
          "242",
          "125",
          "335",
          "120",
          "797",
          "160",
          "280",
          "335",
          "2,992",
          "356",
          "509",
          "497",
          "1,099",
          "345",
          "271",
          "999",
          "228",
          "2,777",
          "949",
          "4,388",
          "2,128",
          "599",
          "299",
          "268",
          "799",
          "179",
          "6,455",
          "215",
          "1,585",
          "4,100",
          "499",
          "79",
          "115",
          "279",
          "1,999"
         ]
        }
       ],
       "layout": {
        "height": 600,
        "template": {
         "data": {
          "bar": [
           {
            "error_x": {
             "color": "#2a3f5f"
            },
            "error_y": {
             "color": "#2a3f5f"
            },
            "marker": {
             "line": {
              "color": "#E5ECF6",
              "width": 0.5
             },
             "pattern": {
              "fillmode": "overlay",
              "size": 10,
              "solidity": 0.2
             }
            },
            "type": "bar"
           }
          ],
          "barpolar": [
           {
            "marker": {
             "line": {
              "color": "#E5ECF6",
              "width": 0.5
             },
             "pattern": {
              "fillmode": "overlay",
              "size": 10,
              "solidity": 0.2
             }
            },
            "type": "barpolar"
           }
          ],
          "carpet": [
           {
            "aaxis": {
             "endlinecolor": "#2a3f5f",
             "gridcolor": "white",
             "linecolor": "white",
             "minorgridcolor": "white",
             "startlinecolor": "#2a3f5f"
            },
            "baxis": {
             "endlinecolor": "#2a3f5f",
             "gridcolor": "white",
             "linecolor": "white",
             "minorgridcolor": "white",
             "startlinecolor": "#2a3f5f"
            },
            "type": "carpet"
           }
          ],
          "choropleth": [
           {
            "colorbar": {
             "outlinewidth": 0,
             "ticks": ""
            },
            "type": "choropleth"
           }
          ],
          "contour": [
           {
            "colorbar": {
             "outlinewidth": 0,
             "ticks": ""
            },
            "colorscale": [
             [
              0,
              "#0d0887"
             ],
             [
              0.1111111111111111,
              "#46039f"
             ],
             [
              0.2222222222222222,
              "#7201a8"
             ],
             [
              0.3333333333333333,
              "#9c179e"
             ],
             [
              0.4444444444444444,
              "#bd3786"
             ],
             [
              0.5555555555555556,
              "#d8576b"
             ],
             [
              0.6666666666666666,
              "#ed7953"
             ],
             [
              0.7777777777777778,
              "#fb9f3a"
             ],
             [
              0.8888888888888888,
              "#fdca26"
             ],
             [
              1,
              "#f0f921"
             ]
            ],
            "type": "contour"
           }
          ],
          "contourcarpet": [
           {
            "colorbar": {
             "outlinewidth": 0,
             "ticks": ""
            },
            "type": "contourcarpet"
           }
          ],
          "heatmap": [
           {
            "colorbar": {
             "outlinewidth": 0,
             "ticks": ""
            },
            "colorscale": [
             [
              0,
              "#0d0887"
             ],
             [
              0.1111111111111111,
              "#46039f"
             ],
             [
              0.2222222222222222,
              "#7201a8"
             ],
             [
              0.3333333333333333,
              "#9c179e"
             ],
             [
              0.4444444444444444,
              "#bd3786"
             ],
             [
              0.5555555555555556,
              "#d8576b"
             ],
             [
              0.6666666666666666,
              "#ed7953"
             ],
             [
              0.7777777777777778,
              "#fb9f3a"
             ],
             [
              0.8888888888888888,
              "#fdca26"
             ],
             [
              1,
              "#f0f921"
             ]
            ],
            "type": "heatmap"
           }
          ],
          "heatmapgl": [
           {
            "colorbar": {
             "outlinewidth": 0,
             "ticks": ""
            },
            "colorscale": [
             [
              0,
              "#0d0887"
             ],
             [
              0.1111111111111111,
              "#46039f"
             ],
             [
              0.2222222222222222,
              "#7201a8"
             ],
             [
              0.3333333333333333,
              "#9c179e"
             ],
             [
              0.4444444444444444,
              "#bd3786"
             ],
             [
              0.5555555555555556,
              "#d8576b"
             ],
             [
              0.6666666666666666,
              "#ed7953"
             ],
             [
              0.7777777777777778,
              "#fb9f3a"
             ],
             [
              0.8888888888888888,
              "#fdca26"
             ],
             [
              1,
              "#f0f921"
             ]
            ],
            "type": "heatmapgl"
           }
          ],
          "histogram": [
           {
            "marker": {
             "pattern": {
              "fillmode": "overlay",
              "size": 10,
              "solidity": 0.2
             }
            },
            "type": "histogram"
           }
          ],
          "histogram2d": [
           {
            "colorbar": {
             "outlinewidth": 0,
             "ticks": ""
            },
            "colorscale": [
             [
              0,
              "#0d0887"
             ],
             [
              0.1111111111111111,
              "#46039f"
             ],
             [
              0.2222222222222222,
              "#7201a8"
             ],
             [
              0.3333333333333333,
              "#9c179e"
             ],
             [
              0.4444444444444444,
              "#bd3786"
             ],
             [
              0.5555555555555556,
              "#d8576b"
             ],
             [
              0.6666666666666666,
              "#ed7953"
             ],
             [
              0.7777777777777778,
              "#fb9f3a"
             ],
             [
              0.8888888888888888,
              "#fdca26"
             ],
             [
              1,
              "#f0f921"
             ]
            ],
            "type": "histogram2d"
           }
          ],
          "histogram2dcontour": [
           {
            "colorbar": {
             "outlinewidth": 0,
             "ticks": ""
            },
            "colorscale": [
             [
              0,
              "#0d0887"
             ],
             [
              0.1111111111111111,
              "#46039f"
             ],
             [
              0.2222222222222222,
              "#7201a8"
             ],
             [
              0.3333333333333333,
              "#9c179e"
             ],
             [
              0.4444444444444444,
              "#bd3786"
             ],
             [
              0.5555555555555556,
              "#d8576b"
             ],
             [
              0.6666666666666666,
              "#ed7953"
             ],
             [
              0.7777777777777778,
              "#fb9f3a"
             ],
             [
              0.8888888888888888,
              "#fdca26"
             ],
             [
              1,
              "#f0f921"
             ]
            ],
            "type": "histogram2dcontour"
           }
          ],
          "mesh3d": [
           {
            "colorbar": {
             "outlinewidth": 0,
             "ticks": ""
            },
            "type": "mesh3d"
           }
          ],
          "parcoords": [
           {
            "line": {
             "colorbar": {
              "outlinewidth": 0,
              "ticks": ""
             }
            },
            "type": "parcoords"
           }
          ],
          "pie": [
           {
            "automargin": true,
            "type": "pie"
           }
          ],
          "scatter": [
           {
            "fillpattern": {
             "fillmode": "overlay",
             "size": 10,
             "solidity": 0.2
            },
            "type": "scatter"
           }
          ],
          "scatter3d": [
           {
            "line": {
             "colorbar": {
              "outlinewidth": 0,
              "ticks": ""
             }
            },
            "marker": {
             "colorbar": {
              "outlinewidth": 0,
              "ticks": ""
             }
            },
            "type": "scatter3d"
           }
          ],
          "scattercarpet": [
           {
            "marker": {
             "colorbar": {
              "outlinewidth": 0,
              "ticks": ""
             }
            },
            "type": "scattercarpet"
           }
          ],
          "scattergeo": [
           {
            "marker": {
             "colorbar": {
              "outlinewidth": 0,
              "ticks": ""
             }
            },
            "type": "scattergeo"
           }
          ],
          "scattergl": [
           {
            "marker": {
             "colorbar": {
              "outlinewidth": 0,
              "ticks": ""
             }
            },
            "type": "scattergl"
           }
          ],
          "scattermapbox": [
           {
            "marker": {
             "colorbar": {
              "outlinewidth": 0,
              "ticks": ""
             }
            },
            "type": "scattermapbox"
           }
          ],
          "scatterpolar": [
           {
            "marker": {
             "colorbar": {
              "outlinewidth": 0,
              "ticks": ""
             }
            },
            "type": "scatterpolar"
           }
          ],
          "scatterpolargl": [
           {
            "marker": {
             "colorbar": {
              "outlinewidth": 0,
              "ticks": ""
             }
            },
            "type": "scatterpolargl"
           }
          ],
          "scatterternary": [
           {
            "marker": {
             "colorbar": {
              "outlinewidth": 0,
              "ticks": ""
             }
            },
            "type": "scatterternary"
           }
          ],
          "surface": [
           {
            "colorbar": {
             "outlinewidth": 0,
             "ticks": ""
            },
            "colorscale": [
             [
              0,
              "#0d0887"
             ],
             [
              0.1111111111111111,
              "#46039f"
             ],
             [
              0.2222222222222222,
              "#7201a8"
             ],
             [
              0.3333333333333333,
              "#9c179e"
             ],
             [
              0.4444444444444444,
              "#bd3786"
             ],
             [
              0.5555555555555556,
              "#d8576b"
             ],
             [
              0.6666666666666666,
              "#ed7953"
             ],
             [
              0.7777777777777778,
              "#fb9f3a"
             ],
             [
              0.8888888888888888,
              "#fdca26"
             ],
             [
              1,
              "#f0f921"
             ]
            ],
            "type": "surface"
           }
          ],
          "table": [
           {
            "cells": {
             "fill": {
              "color": "#EBF0F8"
             },
             "line": {
              "color": "white"
             }
            },
            "header": {
             "fill": {
              "color": "#C8D4E3"
             },
             "line": {
              "color": "white"
             }
            },
            "type": "table"
           }
          ]
         },
         "layout": {
          "annotationdefaults": {
           "arrowcolor": "#2a3f5f",
           "arrowhead": 0,
           "arrowwidth": 1
          },
          "autotypenumbers": "strict",
          "coloraxis": {
           "colorbar": {
            "outlinewidth": 0,
            "ticks": ""
           }
          },
          "colorscale": {
           "diverging": [
            [
             0,
             "#8e0152"
            ],
            [
             0.1,
             "#c51b7d"
            ],
            [
             0.2,
             "#de77ae"
            ],
            [
             0.3,
             "#f1b6da"
            ],
            [
             0.4,
             "#fde0ef"
            ],
            [
             0.5,
             "#f7f7f7"
            ],
            [
             0.6,
             "#e6f5d0"
            ],
            [
             0.7,
             "#b8e186"
            ],
            [
             0.8,
             "#7fbc41"
            ],
            [
             0.9,
             "#4d9221"
            ],
            [
             1,
             "#276419"
            ]
           ],
           "sequential": [
            [
             0,
             "#0d0887"
            ],
            [
             0.1111111111111111,
             "#46039f"
            ],
            [
             0.2222222222222222,
             "#7201a8"
            ],
            [
             0.3333333333333333,
             "#9c179e"
            ],
            [
             0.4444444444444444,
             "#bd3786"
            ],
            [
             0.5555555555555556,
             "#d8576b"
            ],
            [
             0.6666666666666666,
             "#ed7953"
            ],
            [
             0.7777777777777778,
             "#fb9f3a"
            ],
            [
             0.8888888888888888,
             "#fdca26"
            ],
            [
             1,
             "#f0f921"
            ]
           ],
           "sequentialminus": [
            [
             0,
             "#0d0887"
            ],
            [
             0.1111111111111111,
             "#46039f"
            ],
            [
             0.2222222222222222,
             "#7201a8"
            ],
            [
             0.3333333333333333,
             "#9c179e"
            ],
            [
             0.4444444444444444,
             "#bd3786"
            ],
            [
             0.5555555555555556,
             "#d8576b"
            ],
            [
             0.6666666666666666,
             "#ed7953"
            ],
            [
             0.7777777777777778,
             "#fb9f3a"
            ],
            [
             0.8888888888888888,
             "#fdca26"
            ],
            [
             1,
             "#f0f921"
            ]
           ]
          },
          "colorway": [
           "#636efa",
           "#EF553B",
           "#00cc96",
           "#ab63fa",
           "#FFA15A",
           "#19d3f3",
           "#FF6692",
           "#B6E880",
           "#FF97FF",
           "#FECB52"
          ],
          "font": {
           "color": "#2a3f5f"
          },
          "geo": {
           "bgcolor": "white",
           "lakecolor": "white",
           "landcolor": "#E5ECF6",
           "showlakes": true,
           "showland": true,
           "subunitcolor": "white"
          },
          "hoverlabel": {
           "align": "left"
          },
          "hovermode": "closest",
          "mapbox": {
           "style": "light"
          },
          "paper_bgcolor": "white",
          "plot_bgcolor": "#E5ECF6",
          "polar": {
           "angularaxis": {
            "gridcolor": "white",
            "linecolor": "white",
            "ticks": ""
           },
           "bgcolor": "#E5ECF6",
           "radialaxis": {
            "gridcolor": "white",
            "linecolor": "white",
            "ticks": ""
           }
          },
          "scene": {
           "xaxis": {
            "backgroundcolor": "#E5ECF6",
            "gridcolor": "white",
            "gridwidth": 2,
            "linecolor": "white",
            "showbackground": true,
            "ticks": "",
            "zerolinecolor": "white"
           },
           "yaxis": {
            "backgroundcolor": "#E5ECF6",
            "gridcolor": "white",
            "gridwidth": 2,
            "linecolor": "white",
            "showbackground": true,
            "ticks": "",
            "zerolinecolor": "white"
           },
           "zaxis": {
            "backgroundcolor": "#E5ECF6",
            "gridcolor": "white",
            "gridwidth": 2,
            "linecolor": "white",
            "showbackground": true,
            "ticks": "",
            "zerolinecolor": "white"
           }
          },
          "shapedefaults": {
           "line": {
            "color": "#2a3f5f"
           }
          },
          "ternary": {
           "aaxis": {
            "gridcolor": "white",
            "linecolor": "white",
            "ticks": ""
           },
           "baxis": {
            "gridcolor": "white",
            "linecolor": "white",
            "ticks": ""
           },
           "bgcolor": "#E5ECF6",
           "caxis": {
            "gridcolor": "white",
            "linecolor": "white",
            "ticks": ""
           }
          },
          "title": {
           "x": 0.05
          },
          "xaxis": {
           "automargin": true,
           "gridcolor": "white",
           "linecolor": "white",
           "ticks": "",
           "title": {
            "standoff": 15
           },
           "zerolinecolor": "white",
           "zerolinewidth": 2
          },
          "yaxis": {
           "automargin": true,
           "gridcolor": "white",
           "linecolor": "white",
           "ticks": "",
           "title": {
            "standoff": 15
           },
           "zerolinecolor": "white",
           "zerolinewidth": 2
          }
         }
        },
        "title": {
         "text": "Real Price for Different Products"
        },
        "width": 800,
        "xaxis": {
         "tickvals": [],
         "title": {
          "text": "Products"
         }
        },
        "yaxis": {
         "title": {
          "text": "Real Price"
         }
        }
       }
      },
      "text/html": [
       "<div>                            <div id=\"d366eb52-7a6b-4c30-ad44-70b3beb02042\" class=\"plotly-graph-div\" style=\"height:600px; width:800px;\"></div>            <script type=\"text/javascript\">                require([\"plotly\"], function(Plotly) {                    window.PLOTLYENV=window.PLOTLYENV || {};                                    if (document.getElementById(\"d366eb52-7a6b-4c30-ad44-70b3beb02042\")) {                    Plotly.newPlot(                        \"d366eb52-7a6b-4c30-ad44-70b3beb02042\",                        [{\"marker\":{\"color\":\"rgb(55, 83, 109)\"},\"name\":\"Real Price\",\"x\":[0,1,2,3,4,5,6,7,8,9,10,11,12,13,14,15,16,17,18,19,20,21,22,23,24,25,26,27,28,29,30,31,32,33,34,35,36,37,38,39,40,41,42,43,44,45,46,47,48,49,50,51,52,53,54,55,56,57,58,59,60,61,62,63,64,65,66,67,68,69,70,71,72,73,74,75,76,77,78,79,80,81,82,83,84,85,86],\"y\":[\"149\",\"488\",\"1,399\",\"1,749\",\"319\",\"499\",\"1,575\",\"499\",\"999\",\"2,499\",\"619\",\"429\",\"430\",\"319\",\"947\",\"748\",\"550\",\"320\",\"999\",\"1,799\",\"269\",\"399\",\"349\",\"1,250\",\"2,901\",\"449\",\"341\",\"118\",\"415\",\"199\",\"450\",\"299\",\"107\",\"4,573\",\"899\",\"1,399\",\"279\",\"550\",\"749\",\"975\",\"2,842\",\"449\",\"315\",\"375\",\"299\",\"249\",\"999\",\"289\",\"840\",\"1,029\",\"199\",\"1,298\",\"242\",\"125\",\"335\",\"120\",\"797\",\"160\",\"280\",\"335\",\"2,992\",\"356\",\"509\",\"497\",\"1,099\",\"345\",\"271\",\"999\",\"228\",\"2,777\",\"949\",\"4,388\",\"2,128\",\"599\",\"299\",\"268\",\"799\",\"179\",\"6,455\",\"215\",\"1,585\",\"4,100\",\"499\",\"79\",\"115\",\"279\",\"1,999\"],\"type\":\"bar\"}],                        {\"template\":{\"data\":{\"histogram2dcontour\":[{\"type\":\"histogram2dcontour\",\"colorbar\":{\"outlinewidth\":0,\"ticks\":\"\"},\"colorscale\":[[0.0,\"#0d0887\"],[0.1111111111111111,\"#46039f\"],[0.2222222222222222,\"#7201a8\"],[0.3333333333333333,\"#9c179e\"],[0.4444444444444444,\"#bd3786\"],[0.5555555555555556,\"#d8576b\"],[0.6666666666666666,\"#ed7953\"],[0.7777777777777778,\"#fb9f3a\"],[0.8888888888888888,\"#fdca26\"],[1.0,\"#f0f921\"]]}],\"choropleth\":[{\"type\":\"choropleth\",\"colorbar\":{\"outlinewidth\":0,\"ticks\":\"\"}}],\"histogram2d\":[{\"type\":\"histogram2d\",\"colorbar\":{\"outlinewidth\":0,\"ticks\":\"\"},\"colorscale\":[[0.0,\"#0d0887\"],[0.1111111111111111,\"#46039f\"],[0.2222222222222222,\"#7201a8\"],[0.3333333333333333,\"#9c179e\"],[0.4444444444444444,\"#bd3786\"],[0.5555555555555556,\"#d8576b\"],[0.6666666666666666,\"#ed7953\"],[0.7777777777777778,\"#fb9f3a\"],[0.8888888888888888,\"#fdca26\"],[1.0,\"#f0f921\"]]}],\"heatmap\":[{\"type\":\"heatmap\",\"colorbar\":{\"outlinewidth\":0,\"ticks\":\"\"},\"colorscale\":[[0.0,\"#0d0887\"],[0.1111111111111111,\"#46039f\"],[0.2222222222222222,\"#7201a8\"],[0.3333333333333333,\"#9c179e\"],[0.4444444444444444,\"#bd3786\"],[0.5555555555555556,\"#d8576b\"],[0.6666666666666666,\"#ed7953\"],[0.7777777777777778,\"#fb9f3a\"],[0.8888888888888888,\"#fdca26\"],[1.0,\"#f0f921\"]]}],\"heatmapgl\":[{\"type\":\"heatmapgl\",\"colorbar\":{\"outlinewidth\":0,\"ticks\":\"\"},\"colorscale\":[[0.0,\"#0d0887\"],[0.1111111111111111,\"#46039f\"],[0.2222222222222222,\"#7201a8\"],[0.3333333333333333,\"#9c179e\"],[0.4444444444444444,\"#bd3786\"],[0.5555555555555556,\"#d8576b\"],[0.6666666666666666,\"#ed7953\"],[0.7777777777777778,\"#fb9f3a\"],[0.8888888888888888,\"#fdca26\"],[1.0,\"#f0f921\"]]}],\"contourcarpet\":[{\"type\":\"contourcarpet\",\"colorbar\":{\"outlinewidth\":0,\"ticks\":\"\"}}],\"contour\":[{\"type\":\"contour\",\"colorbar\":{\"outlinewidth\":0,\"ticks\":\"\"},\"colorscale\":[[0.0,\"#0d0887\"],[0.1111111111111111,\"#46039f\"],[0.2222222222222222,\"#7201a8\"],[0.3333333333333333,\"#9c179e\"],[0.4444444444444444,\"#bd3786\"],[0.5555555555555556,\"#d8576b\"],[0.6666666666666666,\"#ed7953\"],[0.7777777777777778,\"#fb9f3a\"],[0.8888888888888888,\"#fdca26\"],[1.0,\"#f0f921\"]]}],\"surface\":[{\"type\":\"surface\",\"colorbar\":{\"outlinewidth\":0,\"ticks\":\"\"},\"colorscale\":[[0.0,\"#0d0887\"],[0.1111111111111111,\"#46039f\"],[0.2222222222222222,\"#7201a8\"],[0.3333333333333333,\"#9c179e\"],[0.4444444444444444,\"#bd3786\"],[0.5555555555555556,\"#d8576b\"],[0.6666666666666666,\"#ed7953\"],[0.7777777777777778,\"#fb9f3a\"],[0.8888888888888888,\"#fdca26\"],[1.0,\"#f0f921\"]]}],\"mesh3d\":[{\"type\":\"mesh3d\",\"colorbar\":{\"outlinewidth\":0,\"ticks\":\"\"}}],\"scatter\":[{\"fillpattern\":{\"fillmode\":\"overlay\",\"size\":10,\"solidity\":0.2},\"type\":\"scatter\"}],\"parcoords\":[{\"type\":\"parcoords\",\"line\":{\"colorbar\":{\"outlinewidth\":0,\"ticks\":\"\"}}}],\"scatterpolargl\":[{\"type\":\"scatterpolargl\",\"marker\":{\"colorbar\":{\"outlinewidth\":0,\"ticks\":\"\"}}}],\"bar\":[{\"error_x\":{\"color\":\"#2a3f5f\"},\"error_y\":{\"color\":\"#2a3f5f\"},\"marker\":{\"line\":{\"color\":\"#E5ECF6\",\"width\":0.5},\"pattern\":{\"fillmode\":\"overlay\",\"size\":10,\"solidity\":0.2}},\"type\":\"bar\"}],\"scattergeo\":[{\"type\":\"scattergeo\",\"marker\":{\"colorbar\":{\"outlinewidth\":0,\"ticks\":\"\"}}}],\"scatterpolar\":[{\"type\":\"scatterpolar\",\"marker\":{\"colorbar\":{\"outlinewidth\":0,\"ticks\":\"\"}}}],\"histogram\":[{\"marker\":{\"pattern\":{\"fillmode\":\"overlay\",\"size\":10,\"solidity\":0.2}},\"type\":\"histogram\"}],\"scattergl\":[{\"type\":\"scattergl\",\"marker\":{\"colorbar\":{\"outlinewidth\":0,\"ticks\":\"\"}}}],\"scatter3d\":[{\"type\":\"scatter3d\",\"line\":{\"colorbar\":{\"outlinewidth\":0,\"ticks\":\"\"}},\"marker\":{\"colorbar\":{\"outlinewidth\":0,\"ticks\":\"\"}}}],\"scattermapbox\":[{\"type\":\"scattermapbox\",\"marker\":{\"colorbar\":{\"outlinewidth\":0,\"ticks\":\"\"}}}],\"scatterternary\":[{\"type\":\"scatterternary\",\"marker\":{\"colorbar\":{\"outlinewidth\":0,\"ticks\":\"\"}}}],\"scattercarpet\":[{\"type\":\"scattercarpet\",\"marker\":{\"colorbar\":{\"outlinewidth\":0,\"ticks\":\"\"}}}],\"carpet\":[{\"aaxis\":{\"endlinecolor\":\"#2a3f5f\",\"gridcolor\":\"white\",\"linecolor\":\"white\",\"minorgridcolor\":\"white\",\"startlinecolor\":\"#2a3f5f\"},\"baxis\":{\"endlinecolor\":\"#2a3f5f\",\"gridcolor\":\"white\",\"linecolor\":\"white\",\"minorgridcolor\":\"white\",\"startlinecolor\":\"#2a3f5f\"},\"type\":\"carpet\"}],\"table\":[{\"cells\":{\"fill\":{\"color\":\"#EBF0F8\"},\"line\":{\"color\":\"white\"}},\"header\":{\"fill\":{\"color\":\"#C8D4E3\"},\"line\":{\"color\":\"white\"}},\"type\":\"table\"}],\"barpolar\":[{\"marker\":{\"line\":{\"color\":\"#E5ECF6\",\"width\":0.5},\"pattern\":{\"fillmode\":\"overlay\",\"size\":10,\"solidity\":0.2}},\"type\":\"barpolar\"}],\"pie\":[{\"automargin\":true,\"type\":\"pie\"}]},\"layout\":{\"autotypenumbers\":\"strict\",\"colorway\":[\"#636efa\",\"#EF553B\",\"#00cc96\",\"#ab63fa\",\"#FFA15A\",\"#19d3f3\",\"#FF6692\",\"#B6E880\",\"#FF97FF\",\"#FECB52\"],\"font\":{\"color\":\"#2a3f5f\"},\"hovermode\":\"closest\",\"hoverlabel\":{\"align\":\"left\"},\"paper_bgcolor\":\"white\",\"plot_bgcolor\":\"#E5ECF6\",\"polar\":{\"bgcolor\":\"#E5ECF6\",\"angularaxis\":{\"gridcolor\":\"white\",\"linecolor\":\"white\",\"ticks\":\"\"},\"radialaxis\":{\"gridcolor\":\"white\",\"linecolor\":\"white\",\"ticks\":\"\"}},\"ternary\":{\"bgcolor\":\"#E5ECF6\",\"aaxis\":{\"gridcolor\":\"white\",\"linecolor\":\"white\",\"ticks\":\"\"},\"baxis\":{\"gridcolor\":\"white\",\"linecolor\":\"white\",\"ticks\":\"\"},\"caxis\":{\"gridcolor\":\"white\",\"linecolor\":\"white\",\"ticks\":\"\"}},\"coloraxis\":{\"colorbar\":{\"outlinewidth\":0,\"ticks\":\"\"}},\"colorscale\":{\"sequential\":[[0.0,\"#0d0887\"],[0.1111111111111111,\"#46039f\"],[0.2222222222222222,\"#7201a8\"],[0.3333333333333333,\"#9c179e\"],[0.4444444444444444,\"#bd3786\"],[0.5555555555555556,\"#d8576b\"],[0.6666666666666666,\"#ed7953\"],[0.7777777777777778,\"#fb9f3a\"],[0.8888888888888888,\"#fdca26\"],[1.0,\"#f0f921\"]],\"sequentialminus\":[[0.0,\"#0d0887\"],[0.1111111111111111,\"#46039f\"],[0.2222222222222222,\"#7201a8\"],[0.3333333333333333,\"#9c179e\"],[0.4444444444444444,\"#bd3786\"],[0.5555555555555556,\"#d8576b\"],[0.6666666666666666,\"#ed7953\"],[0.7777777777777778,\"#fb9f3a\"],[0.8888888888888888,\"#fdca26\"],[1.0,\"#f0f921\"]],\"diverging\":[[0,\"#8e0152\"],[0.1,\"#c51b7d\"],[0.2,\"#de77ae\"],[0.3,\"#f1b6da\"],[0.4,\"#fde0ef\"],[0.5,\"#f7f7f7\"],[0.6,\"#e6f5d0\"],[0.7,\"#b8e186\"],[0.8,\"#7fbc41\"],[0.9,\"#4d9221\"],[1,\"#276419\"]]},\"xaxis\":{\"gridcolor\":\"white\",\"linecolor\":\"white\",\"ticks\":\"\",\"title\":{\"standoff\":15},\"zerolinecolor\":\"white\",\"automargin\":true,\"zerolinewidth\":2},\"yaxis\":{\"gridcolor\":\"white\",\"linecolor\":\"white\",\"ticks\":\"\",\"title\":{\"standoff\":15},\"zerolinecolor\":\"white\",\"automargin\":true,\"zerolinewidth\":2},\"scene\":{\"xaxis\":{\"backgroundcolor\":\"#E5ECF6\",\"gridcolor\":\"white\",\"linecolor\":\"white\",\"showbackground\":true,\"ticks\":\"\",\"zerolinecolor\":\"white\",\"gridwidth\":2},\"yaxis\":{\"backgroundcolor\":\"#E5ECF6\",\"gridcolor\":\"white\",\"linecolor\":\"white\",\"showbackground\":true,\"ticks\":\"\",\"zerolinecolor\":\"white\",\"gridwidth\":2},\"zaxis\":{\"backgroundcolor\":\"#E5ECF6\",\"gridcolor\":\"white\",\"linecolor\":\"white\",\"showbackground\":true,\"ticks\":\"\",\"zerolinecolor\":\"white\",\"gridwidth\":2}},\"shapedefaults\":{\"line\":{\"color\":\"#2a3f5f\"}},\"annotationdefaults\":{\"arrowcolor\":\"#2a3f5f\",\"arrowhead\":0,\"arrowwidth\":1},\"geo\":{\"bgcolor\":\"white\",\"landcolor\":\"#E5ECF6\",\"subunitcolor\":\"white\",\"showland\":true,\"showlakes\":true,\"lakecolor\":\"white\"},\"title\":{\"x\":0.05},\"mapbox\":{\"style\":\"light\"}}},\"xaxis\":{\"title\":{\"text\":\"Products\"},\"tickvals\":[]},\"title\":{\"text\":\"Real Price for Different Products\"},\"yaxis\":{\"title\":{\"text\":\"Real Price\"}},\"width\":800,\"height\":600},                        {\"responsive\": true}                    ).then(function(){\n",
       "                            \n",
       "var gd = document.getElementById('d366eb52-7a6b-4c30-ad44-70b3beb02042');\n",
       "var x = new MutationObserver(function (mutations, observer) {{\n",
       "        var display = window.getComputedStyle(gd).display;\n",
       "        if (!display || display === 'none') {{\n",
       "            console.log([gd, 'removed!']);\n",
       "            Plotly.purge(gd);\n",
       "            observer.disconnect();\n",
       "        }}\n",
       "}});\n",
       "\n",
       "// Listen for the removal of the full notebook cells\n",
       "var notebookContainer = gd.closest('#notebook-container');\n",
       "if (notebookContainer) {{\n",
       "    x.observe(notebookContainer, {childList: true});\n",
       "}}\n",
       "\n",
       "// Listen for the clearing of the current output cell\n",
       "var outputEl = gd.closest('.output');\n",
       "if (outputEl) {{\n",
       "    x.observe(outputEl, {childList: true});\n",
       "}}\n",
       "\n",
       "                        })                };                });            </script>        </div>"
      ]
     },
     "metadata": {},
     "output_type": "display_data"
    }
   ],
   "source": [
    "import pandas as pd\n",
    "import plotly.graph_objs as go\n",
    "import plotly.io as pio\n",
    "\n",
    "# Load data from Excel file\n",
    "df = pd.read_excel('front products.xlsx')\n",
    "\n",
    "# Filter columns containing product names and real prices\n",
    "product_cols = [col for col in df.columns if 'product' in col.lower()]\n",
    "price_cols = [col for col in df.columns if 'real price' in col.lower()]\n",
    "\n",
    "# Extract product names and real prices\n",
    "products = []\n",
    "prices = []\n",
    "for product_col, price_col in zip(product_cols, price_cols):\n",
    "    products.extend(df[product_col].dropna())\n",
    "    prices.extend(df[price_col].dropna())\n",
    "\n",
    "# Create a new DataFrame with the cleaned data\n",
    "cleaned_df = pd.DataFrame({'Product': products, 'Real Price': prices})\n",
    "\n",
    "# Create a bar graph\n",
    "fig = go.Figure()\n",
    "\n",
    "# Add bar trace for real price\n",
    "fig.add_trace(go.Bar(\n",
    "    x=cleaned_df.index,  # Use index as x-values\n",
    "    y=cleaned_df['Real Price'],\n",
    "    name='Real Price',\n",
    "    marker=dict(color='rgb(55, 83, 109)')\n",
    "))\n",
    "\n",
    "# Update layout\n",
    "fig.update_layout(\n",
    "    title='Real Price for Different Products',\n",
    "    xaxis_title='Products',\n",
    "    yaxis_title='Real Price',\n",
    "    xaxis=dict(tickvals=[]),  # Remove tick values from x-axis\n",
    "    width=800,  # Adjust width as needed\n",
    "    height=600,  # Adjust height as needed\n",
    ")\n",
    "\n",
    "\n",
    "pio.show(fig)\n"
   ]
  },
  {
   "cell_type": "code",
   "execution_count": 31,
   "id": "5a12071f",
   "metadata": {},
   "outputs": [
    {
     "data": {
      "application/vnd.plotly.v1+json": {
       "config": {
        "plotlyServerURL": "https://plot.ly"
       },
       "data": [
        {
         "hoverinfo": "text",
         "marker": {
          "color": [
           "rgb(31, 119, 180)",
           "rgb(255, 127, 14)",
           "rgb(44, 160, 44)",
           "rgb(214, 39, 40)",
           "rgb(148, 103, 189)",
           "rgb(140, 86, 75)",
           "rgb(227, 119, 194)",
           "rgb(127, 127, 127)",
           "rgb(188, 189, 34)",
           "rgb(23, 190, 207)"
          ]
         },
         "name": "Real Price",
         "text": [
          "Wipers - Kitchen Shelf Cleaning Wiper - Windows/Mirror Cleaning Wiper",
          "Winter Cap and neck for Boy - Girls",
          "【Ready Stock+FREE Shipping+COD】Xiaomi Bluetooth 5.0 Earphones TWS Headphone True Wireless Earphone Touch Control Earbuds HiFi Stereo Sports Waterproof With Mic",
          "The Vintage Clothing Pack of 2 Hoodies For Men / Hoodies For Girls / Hoodies For Women Messi AW Allen Walker printed premium quality Hoodies For Men / Hoodies For Girls",
          "Beautious Eyebrow Stamp Shaping Kit, One Step Eyebrow Stamp Makeup with 3 Reusable Eyebrow Stencils and Eyebrow Pen Brushes Hairline Powder",
          "Original M10 & M19 & M28 M90 & i12 Double Wireless Bluetooth Hand Free with Power Bank Earphones White bluetooth ear phone for all cell phones use",
          "Stitched Heavy Embroidered Maxi with Koti (Separate Coaty) Party Wear Maxi Dresses For Women/Eid Collection/Wedding Dress For Women",
          "Winter Warm Thickening Wool Gloves Knitted Flip Fingerless Flexible Exposed Finger Thick Mittens for Men Women",
          "Multifunctional Portable Large Capacity Travel Cosmetic Bag with Handle Makeup Organizer Bag Storage Makeup Bag Waterproof PU Leather Travel Toiletry Bag for Women",
          "Stylish Printed Front Two Pocket Hooded Tracksuit For Men",
          "LOVE STYLE FONT NECKLACE, DOUBLE NAME NECKLACE, NAME LOCKET PERSONALIZED/CUSTOMIZED DESIGN NAME NECKLACE-(PERFECT GIFT TO SEND YOUR WIFE , FIANCE, HUSBAND, FATHER , OR ANY ONE)",
          "(Buy 1 Get 1 Free) New S10 Handsfree High Bass With Good Sound Quality",
          "Toiletry Bag Travel Cosmetic Bag, Shaving Kit, Grooming Makeup Bag Pouch for Men & Women, Black, GreyHigh Quality Toiletry Bag Men/Women travel Accessories with hanging option",
          "I7 Mini Bluetooth Headset Earbud Single Wireless Earphone With Mic Stereo For all phones",
          "Cool Sports Vacuum Flask Stainless Steel Water Bottle For School Kids",
          "Swetshirt And Pajama Trouser For Kids Baby Boys And Baby Girls Imported Comfy Winter Warm Tops Clothes Sets Dresses Outfit Jannat Store",
          "Silver Plating Couple Rings",
          "Zip card wallet Genuine Leather Minimalist Men's Purse Long Wallet For Men Bi Fold Simple Wallet Clasp Card Holder Wallet Small Wallet for Men and Boys - Slim and Smart Wallet Small Wallet for Men and Boys - Slim and Smart Wallet",
          "Men's Running Shoes Summer Mesh Genuine Breathable Mesh Shoes Casual Shoes Men Sports Shoes Size Breathable Sports Shoes Women Sneakers Sports Shoes Black Running Shoes",
          "Sogo Quartz Heater (JPN-94 / JPN-95)",
          "Beautious 4IN1 Super Skin Glowing Serum | 5% Niacinamide, 30% Vitamin C 10%, Vitamin E 10% & HA | 30 ml",
          "Girls Soft Half Finger Gloves Plush Fingerless Gloves",
          "Men Women Home Anti-slip Slipper Winter Warm Cotton House Indoor Slippers",
          "New Design 2 Piece Hand Bag With Small Carry Pouch & Long Strap",
          "A6s Bluetooth Earphones Tws In Ear Bluetooth 50 Running Sports Stereo Buttons With Microphone Wireless Headphones",
          "Beanie cap-Wool cap with neck warmer for men women| Winter cap for Unisex",
          "Hot Shaper Belt For Women Men Girls | Hot Shapper Belt For Hips Belly Fat Weight Loss Back Pain | Hot Shapers Slimming Belt Suana Sweat Belt Suit For Home Gym",
          "Infinix Hot 30 Back Rear Camera Protector 9H Gorilla Flexible Protection For Infinix Hot 30",
          "10Pcs Multi-function Spit Bone Dish Household Food Grade Plastic Spit Bone Dish Round Square Set Dining Table Garbage Plate",
          "Flowery Pore-Refining Treatment Gel (Niacinamide + Witch-hazel) - 50g",
          "caps for men cap winter cap songting cap and neck fleece benie cap warm cap garam hot",
          "Oud Collection - Arabic Perfumes Dirham_Men - Eau De Perfume - 100ml Long Lasting Frangrances",
          "Clothes Storage Bags Organizer Under Bed Storage , 43L, Grey",
          "Upgraded Version V5.2 Chip TWS G11 Wireless Outdoor Sports Wireless Headset Gaming Earbuds Esports Listening Music Universal",
          "Ladies Luxury Golden Fashion Watch For Women's Ladies Classical Edition Special Watch for Ladies And Girls",
          "Men's Running Shoes Men's Slip-on Shoes Tennis Walking Casual Shoes Black Gym Breathable Work Shoes fashion shoes sneakers for men",
          "Branded Watch For Men and Boys Latest Design Wrist Watches in Multicolor",
          "Sunaina Textile 3 Piece Malai Linen Printed Unstitched Winter Collection Fabric for Girls/Womens Sunaina Vol-34",
          "Original i12 Tws Touch Sensor Airpods_  m10 m28/ Earphones With Charging Case Dock For All Mobiles",
          "Cotton Satin Double Bedsheet Embroided",
          "5PCS Set Women Starry Sky Dial Watch Brand Design Female Clock Blue Leather Band Ladies Watches Simple Casual Womens WristWatch",
          "Home & Office Multipurpose Plastic Rack / Room Organizer Home & Office Multipurpose  Plastic Rack / Room Organizer /  Shoe Rack Brown Art # SS-SSRm01",
          "Fashion Women Hand Wrist Warmer Winter Fingerless Knitted Gloves Random colors",
          "Lifestyle Glory Heart Wooden Clock With Premium Light I The New Wooden Wall Clock Big Size I Wall Clock I Wooden Wall Clock I Wall clocks for bedroom I Wall Clocks for drawing room I Wooden Wall Clocks for bedroom",
          "Glorya Decor Qul Clock Wooden Islamic Calligraphy I The New Premium Wooden Wall Clock Light Big Size I Wall Clock Wooden Wall Clock I Wall clocks for bedroom I Quartz Watch DIY Design Decoration Piece for Home Decor I Offices and for Gift Items",
          "Wanter - 100Pcs / Square Almond Oval Coffin Shape Natural & Transparent Color Artificial Nails Kit Fakee Nails Acrylic Nails For Girls Beautiful Nails Falsee Nails",
          "Men's Running Shoes Men's Slip-on Shoes Tennis Walking Casual Shoes Black Gym Breathable Rubber Work Shoes fashin shoes",
          "Birds on Tree 3D Wooden DIY Wall Clock Numeral Quartz Watch Hanging Decoration Piece for Home Decor and Girls Room Bed Rooms and for Gifts Item",
          "Stitched Namaz chadar Prayer Shawl with Sleeves",
          "Flowers Printed Zipper For Women Girls Customized By aarwah Emaan",
          "Customize Ring With your name engraved On Ring",
          "Winter Zipper Jacket Trouser Tracksuit",
          "Soap Holder Premium Quality - Soap Dish - Soap Box - Bathroom Accessories Sets Washroom Friendly Products Bathroom Products Non-perforated Shell Shape Soap Holder",
          "Pack of 2 Black Titanium Finger Ring & Black Bar Chain For Man Woman",
          "OASIS BLUE Fashion Women Faux Rebbit Fur Hand Wrist Warmer Winter Fingerless Knitted Gloves",
          "Microfiber Bathing Quick Dry Hair Cap Turban Wrap Towel Hat Hair-drying",
          "NEW TRENDY WINTER COLLECTION PLANE BASIC SKIN COLOUR HOODIE FOR MENS",
          "Tube cap for winter season outclass stuff / Inner Tube cap / Inner hijab cap / Under scarf cap for hijab",
          "Christine Princess Lipstick - Shade 304",
          "ENRAX CART Winter Solid Color Faux Rabbit  Gloves Arm Sleeve Cover Warmer Fingerless Wrist Gloves Knitted Mitten Fashion Women Gloves",
          "6pcs Square Quartz Watch Dainty Bracelets Set Women Black White Watch Dial Leather Strap Heart Leaf Infinity Bracelets Set",
          "Waterproof Jelly Solid Lipstick  Moisturizing Long Lasting Red Lip Balm  High Color Rendering Smoothing Jelly Lipstick",
          "2 Portable Digital USB Mini Stereo Wired Speakers For Laptop/PC/Mobile - Black/White",
          "Multifunction Kitchen Food chopper Machine onion chopper Hand Pull Speedy Chopper Turbo Cutter Nicer Dicer Plus Garlic Press small meat Shredders Grinder Mincer Mixer Blender can cut fruits/vegetables/nuts/herbs/onions/garlic/chili",
          "Stylish HAND WITH CUP printed Fleece Pull Over Hoodie",
          "AT Heart Wooden Clock With Premium Light I The New Wooden Wall Clock Big Size I Wall Clock I Wooden Wall Clock I Wall clocks for bedroom I Wall Clocks for drawing room I Wooden Wall Clocks for bedroom",
          "Pack of 3 - 4-Colors Non-woven Foldable Clothes Quilt Clothes Storage Bag Organizer Box New-L",
          "Latest Casual Sneaker, Lace Up Light Weight Shoes for Running, walking",
          "Modern 3D Brick Wallpaper Self Adhesive Waterproof Wall Panel Living Room Mould Proof Wall Sticker Formaldehyde-free Home Decor",
          "Top Brand Luxury Fashion Calendar Watch Men Nylon Strap Clock Sport Watches Mens Quartz Wristwatch Relogio Masculino",
          "USB Rechargeable and Solar Charging Emergency flashlight Portable Emergency Light With Charging Cable 3 Types of Lighting System",
          "6 PCS New Lxury Love Rhinestone Jewelry Ladies Ring Necklace Earrings Bracelet Set Simple Digital Leather Strap Quartz Watch",
          "AirPods_Pro Wireless Earbuds Bluetooth 5.0, Super Sound Bass, Charging Case and Extra Ear-Buds, Pop-Up Feature Compatible with All Devices",
          "New  Flat Slippers for girls and women",
          "Natural Liquid Blush - Air Cushion Liquid Blush - Cheek Liquid Blusher",
          "AKE - Motorcycle Half Face Mask Winter Wear Beard cold Protection Mask Black Red Blue Multi Color",
          "12v DC 50W LED for Solar and Battery Operated only Flood Light Waterproof For Outdoor",
          "Flexible tripod phone holder foam",
          "Solar Powered Rechargeable LED Multifunctional Portable Light USB Dual Light Source Outdoor Searchlight Camping Light Strong Fla",
          "Beautious Pack of 5 Mini Matte Lipsticks Red Brown pink lipstick",
          "Electric Room Heater/ Electric Heater With Safety Switch(400W)",
          "Chest Bag New Men Simple Nylon Fashion Waterproof One Shoulder Crossbody Bag",
          "1pair Winter Warm Plush Leg Warmers Knee Brace Support Thermal Long Leg Sleeves",
          "Large Storage Bags, Storage Bag Clothes Storage Box Bins Foldable Closet Organizers Storage Containers with Durable Handles Thick Fabric for Blanket Comforter Clothing Bedding",
          "Black Titanium Finger Ring With Cuboid Rectangle Neck Pendant Chain Necklace For Boys And Men (Pack Of 2)",
          "Very stylish smart Soap holder for bathroom soap dish modern style and space saving leaf shape soap holder self draining bathroom fitting",
          "I9 Ultra Max Smart Watch 2.19 Inch Full Touch Smartwatch Wireless Charging Bluetooth Call Watch Sport Woman Men Smartwatch"
         ],
         "type": "bar",
         "x": [
          0,
          1,
          2,
          3,
          4,
          5,
          6,
          7,
          8,
          9,
          10,
          11,
          12,
          13,
          14,
          15,
          16,
          17,
          18,
          19,
          20,
          21,
          22,
          23,
          24,
          25,
          26,
          27,
          28,
          29,
          30,
          31,
          32,
          33,
          34,
          35,
          36,
          37,
          38,
          39,
          40,
          41,
          42,
          43,
          44,
          45,
          46,
          47,
          48,
          49,
          50,
          51,
          52,
          53,
          54,
          55,
          56,
          57,
          58,
          59,
          60,
          61,
          62,
          63,
          64,
          65,
          66,
          67,
          68,
          69,
          70,
          71,
          72,
          73,
          74,
          75,
          76,
          77,
          78,
          79,
          80,
          81,
          82,
          83,
          84,
          85,
          86
         ],
         "y": [
          "149",
          "488",
          "1,399",
          "1,749",
          "319",
          "499",
          "1,575",
          "499",
          "999",
          "2,499",
          "619",
          "429",
          "430",
          "319",
          "947",
          "748",
          "550",
          "320",
          "999",
          "1,799",
          "269",
          "399",
          "349",
          "1,250",
          "2,901",
          "449",
          "341",
          "118",
          "415",
          "199",
          "450",
          "299",
          "107",
          "4,573",
          "899",
          "1,399",
          "279",
          "550",
          "749",
          "975",
          "2,842",
          "449",
          "315",
          "375",
          "299",
          "249",
          "999",
          "289",
          "840",
          "1,029",
          "199",
          "1,298",
          "242",
          "125",
          "335",
          "120",
          "797",
          "160",
          "280",
          "335",
          "2,992",
          "356",
          "509",
          "497",
          "1,099",
          "345",
          "271",
          "999",
          "228",
          "2,777",
          "949",
          "4,388",
          "2,128",
          "599",
          "299",
          "268",
          "799",
          "179",
          "6,455",
          "215",
          "1,585",
          "4,100",
          "499",
          "79",
          "115",
          "279",
          "1,999"
         ]
        }
       ],
       "layout": {
        "height": 800,
        "template": {
         "data": {
          "bar": [
           {
            "error_x": {
             "color": "#2a3f5f"
            },
            "error_y": {
             "color": "#2a3f5f"
            },
            "marker": {
             "line": {
              "color": "#E5ECF6",
              "width": 0.5
             },
             "pattern": {
              "fillmode": "overlay",
              "size": 10,
              "solidity": 0.2
             }
            },
            "type": "bar"
           }
          ],
          "barpolar": [
           {
            "marker": {
             "line": {
              "color": "#E5ECF6",
              "width": 0.5
             },
             "pattern": {
              "fillmode": "overlay",
              "size": 10,
              "solidity": 0.2
             }
            },
            "type": "barpolar"
           }
          ],
          "carpet": [
           {
            "aaxis": {
             "endlinecolor": "#2a3f5f",
             "gridcolor": "white",
             "linecolor": "white",
             "minorgridcolor": "white",
             "startlinecolor": "#2a3f5f"
            },
            "baxis": {
             "endlinecolor": "#2a3f5f",
             "gridcolor": "white",
             "linecolor": "white",
             "minorgridcolor": "white",
             "startlinecolor": "#2a3f5f"
            },
            "type": "carpet"
           }
          ],
          "choropleth": [
           {
            "colorbar": {
             "outlinewidth": 0,
             "ticks": ""
            },
            "type": "choropleth"
           }
          ],
          "contour": [
           {
            "colorbar": {
             "outlinewidth": 0,
             "ticks": ""
            },
            "colorscale": [
             [
              0,
              "#0d0887"
             ],
             [
              0.1111111111111111,
              "#46039f"
             ],
             [
              0.2222222222222222,
              "#7201a8"
             ],
             [
              0.3333333333333333,
              "#9c179e"
             ],
             [
              0.4444444444444444,
              "#bd3786"
             ],
             [
              0.5555555555555556,
              "#d8576b"
             ],
             [
              0.6666666666666666,
              "#ed7953"
             ],
             [
              0.7777777777777778,
              "#fb9f3a"
             ],
             [
              0.8888888888888888,
              "#fdca26"
             ],
             [
              1,
              "#f0f921"
             ]
            ],
            "type": "contour"
           }
          ],
          "contourcarpet": [
           {
            "colorbar": {
             "outlinewidth": 0,
             "ticks": ""
            },
            "type": "contourcarpet"
           }
          ],
          "heatmap": [
           {
            "colorbar": {
             "outlinewidth": 0,
             "ticks": ""
            },
            "colorscale": [
             [
              0,
              "#0d0887"
             ],
             [
              0.1111111111111111,
              "#46039f"
             ],
             [
              0.2222222222222222,
              "#7201a8"
             ],
             [
              0.3333333333333333,
              "#9c179e"
             ],
             [
              0.4444444444444444,
              "#bd3786"
             ],
             [
              0.5555555555555556,
              "#d8576b"
             ],
             [
              0.6666666666666666,
              "#ed7953"
             ],
             [
              0.7777777777777778,
              "#fb9f3a"
             ],
             [
              0.8888888888888888,
              "#fdca26"
             ],
             [
              1,
              "#f0f921"
             ]
            ],
            "type": "heatmap"
           }
          ],
          "heatmapgl": [
           {
            "colorbar": {
             "outlinewidth": 0,
             "ticks": ""
            },
            "colorscale": [
             [
              0,
              "#0d0887"
             ],
             [
              0.1111111111111111,
              "#46039f"
             ],
             [
              0.2222222222222222,
              "#7201a8"
             ],
             [
              0.3333333333333333,
              "#9c179e"
             ],
             [
              0.4444444444444444,
              "#bd3786"
             ],
             [
              0.5555555555555556,
              "#d8576b"
             ],
             [
              0.6666666666666666,
              "#ed7953"
             ],
             [
              0.7777777777777778,
              "#fb9f3a"
             ],
             [
              0.8888888888888888,
              "#fdca26"
             ],
             [
              1,
              "#f0f921"
             ]
            ],
            "type": "heatmapgl"
           }
          ],
          "histogram": [
           {
            "marker": {
             "pattern": {
              "fillmode": "overlay",
              "size": 10,
              "solidity": 0.2
             }
            },
            "type": "histogram"
           }
          ],
          "histogram2d": [
           {
            "colorbar": {
             "outlinewidth": 0,
             "ticks": ""
            },
            "colorscale": [
             [
              0,
              "#0d0887"
             ],
             [
              0.1111111111111111,
              "#46039f"
             ],
             [
              0.2222222222222222,
              "#7201a8"
             ],
             [
              0.3333333333333333,
              "#9c179e"
             ],
             [
              0.4444444444444444,
              "#bd3786"
             ],
             [
              0.5555555555555556,
              "#d8576b"
             ],
             [
              0.6666666666666666,
              "#ed7953"
             ],
             [
              0.7777777777777778,
              "#fb9f3a"
             ],
             [
              0.8888888888888888,
              "#fdca26"
             ],
             [
              1,
              "#f0f921"
             ]
            ],
            "type": "histogram2d"
           }
          ],
          "histogram2dcontour": [
           {
            "colorbar": {
             "outlinewidth": 0,
             "ticks": ""
            },
            "colorscale": [
             [
              0,
              "#0d0887"
             ],
             [
              0.1111111111111111,
              "#46039f"
             ],
             [
              0.2222222222222222,
              "#7201a8"
             ],
             [
              0.3333333333333333,
              "#9c179e"
             ],
             [
              0.4444444444444444,
              "#bd3786"
             ],
             [
              0.5555555555555556,
              "#d8576b"
             ],
             [
              0.6666666666666666,
              "#ed7953"
             ],
             [
              0.7777777777777778,
              "#fb9f3a"
             ],
             [
              0.8888888888888888,
              "#fdca26"
             ],
             [
              1,
              "#f0f921"
             ]
            ],
            "type": "histogram2dcontour"
           }
          ],
          "mesh3d": [
           {
            "colorbar": {
             "outlinewidth": 0,
             "ticks": ""
            },
            "type": "mesh3d"
           }
          ],
          "parcoords": [
           {
            "line": {
             "colorbar": {
              "outlinewidth": 0,
              "ticks": ""
             }
            },
            "type": "parcoords"
           }
          ],
          "pie": [
           {
            "automargin": true,
            "type": "pie"
           }
          ],
          "scatter": [
           {
            "fillpattern": {
             "fillmode": "overlay",
             "size": 10,
             "solidity": 0.2
            },
            "type": "scatter"
           }
          ],
          "scatter3d": [
           {
            "line": {
             "colorbar": {
              "outlinewidth": 0,
              "ticks": ""
             }
            },
            "marker": {
             "colorbar": {
              "outlinewidth": 0,
              "ticks": ""
             }
            },
            "type": "scatter3d"
           }
          ],
          "scattercarpet": [
           {
            "marker": {
             "colorbar": {
              "outlinewidth": 0,
              "ticks": ""
             }
            },
            "type": "scattercarpet"
           }
          ],
          "scattergeo": [
           {
            "marker": {
             "colorbar": {
              "outlinewidth": 0,
              "ticks": ""
             }
            },
            "type": "scattergeo"
           }
          ],
          "scattergl": [
           {
            "marker": {
             "colorbar": {
              "outlinewidth": 0,
              "ticks": ""
             }
            },
            "type": "scattergl"
           }
          ],
          "scattermapbox": [
           {
            "marker": {
             "colorbar": {
              "outlinewidth": 0,
              "ticks": ""
             }
            },
            "type": "scattermapbox"
           }
          ],
          "scatterpolar": [
           {
            "marker": {
             "colorbar": {
              "outlinewidth": 0,
              "ticks": ""
             }
            },
            "type": "scatterpolar"
           }
          ],
          "scatterpolargl": [
           {
            "marker": {
             "colorbar": {
              "outlinewidth": 0,
              "ticks": ""
             }
            },
            "type": "scatterpolargl"
           }
          ],
          "scatterternary": [
           {
            "marker": {
             "colorbar": {
              "outlinewidth": 0,
              "ticks": ""
             }
            },
            "type": "scatterternary"
           }
          ],
          "surface": [
           {
            "colorbar": {
             "outlinewidth": 0,
             "ticks": ""
            },
            "colorscale": [
             [
              0,
              "#0d0887"
             ],
             [
              0.1111111111111111,
              "#46039f"
             ],
             [
              0.2222222222222222,
              "#7201a8"
             ],
             [
              0.3333333333333333,
              "#9c179e"
             ],
             [
              0.4444444444444444,
              "#bd3786"
             ],
             [
              0.5555555555555556,
              "#d8576b"
             ],
             [
              0.6666666666666666,
              "#ed7953"
             ],
             [
              0.7777777777777778,
              "#fb9f3a"
             ],
             [
              0.8888888888888888,
              "#fdca26"
             ],
             [
              1,
              "#f0f921"
             ]
            ],
            "type": "surface"
           }
          ],
          "table": [
           {
            "cells": {
             "fill": {
              "color": "#EBF0F8"
             },
             "line": {
              "color": "white"
             }
            },
            "header": {
             "fill": {
              "color": "#C8D4E3"
             },
             "line": {
              "color": "white"
             }
            },
            "type": "table"
           }
          ]
         },
         "layout": {
          "annotationdefaults": {
           "arrowcolor": "#2a3f5f",
           "arrowhead": 0,
           "arrowwidth": 1
          },
          "autotypenumbers": "strict",
          "coloraxis": {
           "colorbar": {
            "outlinewidth": 0,
            "ticks": ""
           }
          },
          "colorscale": {
           "diverging": [
            [
             0,
             "#8e0152"
            ],
            [
             0.1,
             "#c51b7d"
            ],
            [
             0.2,
             "#de77ae"
            ],
            [
             0.3,
             "#f1b6da"
            ],
            [
             0.4,
             "#fde0ef"
            ],
            [
             0.5,
             "#f7f7f7"
            ],
            [
             0.6,
             "#e6f5d0"
            ],
            [
             0.7,
             "#b8e186"
            ],
            [
             0.8,
             "#7fbc41"
            ],
            [
             0.9,
             "#4d9221"
            ],
            [
             1,
             "#276419"
            ]
           ],
           "sequential": [
            [
             0,
             "#0d0887"
            ],
            [
             0.1111111111111111,
             "#46039f"
            ],
            [
             0.2222222222222222,
             "#7201a8"
            ],
            [
             0.3333333333333333,
             "#9c179e"
            ],
            [
             0.4444444444444444,
             "#bd3786"
            ],
            [
             0.5555555555555556,
             "#d8576b"
            ],
            [
             0.6666666666666666,
             "#ed7953"
            ],
            [
             0.7777777777777778,
             "#fb9f3a"
            ],
            [
             0.8888888888888888,
             "#fdca26"
            ],
            [
             1,
             "#f0f921"
            ]
           ],
           "sequentialminus": [
            [
             0,
             "#0d0887"
            ],
            [
             0.1111111111111111,
             "#46039f"
            ],
            [
             0.2222222222222222,
             "#7201a8"
            ],
            [
             0.3333333333333333,
             "#9c179e"
            ],
            [
             0.4444444444444444,
             "#bd3786"
            ],
            [
             0.5555555555555556,
             "#d8576b"
            ],
            [
             0.6666666666666666,
             "#ed7953"
            ],
            [
             0.7777777777777778,
             "#fb9f3a"
            ],
            [
             0.8888888888888888,
             "#fdca26"
            ],
            [
             1,
             "#f0f921"
            ]
           ]
          },
          "colorway": [
           "#636efa",
           "#EF553B",
           "#00cc96",
           "#ab63fa",
           "#FFA15A",
           "#19d3f3",
           "#FF6692",
           "#B6E880",
           "#FF97FF",
           "#FECB52"
          ],
          "font": {
           "color": "#2a3f5f"
          },
          "geo": {
           "bgcolor": "white",
           "lakecolor": "white",
           "landcolor": "#E5ECF6",
           "showlakes": true,
           "showland": true,
           "subunitcolor": "white"
          },
          "hoverlabel": {
           "align": "left"
          },
          "hovermode": "closest",
          "mapbox": {
           "style": "light"
          },
          "paper_bgcolor": "white",
          "plot_bgcolor": "#E5ECF6",
          "polar": {
           "angularaxis": {
            "gridcolor": "white",
            "linecolor": "white",
            "ticks": ""
           },
           "bgcolor": "#E5ECF6",
           "radialaxis": {
            "gridcolor": "white",
            "linecolor": "white",
            "ticks": ""
           }
          },
          "scene": {
           "xaxis": {
            "backgroundcolor": "#E5ECF6",
            "gridcolor": "white",
            "gridwidth": 2,
            "linecolor": "white",
            "showbackground": true,
            "ticks": "",
            "zerolinecolor": "white"
           },
           "yaxis": {
            "backgroundcolor": "#E5ECF6",
            "gridcolor": "white",
            "gridwidth": 2,
            "linecolor": "white",
            "showbackground": true,
            "ticks": "",
            "zerolinecolor": "white"
           },
           "zaxis": {
            "backgroundcolor": "#E5ECF6",
            "gridcolor": "white",
            "gridwidth": 2,
            "linecolor": "white",
            "showbackground": true,
            "ticks": "",
            "zerolinecolor": "white"
           }
          },
          "shapedefaults": {
           "line": {
            "color": "#2a3f5f"
           }
          },
          "ternary": {
           "aaxis": {
            "gridcolor": "white",
            "linecolor": "white",
            "ticks": ""
           },
           "baxis": {
            "gridcolor": "white",
            "linecolor": "white",
            "ticks": ""
           },
           "bgcolor": "#E5ECF6",
           "caxis": {
            "gridcolor": "white",
            "linecolor": "white",
            "ticks": ""
           }
          },
          "title": {
           "x": 0.05
          },
          "xaxis": {
           "automargin": true,
           "gridcolor": "white",
           "linecolor": "white",
           "ticks": "",
           "title": {
            "standoff": 15
           },
           "zerolinecolor": "white",
           "zerolinewidth": 2
          },
          "yaxis": {
           "automargin": true,
           "gridcolor": "white",
           "linecolor": "white",
           "ticks": "",
           "title": {
            "standoff": 15
           },
           "zerolinecolor": "white",
           "zerolinewidth": 2
          }
         }
        },
        "title": {
         "text": "Real Price for Different Products"
        },
        "width": 1000,
        "xaxis": {
         "tickvals": [],
         "title": {
          "text": "Products"
         }
        },
        "yaxis": {
         "title": {
          "text": "Real Price"
         }
        }
       }
      },
      "text/html": [
       "<div>                            <div id=\"dcd0f8aa-37eb-43cd-bd76-ae8b486b4179\" class=\"plotly-graph-div\" style=\"height:800px; width:1000px;\"></div>            <script type=\"text/javascript\">                require([\"plotly\"], function(Plotly) {                    window.PLOTLYENV=window.PLOTLYENV || {};                                    if (document.getElementById(\"dcd0f8aa-37eb-43cd-bd76-ae8b486b4179\")) {                    Plotly.newPlot(                        \"dcd0f8aa-37eb-43cd-bd76-ae8b486b4179\",                        [{\"hoverinfo\":\"text\",\"marker\":{\"color\":[\"rgb(31, 119, 180)\",\"rgb(255, 127, 14)\",\"rgb(44, 160, 44)\",\"rgb(214, 39, 40)\",\"rgb(148, 103, 189)\",\"rgb(140, 86, 75)\",\"rgb(227, 119, 194)\",\"rgb(127, 127, 127)\",\"rgb(188, 189, 34)\",\"rgb(23, 190, 207)\"]},\"name\":\"Real Price\",\"text\":[\"Wipers - Kitchen Shelf Cleaning Wiper - Windows/Mirror Cleaning Wiper\",\"Winter Cap and neck for Boy - Girls\",\"\\u3010Ready Stock+FREE Shipping+COD\\u3011Xiaomi Bluetooth 5.0 Earphones TWS Headphone True Wireless Earphone Touch Control Earbuds HiFi Stereo Sports Waterproof With Mic\",\"The Vintage Clothing Pack of 2 Hoodies For Men / Hoodies For Girls / Hoodies For Women Messi AW Allen Walker printed premium quality Hoodies For Men / Hoodies For Girls\",\"Beautious Eyebrow Stamp Shaping Kit, One Step Eyebrow Stamp Makeup with 3 Reusable Eyebrow Stencils and Eyebrow Pen Brushes Hairline Powder\",\"Original M10 & M19 & M28 M90 & i12 Double Wireless Bluetooth Hand Free with Power Bank Earphones White bluetooth ear phone for all cell phones use\",\"Stitched Heavy Embroidered Maxi with Koti (Separate Coaty) Party Wear Maxi Dresses For Women/Eid Collection/Wedding Dress For Women\",\"Winter Warm Thickening Wool Gloves Knitted Flip Fingerless Flexible Exposed Finger Thick Mittens for Men Women\",\"Multifunctional Portable Large Capacity Travel Cosmetic Bag with Handle Makeup Organizer Bag Storage Makeup Bag Waterproof PU Leather Travel Toiletry Bag for Women\",\"Stylish Printed Front Two Pocket Hooded Tracksuit For Men\",\"LOVE STYLE FONT NECKLACE, DOUBLE NAME NECKLACE, NAME LOCKET PERSONALIZED/CUSTOMIZED DESIGN NAME NECKLACE-(PERFECT GIFT TO SEND YOUR WIFE , FIANCE, HUSBAND, FATHER , OR ANY ONE)\",\"(Buy 1 Get 1 Free) New S10 Handsfree High Bass With Good Sound Quality\",\"Toiletry Bag Travel Cosmetic Bag, Shaving Kit, Grooming Makeup Bag Pouch for Men & Women, Black, GreyHigh Quality Toiletry Bag Men/Women travel Accessories with hanging option\",\"I7 Mini Bluetooth Headset Earbud Single Wireless Earphone With Mic Stereo For all phones\",\"Cool Sports Vacuum Flask Stainless Steel Water Bottle For School Kids\",\"Swetshirt And Pajama Trouser For Kids Baby Boys And Baby Girls Imported Comfy Winter Warm Tops Clothes Sets Dresses Outfit Jannat Store\",\"Silver Plating Couple Rings\",\"Zip card wallet Genuine Leather Minimalist Men's Purse Long Wallet For Men Bi Fold Simple Wallet Clasp Card Holder Wallet Small Wallet for Men and Boys - Slim and Smart Wallet Small Wallet for Men and Boys - Slim and Smart Wallet\",\"Men's Running Shoes Summer Mesh Genuine Breathable Mesh Shoes Casual Shoes Men Sports Shoes Size Breathable Sports Shoes Women Sneakers Sports Shoes Black Running Shoes\",\"Sogo Quartz Heater (JPN-94 / JPN-95)\",\"Beautious 4IN1 Super Skin Glowing Serum | 5% Niacinamide, 30% Vitamin C 10%, Vitamin E 10% & HA | 30 ml\",\"Girls Soft Half Finger Gloves Plush Fingerless Gloves\",\"Men Women Home Anti-slip Slipper Winter Warm Cotton House Indoor Slippers\",\"New Design 2 Piece Hand Bag With Small Carry Pouch & Long Strap\",\"A6s Bluetooth Earphones Tws In Ear Bluetooth 50 Running Sports Stereo Buttons With Microphone Wireless Headphones\",\"Beanie cap-Wool cap with neck warmer for men women| Winter cap for Unisex\",\"Hot Shaper Belt For Women Men Girls | Hot Shapper Belt For Hips Belly Fat Weight Loss Back Pain | Hot Shapers Slimming Belt Suana Sweat Belt Suit For Home Gym\",\"Infinix Hot 30 Back Rear Camera Protector 9H Gorilla Flexible Protection For Infinix Hot 30\",\"10Pcs Multi-function Spit Bone Dish Household Food Grade Plastic Spit Bone Dish Round Square Set Dining Table Garbage Plate\",\"Flowery Pore-Refining Treatment Gel (Niacinamide + Witch-hazel) - 50g\",\"caps for men cap winter cap songting cap and neck fleece benie cap warm cap garam hot\",\"Oud Collection - Arabic Perfumes Dirham_Men - Eau De Perfume - 100ml Long Lasting Frangrances\",\"Clothes Storage Bags Organizer Under Bed Storage , 43L, Grey\",\"Upgraded Version V5.2 Chip TWS G11 Wireless Outdoor Sports Wireless Headset Gaming Earbuds Esports Listening Music Universal\",\"Ladies Luxury Golden Fashion Watch For Women's Ladies Classical Edition Special Watch for Ladies And Girls\",\"Men's Running Shoes Men's Slip-on Shoes Tennis Walking Casual Shoes Black Gym Breathable Work Shoes fashion shoes sneakers for men\",\"Branded Watch For Men and Boys Latest Design Wrist Watches in Multicolor\",\"Sunaina Textile 3 Piece Malai Linen Printed Unstitched Winter Collection Fabric for Girls/Womens Sunaina Vol-34\",\"Original i12 Tws Touch Sensor Airpods_  m10 m28/ Earphones With Charging Case Dock For All Mobiles\",\"Cotton Satin Double Bedsheet Embroided\",\"5PCS Set Women Starry Sky Dial Watch Brand Design Female Clock Blue Leather Band Ladies Watches Simple Casual Womens WristWatch\",\"Home & Office Multipurpose Plastic Rack / Room Organizer Home & Office Multipurpose  Plastic Rack / Room Organizer /  Shoe Rack Brown Art # SS-SSRm01\",\"Fashion Women Hand Wrist Warmer Winter Fingerless Knitted Gloves Random colors\",\"Lifestyle Glory Heart Wooden Clock With Premium Light I The New Wooden Wall Clock Big Size I Wall Clock I Wooden Wall Clock I Wall clocks for bedroom I Wall Clocks for drawing room I Wooden Wall Clocks for bedroom\",\"Glorya Decor Qul Clock Wooden Islamic Calligraphy I The New Premium Wooden Wall Clock Light Big Size I Wall Clock Wooden Wall Clock I Wall clocks for bedroom I Quartz Watch DIY Design Decoration Piece for Home Decor I Offices and for Gift Items\",\"Wanter - 100Pcs / Square Almond Oval Coffin Shape Natural & Transparent Color Artificial Nails Kit Fakee Nails Acrylic Nails For Girls Beautiful Nails Falsee Nails\",\"Men's Running Shoes Men's Slip-on Shoes Tennis Walking Casual Shoes Black Gym Breathable Rubber Work Shoes fashin shoes\",\"Birds on Tree 3D Wooden DIY Wall Clock Numeral\\u00a0Quartz Watch Hanging Decoration Piece for Home Decor and Girls Room Bed Rooms and for Gifts Item\",\"Stitched Namaz chadar Prayer Shawl with Sleeves\",\"Flowers Printed Zipper For Women Girls Customized By aarwah Emaan\",\"Customize Ring With your name engraved On Ring\",\"Winter Zipper Jacket Trouser Tracksuit\",\"Soap Holder Premium Quality - Soap Dish - Soap Box - Bathroom Accessories Sets Washroom Friendly Products Bathroom Products Non-perforated Shell Shape Soap Holder\",\"Pack of 2 Black Titanium Finger Ring & Black Bar Chain For Man Woman\",\"OASIS BLUE Fashion Women Faux Rebbit Fur Hand Wrist Warmer Winter Fingerless Knitted Gloves\",\"Microfiber Bathing Quick Dry Hair Cap Turban Wrap Towel Hat Hair-drying\",\"NEW TRENDY WINTER COLLECTION PLANE BASIC SKIN COLOUR HOODIE FOR MENS\",\"Tube cap for winter season outclass stuff / Inner Tube cap / Inner hijab cap / Under scarf cap for hijab\",\"Christine Princess Lipstick - Shade 304\",\"ENRAX CART Winter Solid Color Faux Rabbit  Gloves Arm Sleeve Cover Warmer Fingerless Wrist Gloves Knitted Mitten Fashion Women Gloves\",\"6pcs Square Quartz Watch Dainty Bracelets Set Women Black White Watch Dial Leather Strap Heart Leaf Infinity Bracelets Set\",\"Waterproof Jelly Solid Lipstick  Moisturizing Long Lasting Red Lip Balm  High Color Rendering Smoothing Jelly Lipstick\",\"2 Portable Digital USB Mini Stereo Wired Speakers For Laptop/PC/Mobile - Black/White\",\"Multifunction Kitchen Food chopper Machine onion chopper Hand Pull Speedy Chopper Turbo Cutter Nicer Dicer Plus Garlic Press small meat Shredders Grinder Mincer Mixer Blender can cut fruits/vegetables/nuts/herbs/onions/garlic/chili\",\"Stylish HAND WITH CUP printed Fleece Pull Over Hoodie\",\"AT Heart Wooden Clock With Premium Light I The New Wooden Wall Clock Big Size I Wall Clock I Wooden Wall Clock I Wall clocks for bedroom I Wall Clocks for drawing room I Wooden Wall Clocks for bedroom\",\"Pack of 3 - 4-Colors Non-woven Foldable Clothes Quilt Clothes Storage Bag Organizer Box New-L\",\"Latest Casual Sneaker, Lace Up Light Weight Shoes for Running, walking\",\"Modern 3D Brick Wallpaper Self Adhesive Waterproof Wall Panel Living Room Mould Proof Wall Sticker Formaldehyde-free Home Decor\",\"Top Brand Luxury Fashion Calendar Watch Men Nylon Strap Clock Sport Watches Mens Quartz Wristwatch Relogio Masculino\",\"USB Rechargeable and Solar Charging Emergency flashlight Portable Emergency Light With Charging Cable 3 Types of Lighting System\",\"6 PCS New Lxury Love Rhinestone Jewelry Ladies Ring Necklace Earrings Bracelet Set Simple Digital Leather Strap Quartz Watch\",\"AirPods_Pro Wireless Earbuds Bluetooth 5.0, Super Sound Bass, Charging Case and Extra Ear-Buds, Pop-Up Feature Compatible with All Devices\",\"New  Flat Slippers for girls and women\",\"Natural Liquid Blush - Air Cushion Liquid Blush - Cheek Liquid Blusher\",\"AKE - Motorcycle Half Face Mask Winter Wear Beard cold Protection Mask Black Red Blue Multi Color\",\"12v DC 50W LED for Solar and Battery Operated only Flood Light Waterproof For Outdoor\",\"Flexible tripod phone holder foam\",\"Solar Powered Rechargeable LED Multifunctional Portable Light USB Dual Light Source Outdoor Searchlight Camping Light Strong Fla\",\"Beautious Pack of 5 Mini Matte Lipsticks Red Brown pink lipstick\",\"Electric Room Heater/ Electric Heater With Safety Switch(400W)\",\"Chest Bag New Men Simple Nylon Fashion Waterproof One Shoulder Crossbody Bag\",\"1pair Winter Warm Plush Leg Warmers Knee Brace Support Thermal Long Leg Sleeves\",\"Large Storage Bags, Storage Bag Clothes Storage Box Bins Foldable Closet Organizers Storage Containers with Durable Handles Thick Fabric for Blanket Comforter Clothing Bedding\",\"Black Titanium Finger Ring With Cuboid Rectangle Neck Pendant Chain Necklace For Boys And Men (Pack Of 2)\",\"Very stylish smart Soap holder for bathroom soap dish modern style and space saving leaf shape soap holder self draining bathroom fitting\",\"I9 Ultra Max Smart Watch 2.19 Inch Full Touch Smartwatch Wireless Charging Bluetooth Call Watch Sport Woman Men Smartwatch\"],\"x\":[0,1,2,3,4,5,6,7,8,9,10,11,12,13,14,15,16,17,18,19,20,21,22,23,24,25,26,27,28,29,30,31,32,33,34,35,36,37,38,39,40,41,42,43,44,45,46,47,48,49,50,51,52,53,54,55,56,57,58,59,60,61,62,63,64,65,66,67,68,69,70,71,72,73,74,75,76,77,78,79,80,81,82,83,84,85,86],\"y\":[\"149\",\"488\",\"1,399\",\"1,749\",\"319\",\"499\",\"1,575\",\"499\",\"999\",\"2,499\",\"619\",\"429\",\"430\",\"319\",\"947\",\"748\",\"550\",\"320\",\"999\",\"1,799\",\"269\",\"399\",\"349\",\"1,250\",\"2,901\",\"449\",\"341\",\"118\",\"415\",\"199\",\"450\",\"299\",\"107\",\"4,573\",\"899\",\"1,399\",\"279\",\"550\",\"749\",\"975\",\"2,842\",\"449\",\"315\",\"375\",\"299\",\"249\",\"999\",\"289\",\"840\",\"1,029\",\"199\",\"1,298\",\"242\",\"125\",\"335\",\"120\",\"797\",\"160\",\"280\",\"335\",\"2,992\",\"356\",\"509\",\"497\",\"1,099\",\"345\",\"271\",\"999\",\"228\",\"2,777\",\"949\",\"4,388\",\"2,128\",\"599\",\"299\",\"268\",\"799\",\"179\",\"6,455\",\"215\",\"1,585\",\"4,100\",\"499\",\"79\",\"115\",\"279\",\"1,999\"],\"type\":\"bar\"}],                        {\"template\":{\"data\":{\"histogram2dcontour\":[{\"type\":\"histogram2dcontour\",\"colorbar\":{\"outlinewidth\":0,\"ticks\":\"\"},\"colorscale\":[[0.0,\"#0d0887\"],[0.1111111111111111,\"#46039f\"],[0.2222222222222222,\"#7201a8\"],[0.3333333333333333,\"#9c179e\"],[0.4444444444444444,\"#bd3786\"],[0.5555555555555556,\"#d8576b\"],[0.6666666666666666,\"#ed7953\"],[0.7777777777777778,\"#fb9f3a\"],[0.8888888888888888,\"#fdca26\"],[1.0,\"#f0f921\"]]}],\"choropleth\":[{\"type\":\"choropleth\",\"colorbar\":{\"outlinewidth\":0,\"ticks\":\"\"}}],\"histogram2d\":[{\"type\":\"histogram2d\",\"colorbar\":{\"outlinewidth\":0,\"ticks\":\"\"},\"colorscale\":[[0.0,\"#0d0887\"],[0.1111111111111111,\"#46039f\"],[0.2222222222222222,\"#7201a8\"],[0.3333333333333333,\"#9c179e\"],[0.4444444444444444,\"#bd3786\"],[0.5555555555555556,\"#d8576b\"],[0.6666666666666666,\"#ed7953\"],[0.7777777777777778,\"#fb9f3a\"],[0.8888888888888888,\"#fdca26\"],[1.0,\"#f0f921\"]]}],\"heatmap\":[{\"type\":\"heatmap\",\"colorbar\":{\"outlinewidth\":0,\"ticks\":\"\"},\"colorscale\":[[0.0,\"#0d0887\"],[0.1111111111111111,\"#46039f\"],[0.2222222222222222,\"#7201a8\"],[0.3333333333333333,\"#9c179e\"],[0.4444444444444444,\"#bd3786\"],[0.5555555555555556,\"#d8576b\"],[0.6666666666666666,\"#ed7953\"],[0.7777777777777778,\"#fb9f3a\"],[0.8888888888888888,\"#fdca26\"],[1.0,\"#f0f921\"]]}],\"heatmapgl\":[{\"type\":\"heatmapgl\",\"colorbar\":{\"outlinewidth\":0,\"ticks\":\"\"},\"colorscale\":[[0.0,\"#0d0887\"],[0.1111111111111111,\"#46039f\"],[0.2222222222222222,\"#7201a8\"],[0.3333333333333333,\"#9c179e\"],[0.4444444444444444,\"#bd3786\"],[0.5555555555555556,\"#d8576b\"],[0.6666666666666666,\"#ed7953\"],[0.7777777777777778,\"#fb9f3a\"],[0.8888888888888888,\"#fdca26\"],[1.0,\"#f0f921\"]]}],\"contourcarpet\":[{\"type\":\"contourcarpet\",\"colorbar\":{\"outlinewidth\":0,\"ticks\":\"\"}}],\"contour\":[{\"type\":\"contour\",\"colorbar\":{\"outlinewidth\":0,\"ticks\":\"\"},\"colorscale\":[[0.0,\"#0d0887\"],[0.1111111111111111,\"#46039f\"],[0.2222222222222222,\"#7201a8\"],[0.3333333333333333,\"#9c179e\"],[0.4444444444444444,\"#bd3786\"],[0.5555555555555556,\"#d8576b\"],[0.6666666666666666,\"#ed7953\"],[0.7777777777777778,\"#fb9f3a\"],[0.8888888888888888,\"#fdca26\"],[1.0,\"#f0f921\"]]}],\"surface\":[{\"type\":\"surface\",\"colorbar\":{\"outlinewidth\":0,\"ticks\":\"\"},\"colorscale\":[[0.0,\"#0d0887\"],[0.1111111111111111,\"#46039f\"],[0.2222222222222222,\"#7201a8\"],[0.3333333333333333,\"#9c179e\"],[0.4444444444444444,\"#bd3786\"],[0.5555555555555556,\"#d8576b\"],[0.6666666666666666,\"#ed7953\"],[0.7777777777777778,\"#fb9f3a\"],[0.8888888888888888,\"#fdca26\"],[1.0,\"#f0f921\"]]}],\"mesh3d\":[{\"type\":\"mesh3d\",\"colorbar\":{\"outlinewidth\":0,\"ticks\":\"\"}}],\"scatter\":[{\"fillpattern\":{\"fillmode\":\"overlay\",\"size\":10,\"solidity\":0.2},\"type\":\"scatter\"}],\"parcoords\":[{\"type\":\"parcoords\",\"line\":{\"colorbar\":{\"outlinewidth\":0,\"ticks\":\"\"}}}],\"scatterpolargl\":[{\"type\":\"scatterpolargl\",\"marker\":{\"colorbar\":{\"outlinewidth\":0,\"ticks\":\"\"}}}],\"bar\":[{\"error_x\":{\"color\":\"#2a3f5f\"},\"error_y\":{\"color\":\"#2a3f5f\"},\"marker\":{\"line\":{\"color\":\"#E5ECF6\",\"width\":0.5},\"pattern\":{\"fillmode\":\"overlay\",\"size\":10,\"solidity\":0.2}},\"type\":\"bar\"}],\"scattergeo\":[{\"type\":\"scattergeo\",\"marker\":{\"colorbar\":{\"outlinewidth\":0,\"ticks\":\"\"}}}],\"scatterpolar\":[{\"type\":\"scatterpolar\",\"marker\":{\"colorbar\":{\"outlinewidth\":0,\"ticks\":\"\"}}}],\"histogram\":[{\"marker\":{\"pattern\":{\"fillmode\":\"overlay\",\"size\":10,\"solidity\":0.2}},\"type\":\"histogram\"}],\"scattergl\":[{\"type\":\"scattergl\",\"marker\":{\"colorbar\":{\"outlinewidth\":0,\"ticks\":\"\"}}}],\"scatter3d\":[{\"type\":\"scatter3d\",\"line\":{\"colorbar\":{\"outlinewidth\":0,\"ticks\":\"\"}},\"marker\":{\"colorbar\":{\"outlinewidth\":0,\"ticks\":\"\"}}}],\"scattermapbox\":[{\"type\":\"scattermapbox\",\"marker\":{\"colorbar\":{\"outlinewidth\":0,\"ticks\":\"\"}}}],\"scatterternary\":[{\"type\":\"scatterternary\",\"marker\":{\"colorbar\":{\"outlinewidth\":0,\"ticks\":\"\"}}}],\"scattercarpet\":[{\"type\":\"scattercarpet\",\"marker\":{\"colorbar\":{\"outlinewidth\":0,\"ticks\":\"\"}}}],\"carpet\":[{\"aaxis\":{\"endlinecolor\":\"#2a3f5f\",\"gridcolor\":\"white\",\"linecolor\":\"white\",\"minorgridcolor\":\"white\",\"startlinecolor\":\"#2a3f5f\"},\"baxis\":{\"endlinecolor\":\"#2a3f5f\",\"gridcolor\":\"white\",\"linecolor\":\"white\",\"minorgridcolor\":\"white\",\"startlinecolor\":\"#2a3f5f\"},\"type\":\"carpet\"}],\"table\":[{\"cells\":{\"fill\":{\"color\":\"#EBF0F8\"},\"line\":{\"color\":\"white\"}},\"header\":{\"fill\":{\"color\":\"#C8D4E3\"},\"line\":{\"color\":\"white\"}},\"type\":\"table\"}],\"barpolar\":[{\"marker\":{\"line\":{\"color\":\"#E5ECF6\",\"width\":0.5},\"pattern\":{\"fillmode\":\"overlay\",\"size\":10,\"solidity\":0.2}},\"type\":\"barpolar\"}],\"pie\":[{\"automargin\":true,\"type\":\"pie\"}]},\"layout\":{\"autotypenumbers\":\"strict\",\"colorway\":[\"#636efa\",\"#EF553B\",\"#00cc96\",\"#ab63fa\",\"#FFA15A\",\"#19d3f3\",\"#FF6692\",\"#B6E880\",\"#FF97FF\",\"#FECB52\"],\"font\":{\"color\":\"#2a3f5f\"},\"hovermode\":\"closest\",\"hoverlabel\":{\"align\":\"left\"},\"paper_bgcolor\":\"white\",\"plot_bgcolor\":\"#E5ECF6\",\"polar\":{\"bgcolor\":\"#E5ECF6\",\"angularaxis\":{\"gridcolor\":\"white\",\"linecolor\":\"white\",\"ticks\":\"\"},\"radialaxis\":{\"gridcolor\":\"white\",\"linecolor\":\"white\",\"ticks\":\"\"}},\"ternary\":{\"bgcolor\":\"#E5ECF6\",\"aaxis\":{\"gridcolor\":\"white\",\"linecolor\":\"white\",\"ticks\":\"\"},\"baxis\":{\"gridcolor\":\"white\",\"linecolor\":\"white\",\"ticks\":\"\"},\"caxis\":{\"gridcolor\":\"white\",\"linecolor\":\"white\",\"ticks\":\"\"}},\"coloraxis\":{\"colorbar\":{\"outlinewidth\":0,\"ticks\":\"\"}},\"colorscale\":{\"sequential\":[[0.0,\"#0d0887\"],[0.1111111111111111,\"#46039f\"],[0.2222222222222222,\"#7201a8\"],[0.3333333333333333,\"#9c179e\"],[0.4444444444444444,\"#bd3786\"],[0.5555555555555556,\"#d8576b\"],[0.6666666666666666,\"#ed7953\"],[0.7777777777777778,\"#fb9f3a\"],[0.8888888888888888,\"#fdca26\"],[1.0,\"#f0f921\"]],\"sequentialminus\":[[0.0,\"#0d0887\"],[0.1111111111111111,\"#46039f\"],[0.2222222222222222,\"#7201a8\"],[0.3333333333333333,\"#9c179e\"],[0.4444444444444444,\"#bd3786\"],[0.5555555555555556,\"#d8576b\"],[0.6666666666666666,\"#ed7953\"],[0.7777777777777778,\"#fb9f3a\"],[0.8888888888888888,\"#fdca26\"],[1.0,\"#f0f921\"]],\"diverging\":[[0,\"#8e0152\"],[0.1,\"#c51b7d\"],[0.2,\"#de77ae\"],[0.3,\"#f1b6da\"],[0.4,\"#fde0ef\"],[0.5,\"#f7f7f7\"],[0.6,\"#e6f5d0\"],[0.7,\"#b8e186\"],[0.8,\"#7fbc41\"],[0.9,\"#4d9221\"],[1,\"#276419\"]]},\"xaxis\":{\"gridcolor\":\"white\",\"linecolor\":\"white\",\"ticks\":\"\",\"title\":{\"standoff\":15},\"zerolinecolor\":\"white\",\"automargin\":true,\"zerolinewidth\":2},\"yaxis\":{\"gridcolor\":\"white\",\"linecolor\":\"white\",\"ticks\":\"\",\"title\":{\"standoff\":15},\"zerolinecolor\":\"white\",\"automargin\":true,\"zerolinewidth\":2},\"scene\":{\"xaxis\":{\"backgroundcolor\":\"#E5ECF6\",\"gridcolor\":\"white\",\"linecolor\":\"white\",\"showbackground\":true,\"ticks\":\"\",\"zerolinecolor\":\"white\",\"gridwidth\":2},\"yaxis\":{\"backgroundcolor\":\"#E5ECF6\",\"gridcolor\":\"white\",\"linecolor\":\"white\",\"showbackground\":true,\"ticks\":\"\",\"zerolinecolor\":\"white\",\"gridwidth\":2},\"zaxis\":{\"backgroundcolor\":\"#E5ECF6\",\"gridcolor\":\"white\",\"linecolor\":\"white\",\"showbackground\":true,\"ticks\":\"\",\"zerolinecolor\":\"white\",\"gridwidth\":2}},\"shapedefaults\":{\"line\":{\"color\":\"#2a3f5f\"}},\"annotationdefaults\":{\"arrowcolor\":\"#2a3f5f\",\"arrowhead\":0,\"arrowwidth\":1},\"geo\":{\"bgcolor\":\"white\",\"landcolor\":\"#E5ECF6\",\"subunitcolor\":\"white\",\"showland\":true,\"showlakes\":true,\"lakecolor\":\"white\"},\"title\":{\"x\":0.05},\"mapbox\":{\"style\":\"light\"}}},\"xaxis\":{\"title\":{\"text\":\"Products\"},\"tickvals\":[]},\"title\":{\"text\":\"Real Price for Different Products\"},\"yaxis\":{\"title\":{\"text\":\"Real Price\"}},\"width\":1000,\"height\":800},                        {\"responsive\": true}                    ).then(function(){\n",
       "                            \n",
       "var gd = document.getElementById('dcd0f8aa-37eb-43cd-bd76-ae8b486b4179');\n",
       "var x = new MutationObserver(function (mutations, observer) {{\n",
       "        var display = window.getComputedStyle(gd).display;\n",
       "        if (!display || display === 'none') {{\n",
       "            console.log([gd, 'removed!']);\n",
       "            Plotly.purge(gd);\n",
       "            observer.disconnect();\n",
       "        }}\n",
       "}});\n",
       "\n",
       "// Listen for the removal of the full notebook cells\n",
       "var notebookContainer = gd.closest('#notebook-container');\n",
       "if (notebookContainer) {{\n",
       "    x.observe(notebookContainer, {childList: true});\n",
       "}}\n",
       "\n",
       "// Listen for the clearing of the current output cell\n",
       "var outputEl = gd.closest('.output');\n",
       "if (outputEl) {{\n",
       "    x.observe(outputEl, {childList: true});\n",
       "}}\n",
       "\n",
       "                        })                };                });            </script>        </div>"
      ]
     },
     "metadata": {},
     "output_type": "display_data"
    }
   ],
   "source": [
    "import pandas as pd\n",
    "import plotly.graph_objs as go\n",
    "import plotly.io as pio\n",
    "\n",
    "# Load data from Excel file\n",
    "df = pd.read_excel('front products.xlsx')\n",
    "\n",
    "# Filter columns containing product names and real prices\n",
    "product_cols = [col for col in df.columns if 'product' in col.lower()]\n",
    "price_cols = [col for col in df.columns if 'real price' in col.lower()]\n",
    "\n",
    "# Extract product names and real prices\n",
    "products = []\n",
    "prices = []\n",
    "for product_col, price_col in zip(product_cols, price_cols):\n",
    "    products.extend(df[product_col].dropna())\n",
    "    prices.extend(df[price_col].dropna())\n",
    "\n",
    "# Create a new DataFrame with the cleaned data\n",
    "cleaned_df = pd.DataFrame({'Product': products, 'Real Price': prices})\n",
    "\n",
    "# Create a bar graph\n",
    "fig = go.Figure()\n",
    "\n",
    "# Define custom colors for the bars\n",
    "colors = ['rgb(31, 119, 180)', 'rgb(255, 127, 14)', 'rgb(44, 160, 44)',\n",
    "          'rgb(214, 39, 40)', 'rgb(148, 103, 189)', 'rgb(140, 86, 75)',\n",
    "          'rgb(227, 119, 194)', 'rgb(127, 127, 127)', 'rgb(188, 189, 34)',\n",
    "          'rgb(23, 190, 207)']\n",
    "\n",
    "# Add bar trace for real price\n",
    "fig.add_trace(go.Bar(\n",
    "    x=cleaned_df.index,  # Use index as x-values\n",
    "    y=cleaned_df['Real Price'],\n",
    "    name='Real Price',\n",
    "    hoverinfo='text',  # Show hover labels\n",
    "    text=cleaned_df['Product'],  # Set hover labels to product names\n",
    "    marker=dict(color=colors),\n",
    "))\n",
    "\n",
    "# Update layout\n",
    "fig.update_layout(\n",
    "    title='Real Price for Different Products',\n",
    "    xaxis_title='Products',\n",
    "    yaxis_title='Real Price',\n",
    "    xaxis=dict(tickvals=[]),  # Remove tick values from x-axis\n",
    "    width=1000,  # Increase width\n",
    "    height=800,  # Increase height\n",
    ")\n",
    "\n",
    "# Show the plot\n",
    "pio.show(fig)\n"
   ]
  },
  {
   "cell_type": "code",
   "execution_count": 34,
   "id": "874cf7f5",
   "metadata": {},
   "outputs": [
    {
     "data": {
      "application/vnd.plotly.v1+json": {
       "config": {
        "plotlyServerURL": "https://plot.ly"
       },
       "data": [
        {
         "mode": "lines+markers",
         "name": "LABEL-1",
         "type": "scatter",
         "x": [
          "https://static-01.daraz.pk/p/71ae853f953bc8964c4dc1e1af035653.jpg_200x200q80-product.jpg_.webp",
          "https://static-01.daraz.pk/p/6f3ab016cb2420e4b6af4b61002e7af7.jpg_200x200q80-product.jpg_.webp",
          "https://static-01.daraz.pk/p/27d937c553d9e4aee4d2544eebacb8a1.jpg_200x200q80-product.jpg_.webp",
          null,
          "https://static-01.daraz.pk/p/469852247bd3a7df07784e46d3956ca7.png_200x200q80-product.jpg_.webp",
          "https://static-01.daraz.pk/p/a6005613838d526c32d61ac55a01957d.jpg_200x200q80-product.jpg_.webp",
          "https://static-01.daraz.pk/p/8c679008c9f18c5269f159da07809ef5.jpg_200x200q80-product.jpg_.webp",
          "https://static-01.daraz.pk/p/7bf416cb0e05ec9639a6ed120541f649.jpg_200x200q80-product.jpg_.webp",
          "https://pk-live-21.slatic.net/kf/Sf440430a6bf74745bc913306a3ea1df9v.jpg",
          "https://static-01.daraz.pk/p/ab46a63e4f6caf9fc739cfac8da13d02.jpg_200x200q80-product.jpg_.webp",
          "https://static-01.daraz.pk/p/b4861cff5710a6a288d9b1309c6fe5ec.jpg_200x200q80-product.jpg_.webp",
          "https://static-01.daraz.pk/p/f2750e8cff84324e59722adde5852117.jpg_200x200q80-product.jpg_.webp",
          "https://static-01.daraz.pk/p/72a47d19ae83b4f60610a591eb1da49c.jpg_200x200q80-product.jpg_.webp",
          "https://static-01.daraz.pk/p/4cd19815f1ed11d27cb2f5f0c0482418.jpg_200x200q80-product.jpg_.webp",
          "https://static-01.daraz.pk/p/3d220102107f01ce2a9ae09234fe98ad.jpg_200x200q80-product.jpg_.webp",
          "https://static-01.daraz.pk/p/8e6c6e8f45f75f30d30422428849935b.jpg_200x200q80-product.jpg_.webp",
          "https://static-01.daraz.pk/p/cdcd146106efb7fa26aa05986a89c990.jpg_200x200q80-product.jpg_.webp",
          "https://pk-live-21.slatic.net/kf/Sd0ade1ba581846499dc30d9b37c2450fc.jpg",
          "https://static-01.daraz.pk/p/f9103dc15c0855b2d466964fcdf63762.jpg_200x200q80-product.jpg_.webp",
          "https://static-01.daraz.pk/p/b0d56acd926b6b662b28da557124bc12.jpg_200x200q80-product.jpg_.webp",
          "https://static-01.daraz.pk/p/5097bcd9febcca665862edfe80c3bc0e.jpg_200x200q80-product.jpg_.webp",
          "https://static-01.daraz.pk/p/b7004eba21a70a244418d98a34d1fd3c.png_200x200q80-product.jpg_.webp",
          "https://static-01.daraz.pk/p/d915d599784d6746bacfa0096497c908.jpg_200x200q80-product.jpg_.webp",
          "https://static-01.daraz.pk/p/cb5ef07a4e9da6d22c8092da2912c22f.jpg_200x200q80-product.jpg_.webp",
          "https://static-01.daraz.pk/p/059b5f715f9c8b5cd6adcc7d70e7e831.jpg_200x200q80-product.jpg_.webp",
          "https://pk-live-21.slatic.net/kf/S32b63f33fabc4b4aa77c0ed85aa1c21e5.jpg",
          "https://static-01.daraz.pk/p/506378286dfc399c0870165789f16cc2.jpg_200x200q80-product.jpg_.webp",
          "https://static-01.daraz.pk/p/e5c432d64e788ba2c1b9eddad279a98b.png_200x200q80-product.jpg_.webp",
          "https://static-01.daraz.pk/p/b6ceb80f99791c8cf0b03eb296e36998.jpg_200x200q80-product.jpg_.webp",
          "https://static-01.daraz.pk/p/a69be8e0ef9173e3fae216c65c619db9.jpg_200x200q80-product.jpg_.webp",
          null,
          null,
          null,
          null,
          null,
          null,
          null
         ],
         "y": [
          "Wipers - Kitchen Shelf Cleaning Wiper - Windows/Mirror Cleaning Wiper",
          "Winter Cap and neck for Boy - Girls",
          "【Ready Stock+FREE Shipping+COD】Xiaomi Bluetooth 5.0 Earphones TWS Headphone True Wireless Earphone Touch Control Earbuds HiFi Stereo Sports Waterproof With Mic",
          null,
          "The Vintage Clothing Pack of 2 Hoodies For Men / Hoodies For Girls / Hoodies For Women Messi AW Allen Walker printed premium quality Hoodies For Men / Hoodies For Girls",
          "Beautious Eyebrow Stamp Shaping Kit, One Step Eyebrow Stamp Makeup with 3 Reusable Eyebrow Stencils and Eyebrow Pen Brushes Hairline Powder",
          "Original M10 & M19 & M28 M90 & i12 Double Wireless Bluetooth Hand Free with Power Bank Earphones White bluetooth ear phone for all cell phones use",
          "Stitched Heavy Embroidered Maxi with Koti (Separate Coaty) Party Wear Maxi Dresses For Women/Eid Collection/Wedding Dress For Women",
          "Winter Warm Thickening Wool Gloves Knitted Flip Fingerless Flexible Exposed Finger Thick Mittens for Men Women",
          "Multifunctional Portable Large Capacity Travel Cosmetic Bag with Handle Makeup Organizer Bag Storage Makeup Bag Waterproof PU Leather Travel Toiletry Bag for Women",
          "Stylish Printed Front Two Pocket Hooded Tracksuit For Men",
          "LOVE STYLE FONT NECKLACE, DOUBLE NAME NECKLACE, NAME LOCKET PERSONALIZED/CUSTOMIZED DESIGN NAME NECKLACE-(PERFECT GIFT TO SEND YOUR WIFE , FIANCE, HUSBAND, FATHER , OR ANY ONE)",
          "(Buy 1 Get 1 Free) New S10 Handsfree High Bass With Good Sound Quality",
          "Toiletry Bag Travel Cosmetic Bag, Shaving Kit, Grooming Makeup Bag Pouch for Men & Women, Black, GreyHigh Quality Toiletry Bag Men/Women travel Accessories with hanging option",
          "I7 Mini Bluetooth Headset Earbud Single Wireless Earphone With Mic Stereo For all phones",
          "Cool Sports Vacuum Flask Stainless Steel Water Bottle For School Kids",
          "Swetshirt And Pajama Trouser For Kids Baby Boys And Baby Girls Imported Comfy Winter Warm Tops Clothes Sets Dresses Outfit Jannat Store",
          "Silver Plating Couple Rings",
          "Zip card wallet Genuine Leather Minimalist Men's Purse Long Wallet For Men Bi Fold Simple Wallet Clasp Card Holder Wallet Small Wallet for Men and Boys - Slim and Smart Wallet Small Wallet for Men and Boys - Slim and Smart Wallet",
          "Men's Running Shoes Summer Mesh Genuine Breathable Mesh Shoes Casual Shoes Men Sports Shoes Size Breathable Sports Shoes Women Sneakers Sports Shoes Black Running Shoes",
          "Sogo Quartz Heater (JPN-94 / JPN-95)",
          "Beautious 4IN1 Super Skin Glowing Serum | 5% Niacinamide, 30% Vitamin C 10%, Vitamin E 10% & HA | 30 ml",
          "Girls Soft Half Finger Gloves Plush Fingerless Gloves",
          "Men Women Home Anti-slip Slipper Winter Warm Cotton House Indoor Slippers",
          "New Design 2 Piece Hand Bag With Small Carry Pouch & Long Strap",
          "A6s Bluetooth Earphones Tws In Ear Bluetooth 50 Running Sports Stereo Buttons With Microphone Wireless Headphones",
          "Beanie cap-Wool cap with neck warmer for men women| Winter cap for Unisex",
          "Hot Shaper Belt For Women Men Girls | Hot Shapper Belt For Hips Belly Fat Weight Loss Back Pain | Hot Shapers Slimming Belt Suana Sweat Belt Suit For Home Gym",
          "Infinix Hot 30 Back Rear Camera Protector 9H Gorilla Flexible Protection For Infinix Hot 30",
          "10Pcs Multi-function Spit Bone Dish Household Food Grade Plastic Spit Bone Dish Round Square Set Dining Table Garbage Plate",
          null,
          null,
          null,
          null,
          null,
          null,
          null
         ]
        },
        {
         "mode": "lines+markers",
         "name": "LABEL-3",
         "type": "scatter",
         "x": [
          "Rs.",
          "Rs.",
          "Rs.",
          null,
          "Rs.",
          "Rs.",
          "Rs.",
          "Rs.",
          "Rs.",
          "Rs.",
          "Rs.",
          "Rs.",
          "Rs.",
          "Rs.",
          "Rs.",
          "Rs.",
          "Rs.",
          "Rs.",
          "Rs.",
          "Rs.",
          "Rs.",
          "Rs.",
          "Rs.",
          "Rs.",
          "Rs.",
          "Rs.",
          "Rs.",
          "Rs.",
          "Rs.",
          "Rs.",
          null,
          null,
          null,
          null,
          null,
          null,
          null
         ],
         "y": [
          "149",
          "488",
          "1,399",
          null,
          "1,749",
          "319",
          "499",
          "1,575",
          "499",
          "999",
          "2,499",
          "619",
          "429",
          "430",
          "319",
          "947",
          "748",
          "550",
          "320",
          "999",
          "1,799",
          "269",
          "399",
          "349",
          "1,250",
          "2,901",
          "449",
          "341",
          "118",
          "415",
          null,
          null,
          null,
          null,
          null,
          null,
          null
         ]
        },
        {
         "mode": "lines+markers",
         "name": "LABEL-5",
         "type": "scatter",
         "x": [
          "Rs.",
          "Rs.",
          "Rs.",
          null,
          "Rs.",
          "Rs.",
          "Rs.",
          "Rs.",
          "Rs.",
          "Rs.",
          "Rs.",
          "Rs.",
          "Rs.",
          "Rs.",
          "Rs.",
          "Rs.",
          "Rs.",
          null,
          "Rs.",
          "Rs.",
          "Rs.",
          "Rs.",
          "Rs.",
          null,
          null,
          null,
          "Rs.",
          "Rs.",
          "Rs.",
          "Rs.",
          null,
          null,
          null,
          null,
          null,
          null,
          null
         ],
         "y": [
          "350",
          "999",
          "2,400",
          null,
          "2,500",
          "599",
          "1,600",
          "2,999",
          "696",
          "2,000",
          "3,299",
          "999",
          "1,800",
          "1,350",
          "1,000",
          "2,000",
          "1,400",
          null,
          "500",
          "1,500",
          "2,500",
          "499",
          "999",
          null,
          null,
          null,
          "900",
          "1,399",
          "195",
          "1,500",
          null,
          null,
          null,
          null,
          null,
          null,
          null
         ]
        },
        {
         "mode": "lines+markers",
         "name": "LABEL-7",
         "type": "scatter",
         "x": [
          "-57%",
          "-51%",
          "-42%",
          null,
          "-30%",
          "-47%",
          "-69%",
          "-47%",
          "-28%",
          "-50%",
          "-24%",
          "-38%",
          "-76%",
          "-68%",
          "-68%",
          "-53%",
          "-47%",
          null,
          "-36%",
          "-33%",
          "-28%",
          "-46%",
          "-60%",
          null,
          null,
          null,
          "-50%",
          "-76%",
          "-39%",
          "-72%",
          null,
          null,
          null,
          null,
          null,
          null,
          null
         ],
         "y": [
          "(306)",
          "(921)",
          "(128)",
          null,
          "(151)",
          "(406)",
          "(214)",
          "(15)",
          "(9)",
          "(45)",
          "(6)",
          "(15)",
          "(81)",
          "(398)",
          "(907)",
          "(589)",
          "(1050)",
          "(16)",
          "(149)",
          "(599)",
          "(124)",
          "(44)",
          "(178)",
          "(48)",
          "(581)",
          "(2072)",
          "(318)",
          "(411)",
          "(24)",
          "(38)",
          null,
          null,
          null,
          null,
          null,
          null,
          null
         ]
        },
        {
         "mode": "lines+markers",
         "name": "LABEL-9",
         "type": "scatter",
         "x": [
          "https://static-01.daraz.pk/p/c8bf94c7ee9b27c066997788706a2440.png_200x200q80-product.jpg_.webp",
          "https://static-01.daraz.pk/p/4af103f1a9fffc09897c848f98df6ed8.jpg_200x200q80-product.jpg_.webp",
          "https://static-01.daraz.pk/p/df1d003e9474d338dc74ecaf9a2a8c06.jpg_200x200q80-product.jpg_.webp",
          null,
          "https://static-01.daraz.pk/p/fc587c24e28a9963517f835b4481abc6.jpg_200x200q80-product.jpg_.webp",
          "https://pk-live-21.slatic.net/kf/S84b4559ef054444c8c1243ccf75c4c026.jpg",
          "https://pk-live-21.slatic.net/kf/S509df6205c4647089c46cbe2b7831344l.jpg",
          "https://static-01.daraz.pk/p/868a277aa0dd1c7ec1470f8aeff65758.jpg_200x200q80-product.jpg_.webp",
          "https://static-01.daraz.pk/p/09d4383a42e47925af80cd8631c4f313.jpg_200x200q80-product.jpg_.webp",
          "https://static-01.daraz.pk/p/2c2ab66f6afb090cf7a19aef24fc6e2e.jpg_200x200q80-product.jpg_.webp",
          "https://static-01.daraz.pk/p/547236861adba4a9d28e300506198bc3.jpg_200x200q80-product.jpg_.webp",
          "https://static-01.daraz.pk/p/e50ed4f81d4537622747a807ab5d3944.jpg_200x200q80-product.jpg_.webp",
          "https://pk-live-21.slatic.net/kf/Sa52befac5a874702a4f4dd5c5c0796a0M.jpg",
          "https://static-01.daraz.pk/p/04f39c0b9a5c8aef901d77fd5356430d.jpg_200x200q80-product.jpg_.webp",
          "https://static-01.daraz.pk/p/54dab5bcbcc1794b94bd8f9a625e8f0e.jpg_200x200q80-product.jpg_.webp",
          "https://static-01.daraz.pk/p/7c2972d0d8e0d1c43905d358ea5c27c4.jpg_200x200q80-product.jpg_.webp",
          "https://static-01.daraz.pk/p/79a7091876e67954df5afdbaffc293a2.jpg_200x200q80-product.jpg_.webp",
          "https://static-01.daraz.pk/p/9950bb2aa955d6baef570d1658dd1d1b.jpg_200x200q80-product.jpg_.webp",
          "https://static-01.daraz.pk/p/c04e62be1ad2bbe0f1181456da1e650e.jpg_200x200q80-product.jpg_.webp",
          "https://static-01.daraz.pk/p/97b48170866dbf89287353d6513e265e.jpg_200x200q80-product.jpg_.webp",
          "https://static-01.daraz.pk/p/24b52b23cee2db1f02a4c9c1db82bbb5.jpg_200x200q80-product.jpg_.webp",
          "https://pk-live-21.slatic.net/kf/S52ad67c6bb354d7f859dbdd870841527Y.jpg",
          "https://pk-live-21.slatic.net/kf/Sd36b5ba1f78847ab95c7e17b7a92a874q.jpg",
          "https://static-01.daraz.pk/p/34db63b43b5bbe0b74b5ddac00f38074.jpg_200x200q80-product.jpg_.webp",
          "https://pk-live-21.slatic.net/kf/S0be3a49eef744ea0a5443ca08c6add92A.jpg",
          "https://static-01.daraz.pk/p/de675f79e3a830e5c7926f8ff491e64a.jpg_200x200q80-product.jpg_.webp",
          "https://static-01.daraz.pk/p/6ecf4f222681706089c91358ff543ff7.jpg_200x200q80-product.jpg_.webp",
          "https://static-01.daraz.pk/p/62e549fdb77c7453b84c154c2fa52625.jpg_200x200q80-product.jpg_.webp",
          "https://pk-live-21.slatic.net/kf/S1cdf55fa7ede450ba58a99b78b21b949F.jpg",
          "https://static-01.daraz.pk/p/8b350c0dbb44e8d1fdb623dbb9653125.jpg_200x200q80-product.jpg_.webp",
          null,
          null,
          null,
          null,
          null,
          null,
          null
         ],
         "y": [
          "Flowery Pore-Refining Treatment Gel (Niacinamide + Witch-hazel) - 50g",
          "caps for men cap winter cap songting cap and neck fleece benie cap warm cap garam hot",
          "Oud Collection - Arabic Perfumes Dirham_Men - Eau De Perfume - 100ml Long Lasting Frangrances",
          null,
          "Clothes Storage Bags Organizer Under Bed Storage , 43L, Grey",
          "Upgraded Version V5.2 Chip TWS G11 Wireless Outdoor Sports Wireless Headset Gaming Earbuds Esports Listening Music Universal",
          "Ladies Luxury Golden Fashion Watch For Women's Ladies Classical Edition Special Watch for Ladies And Girls",
          "Men's Running Shoes Men's Slip-on Shoes Tennis Walking Casual Shoes Black Gym Breathable Work Shoes fashion shoes sneakers for men",
          "Branded Watch For Men and Boys Latest Design Wrist Watches in Multicolor",
          "Sunaina Textile 3 Piece Malai Linen Printed Unstitched Winter Collection Fabric for Girls/Womens Sunaina Vol-34",
          "Original i12 Tws Touch Sensor Airpods_  m10 m28/ Earphones With Charging Case Dock For All Mobiles",
          "Cotton Satin Double Bedsheet Embroided",
          "5PCS Set Women Starry Sky Dial Watch Brand Design Female Clock Blue Leather Band Ladies Watches Simple Casual Womens WristWatch",
          "Home & Office Multipurpose Plastic Rack / Room Organizer Home & Office Multipurpose  Plastic Rack / Room Organizer /  Shoe Rack Brown Art # SS-SSRm01",
          "Fashion Women Hand Wrist Warmer Winter Fingerless Knitted Gloves Random colors",
          "Lifestyle Glory Heart Wooden Clock With Premium Light I The New Wooden Wall Clock Big Size I Wall Clock I Wooden Wall Clock I Wall clocks for bedroom I Wall Clocks for drawing room I Wooden Wall Clocks for bedroom",
          "Glorya Decor Qul Clock Wooden Islamic Calligraphy I The New Premium Wooden Wall Clock Light Big Size I Wall Clock Wooden Wall Clock I Wall clocks for bedroom I Quartz Watch DIY Design Decoration Piece for Home Decor I Offices and for Gift Items",
          "Wanter - 100Pcs / Square Almond Oval Coffin Shape Natural & Transparent Color Artificial Nails Kit Fakee Nails Acrylic Nails For Girls Beautiful Nails Falsee Nails",
          "Men's Running Shoes Men's Slip-on Shoes Tennis Walking Casual Shoes Black Gym Breathable Rubber Work Shoes fashin shoes",
          "Birds on Tree 3D Wooden DIY Wall Clock Numeral Quartz Watch Hanging Decoration Piece for Home Decor and Girls Room Bed Rooms and for Gifts Item",
          "Stitched Namaz chadar Prayer Shawl with Sleeves",
          "Flowers Printed Zipper For Women Girls Customized By aarwah Emaan",
          "Customize Ring With your name engraved On Ring",
          "Winter Zipper Jacket Trouser Tracksuit",
          "Soap Holder Premium Quality - Soap Dish - Soap Box - Bathroom Accessories Sets Washroom Friendly Products Bathroom Products Non-perforated Shell Shape Soap Holder",
          "Pack of 2 Black Titanium Finger Ring & Black Bar Chain For Man Woman",
          "OASIS BLUE Fashion Women Faux Rebbit Fur Hand Wrist Warmer Winter Fingerless Knitted Gloves",
          "Microfiber Bathing Quick Dry Hair Cap Turban Wrap Towel Hat Hair-drying",
          "NEW TRENDY WINTER COLLECTION PLANE BASIC SKIN COLOUR HOODIE FOR MENS",
          "Tube cap for winter season outclass stuff / Inner Tube cap / Inner hijab cap / Under scarf cap for hijab",
          null,
          null,
          null,
          null,
          null,
          null,
          null
         ]
        },
        {
         "mode": "lines+markers",
         "name": "LABEL-11",
         "type": "scatter",
         "x": [
          "Rs.",
          "Rs.",
          "Rs.",
          null,
          "Rs.",
          "Rs.",
          "Rs.",
          "Rs.",
          "Rs.",
          "Rs.",
          "Rs.",
          "Rs.",
          "Rs.",
          "Rs.",
          "Rs.",
          "Rs.",
          "Rs.",
          "Rs.",
          "Rs.",
          "Rs.",
          "Rs.",
          "Rs.",
          "Rs.",
          "Rs.",
          "Rs.",
          "Rs.",
          "Rs.",
          "Rs.",
          "Rs.",
          "Rs.",
          null,
          null,
          null,
          null,
          null,
          null,
          null
         ],
         "y": [
          "199",
          "450",
          "299",
          null,
          "107",
          "4,573",
          "899",
          "1,399",
          "279",
          "550",
          "749",
          "975",
          "2,842",
          "449",
          "315",
          "375",
          "299",
          "249",
          "999",
          "289",
          "840",
          "1,029",
          "199",
          "1,298",
          "242",
          "125",
          "335",
          "120",
          "797",
          "160",
          null,
          null,
          null,
          null,
          null,
          null,
          null
         ]
        },
        {
         "mode": "lines+markers",
         "name": "LABEL-13",
         "type": "scatter",
         "x": [
          "Rs.",
          "Rs.",
          "Rs.",
          null,
          "Rs.",
          null,
          "Rs.",
          "Rs.",
          "Rs.",
          "Rs.",
          "Rs.",
          "Rs.",
          null,
          "Rs.",
          "Rs.",
          "Rs.",
          "Rs.",
          "Rs.",
          "Rs.",
          "Rs.",
          "Rs.",
          "Rs.",
          "Rs.",
          "Rs.",
          "Rs.",
          "Rs.",
          "Rs.",
          "Rs.",
          null,
          "Rs.",
          null,
          null,
          null,
          null,
          null,
          null,
          null
         ],
         "y": [
          "399",
          "1,500",
          "999",
          null,
          "200",
          null,
          "2,499",
          "2,299",
          "899",
          "650",
          "2,999",
          "1,500",
          null,
          "898",
          "499",
          "1,000",
          "1,000",
          "299",
          "1,699",
          "1,499",
          "1,599",
          "1,999",
          "700",
          "2,000",
          "399",
          "450",
          "999",
          "399",
          null,
          "350",
          null,
          null,
          null,
          null,
          null,
          null,
          null
         ]
        },
        {
         "mode": "lines+markers",
         "name": "LABEL-15",
         "type": "scatter",
         "x": [
          "-50%",
          "-70%",
          "-70%",
          null,
          "-47%",
          null,
          "-64%",
          "-39%",
          "-69%",
          "-15%",
          "-75%",
          "-35%",
          null,
          "-50%",
          "-37%",
          "-63%",
          "-70%",
          "-17%",
          "-41%",
          "-81%",
          "-47%",
          "-49%",
          "-72%",
          "-35%",
          "-39%",
          "-72%",
          "-66%",
          "-70%",
          null,
          "-54%",
          null,
          null,
          null,
          null,
          null,
          null,
          null
         ],
         "y": [
          "(48)",
          "(75)",
          "(10)",
          null,
          "(403)",
          "(827)",
          "(25)",
          "(47)",
          "(4)",
          "(40)",
          "(1047)",
          "(977)",
          "(234)",
          "(597)",
          "(22)",
          "(6074)",
          "(106)",
          "(4612)",
          "(6632)",
          "(976)",
          "(183)",
          "(25)",
          "(137)",
          "(72)",
          "(123)",
          "(46)",
          "(20)",
          "(1)",
          "(25)",
          "(23)",
          null,
          null,
          null,
          null,
          null,
          null,
          null
         ]
        },
        {
         "mode": "lines+markers",
         "name": "LABEL-17",
         "type": "scatter",
         "x": [
          "https://static-01.daraz.pk/p/2ec8a4dce3c166887a38a3a8b3bd1d9d.jpg_200x200q80-product.jpg_.webp",
          "https://static-01.daraz.pk/p/c7a925e890fef07f606b81b655e99a97.jpg_200x200q80-product.jpg_.webp",
          "https://pk-live-21.slatic.net/kf/Sbb9527030584489fae259b8b10ad61c67.jpg",
          null,
          "https://static-01.daraz.pk/p/8ff3f0759bd8ce606bf6bc945a608f19.jpg_200x200q80-product.jpg_.webp",
          "https://static-01.daraz.pk/p/7e9ec02650c5ab937eae001f82e9b7b4.jpg_200x200q80-product.jpg_.webp",
          "https://static-01.daraz.pk/p/a5a14a4ba0248655d9f41e79440668ec.jpg_200x200q80-product.jpg_.webp",
          "https://static-01.daraz.pk/p/9ff19b7a55ee0674d23c6cd9844b8047.jpg_200x200q80-product.jpg_.webp",
          "https://static-01.daraz.pk/p/abfa67bbfccf87a4ac15b24291d50c22.jpg_200x200q80-product.jpg_.webp",
          "https://static-01.daraz.pk/p/9c27a943f1d7474800c2e42f8f3db41a.jpg_200x200q80-product.jpg_.webp",
          "https://static-01.daraz.pk/p/5c2efef8076524a8e6c7a8e35ff1b275.jpg_200x200q80-product.jpg_.webp",
          "https://static-01.daraz.pk/p/ec6203142236c30f3824cd3abe5c4845.png_200x200q80-product.jpg_.webp",
          "https://pk-live-21.slatic.net/kf/Sc1e8b010d3af4a0ea13c1db794bb4355v.jpg",
          "https://static-01.daraz.pk/p/7b9e9e31b1c571880f2fb1c48aaaf23c.jpg_200x200q80-product.jpg_.webp",
          "https://pk-live-21.slatic.net/kf/Sc7d24dd1c851404d94b3badd79374b10i.jpg",
          "https://static-01.daraz.pk/p/60bffe82dcfef3a58558d53f836929a0.jpg_200x200q80-product.jpg_.webp",
          "https://pk-live-21.slatic.net/kf/S121371a58bf340fca08d5767da0de739z.jpg",
          "https://static-01.daraz.pk/p/65f1571d36624705314f9fad040062ca.jpg_200x200q80-product.jpg_.webp",
          "https://static-01.daraz.pk/p/67ac5d8ccc353c558313b63593af2982.jpg_200x200q80-product.jpg_.webp",
          "https://static-01.daraz.pk/p/e3f1df422bc423706380e1df419b4a00.jpg_200x200q80-product.jpg_.webp",
          "https://static-01.daraz.pk/p/9eb2cccd19d87c632d2b3917b08e2fb8.jpg_200x200q80-product.jpg_.webp",
          "https://pk-live-21.slatic.net/kf/S3c412dfce22f43d99986013ba1f1a6d7b.jpg",
          "https://static-01.daraz.pk/p/f70c177bc49657a6c4b45d2f338f9306.jpg_200x200q80-product.jpg_.webp",
          "https://static-01.daraz.pk/p/8cb7a4ff4a7c92412f6db321480e4a50.png_200x200q80-product.jpg_.webp",
          "https://pk-live-21.slatic.net/kf/Se3636ef1115348fe97db41f0e84c5da8A.jpg",
          "https://static-01.daraz.pk/p/dbdd09eb18f236ac3601b5320a7e7eaf.jpg_200x200q80-product.jpg_.webp",
          "https://static-01.daraz.pk/p/499cc5290747a24157492e08efe737fe.jpg_200x200q80-product.jpg_.webp",
          "https://static-01.daraz.pk/p/de675f79e3a830e5c7926f8ff491e64a.jpg_200x200q80-product.jpg_.webp",
          "https://static-01.daraz.pk/p/170056af5405c275e85cc05be4f5f3a1.jpg_200x200q80-product.jpg_.webp",
          "https://static-01.daraz.pk/p/1783fb3a0a2f0f5fef954dbab372abc0.jpg_200x200q80-product.jpg_.webp",
          null,
          null,
          null,
          null,
          null,
          null,
          null
         ],
         "y": [
          "https://img.alicdn.com/imgextra/i2/O1CN01m9OC6a1UK86X51Dcq_!!6000000002498-2-tps-108-54.png",
          "https://img.alicdn.com/imgextra/i2/O1CN01m9OC6a1UK86X51Dcq_!!6000000002498-2-tps-108-54.png",
          null,
          null,
          null,
          null,
          null,
          null,
          "https://img.alicdn.com/imgextra/i2/O1CN01m9OC6a1UK86X51Dcq_!!6000000002498-2-tps-108-54.png",
          null,
          "https://img.alicdn.com/imgextra/i2/O1CN01m9OC6a1UK86X51Dcq_!!6000000002498-2-tps-108-54.png",
          null,
          null,
          null,
          null,
          null,
          null,
          null,
          "https://img.alicdn.com/imgextra/i2/O1CN01m9OC6a1UK86X51Dcq_!!6000000002498-2-tps-108-54.png",
          null,
          null,
          null,
          null,
          null,
          null,
          null,
          null,
          null,
          null,
          null,
          null,
          null,
          null,
          null,
          null,
          null,
          null
         ]
        },
        {
         "mode": "lines+markers",
         "name": "product3",
         "type": "scatter",
         "x": [
          "Christine Princess Lipstick - Shade 304",
          "ENRAX CART Winter Solid Color Faux Rabbit  Gloves Arm Sleeve Cover Warmer Fingerless Wrist Gloves Knitted Mitten Fashion Women Gloves",
          "6pcs Square Quartz Watch Dainty Bracelets Set Women Black White Watch Dial Leather Strap Heart Leaf Infinity Bracelets Set",
          null,
          "Waterproof Jelly Solid Lipstick  Moisturizing Long Lasting Red Lip Balm  High Color Rendering Smoothing Jelly Lipstick",
          "2 Portable Digital USB Mini Stereo Wired Speakers For Laptop/PC/Mobile - Black/White",
          "Multifunction Kitchen Food chopper Machine onion chopper Hand Pull Speedy Chopper Turbo Cutter Nicer Dicer Plus Garlic Press small meat Shredders Grinder Mincer Mixer Blender can cut fruits/vegetables/nuts/herbs/onions/garlic/chili",
          "Stylish HAND WITH CUP printed Fleece Pull Over Hoodie",
          "AT Heart Wooden Clock With Premium Light I The New Wooden Wall Clock Big Size I Wall Clock I Wooden Wall Clock I Wall clocks for bedroom I Wall Clocks for drawing room I Wooden Wall Clocks for bedroom",
          "Pack of 3 - 4-Colors Non-woven Foldable Clothes Quilt Clothes Storage Bag Organizer Box New-L",
          "Latest Casual Sneaker, Lace Up Light Weight Shoes for Running, walking",
          "Modern 3D Brick Wallpaper Self Adhesive Waterproof Wall Panel Living Room Mould Proof Wall Sticker Formaldehyde-free Home Decor",
          "Top Brand Luxury Fashion Calendar Watch Men Nylon Strap Clock Sport Watches Mens Quartz Wristwatch Relogio Masculino",
          "USB Rechargeable and Solar Charging Emergency flashlight Portable Emergency Light With Charging Cable 3 Types of Lighting System",
          "6 PCS New Lxury Love Rhinestone Jewelry Ladies Ring Necklace Earrings Bracelet Set Simple Digital Leather Strap Quartz Watch",
          "AirPods_Pro Wireless Earbuds Bluetooth 5.0, Super Sound Bass, Charging Case and Extra Ear-Buds, Pop-Up Feature Compatible with All Devices",
          "New  Flat Slippers for girls and women",
          "Natural Liquid Blush - Air Cushion Liquid Blush - Cheek Liquid Blusher",
          "AKE - Motorcycle Half Face Mask Winter Wear Beard cold Protection Mask Black Red Blue Multi Color",
          "12v DC 50W LED for Solar and Battery Operated only Flood Light Waterproof For Outdoor",
          "Flexible tripod phone holder foam",
          "Solar Powered Rechargeable LED Multifunctional Portable Light USB Dual Light Source Outdoor Searchlight Camping Light Strong Fla",
          "Beautious Pack of 5 Mini Matte Lipsticks Red Brown pink lipstick",
          "Electric Room Heater/ Electric Heater With Safety Switch(400W)",
          "Chest Bag New Men Simple Nylon Fashion Waterproof One Shoulder Crossbody Bag",
          "1pair Winter Warm Plush Leg Warmers Knee Brace Support Thermal Long Leg Sleeves",
          "Large Storage Bags, Storage Bag Clothes Storage Box Bins Foldable Closet Organizers Storage Containers with Durable Handles Thick Fabric for Blanket Comforter Clothing Bedding",
          "Black Titanium Finger Ring With Cuboid Rectangle Neck Pendant Chain Necklace For Boys And Men (Pack Of 2)",
          "Very stylish smart Soap holder for bathroom soap dish modern style and space saving leaf shape soap holder self draining bathroom fitting",
          "I9 Ultra Max Smart Watch 2.19 Inch Full Touch Smartwatch Wireless Charging Bluetooth Call Watch Sport Woman Men Smartwatch",
          null,
          null,
          null,
          null,
          null,
          null,
          null
         ],
         "y": [
          "Rs.",
          "Rs.",
          "Rs.",
          null,
          "Rs.",
          "Rs.",
          "Rs.",
          "Rs.",
          "Rs.",
          "Rs.",
          "Rs.",
          "Rs.",
          "Rs.",
          "Rs.",
          "Rs.",
          "Rs.",
          "Rs.",
          "Rs.",
          "Rs.",
          "Rs.",
          "Rs.",
          "Rs.",
          "Rs.",
          "Rs.",
          "Rs.",
          "Rs.",
          "Rs.",
          "Rs.",
          "Rs.",
          "Rs.",
          null,
          null,
          null,
          null,
          null,
          null,
          null
         ]
        },
        {
         "mode": "lines+markers",
         "name": "real price.1",
         "type": "scatter",
         "x": [
          "280",
          "335",
          "2,992",
          null,
          "356",
          "509",
          "497",
          "1,099",
          "345",
          "271",
          "999",
          "228",
          "2,777",
          "949",
          "4,388",
          "2,128",
          "599",
          "299",
          "268",
          "799",
          "179",
          "6,455",
          "215",
          "1,585",
          "4,100",
          "499",
          "79",
          "115",
          "279",
          "1,999",
          null,
          null,
          null,
          null,
          null,
          null,
          null
         ],
         "y": [
          "(510)",
          "(87)",
          "(763)",
          null,
          "(13)",
          "(743)",
          "(307)",
          "(107)",
          "(48)",
          "(157)",
          "(633)",
          "(14)",
          "(198)",
          "(7)",
          "(111)",
          "(2899)",
          "(61)",
          "(11)",
          "(1646)",
          "(246)",
          "(110)",
          "(3)",
          "(1548)",
          "(680)",
          "(452)",
          "(90)",
          "(23)",
          "(271)",
          "(804)",
          "(273)",
          null,
          null,
          null,
          null,
          null,
          null,
          null
         ]
        },
        {
         "mode": "lines+markers",
         "name": "LABEL-23",
         "type": "scatter",
         "x": [
          "https://static-01.daraz.pk/p/90d26ddfd00a193f3e68cdde3bd8b3cb.jpg_200x200q80-product.jpg_.webp",
          "https://static-01.daraz.pk/p/a51243f44523cade41fa9164c8451003.jpg_200x200q80-product.jpg_.webp",
          "https://static-01.daraz.pk/p/11ac93debc32f876fe77ab12d31a9b54.jpg_200x200q80-product.jpg_.webp",
          null,
          "https://static-01.daraz.pk/p/6c068b6a4bfcb6fd3cfba2dda875a39d.jpg_200x200q80-product.jpg_.webp",
          "https://static-01.daraz.pk/p/0c73e9ddaf1c7f33e30f64c4c4830d37.jpg_200x200q80-product.jpg_.webp",
          "https://static-01.daraz.pk/p/f3615f35eca216e5a8a40aa75abd8bd0.jpg_200x200q80-product.jpg_.webp",
          "https://static-01.daraz.pk/p/26bbbdc233ddb437c993750d812bb5a9.png_200x200q80-product.jpg_.webp",
          "https://static-01.daraz.pk/p/6c27a5ebfe41ca95927f94bb08a8e837.jpg_200x200q80-product.jpg_.webp",
          "https://pk-live-21.slatic.net/kf/S1768b9ac1a99469d9f19c3874d2617edJ.jpg",
          "https://static-01.daraz.pk/p/e91d0472e52fba5e5ddaac54d10d4ba0.jpg_200x200q80-product.jpg_.webp",
          "https://static-01.daraz.pk/p/653a8f055fd71a34dcb6e188c19336e9.jpg_200x200q80-product.jpg_.webp",
          "https://static-01.daraz.pk/p/1903f6b3a3aaccc24f19bfb8b04d7be3.jpg_200x200q80-product.jpg_.webp",
          "https://static-01.daraz.pk/p/86a884929920900a55ce6b8217116ff2.jpg_200x200q80-product.jpg_.webp",
          "https://static-01.daraz.pk/p/d3eee195127ff169c00bd6343be33a93.jpg_200x200q80-product.jpg_.webp",
          "https://static-01.daraz.pk/p/caaff909403be1fe2fbae65bc10c375a.jpg_200x200q80-product.jpg_.webp",
          "https://static-01.daraz.pk/p/07632bf6626c34c9ed3c9ff3db040396.jpg_200x200q80-product.jpg_.webp",
          "https://static-01.daraz.pk/p/82c357c91c07343872ac4301c6ac510c.jpg_200x200q80-product.jpg_.webp",
          "https://static-01.daraz.pk/p/29bff0d213799e89fa32f0868dd3210b.jpg_200x200q80-product.jpg_.webp",
          "https://static-01.daraz.pk/p/db16459a47e435da7d080c91b1be7d5a.jpg_200x200q80-product.jpg_.webp",
          "https://static-01.daraz.pk/p/06ccafa248100ac6229eb029132f3155.jpg_200x200q80-product.jpg_.webp",
          "https://static-01.daraz.pk/p/d826554f0ddec46249ebf208513c892c.jpg_200x200q80-product.jpg_.webp",
          "https://static-01.daraz.pk/p/e9ba89c9646ad42e2fa9b7c29d8d0a40.jpg_200x200q80-product.jpg_.webp",
          "https://static-01.daraz.pk/p/1ffd44b36a8bbee8e65f338e78d6d400.jpg_200x200q80-product.jpg_.webp",
          "https://static-01.daraz.pk/p/ee83b88088d97c09a026ec852fb0bb06.jpg_200x200q80-product.jpg_.webp",
          "https://static-01.daraz.pk/p/838c3c0e331abb10afbe9af4fc8e87b3.jpg_200x200q80-product.jpg_.webp",
          "https://static-01.daraz.pk/p/2cd851a1811a0a1d6f7ec3423aea2e62.jpg_200x200q80-product.jpg_.webp",
          "https://static-01.daraz.pk/p/2f31d6f26bc66a66707b69c872c59439.jpg_200x200q80-product.jpg_.webp",
          "https://pk-live-21.slatic.net/kf/S2cf566d4d10a437aba3f52e578a704f7b.jpg",
          "https://static-01.daraz.pk/p/52cfcb1687f8aee65c24fc97f50090c0.jpg_200x200q80-product.jpg_.webp",
          null,
          null,
          null,
          null,
          null,
          null,
          null
         ],
         "y": [
          "Women;s bag's Hand bags and shoulder Cross Body bag at discounted Price",
          "Crystal Hair Remover, Comprehensive Solution for Painless Removal with Nano  Glass, Portable, Useful Manual Epilator Perfectly Designed for Women's Under-arms, Hand, Legs, Bikini, and Body Grooming",
          "T500 Ultra Pro Plus Smart Watch 44mm| Smart Watch For Men And Women | Bluetooth Connectivity | High Quality Budget Smart Watch",
          null,
          "Rorec White Rice Serum for Face Whitening Fine Lines Makeup Primer Serum 15ml",
          "Hair Oil Applicator Bottle, Root oiling Comb bottle for Hair Coloring, Shampoo, Oiling, Dye, and Scalp Treatment for home & commercial ( Empty Bottle )",
          "Winter Stylish Pocket Zipper Jacket For Men/ Upper /Bomber Jacket For Men - Heavy Fleece Material - Stay Warm And Stylish In Winter",
          "Manual chopper -  manual chopper 3 blades, manual speedy chopper, hand use chopper, speedy chopper manual hand push, vegetable chopper, manual food chopper, manual chopper machine, meat chopper, electric free manual chopper, m",
          "Toothpaste Dispenser With 5 Brush Holder Wall Mounted Automatic Hands Free Toothpaste Dispenser",
          "Waist Trimmer Unisex Belly Wrap Workout Sports Sweat Band AB Trainer Weight Loss Body Shaper Tummy Control Slimming Belt",
          "Happy Birthday Decoration Set Theme Including 30 Balloons ( 10 Blue 10 White 10 Silver) 4 confetti Balloons Blue Happy Birthday Banner or Silver Foil Curtain",
          "Winter Women Half-finger Flip-top Gloves Student Cute Girl Cartoon Warm",
          "Octopus Head Relaxing Massager - Massager - Head Massager",
          "SastaaE 3 PC Unstitched Kataan Silk Plain Shirt & Trouser With Organza Lining Dupatta - Mehroon",
          "Ultralight Breathable Mesh Men Training Casual Gray Sneakers Sports Shoes Lightweight Athletic Running Shoes",
          "800W Space Heater Small Electric Ceramic Heater 2 Power Level Knob Switch For Dormitory",
          "Home & Office Multipurpose Plastic Rack / Room Organizer Home & Office Multipurpose  Plastic Rack / Room Organizer /  Shoe Rack Art # SS-SSR01",
          "Crystals Chokar Set with Stud Earrings - Double Layered Choker Necklace",
          "Posture belt, posture corrector belt, Back support belt, Back Pain Relief Shoulder Back Support Belt",
          "Designer Fully Heavy Embroidered Flower Stitched Silk Maxi With Embroidered Koti For Girls - Elevate Your Style With A Designer Embroidered Maxi",
          "Bag X Luxury 3 piece Bag set Women's Cross Body & Shoulder Bag - hand bag for girls , bags for girls , Bags for women , Large Capacity Women Bag Ladies Leather Tote Fashion Shoulder Bags for Women 2023 Wallet",
          "Fleece Printed Pull Over Hoodie for Men with original picture  - Black",
          "RichMan_Winter Grey and Black Hoodie Track Suit for Man",
          "Sleeveless jackets for men  and boys",
          "High quality wooden wall clock | Flower shaped wall clock | flower shaped wooden wall clock",
          "Portable Lint Remover Clothes Fuzz Fabric Shaver Brush Tool Power-Free Fluff Removing Roller For Sweater Woven Coat",
          "The Jewel Lodge name lockets for girls in urdu, Name Jewelry, Customize Necklace Name, customized name necklace, Momina name locket",
          "High quality wooden wall clock | Bird shaped wall clock | bird shaped wooden wall clock",
          "Travel Mini Hair Flat Iron 2 in 1 Hair Straightener Hair Curler Ceramic Plate",
          "Fashion Solid Color Shoulder Bag Crossbody Bags Women Leather Woven Bag Purse Podazz",
          null,
          null,
          null,
          null,
          null,
          null,
          null
         ]
        },
        {
         "mode": "lines+markers",
         "name": "LABEL-25",
         "type": "scatter",
         "x": [
          "Rs.",
          "Rs.",
          "Rs.",
          null,
          "Rs.",
          "Rs.",
          "Rs.",
          "Rs.",
          "Rs.",
          "Rs.",
          "Rs.",
          "Rs.",
          "Rs.",
          "Rs.",
          "Rs.",
          "Rs.",
          "Rs.",
          "Rs.",
          "Rs.",
          "Rs.",
          "Rs.",
          "Rs.",
          "Rs.",
          "Rs.",
          "Rs.",
          "Rs.",
          "Rs.",
          "Rs.",
          "Rs.",
          "Rs.",
          null,
          null,
          null,
          null,
          null,
          null,
          null
         ],
         "y": [
          "649",
          "259",
          "1,429",
          null,
          "399",
          "84",
          "2,599",
          "599",
          "350",
          "2,992",
          "279",
          "543",
          "118",
          "740",
          "799",
          "1,485",
          "449",
          "299",
          "579",
          "1,599",
          "2,399",
          "799",
          "1,499",
          "1,799",
          "299",
          "729",
          "649",
          "379",
          "559",
          "998",
          null,
          null,
          null,
          null,
          null,
          null,
          null
         ]
        },
        {
         "mode": "lines+markers",
         "name": "LABEL-27",
         "type": "scatter",
         "x": [
          "(1103)",
          "(231)",
          "(768)",
          null,
          "(554)",
          "(351)",
          "(21)",
          "(59)",
          "(14)",
          "(178)",
          "(194)",
          "(4)",
          "(116)",
          "(153)",
          "(958)",
          "(150)",
          "(61)",
          "(78)",
          "(7)",
          "(2316)",
          "(1857)",
          "(292)",
          "(103)",
          "(153)",
          "(2983)",
          "(102)",
          "(101)",
          "(758)",
          "(36)",
          "(292)",
          null,
          null,
          null,
          null,
          null,
          null,
          null
         ],
         "y": [
          "https://static-01.daraz.pk/p/d3056deae6ba26fc8950d15acc0a4624.jpg_200x200q80-product.jpg_.webp",
          "https://static-01.daraz.pk/p/5873ad4a53f1d8f8672a3e87d6598f32.jpg_200x200q80-product.jpg_.webp",
          "https://static-01.daraz.pk/p/d63b55b0cd6e0f31144291f8901dc25d.jpg_200x200q80-product.jpg_.webp",
          null,
          "https://static-01.daraz.pk/p/528d9b163b11533936f4486de930d163.jpg_200x200q80-product.jpg_.webp",
          "https://static-01.daraz.pk/p/ec5d587ba6f55bd3b573ce957e6b0732.jpg_200x200q80-product.jpg_.webp",
          "https://static-01.daraz.pk/p/927e29a2c76108e650bc6f6de673d248.jpg_200x200q80-product.jpg_.webp",
          "https://static-01.daraz.pk/p/f86ea44c54967f928a80b9acfc6b4305.jpg_200x200q80-product.jpg_.webp",
          "https://static-01.daraz.pk/p/0c07859495904e963be14548e37c92d2.jpg_200x200q80-product.jpg_.webp",
          "https://static-01.daraz.pk/p/604388b4fb9b0fa8316b5e98be57f887.jpg_200x200q80-product.jpg_.webp",
          "https://static-01.daraz.pk/p/59eb608b46bfbde45c6c637b706198fb.jpg_200x200q80-product.jpg_.webp",
          "https://static-01.daraz.pk/p/65ff1311b74f90e7f1bd6a3f22b106e7.jpg_200x200q80-product.jpg_.webp",
          "https://static-01.daraz.pk/p/6892a4c07c9c8b86b3a0f98a6ed238b6.jpg_200x200q80-product.jpg_.webp",
          "https://static-01.daraz.pk/p/5dc9538fb982afcf65c965bd59c00416.jpg_200x200q80-product.jpg_.webp",
          "https://static-01.daraz.pk/p/e58fb1fa34bd13d925b38edbd6f65a89.jpg_200x200q80-product.jpg_.webp",
          "https://pk-live-21.slatic.net/kf/Sbb7253778af14443917a7c0fc501b6020.jpg",
          "https://pk-live-21.slatic.net/kf/S40e541a978424c48afab0b52df80249eX.jpg",
          "https://static-01.daraz.pk/p/45b2cbc08b9d85db52f50c3bb127f171.jpg_200x200q80-product.jpg_.webp",
          "https://static-01.daraz.pk/p/89bbc6e33a5e4211a3a26c45e8c26b61.jpg_200x200q80-product.jpg_.webp",
          "https://pk-live-21.slatic.net/kf/S5495cc7b11554befa95be27a661a8760B.jpg",
          "https://static-01.daraz.pk/p/996dc51794e0c9edfe02b1a7b33351a7.jpg_200x200q80-product.jpg_.webp",
          "https://static-01.daraz.pk/p/10d2d7c6563b18a4bcc579b66558d920.jpg_200x200q80-product.jpg_.webp",
          "https://static-01.daraz.pk/p/f73661fd24ed9e925d555cee3b3d68c9.jpg_200x200q80-product.jpg_.webp",
          "https://static-01.daraz.pk/p/b9f707539281fef34d90b770c69c00a4.jpg_200x200q80-product.jpg_.webp",
          "https://static-01.daraz.pk/p/6ad9d2b7b267ecd0ef235277ccc5419a.jpg_200x200q80-product.jpg_.webp",
          "https://static-01.daraz.pk/p/e62380acad963698cbae640bf85adf82.jpg_200x200q80-product.jpg_.webp",
          "https://static-01.daraz.pk/p/464fd41bf081e00b39c7ba70e7a6aba1.jpg_200x200q80-product.jpg_.webp",
          "https://static-01.daraz.pk/p/9eb6eed6905bbefd6ff943bc742db225.jpg_200x200q80-product.jpg_.webp",
          "https://static-01.daraz.pk/p/df72c7c26c67b88f1b4fd46130e2a15b.jpg_200x200q80-product.jpg_.webp",
          "https://static-01.daraz.pk/p/8f527f50b8daa7b604f9be3adb866b22.jpg_200x200q80-product.jpg_.webp",
          null,
          null,
          null,
          null,
          null,
          null,
          null
         ]
        },
        {
         "mode": "lines+markers",
         "name": "prduct5",
         "type": "scatter",
         "x": [
          "Pedicure Brush Foot Care Tool 4 in1 Foot Pumice Stone Dead Skin Remover Brush Pedicure Grinding Tool Pedicure File Foot Grater",
          "Best Leather wallet for men stylish leather purse for men",
          "1pcs Portable Mini Mobile Bracket Smartphone Support Cell Holder Tablet Phone Holder Desk Stand",
          null,
          "Room Heater Fan Electric Heater Dual Thermal Control",
          "Golden Pearl - Whitening Skin Serum & Beauty Cream & Neem Face Wash",
          "D20 ultra orange SMART WATCH fitness band Vip quality stock All working functions smooth sensor touch 2 days batery timing",
          "Stainless Steel Turkish Silver Fashion Blue Feroza Stone Ring For Men",
          "Evento Acrylic Mirror Wall Leaf 3d Wall Sticker Sets Decore Art Design Decoration For Home Decor Living Bed Room And Offices And For Gifts Piece Item",
          "Evento Acrylic Mirror Wall Leaf 3d Wall Sticker Sets Decore Art Design Decoration For Home Decor Living Bed Room And Offices And For Gifts Piece Item",
          "4 Pc Winter Beanie Cap, Neck Warmer,Gloves Set & Leg Warmer- Full 4 Piece Beanie Set",
          "Onion Cutter Peeler Twister Cutting Spiral Slicer Potato Onion Cutter Peeler Vegetable  Cheese Carrot Potato Cucumber Slicer Peeler Fruits Vegetables Cutter",
          "Electronic Fast Hair Straightener Portable Mini Hair Flat Iron",
          "Soap Base Melt and Pour - Soap Base Transparent - Glycerin Soap Base - Transparent Soap Base Sulphate Free | Paraben Free",
          "BIN-B PACK OF 3 PAIRS ANKLE SOCKS",
          "5pcs Set Women Fashion Quartz Watch Female Clock Moon Dial Luxury Brand Design Women Watches Simple Ladies Watches",
          "Customize picture LED Lamp Birthday Gift Hearts in Multi Colors For gifts & Decore",
          "9 Colors Keyboard Eyeshadow Palette Pearly Matte Glitter Eyeshadow Pallet Long Lasting Waterproof Glitter Galaxy Eye shadow Makeup Palette",
          "WANTER 13 Pcs Makeup Brush Set Soft hair Loose Powder Eyeshadow Concealer Contour Eyeliner brush Foundation Beauty Cosmetic tools",
          "5pcs Dainty Rhinestone Dial Quartz Watch With Jewelry Set Fashion Round Women Watch Round Pink Color Bracelet Set",
          "Pair (2 Pieces) Of Silicon Heel Socks, Heel Pad Socks For Both Women And Men, Gel Heel Protector, Heel Safety Guard, Heel Relief and Pain Relief Silicone Protector Pads Silicone Heel Pads",
          "pure chandi k earring tops 3 pair for 3 piercing k liyeee har rang me nagina laga k apko mill jaye gy",
          "Money Heist Tracksuit,Gym wear and comfortable Pair Shirt and Trouser",
          "Garena Free Fire Diamonds  35",
          "Rechargeable Dancing Cactus Toy with Songs Plush Funny Electronic Singing Dancing Cactus Shaking Cactus Lightning, Wriggle Twisting Cactus Cute Plush Toy Education Toy for Children Playing Birthday Gift and Home Decoration Kids Toy",
          "Nano tape (Double sided Washable silicon Transparent tape) Transparent Waterproof tape",
          "SastaaE 3 PC Unstitched Kataan Silk Plain Shirt & Trouser With Organza Lining Dupatta -  Pink",
          "EVENTO Wooden Wall Hanging Mobile Holder and Key Holder 3D DIY Design Multipurpose Wall Hanging Mobile Organizer for Home Decor Living Room and Offices and for Gifts Items",
          "Crystal Necklace Bracelet Ring Earrings Tassel Bridesmaid Wedding Jewelry Set",
          "Pack Of 3- Pocket Pen Perfume - Random Collection",
          null,
          null,
          null,
          null,
          null,
          null,
          null
         ],
         "y": [
          "Rs.",
          "Rs.",
          "Rs.",
          null,
          "Rs.",
          "Rs.",
          "Rs.",
          "Rs.",
          "Rs.",
          "Rs.",
          "Rs.",
          "Rs.",
          "Rs.",
          "Rs.",
          "Rs.",
          "Rs.",
          "Rs.",
          "Rs.",
          "Rs.",
          "Rs.",
          "Rs.",
          "Rs.",
          "Rs.",
          "Rs.",
          "Rs.",
          "Rs.",
          "Rs.",
          "Rs.",
          "Rs.",
          "Rs.",
          null,
          null,
          null,
          null,
          null,
          null,
          null
         ]
        },
        {
         "mode": "lines+markers",
         "name": "LABEL-31",
         "type": "scatter",
         "x": [
          "248",
          "379",
          "75",
          null,
          "2,899",
          "603",
          "895",
          "149",
          "349",
          "349",
          "969",
          "88",
          "420",
          "300",
          "199",
          "4,830",
          "999",
          "350",
          "549",
          "4,382",
          "89",
          "899",
          "854",
          "50",
          "1,199",
          "175",
          "740",
          "279",
          "741",
          "220",
          null,
          null,
          null,
          null,
          null,
          null,
          null
         ],
         "y": [
          "Rs.",
          "Rs.",
          "Rs.",
          null,
          null,
          "Rs.",
          "Rs.",
          "Rs.",
          "Rs.",
          "Rs.",
          "Rs.",
          "Rs.",
          "Rs.",
          "Rs.",
          "Rs.",
          null,
          "Rs.",
          "Rs.",
          "Rs.",
          null,
          "Rs.",
          null,
          "Rs.",
          "Rs.",
          "Rs.",
          "Rs.",
          "Rs.",
          "Rs.",
          "Rs.",
          "Rs.",
          null,
          null,
          null,
          null,
          null,
          null,
          null
         ]
        },
        {
         "mode": "lines+markers",
         "name": "LABEL-33",
         "type": "scatter",
         "x": [
          "349",
          "499",
          "300",
          null,
          null,
          "670",
          "2,500",
          "299",
          "2,000",
          "800",
          "2,599",
          "150",
          "490",
          "500",
          "350",
          null,
          "1,700",
          "599",
          "799",
          null,
          "199",
          null,
          "1,299",
          "58",
          "2,000",
          "299",
          "1,400",
          "299",
          "1,120",
          "499",
          null,
          null,
          null,
          null,
          null,
          null,
          null
         ],
         "y": [
          "-29%",
          "-24%",
          "-75%",
          null,
          null,
          "-10%",
          "-64%",
          "-50%",
          "-83%",
          "-56%",
          "-63%",
          "-41%",
          "-14%",
          "-40%",
          "-43%",
          null,
          "-41%",
          "-42%",
          "-31%",
          null,
          "-55%",
          null,
          "-34%",
          "-14%",
          "-40%",
          "-41%",
          "-47%",
          "-7%",
          "-34%",
          "-56%",
          null,
          null,
          null,
          null,
          null,
          null,
          null
         ]
        },
        {
         "mode": "lines+markers",
         "name": "LABEL-35",
         "type": "scatter",
         "x": [
          "(37)",
          "(784)",
          "(121)",
          null,
          "(27)",
          "(713)",
          "(55)",
          "(25)",
          "(360)",
          "(23)",
          "(70)",
          "(102)",
          "(30)",
          "(17)",
          "(126)",
          "(744)",
          "(43)",
          "(271)",
          "(1015)",
          "(66)",
          "(208)",
          "(73)",
          "(392)",
          "(1949)",
          "(184)",
          "(458)",
          "(680)",
          "(433)",
          "(310)",
          "(171)",
          null,
          null,
          null,
          null,
          null,
          null,
          null
         ],
         "y": [
          "https://static-01.daraz.pk/p/76bf68ad8940635f8a675647a5b2d5b8.jpg_200x200q80-product.jpg_.webp",
          "https://static-01.daraz.pk/p/384165acd2c720eb84c86cdb081f8377.jpg_200x200q80-product.jpg_.webp",
          "https://pk-live-21.slatic.net/kf/S4ca29b1ebba94269a34ee5f73d1ed747R.jpg",
          null,
          "https://static-01.daraz.pk/p/530d3db0db80ddceb69721261d430aaa.jpg_200x200q80-product.jpg_.webp",
          "https://static-01.daraz.pk/p/94c5e85dfd1c1e2a92df6259fec83b1e.jpg_200x200q80-product.jpg_.webp",
          "https://static-01.daraz.pk/p/ab0e3e8b9062059cb8677a6846e38b03.jpg_200x200q80-product.jpg_.webp",
          "https://static-01.daraz.pk/p/74afa8b733834a58adf5d99be4ecaba6.jpg_200x200q80-product.jpg_.webp",
          "https://static-01.daraz.pk/p/cf92e9521ce57412d1bedf3e44b55e14.jpg_200x200q80-product.jpg_.webp",
          "https://static-01.daraz.pk/p/e72a40cdf846cc1f5e21ec6e386e0400.jpg_200x200q80-product.jpg_.webp",
          "https://static-01.daraz.pk/p/e2a83d566612f509eb33277fdf41662b.jpg_200x200q80-product.jpg_.webp",
          "https://static-01.daraz.pk/p/8f1c59802f39d8e4c96d3a240a61959e.jpg_200x200q80-product.jpg_.webp",
          "https://static-01.daraz.pk/p/a57aca76f419b69cf3b4f663d0d6733c.jpg_200x200q80-product.jpg_.webp",
          "https://static-01.daraz.pk/p/d46932207f1ce6fe092d6f2a15f4c84f.jpg_200x200q80-product.jpg_.webp",
          "https://static-01.daraz.pk/p/0cb400358352d3b760f7a9b624a39919.jpg_200x200q80-product.jpg_.webp",
          "https://static-01.daraz.pk/p/a3e40720d2d6b09630d40e9ac354c0ef.jpg_200x200q80-product.jpg_.webp",
          "https://static-01.daraz.pk/p/1cb01ba86616d09964b5c17edaf5567a.jpg_200x200q80-product.jpg_.webp",
          "https://pk-live-21.slatic.net/kf/S29147fce4a5f4b4fb2f9b86cabb6e98as.jpg",
          "https://pk-live-21.slatic.net/kf/Se8e5bd4aaae649288b5f94c36e8c0f3eQ.jpg",
          "https://static-01.daraz.pk/p/e8ce7ed16ab9e54b543ee96f5564df22.jpg_200x200q80-product.jpg_.webp",
          "https://static-01.daraz.pk/p/ed39a0ee4d099e4305a8f2dbb1d0c275.jpg_200x200q80-product.jpg_.webp",
          "https://static-01.daraz.pk/p/69e7619c30f39a9e74860f764d2ec3c4.jpg_200x200q80-product.jpg_.webp",
          "https://static-01.daraz.pk/p/602ec1ce5765b41d8d4b54f54e8b50f3.jpg_200x200q80-product.jpg_.webp",
          "https://static-01.daraz.pk/p/d5c60272e690261d241570efe0297316.jpg_200x200q80-product.jpg_.webp",
          "https://static-01.daraz.pk/p/a071c5c6187889992593f1d63a0fa818.jpg_200x200q80-product.jpg_.webp",
          "https://static-01.daraz.pk/p/ef21833d5f87d1c3554883e1d2a77d71.jpg_200x200q80-product.jpg_.webp",
          "https://static-01.daraz.pk/p/3f7fa61fbc30be64f130d69f67791d06.jpg_200x200q80-product.jpg_.webp",
          "https://static-01.daraz.pk/p/a594655380d888b6e095b74955e5b370.jpg_200x200q80-product.jpg_.webp",
          "https://static-01.daraz.pk/p/481caf3e6c2c55078d49f0b9705d0b5c.jpg_200x200q80-product.jpg_.webp",
          "https://static-01.daraz.pk/p/e82d2370baee5570402a9211f6fa9881.png_200x200q80-product.jpg_.webp",
          null,
          "https://static-01.daraz.pk/p/119fdc857c189a3fa3257436f7897a3a.jpg_200x200q80-product.jpg_.webp",
          "https://static-01.daraz.pk/p/adcd98db1a2ad1e745c5301de60ca156.jpg_200x200q80-product.jpg_.webp",
          "https://static-01.daraz.pk/p/6843058a845fe788936cbec37859aad7.jpg_200x200q80-product.jpg_.webp",
          "https://static-01.daraz.pk/p/904bc45e7ad0551fd75525c6dd40f052.jpg_200x200q80-product.jpg_.webp",
          "https://static-01.daraz.pk/p/8a5e66472ca88e3b5366a3e63482864a.png_200x200q80-product.jpg_.webp",
          "https://static-01.daraz.pk/p/5bba7849875be2272c89e70cfdfc85b6.jpg_200x200q80-product.jpg_.webp"
         ]
        },
        {
         "mode": "lines+markers",
         "name": "LABEL-37",
         "type": "scatter",
         "x": [
          "8 Sliding Hooks Kitchen Accessories Organizer Rack | Cloth Hanging Stand Wall Mounted",
          "Winter Hoodie And Trouser Winter Warm Track Suit Fleece Drawstring Hoody Export Quality Black Hoodies For Men",
          "28W Fan Shape LED Bulb E27 LED Lamp Foldable 220V 110V Light Bulbs For Home Living Room Warehouse Garage Ceiling Light",
          null,
          "Universal 120W Liquid Silicon Fast Charging Data Cables Type-C/Micro USB 6mm Thickness For Samsung Redmi Oppo Realme Oneplus",
          "PACK OF 4 COTTON SOCKS FOR MAN",
          "Loving Couple Hug Rings - Adjustable Retro Hug Style Rings for Men and Women",
          "BTS Cotton Half Sleeves O Neck T Shirt For Boys and Girls 3 Colors",
          "Foldable, Adjustable, Universal Mobile Stand | Flexible Mobile Holder | Adjustable Height | Premier Quality Product | Flexible Stand | Pocket Size | Easy to Carry | Best for Study and Office Use | Compatible with all size Mobiles",
          "PureFit  Quilted Sofa Cover,  Slipcover Furniture Protector, Washable Couch Cover with Non Slip Foam  for Kids, Dogs, Pets",
          "Turkish Desing Black Stone For Men Ring TR008",
          "1 Pair High Quality knee support for pain Elastic Knee Pads Thermal Knee Warmers Sleeve Knee Pads Ladies Socks For Winter Thick Ladies Socks For Winter leggings for women And Mens Knee Pad",
          "Tube band Inner Cap for Hijab / Scarf",
          "Customize Mug, Picture Mug, 3D Mug With Text, Logo, or Photo. Custom Photo Mugs (PERFECT GIFT FOR YOUR FAMILY & FRIENDS)",
          "Pack of 2 - Led Style Fitness Band Led Time & Date Band Watch For Boys & Girls - Best Quality Square Digital Silicone Sports Watch For Men & Women",
          "Men's Clothing Winter Collection Zipper coat double collar Branded Quality For Men's",
          "The Vintage Clothing Pack of 2 printed high quality Tshirt For Men",
          "Lip Gloss Matte Pack of 8",
          "Coffee Beater Handy Cell Operated",
          "Oxygen Clothing Cardigan Black Charcoal Patch",
          "Microwave Dust proof Double Pocket Storage Bag Microwave Oven Cover",
          "Velvet Floor Cushions Cushion Room Decoration Items Sitting Round Floor Cushion_Ball Fiber Filled Round Floor Cushions_1 Pair=2pcs",
          "Miss Lara - Natural Cheek Tint  Liquid Blush  Soft Cream Blush Makeup Multi-use Blush",
          "6 Grids Washable Wardrobe Clothes Organizer, Jeans Compartment Storage Box, Clothes Drawer Mesh Separation Box, Portable Foldable Closet",
          "Navy Blue Crew Neck White Panel T-shirt",
          "T800 Ultra, T800 Ultra 2 Smart Watch Ultra9 Series Bluetooth Call Smartwatch Heart Rate Sleep Monitoring IP67 Waterproof",
          "Mini USB Rechargeable Flashlight Torch Zoom Lamp",
          "3 tier Plastic Shoe Rack , Plastic Shoe Stand for Shoe Storage | Space Organizer | Shoe Rack | for Living Room Home & Office",
          "CD Plating camera protection Case For iPhone 14 Pro Max,14 pro,13 pro max,13 pro,12 Pro Max,12 pro,11 pro,11 Pro Max back cover",
          "Kitchen Sink Dish Drainer Drying Rack - Multicolours",
          null,
          "Beanie Cap And Neck Warmer  Winter Knitted Beanie Hat and Neck Warmer Scarf Set for Boys Girls",
          "Wooden Wall Keychain Holder and Mobile Phone Holder Mobile charging holder keychain holder",
          "Combo Of Black Titanium Finger Ring With Cuboid Rectangle Neck Pendant For Boys And Men",
          "Body Posture Corrector Belt - Shoulder Support Relief and Back Pain Relief Belt - Adjustable Posture Support Brace for Men and Women",
          "PRISM Comfort and Style with Lightweight and Genuine All Season Casual Sports Shoes for Men and Women - Perfect for Running, Walking, Cross-Training, and Everyday Sneakers. Men's Breathable Mesh Running Shoes, Sneakers for men, Girls Sneakers, Boys Shoes",
          "Messi blue kangro Hoodies For Men / Hoodies For Girls"
         ],
         "y": [
          "Rs.",
          "Rs.",
          "Rs.",
          null,
          "Rs.",
          "Rs.",
          "Rs.",
          "Rs.",
          "Rs.",
          "Rs.",
          "Rs.",
          "Rs.",
          "Rs.",
          "Rs.",
          "Rs.",
          "Rs.",
          "Rs.",
          "Rs.",
          "Rs.",
          "Rs.",
          "Rs.",
          "Rs.",
          "Rs.",
          "Rs.",
          "Rs.",
          "Rs.",
          "Rs.",
          "Rs.",
          "Rs.",
          "Rs.",
          null,
          "Rs.",
          "Rs.",
          "Rs.",
          "Rs.",
          "Rs.",
          "Rs."
         ]
        },
        {
         "mode": "lines+markers",
         "name": "LABEL-39",
         "type": "scatter",
         "x": [
          "199",
          "1,399",
          "3,211",
          null,
          "199",
          "345",
          "99",
          "350",
          "265",
          "519",
          "209",
          "889",
          "100",
          "387",
          "309",
          "1,549",
          "699",
          "699",
          "299",
          "1,250",
          "490",
          "2,299",
          "489",
          "278",
          "649",
          "1,799",
          "479",
          "549",
          "649",
          "648",
          null,
          "388",
          "59",
          "169",
          "249",
          "899",
          "899"
         ],
         "y": [
          "Rs.",
          "Rs.",
          null,
          null,
          "Rs.",
          "Rs.",
          "Rs.",
          "Rs.",
          "Rs.",
          "Rs.",
          "Rs.",
          "Rs.",
          "Rs.",
          "Rs.",
          "Rs.",
          null,
          "Rs.",
          "Rs.",
          "Rs.",
          "Rs.",
          "Rs.",
          "Rs.",
          "Rs.",
          "Rs.",
          null,
          "Rs.",
          "Rs.",
          "Rs.",
          "Rs.",
          null,
          null,
          "Rs.",
          "Rs.",
          "Rs.",
          "Rs.",
          "Rs.",
          "Rs."
         ]
        },
        {
         "mode": "lines+markers",
         "name": "LABEL-41",
         "type": "scatter",
         "x": [
          "269",
          "2,200",
          null,
          null,
          "399",
          "1,200",
          "225",
          "1,299",
          "800",
          "1,399",
          "449",
          "1,500",
          "299",
          "999",
          "899",
          null,
          "999",
          "800",
          "499",
          "1,600",
          "900",
          "4,200",
          "699",
          "999",
          null,
          "2,999",
          "499",
          "799",
          "1,300",
          null,
          null,
          "1,599",
          "120",
          "400",
          "450",
          "9,999",
          "1,500"
         ],
         "y": [
          "-26%",
          "-36%",
          null,
          null,
          "-50%",
          "-71%",
          "-56%",
          "-73%",
          "-67%",
          "-63%",
          "-53%",
          "-41%",
          "-67%",
          "-61%",
          "-66%",
          null,
          "-30%",
          "-13%",
          "-40%",
          "-22%",
          "-46%",
          "-45%",
          "-30%",
          "-72%",
          null,
          "-40%",
          "-4%",
          "-31%",
          "-50%",
          null,
          null,
          "-76%",
          "-51%",
          "-58%",
          "-45%",
          "-91%",
          "-40%"
         ]
        },
        {
         "mode": "lines+markers",
         "name": "LABEL-43",
         "type": "scatter",
         "x": [
          "(82)",
          "(121)",
          "(144)",
          null,
          "(417)",
          "(496)",
          "(41)",
          "(151)",
          "(31)",
          "(117)",
          "(11)",
          "(43)",
          "(29)",
          "(15)",
          "(499)",
          "(35)",
          "(974)",
          "(94)",
          "(177)",
          "(39)",
          "(301)",
          "(174)",
          "(33)",
          "(1913)",
          "(74)",
          "(1522)",
          "(265)",
          "(9)",
          "(101)",
          "(11)",
          null,
          "(28)",
          "(9)",
          "(747)",
          "(5042)",
          "(136)",
          "(154)"
         ],
         "y": [
          null,
          "Rs.",
          null,
          null,
          "Rs.",
          "Rs.",
          "Rs.",
          "Rs.",
          "Rs.",
          "Rs.",
          "Rs.",
          "Rs.",
          null,
          "Rs.",
          null,
          "Rs.",
          "Rs.",
          "Rs.",
          "Rs.",
          null,
          "Rs.",
          null,
          "Rs.",
          "Rs.",
          null,
          "Rs.",
          null,
          "Rs.",
          "Rs.",
          "Rs.",
          null,
          null,
          null,
          null,
          "https://img.alicdn.com/imgextra/i2/O1CN01m9OC6a1UK86X51Dcq_!!6000000002498-2-tps-108-54.png",
          null,
          "https://img.alicdn.com/imgextra/i2/O1CN01m9OC6a1UK86X51Dcq_!!6000000002498-2-tps-108-54.png"
         ]
        },
        {
         "mode": "lines+markers",
         "name": "LABEL-45",
         "type": "scatter",
         "x": [
          null,
          "999",
          null,
          null,
          "577",
          "749",
          "1,099",
          "1,799",
          "1,000",
          "299",
          "1,400",
          "999",
          null,
          "1,500",
          null,
          "4,500",
          "999",
          "499",
          "350",
          null,
          "220",
          null,
          "299",
          "2,200",
          null,
          "1,299",
          null,
          "400",
          "800",
          "2,299",
          null,
          null,
          null,
          null,
          null,
          null,
          null
         ],
         "y": [
          null,
          "-66%",
          null,
          null,
          "-38%",
          "-32%",
          "-55%",
          "-39%",
          "-66%",
          "-9%",
          "-29%",
          "-77%",
          null,
          "-37%",
          null,
          "-53%",
          "-40%",
          "-40%",
          "-23%",
          null,
          "-19%",
          null,
          "-28%",
          "-28%",
          null,
          "-62%",
          null,
          "-71%",
          "-65%",
          "-13%",
          null,
          null,
          null,
          null,
          null,
          null,
          null
         ]
        },
        {
         "mode": "lines+markers",
         "name": "LABEL-47",
         "type": "scatter",
         "x": [
          null,
          "Rs.",
          "Rs.",
          null,
          "Rs.",
          "Rs.",
          "Rs.",
          "Rs.",
          "Rs.",
          null,
          "Rs.",
          "Rs.",
          "Rs.",
          "Rs.",
          "Rs.",
          "Rs.",
          "Rs.",
          "Rs.",
          "Rs.",
          "Rs.",
          "Rs.",
          "Rs.",
          "Rs.",
          "Rs.",
          "Rs.",
          "Rs.",
          "Rs.",
          "Rs.",
          "Rs.",
          "Rs.",
          null,
          null,
          null,
          null,
          null,
          null,
          null
         ],
         "y": [
          null,
          "499",
          "3,500",
          null,
          "1,800",
          "109",
          "3,999",
          "999",
          "1,099",
          null,
          "450",
          "788",
          "400",
          "1,400",
          "1,500",
          "4,000",
          "898",
          "430",
          "800",
          "3,299",
          "5,600",
          "899",
          "2,200",
          "3,399",
          "1,299",
          "1,133",
          "1,400",
          "899",
          "750",
          "1,390",
          null,
          null,
          null,
          null,
          null,
          null,
          null
         ]
        },
        {
         "mode": "lines+markers",
         "name": "LABEL-49",
         "type": "scatter",
         "x": [
          null,
          "-48%",
          "-59%",
          null,
          "-78%",
          "-23%",
          "-35%",
          "-40%",
          "-68%",
          null,
          "-38%",
          "-31%",
          "-71%",
          "-47%",
          "-47%",
          "-63%",
          "-50%",
          "-30%",
          "-28%",
          "-52%",
          "-57%",
          "-11%",
          "-32%",
          "-47%",
          "-77%",
          "-36%",
          "-54%",
          "-58%",
          "-25%",
          "-28%",
          null,
          null,
          null,
          null,
          null,
          null,
          null
         ],
         "y": [
          null,
          null,
          null,
          "Oud Collection - Arabic Perfumes Dirham_Men - Eau De Perfume - 100ml Long Lasting Frangrances",
          null,
          null,
          null,
          null,
          null,
          null,
          null,
          null,
          null,
          null,
          null,
          null,
          null,
          null,
          null,
          null,
          null,
          null,
          null,
          null,
          null,
          null,
          null,
          null,
          null,
          null,
          null,
          null,
          null,
          null,
          null,
          null,
          null
         ]
        },
        {
         "mode": "lines+markers",
         "name": "LABEL-51",
         "type": "scatter",
         "x": [
          null,
          null,
          null,
          "Rs.",
          null,
          null,
          null,
          null,
          null,
          null,
          null,
          null,
          null,
          null,
          null,
          null,
          null,
          null,
          null,
          null,
          null,
          null,
          null,
          null,
          null,
          null,
          null,
          null,
          null,
          null,
          null,
          null,
          null,
          null,
          null,
          null,
          null
         ],
         "y": [
          null,
          null,
          null,
          299,
          null,
          null,
          null,
          null,
          null,
          null,
          null,
          null,
          null,
          null,
          null,
          null,
          null,
          null,
          null,
          null,
          null,
          null,
          null,
          null,
          null,
          null,
          null,
          null,
          null,
          null,
          null,
          null,
          null,
          null,
          null,
          null,
          null
         ]
        },
        {
         "mode": "lines+markers",
         "name": "LABEL-53",
         "type": "scatter",
         "x": [
          null,
          null,
          null,
          "Rs.",
          null,
          null,
          null,
          null,
          null,
          null,
          null,
          null,
          null,
          null,
          null,
          null,
          null,
          null,
          null,
          null,
          null,
          null,
          null,
          null,
          null,
          null,
          null,
          null,
          null,
          null,
          null,
          null,
          null,
          null,
          null,
          null,
          null
         ],
         "y": [
          null,
          null,
          null,
          999,
          null,
          null,
          null,
          null,
          null,
          null,
          null,
          null,
          null,
          null,
          null,
          null,
          null,
          null,
          null,
          null,
          null,
          null,
          null,
          null,
          null,
          null,
          null,
          null,
          null,
          null,
          null,
          null,
          null,
          null,
          null,
          null,
          null
         ]
        },
        {
         "mode": "lines+markers",
         "name": "LABEL-55",
         "type": "scatter",
         "x": [
          null,
          null,
          null,
          "-70%",
          null,
          null,
          null,
          null,
          null,
          null,
          null,
          null,
          null,
          null,
          null,
          null,
          null,
          null,
          null,
          null,
          null,
          null,
          null,
          null,
          null,
          null,
          null,
          null,
          null,
          null,
          null,
          null,
          null,
          null,
          null,
          null,
          null
         ],
         "y": [
          null,
          null,
          null,
          "(10)",
          null,
          null,
          null,
          null,
          null,
          null,
          null,
          null,
          null,
          null,
          null,
          null,
          null,
          null,
          null,
          null,
          null,
          null,
          null,
          null,
          null,
          null,
          null,
          null,
          null,
          null,
          null,
          null,
          null,
          null,
          null,
          null,
          null
         ]
        },
        {
         "mode": "lines+markers",
         "name": "LABEL-57",
         "type": "scatter",
         "x": [
          null,
          null,
          null,
          null,
          "https://img.alicdn.com/imgextra/i2/O1CN01m9OC6a1UK86X51Dcq_!!6000000002498-2-tps-108-54.png",
          null,
          null,
          null,
          null,
          null,
          null,
          null,
          null,
          null,
          null,
          null,
          null,
          null,
          null,
          "https://img.alicdn.com/imgextra/i2/O1CN01m9OC6a1UK86X51Dcq_!!6000000002498-2-tps-108-54.png",
          null,
          null,
          null,
          null,
          null,
          null,
          "https://img.alicdn.com/imgextra/i2/O1CN01m9OC6a1UK86X51Dcq_!!6000000002498-2-tps-108-54.png",
          null,
          null,
          null,
          null,
          null,
          null,
          null,
          null,
          null,
          null
         ],
         "y": [
          null,
          null,
          null,
          null,
          "https://img.alicdn.com/imgextra/i2/O1CN01m9OC6a1UK86X51Dcq_!!6000000002498-2-tps-108-54.png",
          null,
          null,
          null,
          null,
          null,
          null,
          null,
          null,
          "https://img.alicdn.com/imgextra/i2/O1CN01m9OC6a1UK86X51Dcq_!!6000000002498-2-tps-108-54.png",
          "https://img.alicdn.com/imgextra/i2/O1CN01m9OC6a1UK86X51Dcq_!!6000000002498-2-tps-108-54.png",
          null,
          null,
          null,
          null,
          null,
          "https://img.alicdn.com/imgextra/i2/O1CN01m9OC6a1UK86X51Dcq_!!6000000002498-2-tps-108-54.png",
          null,
          "https://img.alicdn.com/imgextra/i2/O1CN01m9OC6a1UK86X51Dcq_!!6000000002498-2-tps-108-54.png",
          null,
          null,
          null,
          "https://img.alicdn.com/imgextra/i2/O1CN01m9OC6a1UK86X51Dcq_!!6000000002498-2-tps-108-54.png",
          "https://img.alicdn.com/imgextra/i2/O1CN01m9OC6a1UK86X51Dcq_!!6000000002498-2-tps-108-54.png",
          null,
          null,
          null,
          null,
          null,
          null,
          null,
          null,
          null
         ]
        },
        {
         "mode": "lines+markers",
         "name": "LABEL-59",
         "type": "scatter",
         "x": [
          null,
          null,
          null,
          null,
          null,
          "https://img.alicdn.com/imgextra/i2/O1CN01m9OC6a1UK86X51Dcq_!!6000000002498-2-tps-108-54.png",
          null,
          null,
          "https://img.alicdn.com/imgextra/i2/O1CN01m9OC6a1UK86X51Dcq_!!6000000002498-2-tps-108-54.png",
          "https://img.alicdn.com/imgextra/i2/O1CN01m9OC6a1UK86X51Dcq_!!6000000002498-2-tps-108-54.png",
          null,
          null,
          null,
          null,
          "https://img.alicdn.com/imgextra/i2/O1CN01m9OC6a1UK86X51Dcq_!!6000000002498-2-tps-108-54.png",
          null,
          null,
          null,
          "https://img.alicdn.com/imgextra/i2/O1CN01m9OC6a1UK86X51Dcq_!!6000000002498-2-tps-108-54.png",
          null,
          null,
          null,
          null,
          "https://img.alicdn.com/imgextra/i2/O1CN01m9OC6a1UK86X51Dcq_!!6000000002498-2-tps-108-54.png",
          null,
          "https://img.alicdn.com/imgextra/i2/O1CN01m9OC6a1UK86X51Dcq_!!6000000002498-2-tps-108-54.png",
          "https://img.alicdn.com/imgextra/i2/O1CN01m9OC6a1UK86X51Dcq_!!6000000002498-2-tps-108-54.png",
          "https://img.alicdn.com/imgextra/i2/O1CN01m9OC6a1UK86X51Dcq_!!6000000002498-2-tps-108-54.png",
          null,
          null,
          null,
          null,
          null,
          null,
          null,
          null,
          null
         ],
         "y": [
          null,
          null,
          null,
          null,
          null,
          null,
          "https://img.alicdn.com/imgextra/i2/O1CN01m9OC6a1UK86X51Dcq_!!6000000002498-2-tps-108-54.png",
          null,
          null,
          null,
          null,
          null,
          null,
          null,
          null,
          null,
          "https://img.alicdn.com/imgextra/i2/O1CN01m9OC6a1UK86X51Dcq_!!6000000002498-2-tps-108-54.png",
          null,
          null,
          null,
          null,
          null,
          null,
          null,
          null,
          null,
          null,
          null,
          null,
          null,
          null,
          null,
          null,
          null,
          null,
          null,
          null
         ]
        },
        {
         "mode": "lines+markers",
         "name": "LABEL-61",
         "type": "scatter",
         "x": [
          null,
          null,
          null,
          null,
          null,
          null,
          null,
          null,
          null,
          "https://img.alicdn.com/imgextra/i2/O1CN01m9OC6a1UK86X51Dcq_!!6000000002498-2-tps-108-54.png",
          null,
          null,
          null,
          null,
          null,
          "https://img.alicdn.com/imgextra/i2/O1CN01m9OC6a1UK86X51Dcq_!!6000000002498-2-tps-108-54.png",
          null,
          "https://img.alicdn.com/imgextra/i2/O1CN01m9OC6a1UK86X51Dcq_!!6000000002498-2-tps-108-54.png",
          "https://img.alicdn.com/imgextra/i2/O1CN01m9OC6a1UK86X51Dcq_!!6000000002498-2-tps-108-54.png",
          null,
          null,
          null,
          null,
          null,
          null,
          null,
          "https://img.alicdn.com/imgextra/i2/O1CN01m9OC6a1UK86X51Dcq_!!6000000002498-2-tps-108-54.png",
          null,
          null,
          null,
          null,
          null,
          null,
          null,
          null,
          null,
          null
         ],
         "y": [
          null,
          null,
          null,
          null,
          null,
          null,
          null,
          null,
          null,
          null,
          null,
          null,
          null,
          null,
          null,
          null,
          null,
          null,
          null,
          null,
          null,
          null,
          null,
          null,
          null,
          null,
          null,
          null,
          null,
          null,
          "Load More",
          null,
          null,
          null,
          null,
          null,
          null
         ]
        }
       ],
       "layout": {
        "height": 800,
        "template": {
         "data": {
          "bar": [
           {
            "error_x": {
             "color": "#2a3f5f"
            },
            "error_y": {
             "color": "#2a3f5f"
            },
            "marker": {
             "line": {
              "color": "#E5ECF6",
              "width": 0.5
             },
             "pattern": {
              "fillmode": "overlay",
              "size": 10,
              "solidity": 0.2
             }
            },
            "type": "bar"
           }
          ],
          "barpolar": [
           {
            "marker": {
             "line": {
              "color": "#E5ECF6",
              "width": 0.5
             },
             "pattern": {
              "fillmode": "overlay",
              "size": 10,
              "solidity": 0.2
             }
            },
            "type": "barpolar"
           }
          ],
          "carpet": [
           {
            "aaxis": {
             "endlinecolor": "#2a3f5f",
             "gridcolor": "white",
             "linecolor": "white",
             "minorgridcolor": "white",
             "startlinecolor": "#2a3f5f"
            },
            "baxis": {
             "endlinecolor": "#2a3f5f",
             "gridcolor": "white",
             "linecolor": "white",
             "minorgridcolor": "white",
             "startlinecolor": "#2a3f5f"
            },
            "type": "carpet"
           }
          ],
          "choropleth": [
           {
            "colorbar": {
             "outlinewidth": 0,
             "ticks": ""
            },
            "type": "choropleth"
           }
          ],
          "contour": [
           {
            "colorbar": {
             "outlinewidth": 0,
             "ticks": ""
            },
            "colorscale": [
             [
              0,
              "#0d0887"
             ],
             [
              0.1111111111111111,
              "#46039f"
             ],
             [
              0.2222222222222222,
              "#7201a8"
             ],
             [
              0.3333333333333333,
              "#9c179e"
             ],
             [
              0.4444444444444444,
              "#bd3786"
             ],
             [
              0.5555555555555556,
              "#d8576b"
             ],
             [
              0.6666666666666666,
              "#ed7953"
             ],
             [
              0.7777777777777778,
              "#fb9f3a"
             ],
             [
              0.8888888888888888,
              "#fdca26"
             ],
             [
              1,
              "#f0f921"
             ]
            ],
            "type": "contour"
           }
          ],
          "contourcarpet": [
           {
            "colorbar": {
             "outlinewidth": 0,
             "ticks": ""
            },
            "type": "contourcarpet"
           }
          ],
          "heatmap": [
           {
            "colorbar": {
             "outlinewidth": 0,
             "ticks": ""
            },
            "colorscale": [
             [
              0,
              "#0d0887"
             ],
             [
              0.1111111111111111,
              "#46039f"
             ],
             [
              0.2222222222222222,
              "#7201a8"
             ],
             [
              0.3333333333333333,
              "#9c179e"
             ],
             [
              0.4444444444444444,
              "#bd3786"
             ],
             [
              0.5555555555555556,
              "#d8576b"
             ],
             [
              0.6666666666666666,
              "#ed7953"
             ],
             [
              0.7777777777777778,
              "#fb9f3a"
             ],
             [
              0.8888888888888888,
              "#fdca26"
             ],
             [
              1,
              "#f0f921"
             ]
            ],
            "type": "heatmap"
           }
          ],
          "heatmapgl": [
           {
            "colorbar": {
             "outlinewidth": 0,
             "ticks": ""
            },
            "colorscale": [
             [
              0,
              "#0d0887"
             ],
             [
              0.1111111111111111,
              "#46039f"
             ],
             [
              0.2222222222222222,
              "#7201a8"
             ],
             [
              0.3333333333333333,
              "#9c179e"
             ],
             [
              0.4444444444444444,
              "#bd3786"
             ],
             [
              0.5555555555555556,
              "#d8576b"
             ],
             [
              0.6666666666666666,
              "#ed7953"
             ],
             [
              0.7777777777777778,
              "#fb9f3a"
             ],
             [
              0.8888888888888888,
              "#fdca26"
             ],
             [
              1,
              "#f0f921"
             ]
            ],
            "type": "heatmapgl"
           }
          ],
          "histogram": [
           {
            "marker": {
             "pattern": {
              "fillmode": "overlay",
              "size": 10,
              "solidity": 0.2
             }
            },
            "type": "histogram"
           }
          ],
          "histogram2d": [
           {
            "colorbar": {
             "outlinewidth": 0,
             "ticks": ""
            },
            "colorscale": [
             [
              0,
              "#0d0887"
             ],
             [
              0.1111111111111111,
              "#46039f"
             ],
             [
              0.2222222222222222,
              "#7201a8"
             ],
             [
              0.3333333333333333,
              "#9c179e"
             ],
             [
              0.4444444444444444,
              "#bd3786"
             ],
             [
              0.5555555555555556,
              "#d8576b"
             ],
             [
              0.6666666666666666,
              "#ed7953"
             ],
             [
              0.7777777777777778,
              "#fb9f3a"
             ],
             [
              0.8888888888888888,
              "#fdca26"
             ],
             [
              1,
              "#f0f921"
             ]
            ],
            "type": "histogram2d"
           }
          ],
          "histogram2dcontour": [
           {
            "colorbar": {
             "outlinewidth": 0,
             "ticks": ""
            },
            "colorscale": [
             [
              0,
              "#0d0887"
             ],
             [
              0.1111111111111111,
              "#46039f"
             ],
             [
              0.2222222222222222,
              "#7201a8"
             ],
             [
              0.3333333333333333,
              "#9c179e"
             ],
             [
              0.4444444444444444,
              "#bd3786"
             ],
             [
              0.5555555555555556,
              "#d8576b"
             ],
             [
              0.6666666666666666,
              "#ed7953"
             ],
             [
              0.7777777777777778,
              "#fb9f3a"
             ],
             [
              0.8888888888888888,
              "#fdca26"
             ],
             [
              1,
              "#f0f921"
             ]
            ],
            "type": "histogram2dcontour"
           }
          ],
          "mesh3d": [
           {
            "colorbar": {
             "outlinewidth": 0,
             "ticks": ""
            },
            "type": "mesh3d"
           }
          ],
          "parcoords": [
           {
            "line": {
             "colorbar": {
              "outlinewidth": 0,
              "ticks": ""
             }
            },
            "type": "parcoords"
           }
          ],
          "pie": [
           {
            "automargin": true,
            "type": "pie"
           }
          ],
          "scatter": [
           {
            "fillpattern": {
             "fillmode": "overlay",
             "size": 10,
             "solidity": 0.2
            },
            "type": "scatter"
           }
          ],
          "scatter3d": [
           {
            "line": {
             "colorbar": {
              "outlinewidth": 0,
              "ticks": ""
             }
            },
            "marker": {
             "colorbar": {
              "outlinewidth": 0,
              "ticks": ""
             }
            },
            "type": "scatter3d"
           }
          ],
          "scattercarpet": [
           {
            "marker": {
             "colorbar": {
              "outlinewidth": 0,
              "ticks": ""
             }
            },
            "type": "scattercarpet"
           }
          ],
          "scattergeo": [
           {
            "marker": {
             "colorbar": {
              "outlinewidth": 0,
              "ticks": ""
             }
            },
            "type": "scattergeo"
           }
          ],
          "scattergl": [
           {
            "marker": {
             "colorbar": {
              "outlinewidth": 0,
              "ticks": ""
             }
            },
            "type": "scattergl"
           }
          ],
          "scattermapbox": [
           {
            "marker": {
             "colorbar": {
              "outlinewidth": 0,
              "ticks": ""
             }
            },
            "type": "scattermapbox"
           }
          ],
          "scatterpolar": [
           {
            "marker": {
             "colorbar": {
              "outlinewidth": 0,
              "ticks": ""
             }
            },
            "type": "scatterpolar"
           }
          ],
          "scatterpolargl": [
           {
            "marker": {
             "colorbar": {
              "outlinewidth": 0,
              "ticks": ""
             }
            },
            "type": "scatterpolargl"
           }
          ],
          "scatterternary": [
           {
            "marker": {
             "colorbar": {
              "outlinewidth": 0,
              "ticks": ""
             }
            },
            "type": "scatterternary"
           }
          ],
          "surface": [
           {
            "colorbar": {
             "outlinewidth": 0,
             "ticks": ""
            },
            "colorscale": [
             [
              0,
              "#0d0887"
             ],
             [
              0.1111111111111111,
              "#46039f"
             ],
             [
              0.2222222222222222,
              "#7201a8"
             ],
             [
              0.3333333333333333,
              "#9c179e"
             ],
             [
              0.4444444444444444,
              "#bd3786"
             ],
             [
              0.5555555555555556,
              "#d8576b"
             ],
             [
              0.6666666666666666,
              "#ed7953"
             ],
             [
              0.7777777777777778,
              "#fb9f3a"
             ],
             [
              0.8888888888888888,
              "#fdca26"
             ],
             [
              1,
              "#f0f921"
             ]
            ],
            "type": "surface"
           }
          ],
          "table": [
           {
            "cells": {
             "fill": {
              "color": "#EBF0F8"
             },
             "line": {
              "color": "white"
             }
            },
            "header": {
             "fill": {
              "color": "#C8D4E3"
             },
             "line": {
              "color": "white"
             }
            },
            "type": "table"
           }
          ]
         },
         "layout": {
          "annotationdefaults": {
           "arrowcolor": "#2a3f5f",
           "arrowhead": 0,
           "arrowwidth": 1
          },
          "autotypenumbers": "strict",
          "coloraxis": {
           "colorbar": {
            "outlinewidth": 0,
            "ticks": ""
           }
          },
          "colorscale": {
           "diverging": [
            [
             0,
             "#8e0152"
            ],
            [
             0.1,
             "#c51b7d"
            ],
            [
             0.2,
             "#de77ae"
            ],
            [
             0.3,
             "#f1b6da"
            ],
            [
             0.4,
             "#fde0ef"
            ],
            [
             0.5,
             "#f7f7f7"
            ],
            [
             0.6,
             "#e6f5d0"
            ],
            [
             0.7,
             "#b8e186"
            ],
            [
             0.8,
             "#7fbc41"
            ],
            [
             0.9,
             "#4d9221"
            ],
            [
             1,
             "#276419"
            ]
           ],
           "sequential": [
            [
             0,
             "#0d0887"
            ],
            [
             0.1111111111111111,
             "#46039f"
            ],
            [
             0.2222222222222222,
             "#7201a8"
            ],
            [
             0.3333333333333333,
             "#9c179e"
            ],
            [
             0.4444444444444444,
             "#bd3786"
            ],
            [
             0.5555555555555556,
             "#d8576b"
            ],
            [
             0.6666666666666666,
             "#ed7953"
            ],
            [
             0.7777777777777778,
             "#fb9f3a"
            ],
            [
             0.8888888888888888,
             "#fdca26"
            ],
            [
             1,
             "#f0f921"
            ]
           ],
           "sequentialminus": [
            [
             0,
             "#0d0887"
            ],
            [
             0.1111111111111111,
             "#46039f"
            ],
            [
             0.2222222222222222,
             "#7201a8"
            ],
            [
             0.3333333333333333,
             "#9c179e"
            ],
            [
             0.4444444444444444,
             "#bd3786"
            ],
            [
             0.5555555555555556,
             "#d8576b"
            ],
            [
             0.6666666666666666,
             "#ed7953"
            ],
            [
             0.7777777777777778,
             "#fb9f3a"
            ],
            [
             0.8888888888888888,
             "#fdca26"
            ],
            [
             1,
             "#f0f921"
            ]
           ]
          },
          "colorway": [
           "#636efa",
           "#EF553B",
           "#00cc96",
           "#ab63fa",
           "#FFA15A",
           "#19d3f3",
           "#FF6692",
           "#B6E880",
           "#FF97FF",
           "#FECB52"
          ],
          "font": {
           "color": "#2a3f5f"
          },
          "geo": {
           "bgcolor": "white",
           "lakecolor": "white",
           "landcolor": "#E5ECF6",
           "showlakes": true,
           "showland": true,
           "subunitcolor": "white"
          },
          "hoverlabel": {
           "align": "left"
          },
          "hovermode": "closest",
          "mapbox": {
           "style": "light"
          },
          "paper_bgcolor": "white",
          "plot_bgcolor": "#E5ECF6",
          "polar": {
           "angularaxis": {
            "gridcolor": "white",
            "linecolor": "white",
            "ticks": ""
           },
           "bgcolor": "#E5ECF6",
           "radialaxis": {
            "gridcolor": "white",
            "linecolor": "white",
            "ticks": ""
           }
          },
          "scene": {
           "xaxis": {
            "backgroundcolor": "#E5ECF6",
            "gridcolor": "white",
            "gridwidth": 2,
            "linecolor": "white",
            "showbackground": true,
            "ticks": "",
            "zerolinecolor": "white"
           },
           "yaxis": {
            "backgroundcolor": "#E5ECF6",
            "gridcolor": "white",
            "gridwidth": 2,
            "linecolor": "white",
            "showbackground": true,
            "ticks": "",
            "zerolinecolor": "white"
           },
           "zaxis": {
            "backgroundcolor": "#E5ECF6",
            "gridcolor": "white",
            "gridwidth": 2,
            "linecolor": "white",
            "showbackground": true,
            "ticks": "",
            "zerolinecolor": "white"
           }
          },
          "shapedefaults": {
           "line": {
            "color": "#2a3f5f"
           }
          },
          "ternary": {
           "aaxis": {
            "gridcolor": "white",
            "linecolor": "white",
            "ticks": ""
           },
           "baxis": {
            "gridcolor": "white",
            "linecolor": "white",
            "ticks": ""
           },
           "bgcolor": "#E5ECF6",
           "caxis": {
            "gridcolor": "white",
            "linecolor": "white",
            "ticks": ""
           }
          },
          "title": {
           "x": 0.05
          },
          "xaxis": {
           "automargin": true,
           "gridcolor": "white",
           "linecolor": "white",
           "ticks": "",
           "title": {
            "standoff": 15
           },
           "zerolinecolor": "white",
           "zerolinewidth": 2
          },
          "yaxis": {
           "automargin": true,
           "gridcolor": "white",
           "linecolor": "white",
           "ticks": "",
           "title": {
            "standoff": 15
           },
           "zerolinecolor": "white",
           "zerolinewidth": 2
          }
         }
        },
        "title": {
         "text": "Real Price Over Time for Different Products"
        },
        "width": 1000,
        "xaxis": {
         "title": {
          "text": "Time"
         }
        },
        "yaxis": {
         "title": {
          "text": "Real Price"
         }
        }
       }
      },
      "text/html": [
       "<div>                            <div id=\"dda4119b-bf00-485c-871f-2822c463bf56\" class=\"plotly-graph-div\" style=\"height:800px; width:1000px;\"></div>            <script type=\"text/javascript\">                require([\"plotly\"], function(Plotly) {                    window.PLOTLYENV=window.PLOTLYENV || {};                                    if (document.getElementById(\"dda4119b-bf00-485c-871f-2822c463bf56\")) {                    Plotly.newPlot(                        \"dda4119b-bf00-485c-871f-2822c463bf56\",                        [{\"mode\":\"lines+markers\",\"name\":\"LABEL-1\",\"x\":[\"https://static-01.daraz.pk/p/71ae853f953bc8964c4dc1e1af035653.jpg_200x200q80-product.jpg_.webp\",\"https://static-01.daraz.pk/p/6f3ab016cb2420e4b6af4b61002e7af7.jpg_200x200q80-product.jpg_.webp\",\"https://static-01.daraz.pk/p/27d937c553d9e4aee4d2544eebacb8a1.jpg_200x200q80-product.jpg_.webp\",null,\"https://static-01.daraz.pk/p/469852247bd3a7df07784e46d3956ca7.png_200x200q80-product.jpg_.webp\",\"https://static-01.daraz.pk/p/a6005613838d526c32d61ac55a01957d.jpg_200x200q80-product.jpg_.webp\",\"https://static-01.daraz.pk/p/8c679008c9f18c5269f159da07809ef5.jpg_200x200q80-product.jpg_.webp\",\"https://static-01.daraz.pk/p/7bf416cb0e05ec9639a6ed120541f649.jpg_200x200q80-product.jpg_.webp\",\"https://pk-live-21.slatic.net/kf/Sf440430a6bf74745bc913306a3ea1df9v.jpg\",\"https://static-01.daraz.pk/p/ab46a63e4f6caf9fc739cfac8da13d02.jpg_200x200q80-product.jpg_.webp\",\"https://static-01.daraz.pk/p/b4861cff5710a6a288d9b1309c6fe5ec.jpg_200x200q80-product.jpg_.webp\",\"https://static-01.daraz.pk/p/f2750e8cff84324e59722adde5852117.jpg_200x200q80-product.jpg_.webp\",\"https://static-01.daraz.pk/p/72a47d19ae83b4f60610a591eb1da49c.jpg_200x200q80-product.jpg_.webp\",\"https://static-01.daraz.pk/p/4cd19815f1ed11d27cb2f5f0c0482418.jpg_200x200q80-product.jpg_.webp\",\"https://static-01.daraz.pk/p/3d220102107f01ce2a9ae09234fe98ad.jpg_200x200q80-product.jpg_.webp\",\"https://static-01.daraz.pk/p/8e6c6e8f45f75f30d30422428849935b.jpg_200x200q80-product.jpg_.webp\",\"https://static-01.daraz.pk/p/cdcd146106efb7fa26aa05986a89c990.jpg_200x200q80-product.jpg_.webp\",\"https://pk-live-21.slatic.net/kf/Sd0ade1ba581846499dc30d9b37c2450fc.jpg\",\"https://static-01.daraz.pk/p/f9103dc15c0855b2d466964fcdf63762.jpg_200x200q80-product.jpg_.webp\",\"https://static-01.daraz.pk/p/b0d56acd926b6b662b28da557124bc12.jpg_200x200q80-product.jpg_.webp\",\"https://static-01.daraz.pk/p/5097bcd9febcca665862edfe80c3bc0e.jpg_200x200q80-product.jpg_.webp\",\"https://static-01.daraz.pk/p/b7004eba21a70a244418d98a34d1fd3c.png_200x200q80-product.jpg_.webp\",\"https://static-01.daraz.pk/p/d915d599784d6746bacfa0096497c908.jpg_200x200q80-product.jpg_.webp\",\"https://static-01.daraz.pk/p/cb5ef07a4e9da6d22c8092da2912c22f.jpg_200x200q80-product.jpg_.webp\",\"https://static-01.daraz.pk/p/059b5f715f9c8b5cd6adcc7d70e7e831.jpg_200x200q80-product.jpg_.webp\",\"https://pk-live-21.slatic.net/kf/S32b63f33fabc4b4aa77c0ed85aa1c21e5.jpg\",\"https://static-01.daraz.pk/p/506378286dfc399c0870165789f16cc2.jpg_200x200q80-product.jpg_.webp\",\"https://static-01.daraz.pk/p/e5c432d64e788ba2c1b9eddad279a98b.png_200x200q80-product.jpg_.webp\",\"https://static-01.daraz.pk/p/b6ceb80f99791c8cf0b03eb296e36998.jpg_200x200q80-product.jpg_.webp\",\"https://static-01.daraz.pk/p/a69be8e0ef9173e3fae216c65c619db9.jpg_200x200q80-product.jpg_.webp\",null,null,null,null,null,null,null],\"y\":[\"Wipers - Kitchen Shelf Cleaning Wiper - Windows/Mirror Cleaning Wiper\",\"Winter Cap and neck for Boy - Girls\",\"\\u3010Ready Stock+FREE Shipping+COD\\u3011Xiaomi Bluetooth 5.0 Earphones TWS Headphone True Wireless Earphone Touch Control Earbuds HiFi Stereo Sports Waterproof With Mic\",null,\"The Vintage Clothing Pack of 2 Hoodies For Men / Hoodies For Girls / Hoodies For Women Messi AW Allen Walker printed premium quality Hoodies For Men / Hoodies For Girls\",\"Beautious Eyebrow Stamp Shaping Kit, One Step Eyebrow Stamp Makeup with 3 Reusable Eyebrow Stencils and Eyebrow Pen Brushes Hairline Powder\",\"Original M10 & M19 & M28 M90 & i12 Double Wireless Bluetooth Hand Free with Power Bank Earphones White bluetooth ear phone for all cell phones use\",\"Stitched Heavy Embroidered Maxi with Koti (Separate Coaty) Party Wear Maxi Dresses For Women/Eid Collection/Wedding Dress For Women\",\"Winter Warm Thickening Wool Gloves Knitted Flip Fingerless Flexible Exposed Finger Thick Mittens for Men Women\",\"Multifunctional Portable Large Capacity Travel Cosmetic Bag with Handle Makeup Organizer Bag Storage Makeup Bag Waterproof PU Leather Travel Toiletry Bag for Women\",\"Stylish Printed Front Two Pocket Hooded Tracksuit For Men\",\"LOVE STYLE FONT NECKLACE, DOUBLE NAME NECKLACE, NAME LOCKET PERSONALIZED/CUSTOMIZED DESIGN NAME NECKLACE-(PERFECT GIFT TO SEND YOUR WIFE , FIANCE, HUSBAND, FATHER , OR ANY ONE)\",\"(Buy 1 Get 1 Free) New S10 Handsfree High Bass With Good Sound Quality\",\"Toiletry Bag Travel Cosmetic Bag, Shaving Kit, Grooming Makeup Bag Pouch for Men & Women, Black, GreyHigh Quality Toiletry Bag Men/Women travel Accessories with hanging option\",\"I7 Mini Bluetooth Headset Earbud Single Wireless Earphone With Mic Stereo For all phones\",\"Cool Sports Vacuum Flask Stainless Steel Water Bottle For School Kids\",\"Swetshirt And Pajama Trouser For Kids Baby Boys And Baby Girls Imported Comfy Winter Warm Tops Clothes Sets Dresses Outfit Jannat Store\",\"Silver Plating Couple Rings\",\"Zip card wallet Genuine Leather Minimalist Men's Purse Long Wallet For Men Bi Fold Simple Wallet Clasp Card Holder Wallet Small Wallet for Men and Boys - Slim and Smart Wallet Small Wallet for Men and Boys - Slim and Smart Wallet\",\"Men's Running Shoes Summer Mesh Genuine Breathable Mesh Shoes Casual Shoes Men Sports Shoes Size Breathable Sports Shoes Women Sneakers Sports Shoes Black Running Shoes\",\"Sogo Quartz Heater (JPN-94 / JPN-95)\",\"Beautious 4IN1 Super Skin Glowing Serum | 5% Niacinamide, 30% Vitamin C 10%, Vitamin E 10% & HA | 30 ml\",\"Girls Soft Half Finger Gloves Plush Fingerless Gloves\",\"Men Women Home Anti-slip Slipper Winter Warm Cotton House Indoor Slippers\",\"New Design 2 Piece Hand Bag With Small Carry Pouch & Long Strap\",\"A6s Bluetooth Earphones Tws In Ear Bluetooth 50 Running Sports Stereo Buttons With Microphone Wireless Headphones\",\"Beanie cap-Wool cap with neck warmer for men women| Winter cap for Unisex\",\"Hot Shaper Belt For Women Men Girls | Hot Shapper Belt For Hips Belly Fat Weight Loss Back Pain | Hot Shapers Slimming Belt Suana Sweat Belt Suit For Home Gym\",\"Infinix Hot 30 Back Rear Camera Protector 9H Gorilla Flexible Protection For Infinix Hot 30\",\"10Pcs Multi-function Spit Bone Dish Household Food Grade Plastic Spit Bone Dish Round Square Set Dining Table Garbage Plate\",null,null,null,null,null,null,null],\"type\":\"scatter\"},{\"mode\":\"lines+markers\",\"name\":\"LABEL-3\",\"x\":[\"Rs.\",\"Rs.\",\"Rs.\",null,\"Rs.\",\"Rs.\",\"Rs.\",\"Rs.\",\"Rs.\",\"Rs.\",\"Rs.\",\"Rs.\",\"Rs.\",\"Rs.\",\"Rs.\",\"Rs.\",\"Rs.\",\"Rs.\",\"Rs.\",\"Rs.\",\"Rs.\",\"Rs.\",\"Rs.\",\"Rs.\",\"Rs.\",\"Rs.\",\"Rs.\",\"Rs.\",\"Rs.\",\"Rs.\",null,null,null,null,null,null,null],\"y\":[\"149\",\"488\",\"1,399\",null,\"1,749\",\"319\",\"499\",\"1,575\",\"499\",\"999\",\"2,499\",\"619\",\"429\",\"430\",\"319\",\"947\",\"748\",\"550\",\"320\",\"999\",\"1,799\",\"269\",\"399\",\"349\",\"1,250\",\"2,901\",\"449\",\"341\",\"118\",\"415\",null,null,null,null,null,null,null],\"type\":\"scatter\"},{\"mode\":\"lines+markers\",\"name\":\"LABEL-5\",\"x\":[\"Rs.\",\"Rs.\",\"Rs.\",null,\"Rs.\",\"Rs.\",\"Rs.\",\"Rs.\",\"Rs.\",\"Rs.\",\"Rs.\",\"Rs.\",\"Rs.\",\"Rs.\",\"Rs.\",\"Rs.\",\"Rs.\",null,\"Rs.\",\"Rs.\",\"Rs.\",\"Rs.\",\"Rs.\",null,null,null,\"Rs.\",\"Rs.\",\"Rs.\",\"Rs.\",null,null,null,null,null,null,null],\"y\":[\"350\",\"999\",\"2,400\",null,\"2,500\",\"599\",\"1,600\",\"2,999\",\"696\",\"2,000\",\"3,299\",\"999\",\"1,800\",\"1,350\",\"1,000\",\"2,000\",\"1,400\",null,\"500\",\"1,500\",\"2,500\",\"499\",\"999\",null,null,null,\"900\",\"1,399\",\"195\",\"1,500\",null,null,null,null,null,null,null],\"type\":\"scatter\"},{\"mode\":\"lines+markers\",\"name\":\"LABEL-7\",\"x\":[\"-57%\",\"-51%\",\"-42%\",null,\"-30%\",\"-47%\",\"-69%\",\"-47%\",\"-28%\",\"-50%\",\"-24%\",\"-38%\",\"-76%\",\"-68%\",\"-68%\",\"-53%\",\"-47%\",null,\"-36%\",\"-33%\",\"-28%\",\"-46%\",\"-60%\",null,null,null,\"-50%\",\"-76%\",\"-39%\",\"-72%\",null,null,null,null,null,null,null],\"y\":[\"(306)\",\"(921)\",\"(128)\",null,\"(151)\",\"(406)\",\"(214)\",\"(15)\",\"(9)\",\"(45)\",\"(6)\",\"(15)\",\"(81)\",\"(398)\",\"(907)\",\"(589)\",\"(1050)\",\"(16)\",\"(149)\",\"(599)\",\"(124)\",\"(44)\",\"(178)\",\"(48)\",\"(581)\",\"(2072)\",\"(318)\",\"(411)\",\"(24)\",\"(38)\",null,null,null,null,null,null,null],\"type\":\"scatter\"},{\"mode\":\"lines+markers\",\"name\":\"LABEL-9\",\"x\":[\"https://static-01.daraz.pk/p/c8bf94c7ee9b27c066997788706a2440.png_200x200q80-product.jpg_.webp\",\"https://static-01.daraz.pk/p/4af103f1a9fffc09897c848f98df6ed8.jpg_200x200q80-product.jpg_.webp\",\"https://static-01.daraz.pk/p/df1d003e9474d338dc74ecaf9a2a8c06.jpg_200x200q80-product.jpg_.webp\",null,\"https://static-01.daraz.pk/p/fc587c24e28a9963517f835b4481abc6.jpg_200x200q80-product.jpg_.webp\",\"https://pk-live-21.slatic.net/kf/S84b4559ef054444c8c1243ccf75c4c026.jpg\",\"https://pk-live-21.slatic.net/kf/S509df6205c4647089c46cbe2b7831344l.jpg\",\"https://static-01.daraz.pk/p/868a277aa0dd1c7ec1470f8aeff65758.jpg_200x200q80-product.jpg_.webp\",\"https://static-01.daraz.pk/p/09d4383a42e47925af80cd8631c4f313.jpg_200x200q80-product.jpg_.webp\",\"https://static-01.daraz.pk/p/2c2ab66f6afb090cf7a19aef24fc6e2e.jpg_200x200q80-product.jpg_.webp\",\"https://static-01.daraz.pk/p/547236861adba4a9d28e300506198bc3.jpg_200x200q80-product.jpg_.webp\",\"https://static-01.daraz.pk/p/e50ed4f81d4537622747a807ab5d3944.jpg_200x200q80-product.jpg_.webp\",\"https://pk-live-21.slatic.net/kf/Sa52befac5a874702a4f4dd5c5c0796a0M.jpg\",\"https://static-01.daraz.pk/p/04f39c0b9a5c8aef901d77fd5356430d.jpg_200x200q80-product.jpg_.webp\",\"https://static-01.daraz.pk/p/54dab5bcbcc1794b94bd8f9a625e8f0e.jpg_200x200q80-product.jpg_.webp\",\"https://static-01.daraz.pk/p/7c2972d0d8e0d1c43905d358ea5c27c4.jpg_200x200q80-product.jpg_.webp\",\"https://static-01.daraz.pk/p/79a7091876e67954df5afdbaffc293a2.jpg_200x200q80-product.jpg_.webp\",\"https://static-01.daraz.pk/p/9950bb2aa955d6baef570d1658dd1d1b.jpg_200x200q80-product.jpg_.webp\",\"https://static-01.daraz.pk/p/c04e62be1ad2bbe0f1181456da1e650e.jpg_200x200q80-product.jpg_.webp\",\"https://static-01.daraz.pk/p/97b48170866dbf89287353d6513e265e.jpg_200x200q80-product.jpg_.webp\",\"https://static-01.daraz.pk/p/24b52b23cee2db1f02a4c9c1db82bbb5.jpg_200x200q80-product.jpg_.webp\",\"https://pk-live-21.slatic.net/kf/S52ad67c6bb354d7f859dbdd870841527Y.jpg\",\"https://pk-live-21.slatic.net/kf/Sd36b5ba1f78847ab95c7e17b7a92a874q.jpg\",\"https://static-01.daraz.pk/p/34db63b43b5bbe0b74b5ddac00f38074.jpg_200x200q80-product.jpg_.webp\",\"https://pk-live-21.slatic.net/kf/S0be3a49eef744ea0a5443ca08c6add92A.jpg\",\"https://static-01.daraz.pk/p/de675f79e3a830e5c7926f8ff491e64a.jpg_200x200q80-product.jpg_.webp\",\"https://static-01.daraz.pk/p/6ecf4f222681706089c91358ff543ff7.jpg_200x200q80-product.jpg_.webp\",\"https://static-01.daraz.pk/p/62e549fdb77c7453b84c154c2fa52625.jpg_200x200q80-product.jpg_.webp\",\"https://pk-live-21.slatic.net/kf/S1cdf55fa7ede450ba58a99b78b21b949F.jpg\",\"https://static-01.daraz.pk/p/8b350c0dbb44e8d1fdb623dbb9653125.jpg_200x200q80-product.jpg_.webp\",null,null,null,null,null,null,null],\"y\":[\"Flowery Pore-Refining Treatment Gel (Niacinamide + Witch-hazel) - 50g\",\"caps for men cap winter cap songting cap and neck fleece benie cap warm cap garam hot\",\"Oud Collection - Arabic Perfumes Dirham_Men - Eau De Perfume - 100ml Long Lasting Frangrances\",null,\"Clothes Storage Bags Organizer Under Bed Storage , 43L, Grey\",\"Upgraded Version V5.2 Chip TWS G11 Wireless Outdoor Sports Wireless Headset Gaming Earbuds Esports Listening Music Universal\",\"Ladies Luxury Golden Fashion Watch For Women's Ladies Classical Edition Special Watch for Ladies And Girls\",\"Men's Running Shoes Men's Slip-on Shoes Tennis Walking Casual Shoes Black Gym Breathable Work Shoes fashion shoes sneakers for men\",\"Branded Watch For Men and Boys Latest Design Wrist Watches in Multicolor\",\"Sunaina Textile 3 Piece Malai Linen Printed Unstitched Winter Collection Fabric for Girls/Womens Sunaina Vol-34\",\"Original i12 Tws Touch Sensor Airpods_  m10 m28/ Earphones With Charging Case Dock For All Mobiles\",\"Cotton Satin Double Bedsheet Embroided\",\"5PCS Set Women Starry Sky Dial Watch Brand Design Female Clock Blue Leather Band Ladies Watches Simple Casual Womens WristWatch\",\"Home & Office Multipurpose Plastic Rack / Room Organizer Home & Office Multipurpose  Plastic Rack / Room Organizer /  Shoe Rack Brown Art # SS-SSRm01\",\"Fashion Women Hand Wrist Warmer Winter Fingerless Knitted Gloves Random colors\",\"Lifestyle Glory Heart Wooden Clock With Premium Light I The New Wooden Wall Clock Big Size I Wall Clock I Wooden Wall Clock I Wall clocks for bedroom I Wall Clocks for drawing room I Wooden Wall Clocks for bedroom\",\"Glorya Decor Qul Clock Wooden Islamic Calligraphy I The New Premium Wooden Wall Clock Light Big Size I Wall Clock Wooden Wall Clock I Wall clocks for bedroom I Quartz Watch DIY Design Decoration Piece for Home Decor I Offices and for Gift Items\",\"Wanter - 100Pcs / Square Almond Oval Coffin Shape Natural & Transparent Color Artificial Nails Kit Fakee Nails Acrylic Nails For Girls Beautiful Nails Falsee Nails\",\"Men's Running Shoes Men's Slip-on Shoes Tennis Walking Casual Shoes Black Gym Breathable Rubber Work Shoes fashin shoes\",\"Birds on Tree 3D Wooden DIY Wall Clock Numeral\\u00a0Quartz Watch Hanging Decoration Piece for Home Decor and Girls Room Bed Rooms and for Gifts Item\",\"Stitched Namaz chadar Prayer Shawl with Sleeves\",\"Flowers Printed Zipper For Women Girls Customized By aarwah Emaan\",\"Customize Ring With your name engraved On Ring\",\"Winter Zipper Jacket Trouser Tracksuit\",\"Soap Holder Premium Quality - Soap Dish - Soap Box - Bathroom Accessories Sets Washroom Friendly Products Bathroom Products Non-perforated Shell Shape Soap Holder\",\"Pack of 2 Black Titanium Finger Ring & Black Bar Chain For Man Woman\",\"OASIS BLUE Fashion Women Faux Rebbit Fur Hand Wrist Warmer Winter Fingerless Knitted Gloves\",\"Microfiber Bathing Quick Dry Hair Cap Turban Wrap Towel Hat Hair-drying\",\"NEW TRENDY WINTER COLLECTION PLANE BASIC SKIN COLOUR HOODIE FOR MENS\",\"Tube cap for winter season outclass stuff / Inner Tube cap / Inner hijab cap / Under scarf cap for hijab\",null,null,null,null,null,null,null],\"type\":\"scatter\"},{\"mode\":\"lines+markers\",\"name\":\"LABEL-11\",\"x\":[\"Rs.\",\"Rs.\",\"Rs.\",null,\"Rs.\",\"Rs.\",\"Rs.\",\"Rs.\",\"Rs.\",\"Rs.\",\"Rs.\",\"Rs.\",\"Rs.\",\"Rs.\",\"Rs.\",\"Rs.\",\"Rs.\",\"Rs.\",\"Rs.\",\"Rs.\",\"Rs.\",\"Rs.\",\"Rs.\",\"Rs.\",\"Rs.\",\"Rs.\",\"Rs.\",\"Rs.\",\"Rs.\",\"Rs.\",null,null,null,null,null,null,null],\"y\":[\"199\",\"450\",\"299\",null,\"107\",\"4,573\",\"899\",\"1,399\",\"279\",\"550\",\"749\",\"975\",\"2,842\",\"449\",\"315\",\"375\",\"299\",\"249\",\"999\",\"289\",\"840\",\"1,029\",\"199\",\"1,298\",\"242\",\"125\",\"335\",\"120\",\"797\",\"160\",null,null,null,null,null,null,null],\"type\":\"scatter\"},{\"mode\":\"lines+markers\",\"name\":\"LABEL-13\",\"x\":[\"Rs.\",\"Rs.\",\"Rs.\",null,\"Rs.\",null,\"Rs.\",\"Rs.\",\"Rs.\",\"Rs.\",\"Rs.\",\"Rs.\",null,\"Rs.\",\"Rs.\",\"Rs.\",\"Rs.\",\"Rs.\",\"Rs.\",\"Rs.\",\"Rs.\",\"Rs.\",\"Rs.\",\"Rs.\",\"Rs.\",\"Rs.\",\"Rs.\",\"Rs.\",null,\"Rs.\",null,null,null,null,null,null,null],\"y\":[\"399\",\"1,500\",\"999\",null,\"200\",null,\"2,499\",\"2,299\",\"899\",\"650\",\"2,999\",\"1,500\",null,\"898\",\"499\",\"1,000\",\"1,000\",\"299\",\"1,699\",\"1,499\",\"1,599\",\"1,999\",\"700\",\"2,000\",\"399\",\"450\",\"999\",\"399\",null,\"350\",null,null,null,null,null,null,null],\"type\":\"scatter\"},{\"mode\":\"lines+markers\",\"name\":\"LABEL-15\",\"x\":[\"-50%\",\"-70%\",\"-70%\",null,\"-47%\",null,\"-64%\",\"-39%\",\"-69%\",\"-15%\",\"-75%\",\"-35%\",null,\"-50%\",\"-37%\",\"-63%\",\"-70%\",\"-17%\",\"-41%\",\"-81%\",\"-47%\",\"-49%\",\"-72%\",\"-35%\",\"-39%\",\"-72%\",\"-66%\",\"-70%\",null,\"-54%\",null,null,null,null,null,null,null],\"y\":[\"(48)\",\"(75)\",\"(10)\",null,\"(403)\",\"(827)\",\"(25)\",\"(47)\",\"(4)\",\"(40)\",\"(1047)\",\"(977)\",\"(234)\",\"(597)\",\"(22)\",\"(6074)\",\"(106)\",\"(4612)\",\"(6632)\",\"(976)\",\"(183)\",\"(25)\",\"(137)\",\"(72)\",\"(123)\",\"(46)\",\"(20)\",\"(1)\",\"(25)\",\"(23)\",null,null,null,null,null,null,null],\"type\":\"scatter\"},{\"mode\":\"lines+markers\",\"name\":\"LABEL-17\",\"x\":[\"https://static-01.daraz.pk/p/2ec8a4dce3c166887a38a3a8b3bd1d9d.jpg_200x200q80-product.jpg_.webp\",\"https://static-01.daraz.pk/p/c7a925e890fef07f606b81b655e99a97.jpg_200x200q80-product.jpg_.webp\",\"https://pk-live-21.slatic.net/kf/Sbb9527030584489fae259b8b10ad61c67.jpg\",null,\"https://static-01.daraz.pk/p/8ff3f0759bd8ce606bf6bc945a608f19.jpg_200x200q80-product.jpg_.webp\",\"https://static-01.daraz.pk/p/7e9ec02650c5ab937eae001f82e9b7b4.jpg_200x200q80-product.jpg_.webp\",\"https://static-01.daraz.pk/p/a5a14a4ba0248655d9f41e79440668ec.jpg_200x200q80-product.jpg_.webp\",\"https://static-01.daraz.pk/p/9ff19b7a55ee0674d23c6cd9844b8047.jpg_200x200q80-product.jpg_.webp\",\"https://static-01.daraz.pk/p/abfa67bbfccf87a4ac15b24291d50c22.jpg_200x200q80-product.jpg_.webp\",\"https://static-01.daraz.pk/p/9c27a943f1d7474800c2e42f8f3db41a.jpg_200x200q80-product.jpg_.webp\",\"https://static-01.daraz.pk/p/5c2efef8076524a8e6c7a8e35ff1b275.jpg_200x200q80-product.jpg_.webp\",\"https://static-01.daraz.pk/p/ec6203142236c30f3824cd3abe5c4845.png_200x200q80-product.jpg_.webp\",\"https://pk-live-21.slatic.net/kf/Sc1e8b010d3af4a0ea13c1db794bb4355v.jpg\",\"https://static-01.daraz.pk/p/7b9e9e31b1c571880f2fb1c48aaaf23c.jpg_200x200q80-product.jpg_.webp\",\"https://pk-live-21.slatic.net/kf/Sc7d24dd1c851404d94b3badd79374b10i.jpg\",\"https://static-01.daraz.pk/p/60bffe82dcfef3a58558d53f836929a0.jpg_200x200q80-product.jpg_.webp\",\"https://pk-live-21.slatic.net/kf/S121371a58bf340fca08d5767da0de739z.jpg\",\"https://static-01.daraz.pk/p/65f1571d36624705314f9fad040062ca.jpg_200x200q80-product.jpg_.webp\",\"https://static-01.daraz.pk/p/67ac5d8ccc353c558313b63593af2982.jpg_200x200q80-product.jpg_.webp\",\"https://static-01.daraz.pk/p/e3f1df422bc423706380e1df419b4a00.jpg_200x200q80-product.jpg_.webp\",\"https://static-01.daraz.pk/p/9eb2cccd19d87c632d2b3917b08e2fb8.jpg_200x200q80-product.jpg_.webp\",\"https://pk-live-21.slatic.net/kf/S3c412dfce22f43d99986013ba1f1a6d7b.jpg\",\"https://static-01.daraz.pk/p/f70c177bc49657a6c4b45d2f338f9306.jpg_200x200q80-product.jpg_.webp\",\"https://static-01.daraz.pk/p/8cb7a4ff4a7c92412f6db321480e4a50.png_200x200q80-product.jpg_.webp\",\"https://pk-live-21.slatic.net/kf/Se3636ef1115348fe97db41f0e84c5da8A.jpg\",\"https://static-01.daraz.pk/p/dbdd09eb18f236ac3601b5320a7e7eaf.jpg_200x200q80-product.jpg_.webp\",\"https://static-01.daraz.pk/p/499cc5290747a24157492e08efe737fe.jpg_200x200q80-product.jpg_.webp\",\"https://static-01.daraz.pk/p/de675f79e3a830e5c7926f8ff491e64a.jpg_200x200q80-product.jpg_.webp\",\"https://static-01.daraz.pk/p/170056af5405c275e85cc05be4f5f3a1.jpg_200x200q80-product.jpg_.webp\",\"https://static-01.daraz.pk/p/1783fb3a0a2f0f5fef954dbab372abc0.jpg_200x200q80-product.jpg_.webp\",null,null,null,null,null,null,null],\"y\":[\"https://img.alicdn.com/imgextra/i2/O1CN01m9OC6a1UK86X51Dcq_!!6000000002498-2-tps-108-54.png\",\"https://img.alicdn.com/imgextra/i2/O1CN01m9OC6a1UK86X51Dcq_!!6000000002498-2-tps-108-54.png\",null,null,null,null,null,null,\"https://img.alicdn.com/imgextra/i2/O1CN01m9OC6a1UK86X51Dcq_!!6000000002498-2-tps-108-54.png\",null,\"https://img.alicdn.com/imgextra/i2/O1CN01m9OC6a1UK86X51Dcq_!!6000000002498-2-tps-108-54.png\",null,null,null,null,null,null,null,\"https://img.alicdn.com/imgextra/i2/O1CN01m9OC6a1UK86X51Dcq_!!6000000002498-2-tps-108-54.png\",null,null,null,null,null,null,null,null,null,null,null,null,null,null,null,null,null,null],\"type\":\"scatter\"},{\"mode\":\"lines+markers\",\"name\":\"product3\",\"x\":[\"Christine Princess Lipstick - Shade 304\",\"ENRAX CART Winter Solid Color Faux Rabbit  Gloves Arm Sleeve Cover Warmer Fingerless Wrist Gloves Knitted Mitten Fashion Women Gloves\",\"6pcs Square Quartz Watch Dainty Bracelets Set Women Black White Watch Dial Leather Strap Heart Leaf Infinity Bracelets Set\",null,\"Waterproof Jelly Solid Lipstick  Moisturizing Long Lasting Red Lip Balm  High Color Rendering Smoothing Jelly Lipstick\",\"2 Portable Digital USB Mini Stereo Wired Speakers For Laptop/PC/Mobile - Black/White\",\"Multifunction Kitchen Food chopper Machine onion chopper Hand Pull Speedy Chopper Turbo Cutter Nicer Dicer Plus Garlic Press small meat Shredders Grinder Mincer Mixer Blender can cut fruits/vegetables/nuts/herbs/onions/garlic/chili\",\"Stylish HAND WITH CUP printed Fleece Pull Over Hoodie\",\"AT Heart Wooden Clock With Premium Light I The New Wooden Wall Clock Big Size I Wall Clock I Wooden Wall Clock I Wall clocks for bedroom I Wall Clocks for drawing room I Wooden Wall Clocks for bedroom\",\"Pack of 3 - 4-Colors Non-woven Foldable Clothes Quilt Clothes Storage Bag Organizer Box New-L\",\"Latest Casual Sneaker, Lace Up Light Weight Shoes for Running, walking\",\"Modern 3D Brick Wallpaper Self Adhesive Waterproof Wall Panel Living Room Mould Proof Wall Sticker Formaldehyde-free Home Decor\",\"Top Brand Luxury Fashion Calendar Watch Men Nylon Strap Clock Sport Watches Mens Quartz Wristwatch Relogio Masculino\",\"USB Rechargeable and Solar Charging Emergency flashlight Portable Emergency Light With Charging Cable 3 Types of Lighting System\",\"6 PCS New Lxury Love Rhinestone Jewelry Ladies Ring Necklace Earrings Bracelet Set Simple Digital Leather Strap Quartz Watch\",\"AirPods_Pro Wireless Earbuds Bluetooth 5.0, Super Sound Bass, Charging Case and Extra Ear-Buds, Pop-Up Feature Compatible with All Devices\",\"New  Flat Slippers for girls and women\",\"Natural Liquid Blush - Air Cushion Liquid Blush - Cheek Liquid Blusher\",\"AKE - Motorcycle Half Face Mask Winter Wear Beard cold Protection Mask Black Red Blue Multi Color\",\"12v DC 50W LED for Solar and Battery Operated only Flood Light Waterproof For Outdoor\",\"Flexible tripod phone holder foam\",\"Solar Powered Rechargeable LED Multifunctional Portable Light USB Dual Light Source Outdoor Searchlight Camping Light Strong Fla\",\"Beautious Pack of 5 Mini Matte Lipsticks Red Brown pink lipstick\",\"Electric Room Heater/ Electric Heater With Safety Switch(400W)\",\"Chest Bag New Men Simple Nylon Fashion Waterproof One Shoulder Crossbody Bag\",\"1pair Winter Warm Plush Leg Warmers Knee Brace Support Thermal Long Leg Sleeves\",\"Large Storage Bags, Storage Bag Clothes Storage Box Bins Foldable Closet Organizers Storage Containers with Durable Handles Thick Fabric for Blanket Comforter Clothing Bedding\",\"Black Titanium Finger Ring With Cuboid Rectangle Neck Pendant Chain Necklace For Boys And Men (Pack Of 2)\",\"Very stylish smart Soap holder for bathroom soap dish modern style and space saving leaf shape soap holder self draining bathroom fitting\",\"I9 Ultra Max Smart Watch 2.19 Inch Full Touch Smartwatch Wireless Charging Bluetooth Call Watch Sport Woman Men Smartwatch\",null,null,null,null,null,null,null],\"y\":[\"Rs.\",\"Rs.\",\"Rs.\",null,\"Rs.\",\"Rs.\",\"Rs.\",\"Rs.\",\"Rs.\",\"Rs.\",\"Rs.\",\"Rs.\",\"Rs.\",\"Rs.\",\"Rs.\",\"Rs.\",\"Rs.\",\"Rs.\",\"Rs.\",\"Rs.\",\"Rs.\",\"Rs.\",\"Rs.\",\"Rs.\",\"Rs.\",\"Rs.\",\"Rs.\",\"Rs.\",\"Rs.\",\"Rs.\",null,null,null,null,null,null,null],\"type\":\"scatter\"},{\"mode\":\"lines+markers\",\"name\":\"real price.1\",\"x\":[\"280\",\"335\",\"2,992\",null,\"356\",\"509\",\"497\",\"1,099\",\"345\",\"271\",\"999\",\"228\",\"2,777\",\"949\",\"4,388\",\"2,128\",\"599\",\"299\",\"268\",\"799\",\"179\",\"6,455\",\"215\",\"1,585\",\"4,100\",\"499\",\"79\",\"115\",\"279\",\"1,999\",null,null,null,null,null,null,null],\"y\":[\"(510)\",\"(87)\",\"(763)\",null,\"(13)\",\"(743)\",\"(307)\",\"(107)\",\"(48)\",\"(157)\",\"(633)\",\"(14)\",\"(198)\",\"(7)\",\"(111)\",\"(2899)\",\"(61)\",\"(11)\",\"(1646)\",\"(246)\",\"(110)\",\"(3)\",\"(1548)\",\"(680)\",\"(452)\",\"(90)\",\"(23)\",\"(271)\",\"(804)\",\"(273)\",null,null,null,null,null,null,null],\"type\":\"scatter\"},{\"mode\":\"lines+markers\",\"name\":\"LABEL-23\",\"x\":[\"https://static-01.daraz.pk/p/90d26ddfd00a193f3e68cdde3bd8b3cb.jpg_200x200q80-product.jpg_.webp\",\"https://static-01.daraz.pk/p/a51243f44523cade41fa9164c8451003.jpg_200x200q80-product.jpg_.webp\",\"https://static-01.daraz.pk/p/11ac93debc32f876fe77ab12d31a9b54.jpg_200x200q80-product.jpg_.webp\",null,\"https://static-01.daraz.pk/p/6c068b6a4bfcb6fd3cfba2dda875a39d.jpg_200x200q80-product.jpg_.webp\",\"https://static-01.daraz.pk/p/0c73e9ddaf1c7f33e30f64c4c4830d37.jpg_200x200q80-product.jpg_.webp\",\"https://static-01.daraz.pk/p/f3615f35eca216e5a8a40aa75abd8bd0.jpg_200x200q80-product.jpg_.webp\",\"https://static-01.daraz.pk/p/26bbbdc233ddb437c993750d812bb5a9.png_200x200q80-product.jpg_.webp\",\"https://static-01.daraz.pk/p/6c27a5ebfe41ca95927f94bb08a8e837.jpg_200x200q80-product.jpg_.webp\",\"https://pk-live-21.slatic.net/kf/S1768b9ac1a99469d9f19c3874d2617edJ.jpg\",\"https://static-01.daraz.pk/p/e91d0472e52fba5e5ddaac54d10d4ba0.jpg_200x200q80-product.jpg_.webp\",\"https://static-01.daraz.pk/p/653a8f055fd71a34dcb6e188c19336e9.jpg_200x200q80-product.jpg_.webp\",\"https://static-01.daraz.pk/p/1903f6b3a3aaccc24f19bfb8b04d7be3.jpg_200x200q80-product.jpg_.webp\",\"https://static-01.daraz.pk/p/86a884929920900a55ce6b8217116ff2.jpg_200x200q80-product.jpg_.webp\",\"https://static-01.daraz.pk/p/d3eee195127ff169c00bd6343be33a93.jpg_200x200q80-product.jpg_.webp\",\"https://static-01.daraz.pk/p/caaff909403be1fe2fbae65bc10c375a.jpg_200x200q80-product.jpg_.webp\",\"https://static-01.daraz.pk/p/07632bf6626c34c9ed3c9ff3db040396.jpg_200x200q80-product.jpg_.webp\",\"https://static-01.daraz.pk/p/82c357c91c07343872ac4301c6ac510c.jpg_200x200q80-product.jpg_.webp\",\"https://static-01.daraz.pk/p/29bff0d213799e89fa32f0868dd3210b.jpg_200x200q80-product.jpg_.webp\",\"https://static-01.daraz.pk/p/db16459a47e435da7d080c91b1be7d5a.jpg_200x200q80-product.jpg_.webp\",\"https://static-01.daraz.pk/p/06ccafa248100ac6229eb029132f3155.jpg_200x200q80-product.jpg_.webp\",\"https://static-01.daraz.pk/p/d826554f0ddec46249ebf208513c892c.jpg_200x200q80-product.jpg_.webp\",\"https://static-01.daraz.pk/p/e9ba89c9646ad42e2fa9b7c29d8d0a40.jpg_200x200q80-product.jpg_.webp\",\"https://static-01.daraz.pk/p/1ffd44b36a8bbee8e65f338e78d6d400.jpg_200x200q80-product.jpg_.webp\",\"https://static-01.daraz.pk/p/ee83b88088d97c09a026ec852fb0bb06.jpg_200x200q80-product.jpg_.webp\",\"https://static-01.daraz.pk/p/838c3c0e331abb10afbe9af4fc8e87b3.jpg_200x200q80-product.jpg_.webp\",\"https://static-01.daraz.pk/p/2cd851a1811a0a1d6f7ec3423aea2e62.jpg_200x200q80-product.jpg_.webp\",\"https://static-01.daraz.pk/p/2f31d6f26bc66a66707b69c872c59439.jpg_200x200q80-product.jpg_.webp\",\"https://pk-live-21.slatic.net/kf/S2cf566d4d10a437aba3f52e578a704f7b.jpg\",\"https://static-01.daraz.pk/p/52cfcb1687f8aee65c24fc97f50090c0.jpg_200x200q80-product.jpg_.webp\",null,null,null,null,null,null,null],\"y\":[\"Women;s bag's Hand bags and shoulder Cross Body bag at discounted Price\",\"Crystal Hair Remover, Comprehensive Solution for Painless Removal with Nano  Glass, Portable, Useful Manual Epilator Perfectly Designed for Women's Under-arms, Hand, Legs, Bikini, and Body Grooming\",\"T500 Ultra Pro Plus Smart Watch 44mm| Smart Watch For Men And Women | Bluetooth Connectivity | High Quality Budget Smart Watch\",null,\"Rorec White Rice Serum for Face Whitening Fine Lines Makeup Primer Serum 15ml\",\"Hair Oil Applicator Bottle, Root oiling Comb bottle for Hair Coloring, Shampoo, Oiling, Dye, and Scalp Treatment for home & commercial ( Empty Bottle )\",\"Winter Stylish Pocket Zipper Jacket For Men/ Upper /Bomber Jacket For Men - Heavy Fleece Material - Stay Warm And Stylish In Winter\",\"Manual chopper -  manual chopper 3 blades, manual speedy chopper, hand use chopper, speedy chopper manual hand push, vegetable chopper, manual food chopper, manual chopper machine, meat chopper, electric free manual chopper, m\",\"Toothpaste Dispenser With 5 Brush Holder Wall Mounted Automatic Hands Free Toothpaste Dispenser\",\"Waist Trimmer Unisex Belly Wrap Workout Sports Sweat Band AB Trainer Weight Loss Body Shaper Tummy Control Slimming Belt\",\"Happy Birthday Decoration Set Theme Including 30 Balloons ( 10 Blue 10 White 10 Silver) 4 confetti Balloons Blue Happy Birthday Banner or Silver Foil Curtain\",\"Winter Women Half-finger Flip-top Gloves Student Cute Girl Cartoon Warm\",\"Octopus Head Relaxing Massager - Massager - Head Massager\",\"SastaaE 3 PC Unstitched Kataan Silk Plain Shirt & Trouser With Organza Lining Dupatta - Mehroon\",\"Ultralight Breathable Mesh Men Training Casual Gray Sneakers Sports Shoes Lightweight Athletic Running Shoes\",\"800W Space Heater Small Electric Ceramic Heater 2 Power Level Knob Switch For Dormitory\",\"Home & Office Multipurpose Plastic Rack / Room Organizer Home & Office Multipurpose  Plastic Rack / Room Organizer /  Shoe Rack Art # SS-SSR01\",\"Crystals Chokar Set with Stud Earrings - Double Layered Choker Necklace\",\"Posture belt, posture corrector belt, Back support belt, Back Pain Relief Shoulder Back Support Belt\",\"Designer Fully Heavy Embroidered Flower Stitched Silk Maxi With Embroidered Koti For Girls - Elevate Your Style With A Designer Embroidered Maxi\",\"Bag X Luxury 3 piece Bag set Women's Cross Body & Shoulder Bag - hand bag for girls , bags for girls , Bags for women , Large Capacity Women Bag Ladies Leather Tote Fashion Shoulder Bags for Women 2023 Wallet\",\"Fleece Printed Pull Over Hoodie for Men with original picture  - Black\",\"RichMan_Winter Grey and Black Hoodie Track Suit for Man\",\"Sleeveless jackets for men  and boys\",\"High quality wooden wall clock | Flower shaped wall clock | flower shaped wooden wall clock\",\"Portable Lint Remover Clothes Fuzz Fabric Shaver Brush Tool Power-Free Fluff Removing Roller For Sweater Woven Coat\",\"The Jewel Lodge name lockets for girls in urdu, Name Jewelry, Customize Necklace Name, customized name necklace, Momina name locket\",\"High quality wooden wall clock | Bird shaped wall clock | bird shaped wooden wall clock\",\"Travel Mini Hair Flat Iron 2 in 1 Hair Straightener Hair Curler Ceramic Plate\",\"Fashion Solid Color Shoulder Bag Crossbody Bags Women Leather Woven Bag Purse Podazz\",null,null,null,null,null,null,null],\"type\":\"scatter\"},{\"mode\":\"lines+markers\",\"name\":\"LABEL-25\",\"x\":[\"Rs.\",\"Rs.\",\"Rs.\",null,\"Rs.\",\"Rs.\",\"Rs.\",\"Rs.\",\"Rs.\",\"Rs.\",\"Rs.\",\"Rs.\",\"Rs.\",\"Rs.\",\"Rs.\",\"Rs.\",\"Rs.\",\"Rs.\",\"Rs.\",\"Rs.\",\"Rs.\",\"Rs.\",\"Rs.\",\"Rs.\",\"Rs.\",\"Rs.\",\"Rs.\",\"Rs.\",\"Rs.\",\"Rs.\",null,null,null,null,null,null,null],\"y\":[\"649\",\"259\",\"1,429\",null,\"399\",\"84\",\"2,599\",\"599\",\"350\",\"2,992\",\"279\",\"543\",\"118\",\"740\",\"799\",\"1,485\",\"449\",\"299\",\"579\",\"1,599\",\"2,399\",\"799\",\"1,499\",\"1,799\",\"299\",\"729\",\"649\",\"379\",\"559\",\"998\",null,null,null,null,null,null,null],\"type\":\"scatter\"},{\"mode\":\"lines+markers\",\"name\":\"LABEL-27\",\"x\":[\"(1103)\",\"(231)\",\"(768)\",null,\"(554)\",\"(351)\",\"(21)\",\"(59)\",\"(14)\",\"(178)\",\"(194)\",\"(4)\",\"(116)\",\"(153)\",\"(958)\",\"(150)\",\"(61)\",\"(78)\",\"(7)\",\"(2316)\",\"(1857)\",\"(292)\",\"(103)\",\"(153)\",\"(2983)\",\"(102)\",\"(101)\",\"(758)\",\"(36)\",\"(292)\",null,null,null,null,null,null,null],\"y\":[\"https://static-01.daraz.pk/p/d3056deae6ba26fc8950d15acc0a4624.jpg_200x200q80-product.jpg_.webp\",\"https://static-01.daraz.pk/p/5873ad4a53f1d8f8672a3e87d6598f32.jpg_200x200q80-product.jpg_.webp\",\"https://static-01.daraz.pk/p/d63b55b0cd6e0f31144291f8901dc25d.jpg_200x200q80-product.jpg_.webp\",null,\"https://static-01.daraz.pk/p/528d9b163b11533936f4486de930d163.jpg_200x200q80-product.jpg_.webp\",\"https://static-01.daraz.pk/p/ec5d587ba6f55bd3b573ce957e6b0732.jpg_200x200q80-product.jpg_.webp\",\"https://static-01.daraz.pk/p/927e29a2c76108e650bc6f6de673d248.jpg_200x200q80-product.jpg_.webp\",\"https://static-01.daraz.pk/p/f86ea44c54967f928a80b9acfc6b4305.jpg_200x200q80-product.jpg_.webp\",\"https://static-01.daraz.pk/p/0c07859495904e963be14548e37c92d2.jpg_200x200q80-product.jpg_.webp\",\"https://static-01.daraz.pk/p/604388b4fb9b0fa8316b5e98be57f887.jpg_200x200q80-product.jpg_.webp\",\"https://static-01.daraz.pk/p/59eb608b46bfbde45c6c637b706198fb.jpg_200x200q80-product.jpg_.webp\",\"https://static-01.daraz.pk/p/65ff1311b74f90e7f1bd6a3f22b106e7.jpg_200x200q80-product.jpg_.webp\",\"https://static-01.daraz.pk/p/6892a4c07c9c8b86b3a0f98a6ed238b6.jpg_200x200q80-product.jpg_.webp\",\"https://static-01.daraz.pk/p/5dc9538fb982afcf65c965bd59c00416.jpg_200x200q80-product.jpg_.webp\",\"https://static-01.daraz.pk/p/e58fb1fa34bd13d925b38edbd6f65a89.jpg_200x200q80-product.jpg_.webp\",\"https://pk-live-21.slatic.net/kf/Sbb7253778af14443917a7c0fc501b6020.jpg\",\"https://pk-live-21.slatic.net/kf/S40e541a978424c48afab0b52df80249eX.jpg\",\"https://static-01.daraz.pk/p/45b2cbc08b9d85db52f50c3bb127f171.jpg_200x200q80-product.jpg_.webp\",\"https://static-01.daraz.pk/p/89bbc6e33a5e4211a3a26c45e8c26b61.jpg_200x200q80-product.jpg_.webp\",\"https://pk-live-21.slatic.net/kf/S5495cc7b11554befa95be27a661a8760B.jpg\",\"https://static-01.daraz.pk/p/996dc51794e0c9edfe02b1a7b33351a7.jpg_200x200q80-product.jpg_.webp\",\"https://static-01.daraz.pk/p/10d2d7c6563b18a4bcc579b66558d920.jpg_200x200q80-product.jpg_.webp\",\"https://static-01.daraz.pk/p/f73661fd24ed9e925d555cee3b3d68c9.jpg_200x200q80-product.jpg_.webp\",\"https://static-01.daraz.pk/p/b9f707539281fef34d90b770c69c00a4.jpg_200x200q80-product.jpg_.webp\",\"https://static-01.daraz.pk/p/6ad9d2b7b267ecd0ef235277ccc5419a.jpg_200x200q80-product.jpg_.webp\",\"https://static-01.daraz.pk/p/e62380acad963698cbae640bf85adf82.jpg_200x200q80-product.jpg_.webp\",\"https://static-01.daraz.pk/p/464fd41bf081e00b39c7ba70e7a6aba1.jpg_200x200q80-product.jpg_.webp\",\"https://static-01.daraz.pk/p/9eb6eed6905bbefd6ff943bc742db225.jpg_200x200q80-product.jpg_.webp\",\"https://static-01.daraz.pk/p/df72c7c26c67b88f1b4fd46130e2a15b.jpg_200x200q80-product.jpg_.webp\",\"https://static-01.daraz.pk/p/8f527f50b8daa7b604f9be3adb866b22.jpg_200x200q80-product.jpg_.webp\",null,null,null,null,null,null,null],\"type\":\"scatter\"},{\"mode\":\"lines+markers\",\"name\":\"prduct5\",\"x\":[\"Pedicure Brush Foot Care Tool 4 in1 Foot Pumice Stone Dead Skin Remover Brush Pedicure Grinding Tool Pedicure File Foot Grater\",\"Best Leather wallet for men stylish leather purse for men\",\"1pcs Portable Mini Mobile Bracket Smartphone Support Cell Holder Tablet Phone Holder Desk Stand\",null,\"Room Heater Fan Electric Heater Dual Thermal Control\",\"Golden Pearl - Whitening Skin Serum & Beauty Cream & Neem Face Wash\",\"D20 ultra orange SMART WATCH fitness band Vip quality stock All working functions smooth sensor touch 2 days batery timing\",\"Stainless Steel Turkish Silver Fashion Blue Feroza Stone Ring For Men\",\"Evento Acrylic Mirror Wall Leaf 3d Wall Sticker Sets Decore Art Design Decoration For Home Decor Living Bed Room And Offices And For Gifts Piece Item\",\"Evento Acrylic Mirror Wall Leaf 3d Wall Sticker Sets Decore Art Design Decoration For Home Decor Living Bed Room And Offices And For Gifts Piece Item\",\"4 Pc Winter Beanie Cap, Neck Warmer,Gloves Set & Leg Warmer- Full 4 Piece Beanie Set\",\"Onion Cutter Peeler Twister Cutting Spiral Slicer Potato Onion Cutter Peeler Vegetable  Cheese Carrot Potato Cucumber Slicer Peeler Fruits Vegetables Cutter\",\"Electronic Fast Hair Straightener Portable Mini Hair Flat Iron\",\"Soap Base Melt and Pour - Soap Base Transparent - Glycerin Soap Base - Transparent Soap Base Sulphate Free | Paraben Free\",\"BIN-B PACK OF 3 PAIRS ANKLE SOCKS\",\"5pcs Set Women Fashion Quartz Watch Female Clock Moon Dial Luxury Brand Design Women Watches Simple Ladies Watches\",\"Customize picture LED Lamp Birthday Gift Hearts in Multi Colors For gifts & Decore\",\"9 Colors Keyboard Eyeshadow Palette Pearly Matte Glitter Eyeshadow Pallet Long Lasting Waterproof Glitter Galaxy Eye shadow Makeup Palette\",\"WANTER 13 Pcs Makeup Brush Set Soft hair Loose Powder Eyeshadow Concealer Contour Eyeliner brush Foundation Beauty Cosmetic tools\",\"5pcs Dainty Rhinestone Dial Quartz Watch With Jewelry Set Fashion Round Women Watch Round Pink Color Bracelet Set\",\"Pair (2 Pieces) Of Silicon Heel Socks, Heel Pad Socks For Both Women And Men, Gel Heel Protector, Heel Safety Guard, Heel Relief and Pain Relief Silicone Protector Pads Silicone Heel Pads\",\"pure chandi k earring tops 3 pair for 3 piercing k liyeee har rang me nagina laga k apko mill jaye gy\",\"Money Heist Tracksuit,Gym wear and comfortable Pair Shirt and Trouser\",\"Garena Free Fire Diamonds  35\",\"Rechargeable Dancing Cactus Toy with Songs Plush Funny Electronic Singing Dancing Cactus Shaking Cactus Lightning, Wriggle Twisting Cactus Cute Plush Toy Education Toy for Children Playing Birthday Gift and Home Decoration Kids Toy\",\"Nano tape (Double sided Washable silicon Transparent tape) Transparent Waterproof tape\",\"SastaaE 3 PC Unstitched Kataan Silk Plain Shirt & Trouser With Organza Lining Dupatta -  Pink\",\"EVENTO Wooden Wall Hanging Mobile Holder and Key Holder 3D DIY Design Multipurpose Wall Hanging Mobile Organizer for Home Decor Living Room and Offices and for Gifts Items\",\"Crystal Necklace Bracelet Ring Earrings Tassel Bridesmaid Wedding Jewelry Set\",\"Pack Of 3- Pocket Pen Perfume - Random Collection\",null,null,null,null,null,null,null],\"y\":[\"Rs.\",\"Rs.\",\"Rs.\",null,\"Rs.\",\"Rs.\",\"Rs.\",\"Rs.\",\"Rs.\",\"Rs.\",\"Rs.\",\"Rs.\",\"Rs.\",\"Rs.\",\"Rs.\",\"Rs.\",\"Rs.\",\"Rs.\",\"Rs.\",\"Rs.\",\"Rs.\",\"Rs.\",\"Rs.\",\"Rs.\",\"Rs.\",\"Rs.\",\"Rs.\",\"Rs.\",\"Rs.\",\"Rs.\",null,null,null,null,null,null,null],\"type\":\"scatter\"},{\"mode\":\"lines+markers\",\"name\":\"LABEL-31\",\"x\":[\"248\",\"379\",\"75\",null,\"2,899\",\"603\",\"895\",\"149\",\"349\",\"349\",\"969\",\"88\",\"420\",\"300\",\"199\",\"4,830\",\"999\",\"350\",\"549\",\"4,382\",\"89\",\"899\",\"854\",\"50\",\"1,199\",\"175\",\"740\",\"279\",\"741\",\"220\",null,null,null,null,null,null,null],\"y\":[\"Rs.\",\"Rs.\",\"Rs.\",null,null,\"Rs.\",\"Rs.\",\"Rs.\",\"Rs.\",\"Rs.\",\"Rs.\",\"Rs.\",\"Rs.\",\"Rs.\",\"Rs.\",null,\"Rs.\",\"Rs.\",\"Rs.\",null,\"Rs.\",null,\"Rs.\",\"Rs.\",\"Rs.\",\"Rs.\",\"Rs.\",\"Rs.\",\"Rs.\",\"Rs.\",null,null,null,null,null,null,null],\"type\":\"scatter\"},{\"mode\":\"lines+markers\",\"name\":\"LABEL-33\",\"x\":[\"349\",\"499\",\"300\",null,null,\"670\",\"2,500\",\"299\",\"2,000\",\"800\",\"2,599\",\"150\",\"490\",\"500\",\"350\",null,\"1,700\",\"599\",\"799\",null,\"199\",null,\"1,299\",\"58\",\"2,000\",\"299\",\"1,400\",\"299\",\"1,120\",\"499\",null,null,null,null,null,null,null],\"y\":[\"-29%\",\"-24%\",\"-75%\",null,null,\"-10%\",\"-64%\",\"-50%\",\"-83%\",\"-56%\",\"-63%\",\"-41%\",\"-14%\",\"-40%\",\"-43%\",null,\"-41%\",\"-42%\",\"-31%\",null,\"-55%\",null,\"-34%\",\"-14%\",\"-40%\",\"-41%\",\"-47%\",\"-7%\",\"-34%\",\"-56%\",null,null,null,null,null,null,null],\"type\":\"scatter\"},{\"mode\":\"lines+markers\",\"name\":\"LABEL-35\",\"x\":[\"(37)\",\"(784)\",\"(121)\",null,\"(27)\",\"(713)\",\"(55)\",\"(25)\",\"(360)\",\"(23)\",\"(70)\",\"(102)\",\"(30)\",\"(17)\",\"(126)\",\"(744)\",\"(43)\",\"(271)\",\"(1015)\",\"(66)\",\"(208)\",\"(73)\",\"(392)\",\"(1949)\",\"(184)\",\"(458)\",\"(680)\",\"(433)\",\"(310)\",\"(171)\",null,null,null,null,null,null,null],\"y\":[\"https://static-01.daraz.pk/p/76bf68ad8940635f8a675647a5b2d5b8.jpg_200x200q80-product.jpg_.webp\",\"https://static-01.daraz.pk/p/384165acd2c720eb84c86cdb081f8377.jpg_200x200q80-product.jpg_.webp\",\"https://pk-live-21.slatic.net/kf/S4ca29b1ebba94269a34ee5f73d1ed747R.jpg\",null,\"https://static-01.daraz.pk/p/530d3db0db80ddceb69721261d430aaa.jpg_200x200q80-product.jpg_.webp\",\"https://static-01.daraz.pk/p/94c5e85dfd1c1e2a92df6259fec83b1e.jpg_200x200q80-product.jpg_.webp\",\"https://static-01.daraz.pk/p/ab0e3e8b9062059cb8677a6846e38b03.jpg_200x200q80-product.jpg_.webp\",\"https://static-01.daraz.pk/p/74afa8b733834a58adf5d99be4ecaba6.jpg_200x200q80-product.jpg_.webp\",\"https://static-01.daraz.pk/p/cf92e9521ce57412d1bedf3e44b55e14.jpg_200x200q80-product.jpg_.webp\",\"https://static-01.daraz.pk/p/e72a40cdf846cc1f5e21ec6e386e0400.jpg_200x200q80-product.jpg_.webp\",\"https://static-01.daraz.pk/p/e2a83d566612f509eb33277fdf41662b.jpg_200x200q80-product.jpg_.webp\",\"https://static-01.daraz.pk/p/8f1c59802f39d8e4c96d3a240a61959e.jpg_200x200q80-product.jpg_.webp\",\"https://static-01.daraz.pk/p/a57aca76f419b69cf3b4f663d0d6733c.jpg_200x200q80-product.jpg_.webp\",\"https://static-01.daraz.pk/p/d46932207f1ce6fe092d6f2a15f4c84f.jpg_200x200q80-product.jpg_.webp\",\"https://static-01.daraz.pk/p/0cb400358352d3b760f7a9b624a39919.jpg_200x200q80-product.jpg_.webp\",\"https://static-01.daraz.pk/p/a3e40720d2d6b09630d40e9ac354c0ef.jpg_200x200q80-product.jpg_.webp\",\"https://static-01.daraz.pk/p/1cb01ba86616d09964b5c17edaf5567a.jpg_200x200q80-product.jpg_.webp\",\"https://pk-live-21.slatic.net/kf/S29147fce4a5f4b4fb2f9b86cabb6e98as.jpg\",\"https://pk-live-21.slatic.net/kf/Se8e5bd4aaae649288b5f94c36e8c0f3eQ.jpg\",\"https://static-01.daraz.pk/p/e8ce7ed16ab9e54b543ee96f5564df22.jpg_200x200q80-product.jpg_.webp\",\"https://static-01.daraz.pk/p/ed39a0ee4d099e4305a8f2dbb1d0c275.jpg_200x200q80-product.jpg_.webp\",\"https://static-01.daraz.pk/p/69e7619c30f39a9e74860f764d2ec3c4.jpg_200x200q80-product.jpg_.webp\",\"https://static-01.daraz.pk/p/602ec1ce5765b41d8d4b54f54e8b50f3.jpg_200x200q80-product.jpg_.webp\",\"https://static-01.daraz.pk/p/d5c60272e690261d241570efe0297316.jpg_200x200q80-product.jpg_.webp\",\"https://static-01.daraz.pk/p/a071c5c6187889992593f1d63a0fa818.jpg_200x200q80-product.jpg_.webp\",\"https://static-01.daraz.pk/p/ef21833d5f87d1c3554883e1d2a77d71.jpg_200x200q80-product.jpg_.webp\",\"https://static-01.daraz.pk/p/3f7fa61fbc30be64f130d69f67791d06.jpg_200x200q80-product.jpg_.webp\",\"https://static-01.daraz.pk/p/a594655380d888b6e095b74955e5b370.jpg_200x200q80-product.jpg_.webp\",\"https://static-01.daraz.pk/p/481caf3e6c2c55078d49f0b9705d0b5c.jpg_200x200q80-product.jpg_.webp\",\"https://static-01.daraz.pk/p/e82d2370baee5570402a9211f6fa9881.png_200x200q80-product.jpg_.webp\",null,\"https://static-01.daraz.pk/p/119fdc857c189a3fa3257436f7897a3a.jpg_200x200q80-product.jpg_.webp\",\"https://static-01.daraz.pk/p/adcd98db1a2ad1e745c5301de60ca156.jpg_200x200q80-product.jpg_.webp\",\"https://static-01.daraz.pk/p/6843058a845fe788936cbec37859aad7.jpg_200x200q80-product.jpg_.webp\",\"https://static-01.daraz.pk/p/904bc45e7ad0551fd75525c6dd40f052.jpg_200x200q80-product.jpg_.webp\",\"https://static-01.daraz.pk/p/8a5e66472ca88e3b5366a3e63482864a.png_200x200q80-product.jpg_.webp\",\"https://static-01.daraz.pk/p/5bba7849875be2272c89e70cfdfc85b6.jpg_200x200q80-product.jpg_.webp\"],\"type\":\"scatter\"},{\"mode\":\"lines+markers\",\"name\":\"LABEL-37\",\"x\":[\"8 Sliding Hooks Kitchen Accessories Organizer Rack | Cloth Hanging Stand Wall Mounted\",\"Winter Hoodie And Trouser Winter Warm Track Suit Fleece Drawstring Hoody Export Quality Black Hoodies For Men\",\"28W Fan Shape LED Bulb E27 LED Lamp Foldable 220V 110V Light Bulbs For Home Living Room Warehouse Garage Ceiling Light\",null,\"Universal 120W Liquid Silicon Fast Charging Data Cables Type-C/Micro USB 6mm Thickness For Samsung Redmi Oppo Realme Oneplus\",\"PACK OF 4 COTTON SOCKS FOR MAN\",\"Loving Couple Hug Rings - Adjustable Retro Hug Style Rings for Men and Women\",\"BTS Cotton Half Sleeves O Neck T Shirt For Boys and Girls 3 Colors\",\"Foldable, Adjustable, Universal Mobile Stand | Flexible Mobile Holder | Adjustable Height | Premier Quality Product | Flexible Stand | Pocket Size | Easy to Carry | Best for Study and Office Use | Compatible with all size Mobiles\",\"PureFit  Quilted Sofa Cover,  Slipcover Furniture Protector, Washable Couch Cover with Non Slip Foam  for Kids, Dogs, Pets\",\"Turkish Desing Black Stone For Men Ring TR008\",\"1 Pair High Quality knee support for pain Elastic Knee Pads Thermal Knee Warmers Sleeve Knee Pads Ladies Socks For Winter Thick Ladies Socks For Winter leggings for women And Mens Knee Pad\",\"Tube band Inner Cap for Hijab / Scarf\",\"Customize Mug, Picture Mug, 3D Mug With Text, Logo, or Photo. Custom Photo Mugs (PERFECT GIFT FOR YOUR FAMILY & FRIENDS)\",\"Pack of 2 - Led Style Fitness Band Led Time & Date Band Watch For Boys & Girls - Best Quality Square Digital Silicone Sports Watch For Men & Women\",\"Men's Clothing Winter Collection Zipper coat double collar Branded Quality For Men's\",\"The Vintage Clothing Pack of 2 printed high quality Tshirt For Men\",\"Lip Gloss Matte Pack of 8\",\"Coffee Beater Handy Cell Operated\",\"Oxygen Clothing Cardigan Black Charcoal Patch\",\"Microwave Dust proof Double Pocket Storage Bag Microwave Oven Cover\",\"Velvet Floor Cushions Cushion Room Decoration Items Sitting Round Floor Cushion_Ball Fiber Filled Round Floor Cushions_1 Pair=2pcs\",\"Miss Lara - Natural Cheek Tint  Liquid Blush  Soft Cream Blush Makeup Multi-use Blush\",\"6 Grids Washable Wardrobe Clothes Organizer, Jeans Compartment Storage Box, Clothes Drawer Mesh Separation Box, Portable Foldable Closet\",\"Navy Blue Crew Neck White Panel T-shirt\",\"T800 Ultra, T800 Ultra 2 Smart Watch Ultra9 Series Bluetooth Call Smartwatch Heart Rate Sleep Monitoring IP67 Waterproof\",\"Mini USB Rechargeable Flashlight Torch Zoom Lamp\",\"3 tier Plastic Shoe Rack , Plastic Shoe Stand for Shoe Storage | Space Organizer | Shoe Rack | for Living Room Home & Office\",\"CD Plating camera protection Case For iPhone 14 Pro Max,14 pro,13 pro max,13 pro,12 Pro Max,12 pro,11 pro,11 Pro Max back cover\",\"Kitchen Sink Dish Drainer Drying Rack - Multicolours\",null,\"Beanie Cap And Neck Warmer  Winter Knitted Beanie Hat and Neck Warmer Scarf Set for Boys Girls\",\"Wooden Wall Keychain Holder and Mobile Phone Holder Mobile charging holder keychain holder\",\"Combo Of Black Titanium Finger Ring With Cuboid Rectangle Neck Pendant For Boys And Men\",\"Body Posture Corrector Belt - Shoulder Support Relief and Back Pain Relief Belt - Adjustable Posture Support Brace for Men and Women\",\"PRISM Comfort and Style with Lightweight and Genuine All Season Casual Sports Shoes for Men and Women - Perfect for Running, Walking, Cross-Training, and Everyday Sneakers. Men's Breathable Mesh Running Shoes, Sneakers for men, Girls Sneakers,\\u00a0Boys\\u00a0Shoes\",\"Messi blue kangro Hoodies For Men / Hoodies For Girls\"],\"y\":[\"Rs.\",\"Rs.\",\"Rs.\",null,\"Rs.\",\"Rs.\",\"Rs.\",\"Rs.\",\"Rs.\",\"Rs.\",\"Rs.\",\"Rs.\",\"Rs.\",\"Rs.\",\"Rs.\",\"Rs.\",\"Rs.\",\"Rs.\",\"Rs.\",\"Rs.\",\"Rs.\",\"Rs.\",\"Rs.\",\"Rs.\",\"Rs.\",\"Rs.\",\"Rs.\",\"Rs.\",\"Rs.\",\"Rs.\",null,\"Rs.\",\"Rs.\",\"Rs.\",\"Rs.\",\"Rs.\",\"Rs.\"],\"type\":\"scatter\"},{\"mode\":\"lines+markers\",\"name\":\"LABEL-39\",\"x\":[\"199\",\"1,399\",\"3,211\",null,\"199\",\"345\",\"99\",\"350\",\"265\",\"519\",\"209\",\"889\",\"100\",\"387\",\"309\",\"1,549\",\"699\",\"699\",\"299\",\"1,250\",\"490\",\"2,299\",\"489\",\"278\",\"649\",\"1,799\",\"479\",\"549\",\"649\",\"648\",null,\"388\",\"59\",\"169\",\"249\",\"899\",\"899\"],\"y\":[\"Rs.\",\"Rs.\",null,null,\"Rs.\",\"Rs.\",\"Rs.\",\"Rs.\",\"Rs.\",\"Rs.\",\"Rs.\",\"Rs.\",\"Rs.\",\"Rs.\",\"Rs.\",null,\"Rs.\",\"Rs.\",\"Rs.\",\"Rs.\",\"Rs.\",\"Rs.\",\"Rs.\",\"Rs.\",null,\"Rs.\",\"Rs.\",\"Rs.\",\"Rs.\",null,null,\"Rs.\",\"Rs.\",\"Rs.\",\"Rs.\",\"Rs.\",\"Rs.\"],\"type\":\"scatter\"},{\"mode\":\"lines+markers\",\"name\":\"LABEL-41\",\"x\":[\"269\",\"2,200\",null,null,\"399\",\"1,200\",\"225\",\"1,299\",\"800\",\"1,399\",\"449\",\"1,500\",\"299\",\"999\",\"899\",null,\"999\",\"800\",\"499\",\"1,600\",\"900\",\"4,200\",\"699\",\"999\",null,\"2,999\",\"499\",\"799\",\"1,300\",null,null,\"1,599\",\"120\",\"400\",\"450\",\"9,999\",\"1,500\"],\"y\":[\"-26%\",\"-36%\",null,null,\"-50%\",\"-71%\",\"-56%\",\"-73%\",\"-67%\",\"-63%\",\"-53%\",\"-41%\",\"-67%\",\"-61%\",\"-66%\",null,\"-30%\",\"-13%\",\"-40%\",\"-22%\",\"-46%\",\"-45%\",\"-30%\",\"-72%\",null,\"-40%\",\"-4%\",\"-31%\",\"-50%\",null,null,\"-76%\",\"-51%\",\"-58%\",\"-45%\",\"-91%\",\"-40%\"],\"type\":\"scatter\"},{\"mode\":\"lines+markers\",\"name\":\"LABEL-43\",\"x\":[\"(82)\",\"(121)\",\"(144)\",null,\"(417)\",\"(496)\",\"(41)\",\"(151)\",\"(31)\",\"(117)\",\"(11)\",\"(43)\",\"(29)\",\"(15)\",\"(499)\",\"(35)\",\"(974)\",\"(94)\",\"(177)\",\"(39)\",\"(301)\",\"(174)\",\"(33)\",\"(1913)\",\"(74)\",\"(1522)\",\"(265)\",\"(9)\",\"(101)\",\"(11)\",null,\"(28)\",\"(9)\",\"(747)\",\"(5042)\",\"(136)\",\"(154)\"],\"y\":[null,\"Rs.\",null,null,\"Rs.\",\"Rs.\",\"Rs.\",\"Rs.\",\"Rs.\",\"Rs.\",\"Rs.\",\"Rs.\",null,\"Rs.\",null,\"Rs.\",\"Rs.\",\"Rs.\",\"Rs.\",null,\"Rs.\",null,\"Rs.\",\"Rs.\",null,\"Rs.\",null,\"Rs.\",\"Rs.\",\"Rs.\",null,null,null,null,\"https://img.alicdn.com/imgextra/i2/O1CN01m9OC6a1UK86X51Dcq_!!6000000002498-2-tps-108-54.png\",null,\"https://img.alicdn.com/imgextra/i2/O1CN01m9OC6a1UK86X51Dcq_!!6000000002498-2-tps-108-54.png\"],\"type\":\"scatter\"},{\"mode\":\"lines+markers\",\"name\":\"LABEL-45\",\"x\":[null,\"999\",null,null,\"577\",\"749\",\"1,099\",\"1,799\",\"1,000\",\"299\",\"1,400\",\"999\",null,\"1,500\",null,\"4,500\",\"999\",\"499\",\"350\",null,\"220\",null,\"299\",\"2,200\",null,\"1,299\",null,\"400\",\"800\",\"2,299\",null,null,null,null,null,null,null],\"y\":[null,\"-66%\",null,null,\"-38%\",\"-32%\",\"-55%\",\"-39%\",\"-66%\",\"-9%\",\"-29%\",\"-77%\",null,\"-37%\",null,\"-53%\",\"-40%\",\"-40%\",\"-23%\",null,\"-19%\",null,\"-28%\",\"-28%\",null,\"-62%\",null,\"-71%\",\"-65%\",\"-13%\",null,null,null,null,null,null,null],\"type\":\"scatter\"},{\"mode\":\"lines+markers\",\"name\":\"LABEL-47\",\"x\":[null,\"Rs.\",\"Rs.\",null,\"Rs.\",\"Rs.\",\"Rs.\",\"Rs.\",\"Rs.\",null,\"Rs.\",\"Rs.\",\"Rs.\",\"Rs.\",\"Rs.\",\"Rs.\",\"Rs.\",\"Rs.\",\"Rs.\",\"Rs.\",\"Rs.\",\"Rs.\",\"Rs.\",\"Rs.\",\"Rs.\",\"Rs.\",\"Rs.\",\"Rs.\",\"Rs.\",\"Rs.\",null,null,null,null,null,null,null],\"y\":[null,\"499\",\"3,500\",null,\"1,800\",\"109\",\"3,999\",\"999\",\"1,099\",null,\"450\",\"788\",\"400\",\"1,400\",\"1,500\",\"4,000\",\"898\",\"430\",\"800\",\"3,299\",\"5,600\",\"899\",\"2,200\",\"3,399\",\"1,299\",\"1,133\",\"1,400\",\"899\",\"750\",\"1,390\",null,null,null,null,null,null,null],\"type\":\"scatter\"},{\"mode\":\"lines+markers\",\"name\":\"LABEL-49\",\"x\":[null,\"-48%\",\"-59%\",null,\"-78%\",\"-23%\",\"-35%\",\"-40%\",\"-68%\",null,\"-38%\",\"-31%\",\"-71%\",\"-47%\",\"-47%\",\"-63%\",\"-50%\",\"-30%\",\"-28%\",\"-52%\",\"-57%\",\"-11%\",\"-32%\",\"-47%\",\"-77%\",\"-36%\",\"-54%\",\"-58%\",\"-25%\",\"-28%\",null,null,null,null,null,null,null],\"y\":[null,null,null,\"Oud Collection - Arabic Perfumes Dirham_Men - Eau De Perfume - 100ml Long Lasting Frangrances\",null,null,null,null,null,null,null,null,null,null,null,null,null,null,null,null,null,null,null,null,null,null,null,null,null,null,null,null,null,null,null,null,null],\"type\":\"scatter\"},{\"mode\":\"lines+markers\",\"name\":\"LABEL-51\",\"x\":[null,null,null,\"Rs.\",null,null,null,null,null,null,null,null,null,null,null,null,null,null,null,null,null,null,null,null,null,null,null,null,null,null,null,null,null,null,null,null,null],\"y\":[null,null,null,299.0,null,null,null,null,null,null,null,null,null,null,null,null,null,null,null,null,null,null,null,null,null,null,null,null,null,null,null,null,null,null,null,null,null],\"type\":\"scatter\"},{\"mode\":\"lines+markers\",\"name\":\"LABEL-53\",\"x\":[null,null,null,\"Rs.\",null,null,null,null,null,null,null,null,null,null,null,null,null,null,null,null,null,null,null,null,null,null,null,null,null,null,null,null,null,null,null,null,null],\"y\":[null,null,null,999.0,null,null,null,null,null,null,null,null,null,null,null,null,null,null,null,null,null,null,null,null,null,null,null,null,null,null,null,null,null,null,null,null,null],\"type\":\"scatter\"},{\"mode\":\"lines+markers\",\"name\":\"LABEL-55\",\"x\":[null,null,null,\"-70%\",null,null,null,null,null,null,null,null,null,null,null,null,null,null,null,null,null,null,null,null,null,null,null,null,null,null,null,null,null,null,null,null,null],\"y\":[null,null,null,\"(10)\",null,null,null,null,null,null,null,null,null,null,null,null,null,null,null,null,null,null,null,null,null,null,null,null,null,null,null,null,null,null,null,null,null],\"type\":\"scatter\"},{\"mode\":\"lines+markers\",\"name\":\"LABEL-57\",\"x\":[null,null,null,null,\"https://img.alicdn.com/imgextra/i2/O1CN01m9OC6a1UK86X51Dcq_!!6000000002498-2-tps-108-54.png\",null,null,null,null,null,null,null,null,null,null,null,null,null,null,\"https://img.alicdn.com/imgextra/i2/O1CN01m9OC6a1UK86X51Dcq_!!6000000002498-2-tps-108-54.png\",null,null,null,null,null,null,\"https://img.alicdn.com/imgextra/i2/O1CN01m9OC6a1UK86X51Dcq_!!6000000002498-2-tps-108-54.png\",null,null,null,null,null,null,null,null,null,null],\"y\":[null,null,null,null,\"https://img.alicdn.com/imgextra/i2/O1CN01m9OC6a1UK86X51Dcq_!!6000000002498-2-tps-108-54.png\",null,null,null,null,null,null,null,null,\"https://img.alicdn.com/imgextra/i2/O1CN01m9OC6a1UK86X51Dcq_!!6000000002498-2-tps-108-54.png\",\"https://img.alicdn.com/imgextra/i2/O1CN01m9OC6a1UK86X51Dcq_!!6000000002498-2-tps-108-54.png\",null,null,null,null,null,\"https://img.alicdn.com/imgextra/i2/O1CN01m9OC6a1UK86X51Dcq_!!6000000002498-2-tps-108-54.png\",null,\"https://img.alicdn.com/imgextra/i2/O1CN01m9OC6a1UK86X51Dcq_!!6000000002498-2-tps-108-54.png\",null,null,null,\"https://img.alicdn.com/imgextra/i2/O1CN01m9OC6a1UK86X51Dcq_!!6000000002498-2-tps-108-54.png\",\"https://img.alicdn.com/imgextra/i2/O1CN01m9OC6a1UK86X51Dcq_!!6000000002498-2-tps-108-54.png\",null,null,null,null,null,null,null,null,null],\"type\":\"scatter\"},{\"mode\":\"lines+markers\",\"name\":\"LABEL-59\",\"x\":[null,null,null,null,null,\"https://img.alicdn.com/imgextra/i2/O1CN01m9OC6a1UK86X51Dcq_!!6000000002498-2-tps-108-54.png\",null,null,\"https://img.alicdn.com/imgextra/i2/O1CN01m9OC6a1UK86X51Dcq_!!6000000002498-2-tps-108-54.png\",\"https://img.alicdn.com/imgextra/i2/O1CN01m9OC6a1UK86X51Dcq_!!6000000002498-2-tps-108-54.png\",null,null,null,null,\"https://img.alicdn.com/imgextra/i2/O1CN01m9OC6a1UK86X51Dcq_!!6000000002498-2-tps-108-54.png\",null,null,null,\"https://img.alicdn.com/imgextra/i2/O1CN01m9OC6a1UK86X51Dcq_!!6000000002498-2-tps-108-54.png\",null,null,null,null,\"https://img.alicdn.com/imgextra/i2/O1CN01m9OC6a1UK86X51Dcq_!!6000000002498-2-tps-108-54.png\",null,\"https://img.alicdn.com/imgextra/i2/O1CN01m9OC6a1UK86X51Dcq_!!6000000002498-2-tps-108-54.png\",\"https://img.alicdn.com/imgextra/i2/O1CN01m9OC6a1UK86X51Dcq_!!6000000002498-2-tps-108-54.png\",\"https://img.alicdn.com/imgextra/i2/O1CN01m9OC6a1UK86X51Dcq_!!6000000002498-2-tps-108-54.png\",null,null,null,null,null,null,null,null,null],\"y\":[null,null,null,null,null,null,\"https://img.alicdn.com/imgextra/i2/O1CN01m9OC6a1UK86X51Dcq_!!6000000002498-2-tps-108-54.png\",null,null,null,null,null,null,null,null,null,\"https://img.alicdn.com/imgextra/i2/O1CN01m9OC6a1UK86X51Dcq_!!6000000002498-2-tps-108-54.png\",null,null,null,null,null,null,null,null,null,null,null,null,null,null,null,null,null,null,null,null],\"type\":\"scatter\"},{\"mode\":\"lines+markers\",\"name\":\"LABEL-61\",\"x\":[null,null,null,null,null,null,null,null,null,\"https://img.alicdn.com/imgextra/i2/O1CN01m9OC6a1UK86X51Dcq_!!6000000002498-2-tps-108-54.png\",null,null,null,null,null,\"https://img.alicdn.com/imgextra/i2/O1CN01m9OC6a1UK86X51Dcq_!!6000000002498-2-tps-108-54.png\",null,\"https://img.alicdn.com/imgextra/i2/O1CN01m9OC6a1UK86X51Dcq_!!6000000002498-2-tps-108-54.png\",\"https://img.alicdn.com/imgextra/i2/O1CN01m9OC6a1UK86X51Dcq_!!6000000002498-2-tps-108-54.png\",null,null,null,null,null,null,null,\"https://img.alicdn.com/imgextra/i2/O1CN01m9OC6a1UK86X51Dcq_!!6000000002498-2-tps-108-54.png\",null,null,null,null,null,null,null,null,null,null],\"y\":[null,null,null,null,null,null,null,null,null,null,null,null,null,null,null,null,null,null,null,null,null,null,null,null,null,null,null,null,null,null,\"Load More\",null,null,null,null,null,null],\"type\":\"scatter\"}],                        {\"template\":{\"data\":{\"histogram2dcontour\":[{\"type\":\"histogram2dcontour\",\"colorbar\":{\"outlinewidth\":0,\"ticks\":\"\"},\"colorscale\":[[0.0,\"#0d0887\"],[0.1111111111111111,\"#46039f\"],[0.2222222222222222,\"#7201a8\"],[0.3333333333333333,\"#9c179e\"],[0.4444444444444444,\"#bd3786\"],[0.5555555555555556,\"#d8576b\"],[0.6666666666666666,\"#ed7953\"],[0.7777777777777778,\"#fb9f3a\"],[0.8888888888888888,\"#fdca26\"],[1.0,\"#f0f921\"]]}],\"choropleth\":[{\"type\":\"choropleth\",\"colorbar\":{\"outlinewidth\":0,\"ticks\":\"\"}}],\"histogram2d\":[{\"type\":\"histogram2d\",\"colorbar\":{\"outlinewidth\":0,\"ticks\":\"\"},\"colorscale\":[[0.0,\"#0d0887\"],[0.1111111111111111,\"#46039f\"],[0.2222222222222222,\"#7201a8\"],[0.3333333333333333,\"#9c179e\"],[0.4444444444444444,\"#bd3786\"],[0.5555555555555556,\"#d8576b\"],[0.6666666666666666,\"#ed7953\"],[0.7777777777777778,\"#fb9f3a\"],[0.8888888888888888,\"#fdca26\"],[1.0,\"#f0f921\"]]}],\"heatmap\":[{\"type\":\"heatmap\",\"colorbar\":{\"outlinewidth\":0,\"ticks\":\"\"},\"colorscale\":[[0.0,\"#0d0887\"],[0.1111111111111111,\"#46039f\"],[0.2222222222222222,\"#7201a8\"],[0.3333333333333333,\"#9c179e\"],[0.4444444444444444,\"#bd3786\"],[0.5555555555555556,\"#d8576b\"],[0.6666666666666666,\"#ed7953\"],[0.7777777777777778,\"#fb9f3a\"],[0.8888888888888888,\"#fdca26\"],[1.0,\"#f0f921\"]]}],\"heatmapgl\":[{\"type\":\"heatmapgl\",\"colorbar\":{\"outlinewidth\":0,\"ticks\":\"\"},\"colorscale\":[[0.0,\"#0d0887\"],[0.1111111111111111,\"#46039f\"],[0.2222222222222222,\"#7201a8\"],[0.3333333333333333,\"#9c179e\"],[0.4444444444444444,\"#bd3786\"],[0.5555555555555556,\"#d8576b\"],[0.6666666666666666,\"#ed7953\"],[0.7777777777777778,\"#fb9f3a\"],[0.8888888888888888,\"#fdca26\"],[1.0,\"#f0f921\"]]}],\"contourcarpet\":[{\"type\":\"contourcarpet\",\"colorbar\":{\"outlinewidth\":0,\"ticks\":\"\"}}],\"contour\":[{\"type\":\"contour\",\"colorbar\":{\"outlinewidth\":0,\"ticks\":\"\"},\"colorscale\":[[0.0,\"#0d0887\"],[0.1111111111111111,\"#46039f\"],[0.2222222222222222,\"#7201a8\"],[0.3333333333333333,\"#9c179e\"],[0.4444444444444444,\"#bd3786\"],[0.5555555555555556,\"#d8576b\"],[0.6666666666666666,\"#ed7953\"],[0.7777777777777778,\"#fb9f3a\"],[0.8888888888888888,\"#fdca26\"],[1.0,\"#f0f921\"]]}],\"surface\":[{\"type\":\"surface\",\"colorbar\":{\"outlinewidth\":0,\"ticks\":\"\"},\"colorscale\":[[0.0,\"#0d0887\"],[0.1111111111111111,\"#46039f\"],[0.2222222222222222,\"#7201a8\"],[0.3333333333333333,\"#9c179e\"],[0.4444444444444444,\"#bd3786\"],[0.5555555555555556,\"#d8576b\"],[0.6666666666666666,\"#ed7953\"],[0.7777777777777778,\"#fb9f3a\"],[0.8888888888888888,\"#fdca26\"],[1.0,\"#f0f921\"]]}],\"mesh3d\":[{\"type\":\"mesh3d\",\"colorbar\":{\"outlinewidth\":0,\"ticks\":\"\"}}],\"scatter\":[{\"fillpattern\":{\"fillmode\":\"overlay\",\"size\":10,\"solidity\":0.2},\"type\":\"scatter\"}],\"parcoords\":[{\"type\":\"parcoords\",\"line\":{\"colorbar\":{\"outlinewidth\":0,\"ticks\":\"\"}}}],\"scatterpolargl\":[{\"type\":\"scatterpolargl\",\"marker\":{\"colorbar\":{\"outlinewidth\":0,\"ticks\":\"\"}}}],\"bar\":[{\"error_x\":{\"color\":\"#2a3f5f\"},\"error_y\":{\"color\":\"#2a3f5f\"},\"marker\":{\"line\":{\"color\":\"#E5ECF6\",\"width\":0.5},\"pattern\":{\"fillmode\":\"overlay\",\"size\":10,\"solidity\":0.2}},\"type\":\"bar\"}],\"scattergeo\":[{\"type\":\"scattergeo\",\"marker\":{\"colorbar\":{\"outlinewidth\":0,\"ticks\":\"\"}}}],\"scatterpolar\":[{\"type\":\"scatterpolar\",\"marker\":{\"colorbar\":{\"outlinewidth\":0,\"ticks\":\"\"}}}],\"histogram\":[{\"marker\":{\"pattern\":{\"fillmode\":\"overlay\",\"size\":10,\"solidity\":0.2}},\"type\":\"histogram\"}],\"scattergl\":[{\"type\":\"scattergl\",\"marker\":{\"colorbar\":{\"outlinewidth\":0,\"ticks\":\"\"}}}],\"scatter3d\":[{\"type\":\"scatter3d\",\"line\":{\"colorbar\":{\"outlinewidth\":0,\"ticks\":\"\"}},\"marker\":{\"colorbar\":{\"outlinewidth\":0,\"ticks\":\"\"}}}],\"scattermapbox\":[{\"type\":\"scattermapbox\",\"marker\":{\"colorbar\":{\"outlinewidth\":0,\"ticks\":\"\"}}}],\"scatterternary\":[{\"type\":\"scatterternary\",\"marker\":{\"colorbar\":{\"outlinewidth\":0,\"ticks\":\"\"}}}],\"scattercarpet\":[{\"type\":\"scattercarpet\",\"marker\":{\"colorbar\":{\"outlinewidth\":0,\"ticks\":\"\"}}}],\"carpet\":[{\"aaxis\":{\"endlinecolor\":\"#2a3f5f\",\"gridcolor\":\"white\",\"linecolor\":\"white\",\"minorgridcolor\":\"white\",\"startlinecolor\":\"#2a3f5f\"},\"baxis\":{\"endlinecolor\":\"#2a3f5f\",\"gridcolor\":\"white\",\"linecolor\":\"white\",\"minorgridcolor\":\"white\",\"startlinecolor\":\"#2a3f5f\"},\"type\":\"carpet\"}],\"table\":[{\"cells\":{\"fill\":{\"color\":\"#EBF0F8\"},\"line\":{\"color\":\"white\"}},\"header\":{\"fill\":{\"color\":\"#C8D4E3\"},\"line\":{\"color\":\"white\"}},\"type\":\"table\"}],\"barpolar\":[{\"marker\":{\"line\":{\"color\":\"#E5ECF6\",\"width\":0.5},\"pattern\":{\"fillmode\":\"overlay\",\"size\":10,\"solidity\":0.2}},\"type\":\"barpolar\"}],\"pie\":[{\"automargin\":true,\"type\":\"pie\"}]},\"layout\":{\"autotypenumbers\":\"strict\",\"colorway\":[\"#636efa\",\"#EF553B\",\"#00cc96\",\"#ab63fa\",\"#FFA15A\",\"#19d3f3\",\"#FF6692\",\"#B6E880\",\"#FF97FF\",\"#FECB52\"],\"font\":{\"color\":\"#2a3f5f\"},\"hovermode\":\"closest\",\"hoverlabel\":{\"align\":\"left\"},\"paper_bgcolor\":\"white\",\"plot_bgcolor\":\"#E5ECF6\",\"polar\":{\"bgcolor\":\"#E5ECF6\",\"angularaxis\":{\"gridcolor\":\"white\",\"linecolor\":\"white\",\"ticks\":\"\"},\"radialaxis\":{\"gridcolor\":\"white\",\"linecolor\":\"white\",\"ticks\":\"\"}},\"ternary\":{\"bgcolor\":\"#E5ECF6\",\"aaxis\":{\"gridcolor\":\"white\",\"linecolor\":\"white\",\"ticks\":\"\"},\"baxis\":{\"gridcolor\":\"white\",\"linecolor\":\"white\",\"ticks\":\"\"},\"caxis\":{\"gridcolor\":\"white\",\"linecolor\":\"white\",\"ticks\":\"\"}},\"coloraxis\":{\"colorbar\":{\"outlinewidth\":0,\"ticks\":\"\"}},\"colorscale\":{\"sequential\":[[0.0,\"#0d0887\"],[0.1111111111111111,\"#46039f\"],[0.2222222222222222,\"#7201a8\"],[0.3333333333333333,\"#9c179e\"],[0.4444444444444444,\"#bd3786\"],[0.5555555555555556,\"#d8576b\"],[0.6666666666666666,\"#ed7953\"],[0.7777777777777778,\"#fb9f3a\"],[0.8888888888888888,\"#fdca26\"],[1.0,\"#f0f921\"]],\"sequentialminus\":[[0.0,\"#0d0887\"],[0.1111111111111111,\"#46039f\"],[0.2222222222222222,\"#7201a8\"],[0.3333333333333333,\"#9c179e\"],[0.4444444444444444,\"#bd3786\"],[0.5555555555555556,\"#d8576b\"],[0.6666666666666666,\"#ed7953\"],[0.7777777777777778,\"#fb9f3a\"],[0.8888888888888888,\"#fdca26\"],[1.0,\"#f0f921\"]],\"diverging\":[[0,\"#8e0152\"],[0.1,\"#c51b7d\"],[0.2,\"#de77ae\"],[0.3,\"#f1b6da\"],[0.4,\"#fde0ef\"],[0.5,\"#f7f7f7\"],[0.6,\"#e6f5d0\"],[0.7,\"#b8e186\"],[0.8,\"#7fbc41\"],[0.9,\"#4d9221\"],[1,\"#276419\"]]},\"xaxis\":{\"gridcolor\":\"white\",\"linecolor\":\"white\",\"ticks\":\"\",\"title\":{\"standoff\":15},\"zerolinecolor\":\"white\",\"automargin\":true,\"zerolinewidth\":2},\"yaxis\":{\"gridcolor\":\"white\",\"linecolor\":\"white\",\"ticks\":\"\",\"title\":{\"standoff\":15},\"zerolinecolor\":\"white\",\"automargin\":true,\"zerolinewidth\":2},\"scene\":{\"xaxis\":{\"backgroundcolor\":\"#E5ECF6\",\"gridcolor\":\"white\",\"linecolor\":\"white\",\"showbackground\":true,\"ticks\":\"\",\"zerolinecolor\":\"white\",\"gridwidth\":2},\"yaxis\":{\"backgroundcolor\":\"#E5ECF6\",\"gridcolor\":\"white\",\"linecolor\":\"white\",\"showbackground\":true,\"ticks\":\"\",\"zerolinecolor\":\"white\",\"gridwidth\":2},\"zaxis\":{\"backgroundcolor\":\"#E5ECF6\",\"gridcolor\":\"white\",\"linecolor\":\"white\",\"showbackground\":true,\"ticks\":\"\",\"zerolinecolor\":\"white\",\"gridwidth\":2}},\"shapedefaults\":{\"line\":{\"color\":\"#2a3f5f\"}},\"annotationdefaults\":{\"arrowcolor\":\"#2a3f5f\",\"arrowhead\":0,\"arrowwidth\":1},\"geo\":{\"bgcolor\":\"white\",\"landcolor\":\"#E5ECF6\",\"subunitcolor\":\"white\",\"showland\":true,\"showlakes\":true,\"lakecolor\":\"white\"},\"title\":{\"x\":0.05},\"mapbox\":{\"style\":\"light\"}}},\"title\":{\"text\":\"Real Price Over Time for Different Products\"},\"xaxis\":{\"title\":{\"text\":\"Time\"}},\"yaxis\":{\"title\":{\"text\":\"Real Price\"}},\"width\":1000,\"height\":800},                        {\"responsive\": true}                    ).then(function(){\n",
       "                            \n",
       "var gd = document.getElementById('dda4119b-bf00-485c-871f-2822c463bf56');\n",
       "var x = new MutationObserver(function (mutations, observer) {{\n",
       "        var display = window.getComputedStyle(gd).display;\n",
       "        if (!display || display === 'none') {{\n",
       "            console.log([gd, 'removed!']);\n",
       "            Plotly.purge(gd);\n",
       "            observer.disconnect();\n",
       "        }}\n",
       "}});\n",
       "\n",
       "// Listen for the removal of the full notebook cells\n",
       "var notebookContainer = gd.closest('#notebook-container');\n",
       "if (notebookContainer) {{\n",
       "    x.observe(notebookContainer, {childList: true});\n",
       "}}\n",
       "\n",
       "// Listen for the clearing of the current output cell\n",
       "var outputEl = gd.closest('.output');\n",
       "if (outputEl) {{\n",
       "    x.observe(outputEl, {childList: true});\n",
       "}}\n",
       "\n",
       "                        })                };                });            </script>        </div>"
      ]
     },
     "metadata": {},
     "output_type": "display_data"
    }
   ],
   "source": [
    "import pandas as pd\n",
    "import plotly.graph_objs as go\n",
    "import plotly.io as pio\n",
    "\n",
    "# Load data from Excel file\n",
    "df = pd.read_excel('front products.xlsx')\n",
    "\n",
    "# Extract product names and real prices\n",
    "products = df.iloc[:, ::2]  # Extract every other column\n",
    "prices = df.iloc[:, 1::2]    # Extract the remaining columns\n",
    "\n",
    "# Create a line graph for each product\n",
    "fig = go.Figure()\n",
    "\n",
    "for product_name, price_values in zip(products.columns, prices.columns):\n",
    "    fig.add_trace(go.Scatter(\n",
    "        x=products[product_name],\n",
    "        y=prices[price_values],\n",
    "        mode='lines+markers',\n",
    "        name=product_name,  # Use product name as trace name\n",
    "    ))\n",
    "\n",
    "# Update layout\n",
    "fig.update_layout(\n",
    "    title='Real Price Over Time for Different Products',\n",
    "    xaxis_title='Time',\n",
    "    yaxis_title='Real Price',\n",
    "    width=1000,  # Increase width\n",
    "    height=800,  # Increase height\n",
    ")\n",
    "\n",
    "# Show the plot\n",
    "pio.show(fig)\n"
   ]
  },
  {
   "cell_type": "code",
   "execution_count": 39,
   "id": "b6d536c1",
   "metadata": {},
   "outputs": [
    {
     "data": {
      "application/vnd.plotly.v1+json": {
       "config": {
        "plotlyServerURL": "https://plot.ly"
       },
       "data": [
        {
         "hovertext": [
          0,
          1,
          2,
          3,
          4,
          5,
          6,
          7,
          8,
          9,
          10,
          11,
          12,
          13,
          14,
          15,
          16,
          17,
          18,
          19,
          20,
          21,
          22,
          23,
          24,
          25,
          26,
          27,
          28,
          29,
          30,
          31,
          32,
          33,
          34,
          35,
          36
         ],
         "mode": "lines+markers",
         "name": "LABEL-1",
         "type": "scatter",
         "x": [
          0,
          1,
          2,
          3,
          4,
          5,
          6,
          7,
          8,
          9,
          10,
          11,
          12,
          13,
          14,
          15,
          16,
          17,
          18,
          19,
          20,
          21,
          22,
          23,
          24,
          25,
          26,
          27,
          28,
          29,
          30,
          31,
          32,
          33,
          34,
          35,
          36
         ],
         "y": [
          "Wipers - Kitchen Shelf Cleaning Wiper - Windows/Mirror Cleaning Wiper",
          "Winter Cap and neck for Boy - Girls",
          "【Ready Stock+FREE Shipping+COD】Xiaomi Bluetooth 5.0 Earphones TWS Headphone True Wireless Earphone Touch Control Earbuds HiFi Stereo Sports Waterproof With Mic",
          null,
          "The Vintage Clothing Pack of 2 Hoodies For Men / Hoodies For Girls / Hoodies For Women Messi AW Allen Walker printed premium quality Hoodies For Men / Hoodies For Girls",
          "Beautious Eyebrow Stamp Shaping Kit, One Step Eyebrow Stamp Makeup with 3 Reusable Eyebrow Stencils and Eyebrow Pen Brushes Hairline Powder",
          "Original M10 & M19 & M28 M90 & i12 Double Wireless Bluetooth Hand Free with Power Bank Earphones White bluetooth ear phone for all cell phones use",
          "Stitched Heavy Embroidered Maxi with Koti (Separate Coaty) Party Wear Maxi Dresses For Women/Eid Collection/Wedding Dress For Women",
          "Winter Warm Thickening Wool Gloves Knitted Flip Fingerless Flexible Exposed Finger Thick Mittens for Men Women",
          "Multifunctional Portable Large Capacity Travel Cosmetic Bag with Handle Makeup Organizer Bag Storage Makeup Bag Waterproof PU Leather Travel Toiletry Bag for Women",
          "Stylish Printed Front Two Pocket Hooded Tracksuit For Men",
          "LOVE STYLE FONT NECKLACE, DOUBLE NAME NECKLACE, NAME LOCKET PERSONALIZED/CUSTOMIZED DESIGN NAME NECKLACE-(PERFECT GIFT TO SEND YOUR WIFE , FIANCE, HUSBAND, FATHER , OR ANY ONE)",
          "(Buy 1 Get 1 Free) New S10 Handsfree High Bass With Good Sound Quality",
          "Toiletry Bag Travel Cosmetic Bag, Shaving Kit, Grooming Makeup Bag Pouch for Men & Women, Black, GreyHigh Quality Toiletry Bag Men/Women travel Accessories with hanging option",
          "I7 Mini Bluetooth Headset Earbud Single Wireless Earphone With Mic Stereo For all phones",
          "Cool Sports Vacuum Flask Stainless Steel Water Bottle For School Kids",
          "Swetshirt And Pajama Trouser For Kids Baby Boys And Baby Girls Imported Comfy Winter Warm Tops Clothes Sets Dresses Outfit Jannat Store",
          "Silver Plating Couple Rings",
          "Zip card wallet Genuine Leather Minimalist Men's Purse Long Wallet For Men Bi Fold Simple Wallet Clasp Card Holder Wallet Small Wallet for Men and Boys - Slim and Smart Wallet Small Wallet for Men and Boys - Slim and Smart Wallet",
          "Men's Running Shoes Summer Mesh Genuine Breathable Mesh Shoes Casual Shoes Men Sports Shoes Size Breathable Sports Shoes Women Sneakers Sports Shoes Black Running Shoes",
          "Sogo Quartz Heater (JPN-94 / JPN-95)",
          "Beautious 4IN1 Super Skin Glowing Serum | 5% Niacinamide, 30% Vitamin C 10%, Vitamin E 10% & HA | 30 ml",
          "Girls Soft Half Finger Gloves Plush Fingerless Gloves",
          "Men Women Home Anti-slip Slipper Winter Warm Cotton House Indoor Slippers",
          "New Design 2 Piece Hand Bag With Small Carry Pouch & Long Strap",
          "A6s Bluetooth Earphones Tws In Ear Bluetooth 50 Running Sports Stereo Buttons With Microphone Wireless Headphones",
          "Beanie cap-Wool cap with neck warmer for men women| Winter cap for Unisex",
          "Hot Shaper Belt For Women Men Girls | Hot Shapper Belt For Hips Belly Fat Weight Loss Back Pain | Hot Shapers Slimming Belt Suana Sweat Belt Suit For Home Gym",
          "Infinix Hot 30 Back Rear Camera Protector 9H Gorilla Flexible Protection For Infinix Hot 30",
          "10Pcs Multi-function Spit Bone Dish Household Food Grade Plastic Spit Bone Dish Round Square Set Dining Table Garbage Plate",
          null,
          null,
          null,
          null,
          null,
          null,
          null
         ]
        },
        {
         "hovertext": [
          0,
          1,
          2,
          3,
          4,
          5,
          6,
          7,
          8,
          9,
          10,
          11,
          12,
          13,
          14,
          15,
          16,
          17,
          18,
          19,
          20,
          21,
          22,
          23,
          24,
          25,
          26,
          27,
          28,
          29,
          30,
          31,
          32,
          33,
          34,
          35,
          36
         ],
         "mode": "lines+markers",
         "name": "LABEL-3",
         "type": "scatter",
         "x": [
          0,
          1,
          2,
          3,
          4,
          5,
          6,
          7,
          8,
          9,
          10,
          11,
          12,
          13,
          14,
          15,
          16,
          17,
          18,
          19,
          20,
          21,
          22,
          23,
          24,
          25,
          26,
          27,
          28,
          29,
          30,
          31,
          32,
          33,
          34,
          35,
          36
         ],
         "y": [
          "149",
          "488",
          "1,399",
          null,
          "1,749",
          "319",
          "499",
          "1,575",
          "499",
          "999",
          "2,499",
          "619",
          "429",
          "430",
          "319",
          "947",
          "748",
          "550",
          "320",
          "999",
          "1,799",
          "269",
          "399",
          "349",
          "1,250",
          "2,901",
          "449",
          "341",
          "118",
          "415",
          null,
          null,
          null,
          null,
          null,
          null,
          null
         ]
        },
        {
         "hovertext": [
          0,
          1,
          2,
          3,
          4,
          5,
          6,
          7,
          8,
          9,
          10,
          11,
          12,
          13,
          14,
          15,
          16,
          17,
          18,
          19,
          20,
          21,
          22,
          23,
          24,
          25,
          26,
          27,
          28,
          29,
          30,
          31,
          32,
          33,
          34,
          35,
          36
         ],
         "mode": "lines+markers",
         "name": "LABEL-5",
         "type": "scatter",
         "x": [
          0,
          1,
          2,
          3,
          4,
          5,
          6,
          7,
          8,
          9,
          10,
          11,
          12,
          13,
          14,
          15,
          16,
          17,
          18,
          19,
          20,
          21,
          22,
          23,
          24,
          25,
          26,
          27,
          28,
          29,
          30,
          31,
          32,
          33,
          34,
          35,
          36
         ],
         "y": [
          "350",
          "999",
          "2,400",
          null,
          "2,500",
          "599",
          "1,600",
          "2,999",
          "696",
          "2,000",
          "3,299",
          "999",
          "1,800",
          "1,350",
          "1,000",
          "2,000",
          "1,400",
          null,
          "500",
          "1,500",
          "2,500",
          "499",
          "999",
          null,
          null,
          null,
          "900",
          "1,399",
          "195",
          "1,500",
          null,
          null,
          null,
          null,
          null,
          null,
          null
         ]
        },
        {
         "hovertext": [
          0,
          1,
          2,
          3,
          4,
          5,
          6,
          7,
          8,
          9,
          10,
          11,
          12,
          13,
          14,
          15,
          16,
          17,
          18,
          19,
          20,
          21,
          22,
          23,
          24,
          25,
          26,
          27,
          28,
          29,
          30,
          31,
          32,
          33,
          34,
          35,
          36
         ],
         "mode": "lines+markers",
         "name": "LABEL-7",
         "type": "scatter",
         "x": [
          0,
          1,
          2,
          3,
          4,
          5,
          6,
          7,
          8,
          9,
          10,
          11,
          12,
          13,
          14,
          15,
          16,
          17,
          18,
          19,
          20,
          21,
          22,
          23,
          24,
          25,
          26,
          27,
          28,
          29,
          30,
          31,
          32,
          33,
          34,
          35,
          36
         ],
         "y": [
          "(306)",
          "(921)",
          "(128)",
          null,
          "(151)",
          "(406)",
          "(214)",
          "(15)",
          "(9)",
          "(45)",
          "(6)",
          "(15)",
          "(81)",
          "(398)",
          "(907)",
          "(589)",
          "(1050)",
          "(16)",
          "(149)",
          "(599)",
          "(124)",
          "(44)",
          "(178)",
          "(48)",
          "(581)",
          "(2072)",
          "(318)",
          "(411)",
          "(24)",
          "(38)",
          null,
          null,
          null,
          null,
          null,
          null,
          null
         ]
        },
        {
         "hovertext": [
          0,
          1,
          2,
          3,
          4,
          5,
          6,
          7,
          8,
          9,
          10,
          11,
          12,
          13,
          14,
          15,
          16,
          17,
          18,
          19,
          20,
          21,
          22,
          23,
          24,
          25,
          26,
          27,
          28,
          29,
          30,
          31,
          32,
          33,
          34,
          35,
          36
         ],
         "mode": "lines+markers",
         "name": "LABEL-9",
         "type": "scatter",
         "x": [
          0,
          1,
          2,
          3,
          4,
          5,
          6,
          7,
          8,
          9,
          10,
          11,
          12,
          13,
          14,
          15,
          16,
          17,
          18,
          19,
          20,
          21,
          22,
          23,
          24,
          25,
          26,
          27,
          28,
          29,
          30,
          31,
          32,
          33,
          34,
          35,
          36
         ],
         "y": [
          "Flowery Pore-Refining Treatment Gel (Niacinamide + Witch-hazel) - 50g",
          "caps for men cap winter cap songting cap and neck fleece benie cap warm cap garam hot",
          "Oud Collection - Arabic Perfumes Dirham_Men - Eau De Perfume - 100ml Long Lasting Frangrances",
          null,
          "Clothes Storage Bags Organizer Under Bed Storage , 43L, Grey",
          "Upgraded Version V5.2 Chip TWS G11 Wireless Outdoor Sports Wireless Headset Gaming Earbuds Esports Listening Music Universal",
          "Ladies Luxury Golden Fashion Watch For Women's Ladies Classical Edition Special Watch for Ladies And Girls",
          "Men's Running Shoes Men's Slip-on Shoes Tennis Walking Casual Shoes Black Gym Breathable Work Shoes fashion shoes sneakers for men",
          "Branded Watch For Men and Boys Latest Design Wrist Watches in Multicolor",
          "Sunaina Textile 3 Piece Malai Linen Printed Unstitched Winter Collection Fabric for Girls/Womens Sunaina Vol-34",
          "Original i12 Tws Touch Sensor Airpods_  m10 m28/ Earphones With Charging Case Dock For All Mobiles",
          "Cotton Satin Double Bedsheet Embroided",
          "5PCS Set Women Starry Sky Dial Watch Brand Design Female Clock Blue Leather Band Ladies Watches Simple Casual Womens WristWatch",
          "Home & Office Multipurpose Plastic Rack / Room Organizer Home & Office Multipurpose  Plastic Rack / Room Organizer /  Shoe Rack Brown Art # SS-SSRm01",
          "Fashion Women Hand Wrist Warmer Winter Fingerless Knitted Gloves Random colors",
          "Lifestyle Glory Heart Wooden Clock With Premium Light I The New Wooden Wall Clock Big Size I Wall Clock I Wooden Wall Clock I Wall clocks for bedroom I Wall Clocks for drawing room I Wooden Wall Clocks for bedroom",
          "Glorya Decor Qul Clock Wooden Islamic Calligraphy I The New Premium Wooden Wall Clock Light Big Size I Wall Clock Wooden Wall Clock I Wall clocks for bedroom I Quartz Watch DIY Design Decoration Piece for Home Decor I Offices and for Gift Items",
          "Wanter - 100Pcs / Square Almond Oval Coffin Shape Natural & Transparent Color Artificial Nails Kit Fakee Nails Acrylic Nails For Girls Beautiful Nails Falsee Nails",
          "Men's Running Shoes Men's Slip-on Shoes Tennis Walking Casual Shoes Black Gym Breathable Rubber Work Shoes fashin shoes",
          "Birds on Tree 3D Wooden DIY Wall Clock Numeral Quartz Watch Hanging Decoration Piece for Home Decor and Girls Room Bed Rooms and for Gifts Item",
          "Stitched Namaz chadar Prayer Shawl with Sleeves",
          "Flowers Printed Zipper For Women Girls Customized By aarwah Emaan",
          "Customize Ring With your name engraved On Ring",
          "Winter Zipper Jacket Trouser Tracksuit",
          "Soap Holder Premium Quality - Soap Dish - Soap Box - Bathroom Accessories Sets Washroom Friendly Products Bathroom Products Non-perforated Shell Shape Soap Holder",
          "Pack of 2 Black Titanium Finger Ring & Black Bar Chain For Man Woman",
          "OASIS BLUE Fashion Women Faux Rebbit Fur Hand Wrist Warmer Winter Fingerless Knitted Gloves",
          "Microfiber Bathing Quick Dry Hair Cap Turban Wrap Towel Hat Hair-drying",
          "NEW TRENDY WINTER COLLECTION PLANE BASIC SKIN COLOUR HOODIE FOR MENS",
          "Tube cap for winter season outclass stuff / Inner Tube cap / Inner hijab cap / Under scarf cap for hijab",
          null,
          null,
          null,
          null,
          null,
          null,
          null
         ]
        },
        {
         "hovertext": [
          0,
          1,
          2,
          3,
          4,
          5,
          6,
          7,
          8,
          9,
          10,
          11,
          12,
          13,
          14,
          15,
          16,
          17,
          18,
          19,
          20,
          21,
          22,
          23,
          24,
          25,
          26,
          27,
          28,
          29,
          30,
          31,
          32,
          33,
          34,
          35,
          36
         ],
         "mode": "lines+markers",
         "name": "LABEL-11",
         "type": "scatter",
         "x": [
          0,
          1,
          2,
          3,
          4,
          5,
          6,
          7,
          8,
          9,
          10,
          11,
          12,
          13,
          14,
          15,
          16,
          17,
          18,
          19,
          20,
          21,
          22,
          23,
          24,
          25,
          26,
          27,
          28,
          29,
          30,
          31,
          32,
          33,
          34,
          35,
          36
         ],
         "y": [
          "199",
          "450",
          "299",
          null,
          "107",
          "4,573",
          "899",
          "1,399",
          "279",
          "550",
          "749",
          "975",
          "2,842",
          "449",
          "315",
          "375",
          "299",
          "249",
          "999",
          "289",
          "840",
          "1,029",
          "199",
          "1,298",
          "242",
          "125",
          "335",
          "120",
          "797",
          "160",
          null,
          null,
          null,
          null,
          null,
          null,
          null
         ]
        },
        {
         "hovertext": [
          0,
          1,
          2,
          3,
          4,
          5,
          6,
          7,
          8,
          9,
          10,
          11,
          12,
          13,
          14,
          15,
          16,
          17,
          18,
          19,
          20,
          21,
          22,
          23,
          24,
          25,
          26,
          27,
          28,
          29,
          30,
          31,
          32,
          33,
          34,
          35,
          36
         ],
         "mode": "lines+markers",
         "name": "LABEL-13",
         "type": "scatter",
         "x": [
          0,
          1,
          2,
          3,
          4,
          5,
          6,
          7,
          8,
          9,
          10,
          11,
          12,
          13,
          14,
          15,
          16,
          17,
          18,
          19,
          20,
          21,
          22,
          23,
          24,
          25,
          26,
          27,
          28,
          29,
          30,
          31,
          32,
          33,
          34,
          35,
          36
         ],
         "y": [
          "399",
          "1,500",
          "999",
          null,
          "200",
          null,
          "2,499",
          "2,299",
          "899",
          "650",
          "2,999",
          "1,500",
          null,
          "898",
          "499",
          "1,000",
          "1,000",
          "299",
          "1,699",
          "1,499",
          "1,599",
          "1,999",
          "700",
          "2,000",
          "399",
          "450",
          "999",
          "399",
          null,
          "350",
          null,
          null,
          null,
          null,
          null,
          null,
          null
         ]
        },
        {
         "hovertext": [
          0,
          1,
          2,
          3,
          4,
          5,
          6,
          7,
          8,
          9,
          10,
          11,
          12,
          13,
          14,
          15,
          16,
          17,
          18,
          19,
          20,
          21,
          22,
          23,
          24,
          25,
          26,
          27,
          28,
          29,
          30,
          31,
          32,
          33,
          34,
          35,
          36
         ],
         "mode": "lines+markers",
         "name": "LABEL-15",
         "type": "scatter",
         "x": [
          0,
          1,
          2,
          3,
          4,
          5,
          6,
          7,
          8,
          9,
          10,
          11,
          12,
          13,
          14,
          15,
          16,
          17,
          18,
          19,
          20,
          21,
          22,
          23,
          24,
          25,
          26,
          27,
          28,
          29,
          30,
          31,
          32,
          33,
          34,
          35,
          36
         ],
         "y": [
          "(48)",
          "(75)",
          "(10)",
          null,
          "(403)",
          "(827)",
          "(25)",
          "(47)",
          "(4)",
          "(40)",
          "(1047)",
          "(977)",
          "(234)",
          "(597)",
          "(22)",
          "(6074)",
          "(106)",
          "(4612)",
          "(6632)",
          "(976)",
          "(183)",
          "(25)",
          "(137)",
          "(72)",
          "(123)",
          "(46)",
          "(20)",
          "(1)",
          "(25)",
          "(23)",
          null,
          null,
          null,
          null,
          null,
          null,
          null
         ]
        },
        {
         "hovertext": [
          0,
          1,
          2,
          3,
          4,
          5,
          6,
          7,
          8,
          9,
          10,
          11,
          12,
          13,
          14,
          15,
          16,
          17,
          18,
          19,
          20,
          21,
          22,
          23,
          24,
          25,
          26,
          27,
          28,
          29,
          30,
          31,
          32,
          33,
          34,
          35,
          36
         ],
         "mode": "lines+markers",
         "name": "LABEL-17",
         "type": "scatter",
         "x": [
          0,
          1,
          2,
          3,
          4,
          5,
          6,
          7,
          8,
          9,
          10,
          11,
          12,
          13,
          14,
          15,
          16,
          17,
          18,
          19,
          20,
          21,
          22,
          23,
          24,
          25,
          26,
          27,
          28,
          29,
          30,
          31,
          32,
          33,
          34,
          35,
          36
         ],
         "y": [
          "https://img.alicdn.com/imgextra/i2/O1CN01m9OC6a1UK86X51Dcq_!!6000000002498-2-tps-108-54.png",
          "https://img.alicdn.com/imgextra/i2/O1CN01m9OC6a1UK86X51Dcq_!!6000000002498-2-tps-108-54.png",
          null,
          null,
          null,
          null,
          null,
          null,
          "https://img.alicdn.com/imgextra/i2/O1CN01m9OC6a1UK86X51Dcq_!!6000000002498-2-tps-108-54.png",
          null,
          "https://img.alicdn.com/imgextra/i2/O1CN01m9OC6a1UK86X51Dcq_!!6000000002498-2-tps-108-54.png",
          null,
          null,
          null,
          null,
          null,
          null,
          null,
          "https://img.alicdn.com/imgextra/i2/O1CN01m9OC6a1UK86X51Dcq_!!6000000002498-2-tps-108-54.png",
          null,
          null,
          null,
          null,
          null,
          null,
          null,
          null,
          null,
          null,
          null,
          null,
          null,
          null,
          null,
          null,
          null,
          null
         ]
        },
        {
         "hovertext": [
          0,
          1,
          2,
          3,
          4,
          5,
          6,
          7,
          8,
          9,
          10,
          11,
          12,
          13,
          14,
          15,
          16,
          17,
          18,
          19,
          20,
          21,
          22,
          23,
          24,
          25,
          26,
          27,
          28,
          29,
          30,
          31,
          32,
          33,
          34,
          35,
          36
         ],
         "mode": "lines+markers",
         "name": "product3",
         "type": "scatter",
         "x": [
          0,
          1,
          2,
          3,
          4,
          5,
          6,
          7,
          8,
          9,
          10,
          11,
          12,
          13,
          14,
          15,
          16,
          17,
          18,
          19,
          20,
          21,
          22,
          23,
          24,
          25,
          26,
          27,
          28,
          29,
          30,
          31,
          32,
          33,
          34,
          35,
          36
         ],
         "y": [
          "Rs.",
          "Rs.",
          "Rs.",
          null,
          "Rs.",
          "Rs.",
          "Rs.",
          "Rs.",
          "Rs.",
          "Rs.",
          "Rs.",
          "Rs.",
          "Rs.",
          "Rs.",
          "Rs.",
          "Rs.",
          "Rs.",
          "Rs.",
          "Rs.",
          "Rs.",
          "Rs.",
          "Rs.",
          "Rs.",
          "Rs.",
          "Rs.",
          "Rs.",
          "Rs.",
          "Rs.",
          "Rs.",
          "Rs.",
          null,
          null,
          null,
          null,
          null,
          null,
          null
         ]
        },
        {
         "hovertext": [
          0,
          1,
          2,
          3,
          4,
          5,
          6,
          7,
          8,
          9,
          10,
          11,
          12,
          13,
          14,
          15,
          16,
          17,
          18,
          19,
          20,
          21,
          22,
          23,
          24,
          25,
          26,
          27,
          28,
          29,
          30,
          31,
          32,
          33,
          34,
          35,
          36
         ],
         "mode": "lines+markers",
         "name": "real price.1",
         "type": "scatter",
         "x": [
          0,
          1,
          2,
          3,
          4,
          5,
          6,
          7,
          8,
          9,
          10,
          11,
          12,
          13,
          14,
          15,
          16,
          17,
          18,
          19,
          20,
          21,
          22,
          23,
          24,
          25,
          26,
          27,
          28,
          29,
          30,
          31,
          32,
          33,
          34,
          35,
          36
         ],
         "y": [
          "(510)",
          "(87)",
          "(763)",
          null,
          "(13)",
          "(743)",
          "(307)",
          "(107)",
          "(48)",
          "(157)",
          "(633)",
          "(14)",
          "(198)",
          "(7)",
          "(111)",
          "(2899)",
          "(61)",
          "(11)",
          "(1646)",
          "(246)",
          "(110)",
          "(3)",
          "(1548)",
          "(680)",
          "(452)",
          "(90)",
          "(23)",
          "(271)",
          "(804)",
          "(273)",
          null,
          null,
          null,
          null,
          null,
          null,
          null
         ]
        },
        {
         "hovertext": [
          0,
          1,
          2,
          3,
          4,
          5,
          6,
          7,
          8,
          9,
          10,
          11,
          12,
          13,
          14,
          15,
          16,
          17,
          18,
          19,
          20,
          21,
          22,
          23,
          24,
          25,
          26,
          27,
          28,
          29,
          30,
          31,
          32,
          33,
          34,
          35,
          36
         ],
         "mode": "lines+markers",
         "name": "LABEL-23",
         "type": "scatter",
         "x": [
          0,
          1,
          2,
          3,
          4,
          5,
          6,
          7,
          8,
          9,
          10,
          11,
          12,
          13,
          14,
          15,
          16,
          17,
          18,
          19,
          20,
          21,
          22,
          23,
          24,
          25,
          26,
          27,
          28,
          29,
          30,
          31,
          32,
          33,
          34,
          35,
          36
         ],
         "y": [
          "Women;s bag's Hand bags and shoulder Cross Body bag at discounted Price",
          "Crystal Hair Remover, Comprehensive Solution for Painless Removal with Nano  Glass, Portable, Useful Manual Epilator Perfectly Designed for Women's Under-arms, Hand, Legs, Bikini, and Body Grooming",
          "T500 Ultra Pro Plus Smart Watch 44mm| Smart Watch For Men And Women | Bluetooth Connectivity | High Quality Budget Smart Watch",
          null,
          "Rorec White Rice Serum for Face Whitening Fine Lines Makeup Primer Serum 15ml",
          "Hair Oil Applicator Bottle, Root oiling Comb bottle for Hair Coloring, Shampoo, Oiling, Dye, and Scalp Treatment for home & commercial ( Empty Bottle )",
          "Winter Stylish Pocket Zipper Jacket For Men/ Upper /Bomber Jacket For Men - Heavy Fleece Material - Stay Warm And Stylish In Winter",
          "Manual chopper -  manual chopper 3 blades, manual speedy chopper, hand use chopper, speedy chopper manual hand push, vegetable chopper, manual food chopper, manual chopper machine, meat chopper, electric free manual chopper, m",
          "Toothpaste Dispenser With 5 Brush Holder Wall Mounted Automatic Hands Free Toothpaste Dispenser",
          "Waist Trimmer Unisex Belly Wrap Workout Sports Sweat Band AB Trainer Weight Loss Body Shaper Tummy Control Slimming Belt",
          "Happy Birthday Decoration Set Theme Including 30 Balloons ( 10 Blue 10 White 10 Silver) 4 confetti Balloons Blue Happy Birthday Banner or Silver Foil Curtain",
          "Winter Women Half-finger Flip-top Gloves Student Cute Girl Cartoon Warm",
          "Octopus Head Relaxing Massager - Massager - Head Massager",
          "SastaaE 3 PC Unstitched Kataan Silk Plain Shirt & Trouser With Organza Lining Dupatta - Mehroon",
          "Ultralight Breathable Mesh Men Training Casual Gray Sneakers Sports Shoes Lightweight Athletic Running Shoes",
          "800W Space Heater Small Electric Ceramic Heater 2 Power Level Knob Switch For Dormitory",
          "Home & Office Multipurpose Plastic Rack / Room Organizer Home & Office Multipurpose  Plastic Rack / Room Organizer /  Shoe Rack Art # SS-SSR01",
          "Crystals Chokar Set with Stud Earrings - Double Layered Choker Necklace",
          "Posture belt, posture corrector belt, Back support belt, Back Pain Relief Shoulder Back Support Belt",
          "Designer Fully Heavy Embroidered Flower Stitched Silk Maxi With Embroidered Koti For Girls - Elevate Your Style With A Designer Embroidered Maxi",
          "Bag X Luxury 3 piece Bag set Women's Cross Body & Shoulder Bag - hand bag for girls , bags for girls , Bags for women , Large Capacity Women Bag Ladies Leather Tote Fashion Shoulder Bags for Women 2023 Wallet",
          "Fleece Printed Pull Over Hoodie for Men with original picture  - Black",
          "RichMan_Winter Grey and Black Hoodie Track Suit for Man",
          "Sleeveless jackets for men  and boys",
          "High quality wooden wall clock | Flower shaped wall clock | flower shaped wooden wall clock",
          "Portable Lint Remover Clothes Fuzz Fabric Shaver Brush Tool Power-Free Fluff Removing Roller For Sweater Woven Coat",
          "The Jewel Lodge name lockets for girls in urdu, Name Jewelry, Customize Necklace Name, customized name necklace, Momina name locket",
          "High quality wooden wall clock | Bird shaped wall clock | bird shaped wooden wall clock",
          "Travel Mini Hair Flat Iron 2 in 1 Hair Straightener Hair Curler Ceramic Plate",
          "Fashion Solid Color Shoulder Bag Crossbody Bags Women Leather Woven Bag Purse Podazz",
          null,
          null,
          null,
          null,
          null,
          null,
          null
         ]
        },
        {
         "hovertext": [
          0,
          1,
          2,
          3,
          4,
          5,
          6,
          7,
          8,
          9,
          10,
          11,
          12,
          13,
          14,
          15,
          16,
          17,
          18,
          19,
          20,
          21,
          22,
          23,
          24,
          25,
          26,
          27,
          28,
          29,
          30,
          31,
          32,
          33,
          34,
          35,
          36
         ],
         "mode": "lines+markers",
         "name": "LABEL-25",
         "type": "scatter",
         "x": [
          0,
          1,
          2,
          3,
          4,
          5,
          6,
          7,
          8,
          9,
          10,
          11,
          12,
          13,
          14,
          15,
          16,
          17,
          18,
          19,
          20,
          21,
          22,
          23,
          24,
          25,
          26,
          27,
          28,
          29,
          30,
          31,
          32,
          33,
          34,
          35,
          36
         ],
         "y": [
          "649",
          "259",
          "1,429",
          null,
          "399",
          "84",
          "2,599",
          "599",
          "350",
          "2,992",
          "279",
          "543",
          "118",
          "740",
          "799",
          "1,485",
          "449",
          "299",
          "579",
          "1,599",
          "2,399",
          "799",
          "1,499",
          "1,799",
          "299",
          "729",
          "649",
          "379",
          "559",
          "998",
          null,
          null,
          null,
          null,
          null,
          null,
          null
         ]
        },
        {
         "hovertext": [
          0,
          1,
          2,
          3,
          4,
          5,
          6,
          7,
          8,
          9,
          10,
          11,
          12,
          13,
          14,
          15,
          16,
          17,
          18,
          19,
          20,
          21,
          22,
          23,
          24,
          25,
          26,
          27,
          28,
          29,
          30,
          31,
          32,
          33,
          34,
          35,
          36
         ],
         "mode": "lines+markers",
         "name": "LABEL-27",
         "type": "scatter",
         "x": [
          0,
          1,
          2,
          3,
          4,
          5,
          6,
          7,
          8,
          9,
          10,
          11,
          12,
          13,
          14,
          15,
          16,
          17,
          18,
          19,
          20,
          21,
          22,
          23,
          24,
          25,
          26,
          27,
          28,
          29,
          30,
          31,
          32,
          33,
          34,
          35,
          36
         ],
         "y": [
          "https://static-01.daraz.pk/p/d3056deae6ba26fc8950d15acc0a4624.jpg_200x200q80-product.jpg_.webp",
          "https://static-01.daraz.pk/p/5873ad4a53f1d8f8672a3e87d6598f32.jpg_200x200q80-product.jpg_.webp",
          "https://static-01.daraz.pk/p/d63b55b0cd6e0f31144291f8901dc25d.jpg_200x200q80-product.jpg_.webp",
          null,
          "https://static-01.daraz.pk/p/528d9b163b11533936f4486de930d163.jpg_200x200q80-product.jpg_.webp",
          "https://static-01.daraz.pk/p/ec5d587ba6f55bd3b573ce957e6b0732.jpg_200x200q80-product.jpg_.webp",
          "https://static-01.daraz.pk/p/927e29a2c76108e650bc6f6de673d248.jpg_200x200q80-product.jpg_.webp",
          "https://static-01.daraz.pk/p/f86ea44c54967f928a80b9acfc6b4305.jpg_200x200q80-product.jpg_.webp",
          "https://static-01.daraz.pk/p/0c07859495904e963be14548e37c92d2.jpg_200x200q80-product.jpg_.webp",
          "https://static-01.daraz.pk/p/604388b4fb9b0fa8316b5e98be57f887.jpg_200x200q80-product.jpg_.webp",
          "https://static-01.daraz.pk/p/59eb608b46bfbde45c6c637b706198fb.jpg_200x200q80-product.jpg_.webp",
          "https://static-01.daraz.pk/p/65ff1311b74f90e7f1bd6a3f22b106e7.jpg_200x200q80-product.jpg_.webp",
          "https://static-01.daraz.pk/p/6892a4c07c9c8b86b3a0f98a6ed238b6.jpg_200x200q80-product.jpg_.webp",
          "https://static-01.daraz.pk/p/5dc9538fb982afcf65c965bd59c00416.jpg_200x200q80-product.jpg_.webp",
          "https://static-01.daraz.pk/p/e58fb1fa34bd13d925b38edbd6f65a89.jpg_200x200q80-product.jpg_.webp",
          "https://pk-live-21.slatic.net/kf/Sbb7253778af14443917a7c0fc501b6020.jpg",
          "https://pk-live-21.slatic.net/kf/S40e541a978424c48afab0b52df80249eX.jpg",
          "https://static-01.daraz.pk/p/45b2cbc08b9d85db52f50c3bb127f171.jpg_200x200q80-product.jpg_.webp",
          "https://static-01.daraz.pk/p/89bbc6e33a5e4211a3a26c45e8c26b61.jpg_200x200q80-product.jpg_.webp",
          "https://pk-live-21.slatic.net/kf/S5495cc7b11554befa95be27a661a8760B.jpg",
          "https://static-01.daraz.pk/p/996dc51794e0c9edfe02b1a7b33351a7.jpg_200x200q80-product.jpg_.webp",
          "https://static-01.daraz.pk/p/10d2d7c6563b18a4bcc579b66558d920.jpg_200x200q80-product.jpg_.webp",
          "https://static-01.daraz.pk/p/f73661fd24ed9e925d555cee3b3d68c9.jpg_200x200q80-product.jpg_.webp",
          "https://static-01.daraz.pk/p/b9f707539281fef34d90b770c69c00a4.jpg_200x200q80-product.jpg_.webp",
          "https://static-01.daraz.pk/p/6ad9d2b7b267ecd0ef235277ccc5419a.jpg_200x200q80-product.jpg_.webp",
          "https://static-01.daraz.pk/p/e62380acad963698cbae640bf85adf82.jpg_200x200q80-product.jpg_.webp",
          "https://static-01.daraz.pk/p/464fd41bf081e00b39c7ba70e7a6aba1.jpg_200x200q80-product.jpg_.webp",
          "https://static-01.daraz.pk/p/9eb6eed6905bbefd6ff943bc742db225.jpg_200x200q80-product.jpg_.webp",
          "https://static-01.daraz.pk/p/df72c7c26c67b88f1b4fd46130e2a15b.jpg_200x200q80-product.jpg_.webp",
          "https://static-01.daraz.pk/p/8f527f50b8daa7b604f9be3adb866b22.jpg_200x200q80-product.jpg_.webp",
          null,
          null,
          null,
          null,
          null,
          null,
          null
         ]
        },
        {
         "hovertext": [
          0,
          1,
          2,
          3,
          4,
          5,
          6,
          7,
          8,
          9,
          10,
          11,
          12,
          13,
          14,
          15,
          16,
          17,
          18,
          19,
          20,
          21,
          22,
          23,
          24,
          25,
          26,
          27,
          28,
          29,
          30,
          31,
          32,
          33,
          34,
          35,
          36
         ],
         "mode": "lines+markers",
         "name": "prduct5",
         "type": "scatter",
         "x": [
          0,
          1,
          2,
          3,
          4,
          5,
          6,
          7,
          8,
          9,
          10,
          11,
          12,
          13,
          14,
          15,
          16,
          17,
          18,
          19,
          20,
          21,
          22,
          23,
          24,
          25,
          26,
          27,
          28,
          29,
          30,
          31,
          32,
          33,
          34,
          35,
          36
         ],
         "y": [
          "Rs.",
          "Rs.",
          "Rs.",
          null,
          "Rs.",
          "Rs.",
          "Rs.",
          "Rs.",
          "Rs.",
          "Rs.",
          "Rs.",
          "Rs.",
          "Rs.",
          "Rs.",
          "Rs.",
          "Rs.",
          "Rs.",
          "Rs.",
          "Rs.",
          "Rs.",
          "Rs.",
          "Rs.",
          "Rs.",
          "Rs.",
          "Rs.",
          "Rs.",
          "Rs.",
          "Rs.",
          "Rs.",
          "Rs.",
          null,
          null,
          null,
          null,
          null,
          null,
          null
         ]
        },
        {
         "hovertext": [
          0,
          1,
          2,
          3,
          4,
          5,
          6,
          7,
          8,
          9,
          10,
          11,
          12,
          13,
          14,
          15,
          16,
          17,
          18,
          19,
          20,
          21,
          22,
          23,
          24,
          25,
          26,
          27,
          28,
          29,
          30,
          31,
          32,
          33,
          34,
          35,
          36
         ],
         "mode": "lines+markers",
         "name": "LABEL-31",
         "type": "scatter",
         "x": [
          0,
          1,
          2,
          3,
          4,
          5,
          6,
          7,
          8,
          9,
          10,
          11,
          12,
          13,
          14,
          15,
          16,
          17,
          18,
          19,
          20,
          21,
          22,
          23,
          24,
          25,
          26,
          27,
          28,
          29,
          30,
          31,
          32,
          33,
          34,
          35,
          36
         ],
         "y": [
          "Rs.",
          "Rs.",
          "Rs.",
          null,
          null,
          "Rs.",
          "Rs.",
          "Rs.",
          "Rs.",
          "Rs.",
          "Rs.",
          "Rs.",
          "Rs.",
          "Rs.",
          "Rs.",
          null,
          "Rs.",
          "Rs.",
          "Rs.",
          null,
          "Rs.",
          null,
          "Rs.",
          "Rs.",
          "Rs.",
          "Rs.",
          "Rs.",
          "Rs.",
          "Rs.",
          "Rs.",
          null,
          null,
          null,
          null,
          null,
          null,
          null
         ]
        },
        {
         "hovertext": [
          0,
          1,
          2,
          3,
          4,
          5,
          6,
          7,
          8,
          9,
          10,
          11,
          12,
          13,
          14,
          15,
          16,
          17,
          18,
          19,
          20,
          21,
          22,
          23,
          24,
          25,
          26,
          27,
          28,
          29,
          30,
          31,
          32,
          33,
          34,
          35,
          36
         ],
         "mode": "lines+markers",
         "name": "LABEL-33",
         "type": "scatter",
         "x": [
          0,
          1,
          2,
          3,
          4,
          5,
          6,
          7,
          8,
          9,
          10,
          11,
          12,
          13,
          14,
          15,
          16,
          17,
          18,
          19,
          20,
          21,
          22,
          23,
          24,
          25,
          26,
          27,
          28,
          29,
          30,
          31,
          32,
          33,
          34,
          35,
          36
         ],
         "y": [
          "-29%",
          "-24%",
          "-75%",
          null,
          null,
          "-10%",
          "-64%",
          "-50%",
          "-83%",
          "-56%",
          "-63%",
          "-41%",
          "-14%",
          "-40%",
          "-43%",
          null,
          "-41%",
          "-42%",
          "-31%",
          null,
          "-55%",
          null,
          "-34%",
          "-14%",
          "-40%",
          "-41%",
          "-47%",
          "-7%",
          "-34%",
          "-56%",
          null,
          null,
          null,
          null,
          null,
          null,
          null
         ]
        },
        {
         "hovertext": [
          0,
          1,
          2,
          3,
          4,
          5,
          6,
          7,
          8,
          9,
          10,
          11,
          12,
          13,
          14,
          15,
          16,
          17,
          18,
          19,
          20,
          21,
          22,
          23,
          24,
          25,
          26,
          27,
          28,
          29,
          30,
          31,
          32,
          33,
          34,
          35,
          36
         ],
         "mode": "lines+markers",
         "name": "LABEL-35",
         "type": "scatter",
         "x": [
          0,
          1,
          2,
          3,
          4,
          5,
          6,
          7,
          8,
          9,
          10,
          11,
          12,
          13,
          14,
          15,
          16,
          17,
          18,
          19,
          20,
          21,
          22,
          23,
          24,
          25,
          26,
          27,
          28,
          29,
          30,
          31,
          32,
          33,
          34,
          35,
          36
         ],
         "y": [
          "https://static-01.daraz.pk/p/76bf68ad8940635f8a675647a5b2d5b8.jpg_200x200q80-product.jpg_.webp",
          "https://static-01.daraz.pk/p/384165acd2c720eb84c86cdb081f8377.jpg_200x200q80-product.jpg_.webp",
          "https://pk-live-21.slatic.net/kf/S4ca29b1ebba94269a34ee5f73d1ed747R.jpg",
          null,
          "https://static-01.daraz.pk/p/530d3db0db80ddceb69721261d430aaa.jpg_200x200q80-product.jpg_.webp",
          "https://static-01.daraz.pk/p/94c5e85dfd1c1e2a92df6259fec83b1e.jpg_200x200q80-product.jpg_.webp",
          "https://static-01.daraz.pk/p/ab0e3e8b9062059cb8677a6846e38b03.jpg_200x200q80-product.jpg_.webp",
          "https://static-01.daraz.pk/p/74afa8b733834a58adf5d99be4ecaba6.jpg_200x200q80-product.jpg_.webp",
          "https://static-01.daraz.pk/p/cf92e9521ce57412d1bedf3e44b55e14.jpg_200x200q80-product.jpg_.webp",
          "https://static-01.daraz.pk/p/e72a40cdf846cc1f5e21ec6e386e0400.jpg_200x200q80-product.jpg_.webp",
          "https://static-01.daraz.pk/p/e2a83d566612f509eb33277fdf41662b.jpg_200x200q80-product.jpg_.webp",
          "https://static-01.daraz.pk/p/8f1c59802f39d8e4c96d3a240a61959e.jpg_200x200q80-product.jpg_.webp",
          "https://static-01.daraz.pk/p/a57aca76f419b69cf3b4f663d0d6733c.jpg_200x200q80-product.jpg_.webp",
          "https://static-01.daraz.pk/p/d46932207f1ce6fe092d6f2a15f4c84f.jpg_200x200q80-product.jpg_.webp",
          "https://static-01.daraz.pk/p/0cb400358352d3b760f7a9b624a39919.jpg_200x200q80-product.jpg_.webp",
          "https://static-01.daraz.pk/p/a3e40720d2d6b09630d40e9ac354c0ef.jpg_200x200q80-product.jpg_.webp",
          "https://static-01.daraz.pk/p/1cb01ba86616d09964b5c17edaf5567a.jpg_200x200q80-product.jpg_.webp",
          "https://pk-live-21.slatic.net/kf/S29147fce4a5f4b4fb2f9b86cabb6e98as.jpg",
          "https://pk-live-21.slatic.net/kf/Se8e5bd4aaae649288b5f94c36e8c0f3eQ.jpg",
          "https://static-01.daraz.pk/p/e8ce7ed16ab9e54b543ee96f5564df22.jpg_200x200q80-product.jpg_.webp",
          "https://static-01.daraz.pk/p/ed39a0ee4d099e4305a8f2dbb1d0c275.jpg_200x200q80-product.jpg_.webp",
          "https://static-01.daraz.pk/p/69e7619c30f39a9e74860f764d2ec3c4.jpg_200x200q80-product.jpg_.webp",
          "https://static-01.daraz.pk/p/602ec1ce5765b41d8d4b54f54e8b50f3.jpg_200x200q80-product.jpg_.webp",
          "https://static-01.daraz.pk/p/d5c60272e690261d241570efe0297316.jpg_200x200q80-product.jpg_.webp",
          "https://static-01.daraz.pk/p/a071c5c6187889992593f1d63a0fa818.jpg_200x200q80-product.jpg_.webp",
          "https://static-01.daraz.pk/p/ef21833d5f87d1c3554883e1d2a77d71.jpg_200x200q80-product.jpg_.webp",
          "https://static-01.daraz.pk/p/3f7fa61fbc30be64f130d69f67791d06.jpg_200x200q80-product.jpg_.webp",
          "https://static-01.daraz.pk/p/a594655380d888b6e095b74955e5b370.jpg_200x200q80-product.jpg_.webp",
          "https://static-01.daraz.pk/p/481caf3e6c2c55078d49f0b9705d0b5c.jpg_200x200q80-product.jpg_.webp",
          "https://static-01.daraz.pk/p/e82d2370baee5570402a9211f6fa9881.png_200x200q80-product.jpg_.webp",
          null,
          "https://static-01.daraz.pk/p/119fdc857c189a3fa3257436f7897a3a.jpg_200x200q80-product.jpg_.webp",
          "https://static-01.daraz.pk/p/adcd98db1a2ad1e745c5301de60ca156.jpg_200x200q80-product.jpg_.webp",
          "https://static-01.daraz.pk/p/6843058a845fe788936cbec37859aad7.jpg_200x200q80-product.jpg_.webp",
          "https://static-01.daraz.pk/p/904bc45e7ad0551fd75525c6dd40f052.jpg_200x200q80-product.jpg_.webp",
          "https://static-01.daraz.pk/p/8a5e66472ca88e3b5366a3e63482864a.png_200x200q80-product.jpg_.webp",
          "https://static-01.daraz.pk/p/5bba7849875be2272c89e70cfdfc85b6.jpg_200x200q80-product.jpg_.webp"
         ]
        },
        {
         "hovertext": [
          0,
          1,
          2,
          3,
          4,
          5,
          6,
          7,
          8,
          9,
          10,
          11,
          12,
          13,
          14,
          15,
          16,
          17,
          18,
          19,
          20,
          21,
          22,
          23,
          24,
          25,
          26,
          27,
          28,
          29,
          30,
          31,
          32,
          33,
          34,
          35,
          36
         ],
         "mode": "lines+markers",
         "name": "LABEL-37",
         "type": "scatter",
         "x": [
          0,
          1,
          2,
          3,
          4,
          5,
          6,
          7,
          8,
          9,
          10,
          11,
          12,
          13,
          14,
          15,
          16,
          17,
          18,
          19,
          20,
          21,
          22,
          23,
          24,
          25,
          26,
          27,
          28,
          29,
          30,
          31,
          32,
          33,
          34,
          35,
          36
         ],
         "y": [
          "Rs.",
          "Rs.",
          "Rs.",
          null,
          "Rs.",
          "Rs.",
          "Rs.",
          "Rs.",
          "Rs.",
          "Rs.",
          "Rs.",
          "Rs.",
          "Rs.",
          "Rs.",
          "Rs.",
          "Rs.",
          "Rs.",
          "Rs.",
          "Rs.",
          "Rs.",
          "Rs.",
          "Rs.",
          "Rs.",
          "Rs.",
          "Rs.",
          "Rs.",
          "Rs.",
          "Rs.",
          "Rs.",
          "Rs.",
          null,
          "Rs.",
          "Rs.",
          "Rs.",
          "Rs.",
          "Rs.",
          "Rs."
         ]
        },
        {
         "hovertext": [
          0,
          1,
          2,
          3,
          4,
          5,
          6,
          7,
          8,
          9,
          10,
          11,
          12,
          13,
          14,
          15,
          16,
          17,
          18,
          19,
          20,
          21,
          22,
          23,
          24,
          25,
          26,
          27,
          28,
          29,
          30,
          31,
          32,
          33,
          34,
          35,
          36
         ],
         "mode": "lines+markers",
         "name": "LABEL-39",
         "type": "scatter",
         "x": [
          0,
          1,
          2,
          3,
          4,
          5,
          6,
          7,
          8,
          9,
          10,
          11,
          12,
          13,
          14,
          15,
          16,
          17,
          18,
          19,
          20,
          21,
          22,
          23,
          24,
          25,
          26,
          27,
          28,
          29,
          30,
          31,
          32,
          33,
          34,
          35,
          36
         ],
         "y": [
          "Rs.",
          "Rs.",
          null,
          null,
          "Rs.",
          "Rs.",
          "Rs.",
          "Rs.",
          "Rs.",
          "Rs.",
          "Rs.",
          "Rs.",
          "Rs.",
          "Rs.",
          "Rs.",
          null,
          "Rs.",
          "Rs.",
          "Rs.",
          "Rs.",
          "Rs.",
          "Rs.",
          "Rs.",
          "Rs.",
          null,
          "Rs.",
          "Rs.",
          "Rs.",
          "Rs.",
          null,
          null,
          "Rs.",
          "Rs.",
          "Rs.",
          "Rs.",
          "Rs.",
          "Rs."
         ]
        },
        {
         "hovertext": [
          0,
          1,
          2,
          3,
          4,
          5,
          6,
          7,
          8,
          9,
          10,
          11,
          12,
          13,
          14,
          15,
          16,
          17,
          18,
          19,
          20,
          21,
          22,
          23,
          24,
          25,
          26,
          27,
          28,
          29,
          30,
          31,
          32,
          33,
          34,
          35,
          36
         ],
         "mode": "lines+markers",
         "name": "LABEL-41",
         "type": "scatter",
         "x": [
          0,
          1,
          2,
          3,
          4,
          5,
          6,
          7,
          8,
          9,
          10,
          11,
          12,
          13,
          14,
          15,
          16,
          17,
          18,
          19,
          20,
          21,
          22,
          23,
          24,
          25,
          26,
          27,
          28,
          29,
          30,
          31,
          32,
          33,
          34,
          35,
          36
         ],
         "y": [
          "-26%",
          "-36%",
          null,
          null,
          "-50%",
          "-71%",
          "-56%",
          "-73%",
          "-67%",
          "-63%",
          "-53%",
          "-41%",
          "-67%",
          "-61%",
          "-66%",
          null,
          "-30%",
          "-13%",
          "-40%",
          "-22%",
          "-46%",
          "-45%",
          "-30%",
          "-72%",
          null,
          "-40%",
          "-4%",
          "-31%",
          "-50%",
          null,
          null,
          "-76%",
          "-51%",
          "-58%",
          "-45%",
          "-91%",
          "-40%"
         ]
        },
        {
         "hovertext": [
          0,
          1,
          2,
          3,
          4,
          5,
          6,
          7,
          8,
          9,
          10,
          11,
          12,
          13,
          14,
          15,
          16,
          17,
          18,
          19,
          20,
          21,
          22,
          23,
          24,
          25,
          26,
          27,
          28,
          29,
          30,
          31,
          32,
          33,
          34,
          35,
          36
         ],
         "mode": "lines+markers",
         "name": "LABEL-43",
         "type": "scatter",
         "x": [
          0,
          1,
          2,
          3,
          4,
          5,
          6,
          7,
          8,
          9,
          10,
          11,
          12,
          13,
          14,
          15,
          16,
          17,
          18,
          19,
          20,
          21,
          22,
          23,
          24,
          25,
          26,
          27,
          28,
          29,
          30,
          31,
          32,
          33,
          34,
          35,
          36
         ],
         "y": [
          null,
          "Rs.",
          null,
          null,
          "Rs.",
          "Rs.",
          "Rs.",
          "Rs.",
          "Rs.",
          "Rs.",
          "Rs.",
          "Rs.",
          null,
          "Rs.",
          null,
          "Rs.",
          "Rs.",
          "Rs.",
          "Rs.",
          null,
          "Rs.",
          null,
          "Rs.",
          "Rs.",
          null,
          "Rs.",
          null,
          "Rs.",
          "Rs.",
          "Rs.",
          null,
          null,
          null,
          null,
          "https://img.alicdn.com/imgextra/i2/O1CN01m9OC6a1UK86X51Dcq_!!6000000002498-2-tps-108-54.png",
          null,
          "https://img.alicdn.com/imgextra/i2/O1CN01m9OC6a1UK86X51Dcq_!!6000000002498-2-tps-108-54.png"
         ]
        },
        {
         "hovertext": [
          0,
          1,
          2,
          3,
          4,
          5,
          6,
          7,
          8,
          9,
          10,
          11,
          12,
          13,
          14,
          15,
          16,
          17,
          18,
          19,
          20,
          21,
          22,
          23,
          24,
          25,
          26,
          27,
          28,
          29,
          30,
          31,
          32,
          33,
          34,
          35,
          36
         ],
         "mode": "lines+markers",
         "name": "LABEL-45",
         "type": "scatter",
         "x": [
          0,
          1,
          2,
          3,
          4,
          5,
          6,
          7,
          8,
          9,
          10,
          11,
          12,
          13,
          14,
          15,
          16,
          17,
          18,
          19,
          20,
          21,
          22,
          23,
          24,
          25,
          26,
          27,
          28,
          29,
          30,
          31,
          32,
          33,
          34,
          35,
          36
         ],
         "y": [
          null,
          "-66%",
          null,
          null,
          "-38%",
          "-32%",
          "-55%",
          "-39%",
          "-66%",
          "-9%",
          "-29%",
          "-77%",
          null,
          "-37%",
          null,
          "-53%",
          "-40%",
          "-40%",
          "-23%",
          null,
          "-19%",
          null,
          "-28%",
          "-28%",
          null,
          "-62%",
          null,
          "-71%",
          "-65%",
          "-13%",
          null,
          null,
          null,
          null,
          null,
          null,
          null
         ]
        },
        {
         "hovertext": [
          0,
          1,
          2,
          3,
          4,
          5,
          6,
          7,
          8,
          9,
          10,
          11,
          12,
          13,
          14,
          15,
          16,
          17,
          18,
          19,
          20,
          21,
          22,
          23,
          24,
          25,
          26,
          27,
          28,
          29,
          30,
          31,
          32,
          33,
          34,
          35,
          36
         ],
         "mode": "lines+markers",
         "name": "LABEL-47",
         "type": "scatter",
         "x": [
          0,
          1,
          2,
          3,
          4,
          5,
          6,
          7,
          8,
          9,
          10,
          11,
          12,
          13,
          14,
          15,
          16,
          17,
          18,
          19,
          20,
          21,
          22,
          23,
          24,
          25,
          26,
          27,
          28,
          29,
          30,
          31,
          32,
          33,
          34,
          35,
          36
         ],
         "y": [
          null,
          "499",
          "3,500",
          null,
          "1,800",
          "109",
          "3,999",
          "999",
          "1,099",
          null,
          "450",
          "788",
          "400",
          "1,400",
          "1,500",
          "4,000",
          "898",
          "430",
          "800",
          "3,299",
          "5,600",
          "899",
          "2,200",
          "3,399",
          "1,299",
          "1,133",
          "1,400",
          "899",
          "750",
          "1,390",
          null,
          null,
          null,
          null,
          null,
          null,
          null
         ]
        },
        {
         "hovertext": [
          0,
          1,
          2,
          3,
          4,
          5,
          6,
          7,
          8,
          9,
          10,
          11,
          12,
          13,
          14,
          15,
          16,
          17,
          18,
          19,
          20,
          21,
          22,
          23,
          24,
          25,
          26,
          27,
          28,
          29,
          30,
          31,
          32,
          33,
          34,
          35,
          36
         ],
         "mode": "lines+markers",
         "name": "LABEL-49",
         "type": "scatter",
         "x": [
          0,
          1,
          2,
          3,
          4,
          5,
          6,
          7,
          8,
          9,
          10,
          11,
          12,
          13,
          14,
          15,
          16,
          17,
          18,
          19,
          20,
          21,
          22,
          23,
          24,
          25,
          26,
          27,
          28,
          29,
          30,
          31,
          32,
          33,
          34,
          35,
          36
         ],
         "y": [
          null,
          null,
          null,
          "Oud Collection - Arabic Perfumes Dirham_Men - Eau De Perfume - 100ml Long Lasting Frangrances",
          null,
          null,
          null,
          null,
          null,
          null,
          null,
          null,
          null,
          null,
          null,
          null,
          null,
          null,
          null,
          null,
          null,
          null,
          null,
          null,
          null,
          null,
          null,
          null,
          null,
          null,
          null,
          null,
          null,
          null,
          null,
          null,
          null
         ]
        },
        {
         "hovertext": [
          0,
          1,
          2,
          3,
          4,
          5,
          6,
          7,
          8,
          9,
          10,
          11,
          12,
          13,
          14,
          15,
          16,
          17,
          18,
          19,
          20,
          21,
          22,
          23,
          24,
          25,
          26,
          27,
          28,
          29,
          30,
          31,
          32,
          33,
          34,
          35,
          36
         ],
         "mode": "lines+markers",
         "name": "LABEL-51",
         "type": "scatter",
         "x": [
          0,
          1,
          2,
          3,
          4,
          5,
          6,
          7,
          8,
          9,
          10,
          11,
          12,
          13,
          14,
          15,
          16,
          17,
          18,
          19,
          20,
          21,
          22,
          23,
          24,
          25,
          26,
          27,
          28,
          29,
          30,
          31,
          32,
          33,
          34,
          35,
          36
         ],
         "y": [
          null,
          null,
          null,
          299,
          null,
          null,
          null,
          null,
          null,
          null,
          null,
          null,
          null,
          null,
          null,
          null,
          null,
          null,
          null,
          null,
          null,
          null,
          null,
          null,
          null,
          null,
          null,
          null,
          null,
          null,
          null,
          null,
          null,
          null,
          null,
          null,
          null
         ]
        },
        {
         "hovertext": [
          0,
          1,
          2,
          3,
          4,
          5,
          6,
          7,
          8,
          9,
          10,
          11,
          12,
          13,
          14,
          15,
          16,
          17,
          18,
          19,
          20,
          21,
          22,
          23,
          24,
          25,
          26,
          27,
          28,
          29,
          30,
          31,
          32,
          33,
          34,
          35,
          36
         ],
         "mode": "lines+markers",
         "name": "LABEL-53",
         "type": "scatter",
         "x": [
          0,
          1,
          2,
          3,
          4,
          5,
          6,
          7,
          8,
          9,
          10,
          11,
          12,
          13,
          14,
          15,
          16,
          17,
          18,
          19,
          20,
          21,
          22,
          23,
          24,
          25,
          26,
          27,
          28,
          29,
          30,
          31,
          32,
          33,
          34,
          35,
          36
         ],
         "y": [
          null,
          null,
          null,
          999,
          null,
          null,
          null,
          null,
          null,
          null,
          null,
          null,
          null,
          null,
          null,
          null,
          null,
          null,
          null,
          null,
          null,
          null,
          null,
          null,
          null,
          null,
          null,
          null,
          null,
          null,
          null,
          null,
          null,
          null,
          null,
          null,
          null
         ]
        },
        {
         "hovertext": [
          0,
          1,
          2,
          3,
          4,
          5,
          6,
          7,
          8,
          9,
          10,
          11,
          12,
          13,
          14,
          15,
          16,
          17,
          18,
          19,
          20,
          21,
          22,
          23,
          24,
          25,
          26,
          27,
          28,
          29,
          30,
          31,
          32,
          33,
          34,
          35,
          36
         ],
         "mode": "lines+markers",
         "name": "LABEL-55",
         "type": "scatter",
         "x": [
          0,
          1,
          2,
          3,
          4,
          5,
          6,
          7,
          8,
          9,
          10,
          11,
          12,
          13,
          14,
          15,
          16,
          17,
          18,
          19,
          20,
          21,
          22,
          23,
          24,
          25,
          26,
          27,
          28,
          29,
          30,
          31,
          32,
          33,
          34,
          35,
          36
         ],
         "y": [
          null,
          null,
          null,
          "(10)",
          null,
          null,
          null,
          null,
          null,
          null,
          null,
          null,
          null,
          null,
          null,
          null,
          null,
          null,
          null,
          null,
          null,
          null,
          null,
          null,
          null,
          null,
          null,
          null,
          null,
          null,
          null,
          null,
          null,
          null,
          null,
          null,
          null
         ]
        },
        {
         "hovertext": [
          0,
          1,
          2,
          3,
          4,
          5,
          6,
          7,
          8,
          9,
          10,
          11,
          12,
          13,
          14,
          15,
          16,
          17,
          18,
          19,
          20,
          21,
          22,
          23,
          24,
          25,
          26,
          27,
          28,
          29,
          30,
          31,
          32,
          33,
          34,
          35,
          36
         ],
         "mode": "lines+markers",
         "name": "LABEL-57",
         "type": "scatter",
         "x": [
          0,
          1,
          2,
          3,
          4,
          5,
          6,
          7,
          8,
          9,
          10,
          11,
          12,
          13,
          14,
          15,
          16,
          17,
          18,
          19,
          20,
          21,
          22,
          23,
          24,
          25,
          26,
          27,
          28,
          29,
          30,
          31,
          32,
          33,
          34,
          35,
          36
         ],
         "y": [
          null,
          null,
          null,
          null,
          "https://img.alicdn.com/imgextra/i2/O1CN01m9OC6a1UK86X51Dcq_!!6000000002498-2-tps-108-54.png",
          null,
          null,
          null,
          null,
          null,
          null,
          null,
          null,
          "https://img.alicdn.com/imgextra/i2/O1CN01m9OC6a1UK86X51Dcq_!!6000000002498-2-tps-108-54.png",
          "https://img.alicdn.com/imgextra/i2/O1CN01m9OC6a1UK86X51Dcq_!!6000000002498-2-tps-108-54.png",
          null,
          null,
          null,
          null,
          null,
          "https://img.alicdn.com/imgextra/i2/O1CN01m9OC6a1UK86X51Dcq_!!6000000002498-2-tps-108-54.png",
          null,
          "https://img.alicdn.com/imgextra/i2/O1CN01m9OC6a1UK86X51Dcq_!!6000000002498-2-tps-108-54.png",
          null,
          null,
          null,
          "https://img.alicdn.com/imgextra/i2/O1CN01m9OC6a1UK86X51Dcq_!!6000000002498-2-tps-108-54.png",
          "https://img.alicdn.com/imgextra/i2/O1CN01m9OC6a1UK86X51Dcq_!!6000000002498-2-tps-108-54.png",
          null,
          null,
          null,
          null,
          null,
          null,
          null,
          null,
          null
         ]
        },
        {
         "hovertext": [
          0,
          1,
          2,
          3,
          4,
          5,
          6,
          7,
          8,
          9,
          10,
          11,
          12,
          13,
          14,
          15,
          16,
          17,
          18,
          19,
          20,
          21,
          22,
          23,
          24,
          25,
          26,
          27,
          28,
          29,
          30,
          31,
          32,
          33,
          34,
          35,
          36
         ],
         "mode": "lines+markers",
         "name": "LABEL-59",
         "type": "scatter",
         "x": [
          0,
          1,
          2,
          3,
          4,
          5,
          6,
          7,
          8,
          9,
          10,
          11,
          12,
          13,
          14,
          15,
          16,
          17,
          18,
          19,
          20,
          21,
          22,
          23,
          24,
          25,
          26,
          27,
          28,
          29,
          30,
          31,
          32,
          33,
          34,
          35,
          36
         ],
         "y": [
          null,
          null,
          null,
          null,
          null,
          null,
          "https://img.alicdn.com/imgextra/i2/O1CN01m9OC6a1UK86X51Dcq_!!6000000002498-2-tps-108-54.png",
          null,
          null,
          null,
          null,
          null,
          null,
          null,
          null,
          null,
          "https://img.alicdn.com/imgextra/i2/O1CN01m9OC6a1UK86X51Dcq_!!6000000002498-2-tps-108-54.png",
          null,
          null,
          null,
          null,
          null,
          null,
          null,
          null,
          null,
          null,
          null,
          null,
          null,
          null,
          null,
          null,
          null,
          null,
          null,
          null
         ]
        },
        {
         "hovertext": [
          0,
          1,
          2,
          3,
          4,
          5,
          6,
          7,
          8,
          9,
          10,
          11,
          12,
          13,
          14,
          15,
          16,
          17,
          18,
          19,
          20,
          21,
          22,
          23,
          24,
          25,
          26,
          27,
          28,
          29,
          30,
          31,
          32,
          33,
          34,
          35,
          36
         ],
         "mode": "lines+markers",
         "name": "LABEL-61",
         "type": "scatter",
         "x": [
          0,
          1,
          2,
          3,
          4,
          5,
          6,
          7,
          8,
          9,
          10,
          11,
          12,
          13,
          14,
          15,
          16,
          17,
          18,
          19,
          20,
          21,
          22,
          23,
          24,
          25,
          26,
          27,
          28,
          29,
          30,
          31,
          32,
          33,
          34,
          35,
          36
         ],
         "y": [
          null,
          null,
          null,
          null,
          null,
          null,
          null,
          null,
          null,
          null,
          null,
          null,
          null,
          null,
          null,
          null,
          null,
          null,
          null,
          null,
          null,
          null,
          null,
          null,
          null,
          null,
          null,
          null,
          null,
          null,
          "Load More",
          null,
          null,
          null,
          null,
          null,
          null
         ]
        }
       ],
       "layout": {
        "height": 800,
        "template": {
         "data": {
          "bar": [
           {
            "error_x": {
             "color": "#2a3f5f"
            },
            "error_y": {
             "color": "#2a3f5f"
            },
            "marker": {
             "line": {
              "color": "#E5ECF6",
              "width": 0.5
             },
             "pattern": {
              "fillmode": "overlay",
              "size": 10,
              "solidity": 0.2
             }
            },
            "type": "bar"
           }
          ],
          "barpolar": [
           {
            "marker": {
             "line": {
              "color": "#E5ECF6",
              "width": 0.5
             },
             "pattern": {
              "fillmode": "overlay",
              "size": 10,
              "solidity": 0.2
             }
            },
            "type": "barpolar"
           }
          ],
          "carpet": [
           {
            "aaxis": {
             "endlinecolor": "#2a3f5f",
             "gridcolor": "white",
             "linecolor": "white",
             "minorgridcolor": "white",
             "startlinecolor": "#2a3f5f"
            },
            "baxis": {
             "endlinecolor": "#2a3f5f",
             "gridcolor": "white",
             "linecolor": "white",
             "minorgridcolor": "white",
             "startlinecolor": "#2a3f5f"
            },
            "type": "carpet"
           }
          ],
          "choropleth": [
           {
            "colorbar": {
             "outlinewidth": 0,
             "ticks": ""
            },
            "type": "choropleth"
           }
          ],
          "contour": [
           {
            "colorbar": {
             "outlinewidth": 0,
             "ticks": ""
            },
            "colorscale": [
             [
              0,
              "#0d0887"
             ],
             [
              0.1111111111111111,
              "#46039f"
             ],
             [
              0.2222222222222222,
              "#7201a8"
             ],
             [
              0.3333333333333333,
              "#9c179e"
             ],
             [
              0.4444444444444444,
              "#bd3786"
             ],
             [
              0.5555555555555556,
              "#d8576b"
             ],
             [
              0.6666666666666666,
              "#ed7953"
             ],
             [
              0.7777777777777778,
              "#fb9f3a"
             ],
             [
              0.8888888888888888,
              "#fdca26"
             ],
             [
              1,
              "#f0f921"
             ]
            ],
            "type": "contour"
           }
          ],
          "contourcarpet": [
           {
            "colorbar": {
             "outlinewidth": 0,
             "ticks": ""
            },
            "type": "contourcarpet"
           }
          ],
          "heatmap": [
           {
            "colorbar": {
             "outlinewidth": 0,
             "ticks": ""
            },
            "colorscale": [
             [
              0,
              "#0d0887"
             ],
             [
              0.1111111111111111,
              "#46039f"
             ],
             [
              0.2222222222222222,
              "#7201a8"
             ],
             [
              0.3333333333333333,
              "#9c179e"
             ],
             [
              0.4444444444444444,
              "#bd3786"
             ],
             [
              0.5555555555555556,
              "#d8576b"
             ],
             [
              0.6666666666666666,
              "#ed7953"
             ],
             [
              0.7777777777777778,
              "#fb9f3a"
             ],
             [
              0.8888888888888888,
              "#fdca26"
             ],
             [
              1,
              "#f0f921"
             ]
            ],
            "type": "heatmap"
           }
          ],
          "heatmapgl": [
           {
            "colorbar": {
             "outlinewidth": 0,
             "ticks": ""
            },
            "colorscale": [
             [
              0,
              "#0d0887"
             ],
             [
              0.1111111111111111,
              "#46039f"
             ],
             [
              0.2222222222222222,
              "#7201a8"
             ],
             [
              0.3333333333333333,
              "#9c179e"
             ],
             [
              0.4444444444444444,
              "#bd3786"
             ],
             [
              0.5555555555555556,
              "#d8576b"
             ],
             [
              0.6666666666666666,
              "#ed7953"
             ],
             [
              0.7777777777777778,
              "#fb9f3a"
             ],
             [
              0.8888888888888888,
              "#fdca26"
             ],
             [
              1,
              "#f0f921"
             ]
            ],
            "type": "heatmapgl"
           }
          ],
          "histogram": [
           {
            "marker": {
             "pattern": {
              "fillmode": "overlay",
              "size": 10,
              "solidity": 0.2
             }
            },
            "type": "histogram"
           }
          ],
          "histogram2d": [
           {
            "colorbar": {
             "outlinewidth": 0,
             "ticks": ""
            },
            "colorscale": [
             [
              0,
              "#0d0887"
             ],
             [
              0.1111111111111111,
              "#46039f"
             ],
             [
              0.2222222222222222,
              "#7201a8"
             ],
             [
              0.3333333333333333,
              "#9c179e"
             ],
             [
              0.4444444444444444,
              "#bd3786"
             ],
             [
              0.5555555555555556,
              "#d8576b"
             ],
             [
              0.6666666666666666,
              "#ed7953"
             ],
             [
              0.7777777777777778,
              "#fb9f3a"
             ],
             [
              0.8888888888888888,
              "#fdca26"
             ],
             [
              1,
              "#f0f921"
             ]
            ],
            "type": "histogram2d"
           }
          ],
          "histogram2dcontour": [
           {
            "colorbar": {
             "outlinewidth": 0,
             "ticks": ""
            },
            "colorscale": [
             [
              0,
              "#0d0887"
             ],
             [
              0.1111111111111111,
              "#46039f"
             ],
             [
              0.2222222222222222,
              "#7201a8"
             ],
             [
              0.3333333333333333,
              "#9c179e"
             ],
             [
              0.4444444444444444,
              "#bd3786"
             ],
             [
              0.5555555555555556,
              "#d8576b"
             ],
             [
              0.6666666666666666,
              "#ed7953"
             ],
             [
              0.7777777777777778,
              "#fb9f3a"
             ],
             [
              0.8888888888888888,
              "#fdca26"
             ],
             [
              1,
              "#f0f921"
             ]
            ],
            "type": "histogram2dcontour"
           }
          ],
          "mesh3d": [
           {
            "colorbar": {
             "outlinewidth": 0,
             "ticks": ""
            },
            "type": "mesh3d"
           }
          ],
          "parcoords": [
           {
            "line": {
             "colorbar": {
              "outlinewidth": 0,
              "ticks": ""
             }
            },
            "type": "parcoords"
           }
          ],
          "pie": [
           {
            "automargin": true,
            "type": "pie"
           }
          ],
          "scatter": [
           {
            "fillpattern": {
             "fillmode": "overlay",
             "size": 10,
             "solidity": 0.2
            },
            "type": "scatter"
           }
          ],
          "scatter3d": [
           {
            "line": {
             "colorbar": {
              "outlinewidth": 0,
              "ticks": ""
             }
            },
            "marker": {
             "colorbar": {
              "outlinewidth": 0,
              "ticks": ""
             }
            },
            "type": "scatter3d"
           }
          ],
          "scattercarpet": [
           {
            "marker": {
             "colorbar": {
              "outlinewidth": 0,
              "ticks": ""
             }
            },
            "type": "scattercarpet"
           }
          ],
          "scattergeo": [
           {
            "marker": {
             "colorbar": {
              "outlinewidth": 0,
              "ticks": ""
             }
            },
            "type": "scattergeo"
           }
          ],
          "scattergl": [
           {
            "marker": {
             "colorbar": {
              "outlinewidth": 0,
              "ticks": ""
             }
            },
            "type": "scattergl"
           }
          ],
          "scattermapbox": [
           {
            "marker": {
             "colorbar": {
              "outlinewidth": 0,
              "ticks": ""
             }
            },
            "type": "scattermapbox"
           }
          ],
          "scatterpolar": [
           {
            "marker": {
             "colorbar": {
              "outlinewidth": 0,
              "ticks": ""
             }
            },
            "type": "scatterpolar"
           }
          ],
          "scatterpolargl": [
           {
            "marker": {
             "colorbar": {
              "outlinewidth": 0,
              "ticks": ""
             }
            },
            "type": "scatterpolargl"
           }
          ],
          "scatterternary": [
           {
            "marker": {
             "colorbar": {
              "outlinewidth": 0,
              "ticks": ""
             }
            },
            "type": "scatterternary"
           }
          ],
          "surface": [
           {
            "colorbar": {
             "outlinewidth": 0,
             "ticks": ""
            },
            "colorscale": [
             [
              0,
              "#0d0887"
             ],
             [
              0.1111111111111111,
              "#46039f"
             ],
             [
              0.2222222222222222,
              "#7201a8"
             ],
             [
              0.3333333333333333,
              "#9c179e"
             ],
             [
              0.4444444444444444,
              "#bd3786"
             ],
             [
              0.5555555555555556,
              "#d8576b"
             ],
             [
              0.6666666666666666,
              "#ed7953"
             ],
             [
              0.7777777777777778,
              "#fb9f3a"
             ],
             [
              0.8888888888888888,
              "#fdca26"
             ],
             [
              1,
              "#f0f921"
             ]
            ],
            "type": "surface"
           }
          ],
          "table": [
           {
            "cells": {
             "fill": {
              "color": "#EBF0F8"
             },
             "line": {
              "color": "white"
             }
            },
            "header": {
             "fill": {
              "color": "#C8D4E3"
             },
             "line": {
              "color": "white"
             }
            },
            "type": "table"
           }
          ]
         },
         "layout": {
          "annotationdefaults": {
           "arrowcolor": "#2a3f5f",
           "arrowhead": 0,
           "arrowwidth": 1
          },
          "autotypenumbers": "strict",
          "coloraxis": {
           "colorbar": {
            "outlinewidth": 0,
            "ticks": ""
           }
          },
          "colorscale": {
           "diverging": [
            [
             0,
             "#8e0152"
            ],
            [
             0.1,
             "#c51b7d"
            ],
            [
             0.2,
             "#de77ae"
            ],
            [
             0.3,
             "#f1b6da"
            ],
            [
             0.4,
             "#fde0ef"
            ],
            [
             0.5,
             "#f7f7f7"
            ],
            [
             0.6,
             "#e6f5d0"
            ],
            [
             0.7,
             "#b8e186"
            ],
            [
             0.8,
             "#7fbc41"
            ],
            [
             0.9,
             "#4d9221"
            ],
            [
             1,
             "#276419"
            ]
           ],
           "sequential": [
            [
             0,
             "#0d0887"
            ],
            [
             0.1111111111111111,
             "#46039f"
            ],
            [
             0.2222222222222222,
             "#7201a8"
            ],
            [
             0.3333333333333333,
             "#9c179e"
            ],
            [
             0.4444444444444444,
             "#bd3786"
            ],
            [
             0.5555555555555556,
             "#d8576b"
            ],
            [
             0.6666666666666666,
             "#ed7953"
            ],
            [
             0.7777777777777778,
             "#fb9f3a"
            ],
            [
             0.8888888888888888,
             "#fdca26"
            ],
            [
             1,
             "#f0f921"
            ]
           ],
           "sequentialminus": [
            [
             0,
             "#0d0887"
            ],
            [
             0.1111111111111111,
             "#46039f"
            ],
            [
             0.2222222222222222,
             "#7201a8"
            ],
            [
             0.3333333333333333,
             "#9c179e"
            ],
            [
             0.4444444444444444,
             "#bd3786"
            ],
            [
             0.5555555555555556,
             "#d8576b"
            ],
            [
             0.6666666666666666,
             "#ed7953"
            ],
            [
             0.7777777777777778,
             "#fb9f3a"
            ],
            [
             0.8888888888888888,
             "#fdca26"
            ],
            [
             1,
             "#f0f921"
            ]
           ]
          },
          "colorway": [
           "#636efa",
           "#EF553B",
           "#00cc96",
           "#ab63fa",
           "#FFA15A",
           "#19d3f3",
           "#FF6692",
           "#B6E880",
           "#FF97FF",
           "#FECB52"
          ],
          "font": {
           "color": "#2a3f5f"
          },
          "geo": {
           "bgcolor": "white",
           "lakecolor": "white",
           "landcolor": "#E5ECF6",
           "showlakes": true,
           "showland": true,
           "subunitcolor": "white"
          },
          "hoverlabel": {
           "align": "left"
          },
          "hovermode": "closest",
          "mapbox": {
           "style": "light"
          },
          "paper_bgcolor": "white",
          "plot_bgcolor": "#E5ECF6",
          "polar": {
           "angularaxis": {
            "gridcolor": "white",
            "linecolor": "white",
            "ticks": ""
           },
           "bgcolor": "#E5ECF6",
           "radialaxis": {
            "gridcolor": "white",
            "linecolor": "white",
            "ticks": ""
           }
          },
          "scene": {
           "xaxis": {
            "backgroundcolor": "#E5ECF6",
            "gridcolor": "white",
            "gridwidth": 2,
            "linecolor": "white",
            "showbackground": true,
            "ticks": "",
            "zerolinecolor": "white"
           },
           "yaxis": {
            "backgroundcolor": "#E5ECF6",
            "gridcolor": "white",
            "gridwidth": 2,
            "linecolor": "white",
            "showbackground": true,
            "ticks": "",
            "zerolinecolor": "white"
           },
           "zaxis": {
            "backgroundcolor": "#E5ECF6",
            "gridcolor": "white",
            "gridwidth": 2,
            "linecolor": "white",
            "showbackground": true,
            "ticks": "",
            "zerolinecolor": "white"
           }
          },
          "shapedefaults": {
           "line": {
            "color": "#2a3f5f"
           }
          },
          "ternary": {
           "aaxis": {
            "gridcolor": "white",
            "linecolor": "white",
            "ticks": ""
           },
           "baxis": {
            "gridcolor": "white",
            "linecolor": "white",
            "ticks": ""
           },
           "bgcolor": "#E5ECF6",
           "caxis": {
            "gridcolor": "white",
            "linecolor": "white",
            "ticks": ""
           }
          },
          "title": {
           "x": 0.05
          },
          "xaxis": {
           "automargin": true,
           "gridcolor": "white",
           "linecolor": "white",
           "ticks": "",
           "title": {
            "standoff": 15
           },
           "zerolinecolor": "white",
           "zerolinewidth": 2
          },
          "yaxis": {
           "automargin": true,
           "gridcolor": "white",
           "linecolor": "white",
           "ticks": "",
           "title": {
            "standoff": 15
           },
           "zerolinecolor": "white",
           "zerolinewidth": 2
          }
         }
        },
        "title": {
         "text": "Real Price Over Time for Different Products"
        },
        "width": 1200,
        "xaxis": {
         "title": {
          "text": "Time"
         }
        },
        "yaxis": {
         "showticklabels": false,
         "title": {
          "text": ""
         }
        }
       }
      },
      "text/html": [
       "<div>                            <div id=\"83b88f00-7089-4417-935f-6582e1743a86\" class=\"plotly-graph-div\" style=\"height:800px; width:1200px;\"></div>            <script type=\"text/javascript\">                require([\"plotly\"], function(Plotly) {                    window.PLOTLYENV=window.PLOTLYENV || {};                                    if (document.getElementById(\"83b88f00-7089-4417-935f-6582e1743a86\")) {                    Plotly.newPlot(                        \"83b88f00-7089-4417-935f-6582e1743a86\",                        [{\"hovertext\":[0.0,1.0,2.0,3.0,4.0,5.0,6.0,7.0,8.0,9.0,10.0,11.0,12.0,13.0,14.0,15.0,16.0,17.0,18.0,19.0,20.0,21.0,22.0,23.0,24.0,25.0,26.0,27.0,28.0,29.0,30.0,31.0,32.0,33.0,34.0,35.0,36.0],\"mode\":\"lines+markers\",\"name\":\"LABEL-1\",\"x\":[0,1,2,3,4,5,6,7,8,9,10,11,12,13,14,15,16,17,18,19,20,21,22,23,24,25,26,27,28,29,30,31,32,33,34,35,36],\"y\":[\"Wipers - Kitchen Shelf Cleaning Wiper - Windows/Mirror Cleaning Wiper\",\"Winter Cap and neck for Boy - Girls\",\"\\u3010Ready Stock+FREE Shipping+COD\\u3011Xiaomi Bluetooth 5.0 Earphones TWS Headphone True Wireless Earphone Touch Control Earbuds HiFi Stereo Sports Waterproof With Mic\",null,\"The Vintage Clothing Pack of 2 Hoodies For Men / Hoodies For Girls / Hoodies For Women Messi AW Allen Walker printed premium quality Hoodies For Men / Hoodies For Girls\",\"Beautious Eyebrow Stamp Shaping Kit, One Step Eyebrow Stamp Makeup with 3 Reusable Eyebrow Stencils and Eyebrow Pen Brushes Hairline Powder\",\"Original M10 & M19 & M28 M90 & i12 Double Wireless Bluetooth Hand Free with Power Bank Earphones White bluetooth ear phone for all cell phones use\",\"Stitched Heavy Embroidered Maxi with Koti (Separate Coaty) Party Wear Maxi Dresses For Women/Eid Collection/Wedding Dress For Women\",\"Winter Warm Thickening Wool Gloves Knitted Flip Fingerless Flexible Exposed Finger Thick Mittens for Men Women\",\"Multifunctional Portable Large Capacity Travel Cosmetic Bag with Handle Makeup Organizer Bag Storage Makeup Bag Waterproof PU Leather Travel Toiletry Bag for Women\",\"Stylish Printed Front Two Pocket Hooded Tracksuit For Men\",\"LOVE STYLE FONT NECKLACE, DOUBLE NAME NECKLACE, NAME LOCKET PERSONALIZED/CUSTOMIZED DESIGN NAME NECKLACE-(PERFECT GIFT TO SEND YOUR WIFE , FIANCE, HUSBAND, FATHER , OR ANY ONE)\",\"(Buy 1 Get 1 Free) New S10 Handsfree High Bass With Good Sound Quality\",\"Toiletry Bag Travel Cosmetic Bag, Shaving Kit, Grooming Makeup Bag Pouch for Men & Women, Black, GreyHigh Quality Toiletry Bag Men/Women travel Accessories with hanging option\",\"I7 Mini Bluetooth Headset Earbud Single Wireless Earphone With Mic Stereo For all phones\",\"Cool Sports Vacuum Flask Stainless Steel Water Bottle For School Kids\",\"Swetshirt And Pajama Trouser For Kids Baby Boys And Baby Girls Imported Comfy Winter Warm Tops Clothes Sets Dresses Outfit Jannat Store\",\"Silver Plating Couple Rings\",\"Zip card wallet Genuine Leather Minimalist Men's Purse Long Wallet For Men Bi Fold Simple Wallet Clasp Card Holder Wallet Small Wallet for Men and Boys - Slim and Smart Wallet Small Wallet for Men and Boys - Slim and Smart Wallet\",\"Men's Running Shoes Summer Mesh Genuine Breathable Mesh Shoes Casual Shoes Men Sports Shoes Size Breathable Sports Shoes Women Sneakers Sports Shoes Black Running Shoes\",\"Sogo Quartz Heater (JPN-94 / JPN-95)\",\"Beautious 4IN1 Super Skin Glowing Serum | 5% Niacinamide, 30% Vitamin C 10%, Vitamin E 10% & HA | 30 ml\",\"Girls Soft Half Finger Gloves Plush Fingerless Gloves\",\"Men Women Home Anti-slip Slipper Winter Warm Cotton House Indoor Slippers\",\"New Design 2 Piece Hand Bag With Small Carry Pouch & Long Strap\",\"A6s Bluetooth Earphones Tws In Ear Bluetooth 50 Running Sports Stereo Buttons With Microphone Wireless Headphones\",\"Beanie cap-Wool cap with neck warmer for men women| Winter cap for Unisex\",\"Hot Shaper Belt For Women Men Girls | Hot Shapper Belt For Hips Belly Fat Weight Loss Back Pain | Hot Shapers Slimming Belt Suana Sweat Belt Suit For Home Gym\",\"Infinix Hot 30 Back Rear Camera Protector 9H Gorilla Flexible Protection For Infinix Hot 30\",\"10Pcs Multi-function Spit Bone Dish Household Food Grade Plastic Spit Bone Dish Round Square Set Dining Table Garbage Plate\",null,null,null,null,null,null,null],\"type\":\"scatter\"},{\"hovertext\":[0.0,1.0,2.0,3.0,4.0,5.0,6.0,7.0,8.0,9.0,10.0,11.0,12.0,13.0,14.0,15.0,16.0,17.0,18.0,19.0,20.0,21.0,22.0,23.0,24.0,25.0,26.0,27.0,28.0,29.0,30.0,31.0,32.0,33.0,34.0,35.0,36.0],\"mode\":\"lines+markers\",\"name\":\"LABEL-3\",\"x\":[0,1,2,3,4,5,6,7,8,9,10,11,12,13,14,15,16,17,18,19,20,21,22,23,24,25,26,27,28,29,30,31,32,33,34,35,36],\"y\":[\"149\",\"488\",\"1,399\",null,\"1,749\",\"319\",\"499\",\"1,575\",\"499\",\"999\",\"2,499\",\"619\",\"429\",\"430\",\"319\",\"947\",\"748\",\"550\",\"320\",\"999\",\"1,799\",\"269\",\"399\",\"349\",\"1,250\",\"2,901\",\"449\",\"341\",\"118\",\"415\",null,null,null,null,null,null,null],\"type\":\"scatter\"},{\"hovertext\":[0.0,1.0,2.0,3.0,4.0,5.0,6.0,7.0,8.0,9.0,10.0,11.0,12.0,13.0,14.0,15.0,16.0,17.0,18.0,19.0,20.0,21.0,22.0,23.0,24.0,25.0,26.0,27.0,28.0,29.0,30.0,31.0,32.0,33.0,34.0,35.0,36.0],\"mode\":\"lines+markers\",\"name\":\"LABEL-5\",\"x\":[0,1,2,3,4,5,6,7,8,9,10,11,12,13,14,15,16,17,18,19,20,21,22,23,24,25,26,27,28,29,30,31,32,33,34,35,36],\"y\":[\"350\",\"999\",\"2,400\",null,\"2,500\",\"599\",\"1,600\",\"2,999\",\"696\",\"2,000\",\"3,299\",\"999\",\"1,800\",\"1,350\",\"1,000\",\"2,000\",\"1,400\",null,\"500\",\"1,500\",\"2,500\",\"499\",\"999\",null,null,null,\"900\",\"1,399\",\"195\",\"1,500\",null,null,null,null,null,null,null],\"type\":\"scatter\"},{\"hovertext\":[0.0,1.0,2.0,3.0,4.0,5.0,6.0,7.0,8.0,9.0,10.0,11.0,12.0,13.0,14.0,15.0,16.0,17.0,18.0,19.0,20.0,21.0,22.0,23.0,24.0,25.0,26.0,27.0,28.0,29.0,30.0,31.0,32.0,33.0,34.0,35.0,36.0],\"mode\":\"lines+markers\",\"name\":\"LABEL-7\",\"x\":[0,1,2,3,4,5,6,7,8,9,10,11,12,13,14,15,16,17,18,19,20,21,22,23,24,25,26,27,28,29,30,31,32,33,34,35,36],\"y\":[\"(306)\",\"(921)\",\"(128)\",null,\"(151)\",\"(406)\",\"(214)\",\"(15)\",\"(9)\",\"(45)\",\"(6)\",\"(15)\",\"(81)\",\"(398)\",\"(907)\",\"(589)\",\"(1050)\",\"(16)\",\"(149)\",\"(599)\",\"(124)\",\"(44)\",\"(178)\",\"(48)\",\"(581)\",\"(2072)\",\"(318)\",\"(411)\",\"(24)\",\"(38)\",null,null,null,null,null,null,null],\"type\":\"scatter\"},{\"hovertext\":[0.0,1.0,2.0,3.0,4.0,5.0,6.0,7.0,8.0,9.0,10.0,11.0,12.0,13.0,14.0,15.0,16.0,17.0,18.0,19.0,20.0,21.0,22.0,23.0,24.0,25.0,26.0,27.0,28.0,29.0,30.0,31.0,32.0,33.0,34.0,35.0,36.0],\"mode\":\"lines+markers\",\"name\":\"LABEL-9\",\"x\":[0,1,2,3,4,5,6,7,8,9,10,11,12,13,14,15,16,17,18,19,20,21,22,23,24,25,26,27,28,29,30,31,32,33,34,35,36],\"y\":[\"Flowery Pore-Refining Treatment Gel (Niacinamide + Witch-hazel) - 50g\",\"caps for men cap winter cap songting cap and neck fleece benie cap warm cap garam hot\",\"Oud Collection - Arabic Perfumes Dirham_Men - Eau De Perfume - 100ml Long Lasting Frangrances\",null,\"Clothes Storage Bags Organizer Under Bed Storage , 43L, Grey\",\"Upgraded Version V5.2 Chip TWS G11 Wireless Outdoor Sports Wireless Headset Gaming Earbuds Esports Listening Music Universal\",\"Ladies Luxury Golden Fashion Watch For Women's Ladies Classical Edition Special Watch for Ladies And Girls\",\"Men's Running Shoes Men's Slip-on Shoes Tennis Walking Casual Shoes Black Gym Breathable Work Shoes fashion shoes sneakers for men\",\"Branded Watch For Men and Boys Latest Design Wrist Watches in Multicolor\",\"Sunaina Textile 3 Piece Malai Linen Printed Unstitched Winter Collection Fabric for Girls/Womens Sunaina Vol-34\",\"Original i12 Tws Touch Sensor Airpods_  m10 m28/ Earphones With Charging Case Dock For All Mobiles\",\"Cotton Satin Double Bedsheet Embroided\",\"5PCS Set Women Starry Sky Dial Watch Brand Design Female Clock Blue Leather Band Ladies Watches Simple Casual Womens WristWatch\",\"Home & Office Multipurpose Plastic Rack / Room Organizer Home & Office Multipurpose  Plastic Rack / Room Organizer /  Shoe Rack Brown Art # SS-SSRm01\",\"Fashion Women Hand Wrist Warmer Winter Fingerless Knitted Gloves Random colors\",\"Lifestyle Glory Heart Wooden Clock With Premium Light I The New Wooden Wall Clock Big Size I Wall Clock I Wooden Wall Clock I Wall clocks for bedroom I Wall Clocks for drawing room I Wooden Wall Clocks for bedroom\",\"Glorya Decor Qul Clock Wooden Islamic Calligraphy I The New Premium Wooden Wall Clock Light Big Size I Wall Clock Wooden Wall Clock I Wall clocks for bedroom I Quartz Watch DIY Design Decoration Piece for Home Decor I Offices and for Gift Items\",\"Wanter - 100Pcs / Square Almond Oval Coffin Shape Natural & Transparent Color Artificial Nails Kit Fakee Nails Acrylic Nails For Girls Beautiful Nails Falsee Nails\",\"Men's Running Shoes Men's Slip-on Shoes Tennis Walking Casual Shoes Black Gym Breathable Rubber Work Shoes fashin shoes\",\"Birds on Tree 3D Wooden DIY Wall Clock Numeral\\u00a0Quartz Watch Hanging Decoration Piece for Home Decor and Girls Room Bed Rooms and for Gifts Item\",\"Stitched Namaz chadar Prayer Shawl with Sleeves\",\"Flowers Printed Zipper For Women Girls Customized By aarwah Emaan\",\"Customize Ring With your name engraved On Ring\",\"Winter Zipper Jacket Trouser Tracksuit\",\"Soap Holder Premium Quality - Soap Dish - Soap Box - Bathroom Accessories Sets Washroom Friendly Products Bathroom Products Non-perforated Shell Shape Soap Holder\",\"Pack of 2 Black Titanium Finger Ring & Black Bar Chain For Man Woman\",\"OASIS BLUE Fashion Women Faux Rebbit Fur Hand Wrist Warmer Winter Fingerless Knitted Gloves\",\"Microfiber Bathing Quick Dry Hair Cap Turban Wrap Towel Hat Hair-drying\",\"NEW TRENDY WINTER COLLECTION PLANE BASIC SKIN COLOUR HOODIE FOR MENS\",\"Tube cap for winter season outclass stuff / Inner Tube cap / Inner hijab cap / Under scarf cap for hijab\",null,null,null,null,null,null,null],\"type\":\"scatter\"},{\"hovertext\":[0.0,1.0,2.0,3.0,4.0,5.0,6.0,7.0,8.0,9.0,10.0,11.0,12.0,13.0,14.0,15.0,16.0,17.0,18.0,19.0,20.0,21.0,22.0,23.0,24.0,25.0,26.0,27.0,28.0,29.0,30.0,31.0,32.0,33.0,34.0,35.0,36.0],\"mode\":\"lines+markers\",\"name\":\"LABEL-11\",\"x\":[0,1,2,3,4,5,6,7,8,9,10,11,12,13,14,15,16,17,18,19,20,21,22,23,24,25,26,27,28,29,30,31,32,33,34,35,36],\"y\":[\"199\",\"450\",\"299\",null,\"107\",\"4,573\",\"899\",\"1,399\",\"279\",\"550\",\"749\",\"975\",\"2,842\",\"449\",\"315\",\"375\",\"299\",\"249\",\"999\",\"289\",\"840\",\"1,029\",\"199\",\"1,298\",\"242\",\"125\",\"335\",\"120\",\"797\",\"160\",null,null,null,null,null,null,null],\"type\":\"scatter\"},{\"hovertext\":[0.0,1.0,2.0,3.0,4.0,5.0,6.0,7.0,8.0,9.0,10.0,11.0,12.0,13.0,14.0,15.0,16.0,17.0,18.0,19.0,20.0,21.0,22.0,23.0,24.0,25.0,26.0,27.0,28.0,29.0,30.0,31.0,32.0,33.0,34.0,35.0,36.0],\"mode\":\"lines+markers\",\"name\":\"LABEL-13\",\"x\":[0,1,2,3,4,5,6,7,8,9,10,11,12,13,14,15,16,17,18,19,20,21,22,23,24,25,26,27,28,29,30,31,32,33,34,35,36],\"y\":[\"399\",\"1,500\",\"999\",null,\"200\",null,\"2,499\",\"2,299\",\"899\",\"650\",\"2,999\",\"1,500\",null,\"898\",\"499\",\"1,000\",\"1,000\",\"299\",\"1,699\",\"1,499\",\"1,599\",\"1,999\",\"700\",\"2,000\",\"399\",\"450\",\"999\",\"399\",null,\"350\",null,null,null,null,null,null,null],\"type\":\"scatter\"},{\"hovertext\":[0.0,1.0,2.0,3.0,4.0,5.0,6.0,7.0,8.0,9.0,10.0,11.0,12.0,13.0,14.0,15.0,16.0,17.0,18.0,19.0,20.0,21.0,22.0,23.0,24.0,25.0,26.0,27.0,28.0,29.0,30.0,31.0,32.0,33.0,34.0,35.0,36.0],\"mode\":\"lines+markers\",\"name\":\"LABEL-15\",\"x\":[0,1,2,3,4,5,6,7,8,9,10,11,12,13,14,15,16,17,18,19,20,21,22,23,24,25,26,27,28,29,30,31,32,33,34,35,36],\"y\":[\"(48)\",\"(75)\",\"(10)\",null,\"(403)\",\"(827)\",\"(25)\",\"(47)\",\"(4)\",\"(40)\",\"(1047)\",\"(977)\",\"(234)\",\"(597)\",\"(22)\",\"(6074)\",\"(106)\",\"(4612)\",\"(6632)\",\"(976)\",\"(183)\",\"(25)\",\"(137)\",\"(72)\",\"(123)\",\"(46)\",\"(20)\",\"(1)\",\"(25)\",\"(23)\",null,null,null,null,null,null,null],\"type\":\"scatter\"},{\"hovertext\":[0.0,1.0,2.0,3.0,4.0,5.0,6.0,7.0,8.0,9.0,10.0,11.0,12.0,13.0,14.0,15.0,16.0,17.0,18.0,19.0,20.0,21.0,22.0,23.0,24.0,25.0,26.0,27.0,28.0,29.0,30.0,31.0,32.0,33.0,34.0,35.0,36.0],\"mode\":\"lines+markers\",\"name\":\"LABEL-17\",\"x\":[0,1,2,3,4,5,6,7,8,9,10,11,12,13,14,15,16,17,18,19,20,21,22,23,24,25,26,27,28,29,30,31,32,33,34,35,36],\"y\":[\"https://img.alicdn.com/imgextra/i2/O1CN01m9OC6a1UK86X51Dcq_!!6000000002498-2-tps-108-54.png\",\"https://img.alicdn.com/imgextra/i2/O1CN01m9OC6a1UK86X51Dcq_!!6000000002498-2-tps-108-54.png\",null,null,null,null,null,null,\"https://img.alicdn.com/imgextra/i2/O1CN01m9OC6a1UK86X51Dcq_!!6000000002498-2-tps-108-54.png\",null,\"https://img.alicdn.com/imgextra/i2/O1CN01m9OC6a1UK86X51Dcq_!!6000000002498-2-tps-108-54.png\",null,null,null,null,null,null,null,\"https://img.alicdn.com/imgextra/i2/O1CN01m9OC6a1UK86X51Dcq_!!6000000002498-2-tps-108-54.png\",null,null,null,null,null,null,null,null,null,null,null,null,null,null,null,null,null,null],\"type\":\"scatter\"},{\"hovertext\":[0.0,1.0,2.0,3.0,4.0,5.0,6.0,7.0,8.0,9.0,10.0,11.0,12.0,13.0,14.0,15.0,16.0,17.0,18.0,19.0,20.0,21.0,22.0,23.0,24.0,25.0,26.0,27.0,28.0,29.0,30.0,31.0,32.0,33.0,34.0,35.0,36.0],\"mode\":\"lines+markers\",\"name\":\"product3\",\"x\":[0,1,2,3,4,5,6,7,8,9,10,11,12,13,14,15,16,17,18,19,20,21,22,23,24,25,26,27,28,29,30,31,32,33,34,35,36],\"y\":[\"Rs.\",\"Rs.\",\"Rs.\",null,\"Rs.\",\"Rs.\",\"Rs.\",\"Rs.\",\"Rs.\",\"Rs.\",\"Rs.\",\"Rs.\",\"Rs.\",\"Rs.\",\"Rs.\",\"Rs.\",\"Rs.\",\"Rs.\",\"Rs.\",\"Rs.\",\"Rs.\",\"Rs.\",\"Rs.\",\"Rs.\",\"Rs.\",\"Rs.\",\"Rs.\",\"Rs.\",\"Rs.\",\"Rs.\",null,null,null,null,null,null,null],\"type\":\"scatter\"},{\"hovertext\":[0.0,1.0,2.0,3.0,4.0,5.0,6.0,7.0,8.0,9.0,10.0,11.0,12.0,13.0,14.0,15.0,16.0,17.0,18.0,19.0,20.0,21.0,22.0,23.0,24.0,25.0,26.0,27.0,28.0,29.0,30.0,31.0,32.0,33.0,34.0,35.0,36.0],\"mode\":\"lines+markers\",\"name\":\"real price.1\",\"x\":[0,1,2,3,4,5,6,7,8,9,10,11,12,13,14,15,16,17,18,19,20,21,22,23,24,25,26,27,28,29,30,31,32,33,34,35,36],\"y\":[\"(510)\",\"(87)\",\"(763)\",null,\"(13)\",\"(743)\",\"(307)\",\"(107)\",\"(48)\",\"(157)\",\"(633)\",\"(14)\",\"(198)\",\"(7)\",\"(111)\",\"(2899)\",\"(61)\",\"(11)\",\"(1646)\",\"(246)\",\"(110)\",\"(3)\",\"(1548)\",\"(680)\",\"(452)\",\"(90)\",\"(23)\",\"(271)\",\"(804)\",\"(273)\",null,null,null,null,null,null,null],\"type\":\"scatter\"},{\"hovertext\":[0.0,1.0,2.0,3.0,4.0,5.0,6.0,7.0,8.0,9.0,10.0,11.0,12.0,13.0,14.0,15.0,16.0,17.0,18.0,19.0,20.0,21.0,22.0,23.0,24.0,25.0,26.0,27.0,28.0,29.0,30.0,31.0,32.0,33.0,34.0,35.0,36.0],\"mode\":\"lines+markers\",\"name\":\"LABEL-23\",\"x\":[0,1,2,3,4,5,6,7,8,9,10,11,12,13,14,15,16,17,18,19,20,21,22,23,24,25,26,27,28,29,30,31,32,33,34,35,36],\"y\":[\"Women;s bag's Hand bags and shoulder Cross Body bag at discounted Price\",\"Crystal Hair Remover, Comprehensive Solution for Painless Removal with Nano  Glass, Portable, Useful Manual Epilator Perfectly Designed for Women's Under-arms, Hand, Legs, Bikini, and Body Grooming\",\"T500 Ultra Pro Plus Smart Watch 44mm| Smart Watch For Men And Women | Bluetooth Connectivity | High Quality Budget Smart Watch\",null,\"Rorec White Rice Serum for Face Whitening Fine Lines Makeup Primer Serum 15ml\",\"Hair Oil Applicator Bottle, Root oiling Comb bottle for Hair Coloring, Shampoo, Oiling, Dye, and Scalp Treatment for home & commercial ( Empty Bottle )\",\"Winter Stylish Pocket Zipper Jacket For Men/ Upper /Bomber Jacket For Men - Heavy Fleece Material - Stay Warm And Stylish In Winter\",\"Manual chopper -  manual chopper 3 blades, manual speedy chopper, hand use chopper, speedy chopper manual hand push, vegetable chopper, manual food chopper, manual chopper machine, meat chopper, electric free manual chopper, m\",\"Toothpaste Dispenser With 5 Brush Holder Wall Mounted Automatic Hands Free Toothpaste Dispenser\",\"Waist Trimmer Unisex Belly Wrap Workout Sports Sweat Band AB Trainer Weight Loss Body Shaper Tummy Control Slimming Belt\",\"Happy Birthday Decoration Set Theme Including 30 Balloons ( 10 Blue 10 White 10 Silver) 4 confetti Balloons Blue Happy Birthday Banner or Silver Foil Curtain\",\"Winter Women Half-finger Flip-top Gloves Student Cute Girl Cartoon Warm\",\"Octopus Head Relaxing Massager - Massager - Head Massager\",\"SastaaE 3 PC Unstitched Kataan Silk Plain Shirt & Trouser With Organza Lining Dupatta - Mehroon\",\"Ultralight Breathable Mesh Men Training Casual Gray Sneakers Sports Shoes Lightweight Athletic Running Shoes\",\"800W Space Heater Small Electric Ceramic Heater 2 Power Level Knob Switch For Dormitory\",\"Home & Office Multipurpose Plastic Rack / Room Organizer Home & Office Multipurpose  Plastic Rack / Room Organizer /  Shoe Rack Art # SS-SSR01\",\"Crystals Chokar Set with Stud Earrings - Double Layered Choker Necklace\",\"Posture belt, posture corrector belt, Back support belt, Back Pain Relief Shoulder Back Support Belt\",\"Designer Fully Heavy Embroidered Flower Stitched Silk Maxi With Embroidered Koti For Girls - Elevate Your Style With A Designer Embroidered Maxi\",\"Bag X Luxury 3 piece Bag set Women's Cross Body & Shoulder Bag - hand bag for girls , bags for girls , Bags for women , Large Capacity Women Bag Ladies Leather Tote Fashion Shoulder Bags for Women 2023 Wallet\",\"Fleece Printed Pull Over Hoodie for Men with original picture  - Black\",\"RichMan_Winter Grey and Black Hoodie Track Suit for Man\",\"Sleeveless jackets for men  and boys\",\"High quality wooden wall clock | Flower shaped wall clock | flower shaped wooden wall clock\",\"Portable Lint Remover Clothes Fuzz Fabric Shaver Brush Tool Power-Free Fluff Removing Roller For Sweater Woven Coat\",\"The Jewel Lodge name lockets for girls in urdu, Name Jewelry, Customize Necklace Name, customized name necklace, Momina name locket\",\"High quality wooden wall clock | Bird shaped wall clock | bird shaped wooden wall clock\",\"Travel Mini Hair Flat Iron 2 in 1 Hair Straightener Hair Curler Ceramic Plate\",\"Fashion Solid Color Shoulder Bag Crossbody Bags Women Leather Woven Bag Purse Podazz\",null,null,null,null,null,null,null],\"type\":\"scatter\"},{\"hovertext\":[0.0,1.0,2.0,3.0,4.0,5.0,6.0,7.0,8.0,9.0,10.0,11.0,12.0,13.0,14.0,15.0,16.0,17.0,18.0,19.0,20.0,21.0,22.0,23.0,24.0,25.0,26.0,27.0,28.0,29.0,30.0,31.0,32.0,33.0,34.0,35.0,36.0],\"mode\":\"lines+markers\",\"name\":\"LABEL-25\",\"x\":[0,1,2,3,4,5,6,7,8,9,10,11,12,13,14,15,16,17,18,19,20,21,22,23,24,25,26,27,28,29,30,31,32,33,34,35,36],\"y\":[\"649\",\"259\",\"1,429\",null,\"399\",\"84\",\"2,599\",\"599\",\"350\",\"2,992\",\"279\",\"543\",\"118\",\"740\",\"799\",\"1,485\",\"449\",\"299\",\"579\",\"1,599\",\"2,399\",\"799\",\"1,499\",\"1,799\",\"299\",\"729\",\"649\",\"379\",\"559\",\"998\",null,null,null,null,null,null,null],\"type\":\"scatter\"},{\"hovertext\":[0.0,1.0,2.0,3.0,4.0,5.0,6.0,7.0,8.0,9.0,10.0,11.0,12.0,13.0,14.0,15.0,16.0,17.0,18.0,19.0,20.0,21.0,22.0,23.0,24.0,25.0,26.0,27.0,28.0,29.0,30.0,31.0,32.0,33.0,34.0,35.0,36.0],\"mode\":\"lines+markers\",\"name\":\"LABEL-27\",\"x\":[0,1,2,3,4,5,6,7,8,9,10,11,12,13,14,15,16,17,18,19,20,21,22,23,24,25,26,27,28,29,30,31,32,33,34,35,36],\"y\":[\"https://static-01.daraz.pk/p/d3056deae6ba26fc8950d15acc0a4624.jpg_200x200q80-product.jpg_.webp\",\"https://static-01.daraz.pk/p/5873ad4a53f1d8f8672a3e87d6598f32.jpg_200x200q80-product.jpg_.webp\",\"https://static-01.daraz.pk/p/d63b55b0cd6e0f31144291f8901dc25d.jpg_200x200q80-product.jpg_.webp\",null,\"https://static-01.daraz.pk/p/528d9b163b11533936f4486de930d163.jpg_200x200q80-product.jpg_.webp\",\"https://static-01.daraz.pk/p/ec5d587ba6f55bd3b573ce957e6b0732.jpg_200x200q80-product.jpg_.webp\",\"https://static-01.daraz.pk/p/927e29a2c76108e650bc6f6de673d248.jpg_200x200q80-product.jpg_.webp\",\"https://static-01.daraz.pk/p/f86ea44c54967f928a80b9acfc6b4305.jpg_200x200q80-product.jpg_.webp\",\"https://static-01.daraz.pk/p/0c07859495904e963be14548e37c92d2.jpg_200x200q80-product.jpg_.webp\",\"https://static-01.daraz.pk/p/604388b4fb9b0fa8316b5e98be57f887.jpg_200x200q80-product.jpg_.webp\",\"https://static-01.daraz.pk/p/59eb608b46bfbde45c6c637b706198fb.jpg_200x200q80-product.jpg_.webp\",\"https://static-01.daraz.pk/p/65ff1311b74f90e7f1bd6a3f22b106e7.jpg_200x200q80-product.jpg_.webp\",\"https://static-01.daraz.pk/p/6892a4c07c9c8b86b3a0f98a6ed238b6.jpg_200x200q80-product.jpg_.webp\",\"https://static-01.daraz.pk/p/5dc9538fb982afcf65c965bd59c00416.jpg_200x200q80-product.jpg_.webp\",\"https://static-01.daraz.pk/p/e58fb1fa34bd13d925b38edbd6f65a89.jpg_200x200q80-product.jpg_.webp\",\"https://pk-live-21.slatic.net/kf/Sbb7253778af14443917a7c0fc501b6020.jpg\",\"https://pk-live-21.slatic.net/kf/S40e541a978424c48afab0b52df80249eX.jpg\",\"https://static-01.daraz.pk/p/45b2cbc08b9d85db52f50c3bb127f171.jpg_200x200q80-product.jpg_.webp\",\"https://static-01.daraz.pk/p/89bbc6e33a5e4211a3a26c45e8c26b61.jpg_200x200q80-product.jpg_.webp\",\"https://pk-live-21.slatic.net/kf/S5495cc7b11554befa95be27a661a8760B.jpg\",\"https://static-01.daraz.pk/p/996dc51794e0c9edfe02b1a7b33351a7.jpg_200x200q80-product.jpg_.webp\",\"https://static-01.daraz.pk/p/10d2d7c6563b18a4bcc579b66558d920.jpg_200x200q80-product.jpg_.webp\",\"https://static-01.daraz.pk/p/f73661fd24ed9e925d555cee3b3d68c9.jpg_200x200q80-product.jpg_.webp\",\"https://static-01.daraz.pk/p/b9f707539281fef34d90b770c69c00a4.jpg_200x200q80-product.jpg_.webp\",\"https://static-01.daraz.pk/p/6ad9d2b7b267ecd0ef235277ccc5419a.jpg_200x200q80-product.jpg_.webp\",\"https://static-01.daraz.pk/p/e62380acad963698cbae640bf85adf82.jpg_200x200q80-product.jpg_.webp\",\"https://static-01.daraz.pk/p/464fd41bf081e00b39c7ba70e7a6aba1.jpg_200x200q80-product.jpg_.webp\",\"https://static-01.daraz.pk/p/9eb6eed6905bbefd6ff943bc742db225.jpg_200x200q80-product.jpg_.webp\",\"https://static-01.daraz.pk/p/df72c7c26c67b88f1b4fd46130e2a15b.jpg_200x200q80-product.jpg_.webp\",\"https://static-01.daraz.pk/p/8f527f50b8daa7b604f9be3adb866b22.jpg_200x200q80-product.jpg_.webp\",null,null,null,null,null,null,null],\"type\":\"scatter\"},{\"hovertext\":[0.0,1.0,2.0,3.0,4.0,5.0,6.0,7.0,8.0,9.0,10.0,11.0,12.0,13.0,14.0,15.0,16.0,17.0,18.0,19.0,20.0,21.0,22.0,23.0,24.0,25.0,26.0,27.0,28.0,29.0,30.0,31.0,32.0,33.0,34.0,35.0,36.0],\"mode\":\"lines+markers\",\"name\":\"prduct5\",\"x\":[0,1,2,3,4,5,6,7,8,9,10,11,12,13,14,15,16,17,18,19,20,21,22,23,24,25,26,27,28,29,30,31,32,33,34,35,36],\"y\":[\"Rs.\",\"Rs.\",\"Rs.\",null,\"Rs.\",\"Rs.\",\"Rs.\",\"Rs.\",\"Rs.\",\"Rs.\",\"Rs.\",\"Rs.\",\"Rs.\",\"Rs.\",\"Rs.\",\"Rs.\",\"Rs.\",\"Rs.\",\"Rs.\",\"Rs.\",\"Rs.\",\"Rs.\",\"Rs.\",\"Rs.\",\"Rs.\",\"Rs.\",\"Rs.\",\"Rs.\",\"Rs.\",\"Rs.\",null,null,null,null,null,null,null],\"type\":\"scatter\"},{\"hovertext\":[0.0,1.0,2.0,3.0,4.0,5.0,6.0,7.0,8.0,9.0,10.0,11.0,12.0,13.0,14.0,15.0,16.0,17.0,18.0,19.0,20.0,21.0,22.0,23.0,24.0,25.0,26.0,27.0,28.0,29.0,30.0,31.0,32.0,33.0,34.0,35.0,36.0],\"mode\":\"lines+markers\",\"name\":\"LABEL-31\",\"x\":[0,1,2,3,4,5,6,7,8,9,10,11,12,13,14,15,16,17,18,19,20,21,22,23,24,25,26,27,28,29,30,31,32,33,34,35,36],\"y\":[\"Rs.\",\"Rs.\",\"Rs.\",null,null,\"Rs.\",\"Rs.\",\"Rs.\",\"Rs.\",\"Rs.\",\"Rs.\",\"Rs.\",\"Rs.\",\"Rs.\",\"Rs.\",null,\"Rs.\",\"Rs.\",\"Rs.\",null,\"Rs.\",null,\"Rs.\",\"Rs.\",\"Rs.\",\"Rs.\",\"Rs.\",\"Rs.\",\"Rs.\",\"Rs.\",null,null,null,null,null,null,null],\"type\":\"scatter\"},{\"hovertext\":[0.0,1.0,2.0,3.0,4.0,5.0,6.0,7.0,8.0,9.0,10.0,11.0,12.0,13.0,14.0,15.0,16.0,17.0,18.0,19.0,20.0,21.0,22.0,23.0,24.0,25.0,26.0,27.0,28.0,29.0,30.0,31.0,32.0,33.0,34.0,35.0,36.0],\"mode\":\"lines+markers\",\"name\":\"LABEL-33\",\"x\":[0,1,2,3,4,5,6,7,8,9,10,11,12,13,14,15,16,17,18,19,20,21,22,23,24,25,26,27,28,29,30,31,32,33,34,35,36],\"y\":[\"-29%\",\"-24%\",\"-75%\",null,null,\"-10%\",\"-64%\",\"-50%\",\"-83%\",\"-56%\",\"-63%\",\"-41%\",\"-14%\",\"-40%\",\"-43%\",null,\"-41%\",\"-42%\",\"-31%\",null,\"-55%\",null,\"-34%\",\"-14%\",\"-40%\",\"-41%\",\"-47%\",\"-7%\",\"-34%\",\"-56%\",null,null,null,null,null,null,null],\"type\":\"scatter\"},{\"hovertext\":[0.0,1.0,2.0,3.0,4.0,5.0,6.0,7.0,8.0,9.0,10.0,11.0,12.0,13.0,14.0,15.0,16.0,17.0,18.0,19.0,20.0,21.0,22.0,23.0,24.0,25.0,26.0,27.0,28.0,29.0,30.0,31.0,32.0,33.0,34.0,35.0,36.0],\"mode\":\"lines+markers\",\"name\":\"LABEL-35\",\"x\":[0,1,2,3,4,5,6,7,8,9,10,11,12,13,14,15,16,17,18,19,20,21,22,23,24,25,26,27,28,29,30,31,32,33,34,35,36],\"y\":[\"https://static-01.daraz.pk/p/76bf68ad8940635f8a675647a5b2d5b8.jpg_200x200q80-product.jpg_.webp\",\"https://static-01.daraz.pk/p/384165acd2c720eb84c86cdb081f8377.jpg_200x200q80-product.jpg_.webp\",\"https://pk-live-21.slatic.net/kf/S4ca29b1ebba94269a34ee5f73d1ed747R.jpg\",null,\"https://static-01.daraz.pk/p/530d3db0db80ddceb69721261d430aaa.jpg_200x200q80-product.jpg_.webp\",\"https://static-01.daraz.pk/p/94c5e85dfd1c1e2a92df6259fec83b1e.jpg_200x200q80-product.jpg_.webp\",\"https://static-01.daraz.pk/p/ab0e3e8b9062059cb8677a6846e38b03.jpg_200x200q80-product.jpg_.webp\",\"https://static-01.daraz.pk/p/74afa8b733834a58adf5d99be4ecaba6.jpg_200x200q80-product.jpg_.webp\",\"https://static-01.daraz.pk/p/cf92e9521ce57412d1bedf3e44b55e14.jpg_200x200q80-product.jpg_.webp\",\"https://static-01.daraz.pk/p/e72a40cdf846cc1f5e21ec6e386e0400.jpg_200x200q80-product.jpg_.webp\",\"https://static-01.daraz.pk/p/e2a83d566612f509eb33277fdf41662b.jpg_200x200q80-product.jpg_.webp\",\"https://static-01.daraz.pk/p/8f1c59802f39d8e4c96d3a240a61959e.jpg_200x200q80-product.jpg_.webp\",\"https://static-01.daraz.pk/p/a57aca76f419b69cf3b4f663d0d6733c.jpg_200x200q80-product.jpg_.webp\",\"https://static-01.daraz.pk/p/d46932207f1ce6fe092d6f2a15f4c84f.jpg_200x200q80-product.jpg_.webp\",\"https://static-01.daraz.pk/p/0cb400358352d3b760f7a9b624a39919.jpg_200x200q80-product.jpg_.webp\",\"https://static-01.daraz.pk/p/a3e40720d2d6b09630d40e9ac354c0ef.jpg_200x200q80-product.jpg_.webp\",\"https://static-01.daraz.pk/p/1cb01ba86616d09964b5c17edaf5567a.jpg_200x200q80-product.jpg_.webp\",\"https://pk-live-21.slatic.net/kf/S29147fce4a5f4b4fb2f9b86cabb6e98as.jpg\",\"https://pk-live-21.slatic.net/kf/Se8e5bd4aaae649288b5f94c36e8c0f3eQ.jpg\",\"https://static-01.daraz.pk/p/e8ce7ed16ab9e54b543ee96f5564df22.jpg_200x200q80-product.jpg_.webp\",\"https://static-01.daraz.pk/p/ed39a0ee4d099e4305a8f2dbb1d0c275.jpg_200x200q80-product.jpg_.webp\",\"https://static-01.daraz.pk/p/69e7619c30f39a9e74860f764d2ec3c4.jpg_200x200q80-product.jpg_.webp\",\"https://static-01.daraz.pk/p/602ec1ce5765b41d8d4b54f54e8b50f3.jpg_200x200q80-product.jpg_.webp\",\"https://static-01.daraz.pk/p/d5c60272e690261d241570efe0297316.jpg_200x200q80-product.jpg_.webp\",\"https://static-01.daraz.pk/p/a071c5c6187889992593f1d63a0fa818.jpg_200x200q80-product.jpg_.webp\",\"https://static-01.daraz.pk/p/ef21833d5f87d1c3554883e1d2a77d71.jpg_200x200q80-product.jpg_.webp\",\"https://static-01.daraz.pk/p/3f7fa61fbc30be64f130d69f67791d06.jpg_200x200q80-product.jpg_.webp\",\"https://static-01.daraz.pk/p/a594655380d888b6e095b74955e5b370.jpg_200x200q80-product.jpg_.webp\",\"https://static-01.daraz.pk/p/481caf3e6c2c55078d49f0b9705d0b5c.jpg_200x200q80-product.jpg_.webp\",\"https://static-01.daraz.pk/p/e82d2370baee5570402a9211f6fa9881.png_200x200q80-product.jpg_.webp\",null,\"https://static-01.daraz.pk/p/119fdc857c189a3fa3257436f7897a3a.jpg_200x200q80-product.jpg_.webp\",\"https://static-01.daraz.pk/p/adcd98db1a2ad1e745c5301de60ca156.jpg_200x200q80-product.jpg_.webp\",\"https://static-01.daraz.pk/p/6843058a845fe788936cbec37859aad7.jpg_200x200q80-product.jpg_.webp\",\"https://static-01.daraz.pk/p/904bc45e7ad0551fd75525c6dd40f052.jpg_200x200q80-product.jpg_.webp\",\"https://static-01.daraz.pk/p/8a5e66472ca88e3b5366a3e63482864a.png_200x200q80-product.jpg_.webp\",\"https://static-01.daraz.pk/p/5bba7849875be2272c89e70cfdfc85b6.jpg_200x200q80-product.jpg_.webp\"],\"type\":\"scatter\"},{\"hovertext\":[0.0,1.0,2.0,3.0,4.0,5.0,6.0,7.0,8.0,9.0,10.0,11.0,12.0,13.0,14.0,15.0,16.0,17.0,18.0,19.0,20.0,21.0,22.0,23.0,24.0,25.0,26.0,27.0,28.0,29.0,30.0,31.0,32.0,33.0,34.0,35.0,36.0],\"mode\":\"lines+markers\",\"name\":\"LABEL-37\",\"x\":[0,1,2,3,4,5,6,7,8,9,10,11,12,13,14,15,16,17,18,19,20,21,22,23,24,25,26,27,28,29,30,31,32,33,34,35,36],\"y\":[\"Rs.\",\"Rs.\",\"Rs.\",null,\"Rs.\",\"Rs.\",\"Rs.\",\"Rs.\",\"Rs.\",\"Rs.\",\"Rs.\",\"Rs.\",\"Rs.\",\"Rs.\",\"Rs.\",\"Rs.\",\"Rs.\",\"Rs.\",\"Rs.\",\"Rs.\",\"Rs.\",\"Rs.\",\"Rs.\",\"Rs.\",\"Rs.\",\"Rs.\",\"Rs.\",\"Rs.\",\"Rs.\",\"Rs.\",null,\"Rs.\",\"Rs.\",\"Rs.\",\"Rs.\",\"Rs.\",\"Rs.\"],\"type\":\"scatter\"},{\"hovertext\":[0.0,1.0,2.0,3.0,4.0,5.0,6.0,7.0,8.0,9.0,10.0,11.0,12.0,13.0,14.0,15.0,16.0,17.0,18.0,19.0,20.0,21.0,22.0,23.0,24.0,25.0,26.0,27.0,28.0,29.0,30.0,31.0,32.0,33.0,34.0,35.0,36.0],\"mode\":\"lines+markers\",\"name\":\"LABEL-39\",\"x\":[0,1,2,3,4,5,6,7,8,9,10,11,12,13,14,15,16,17,18,19,20,21,22,23,24,25,26,27,28,29,30,31,32,33,34,35,36],\"y\":[\"Rs.\",\"Rs.\",null,null,\"Rs.\",\"Rs.\",\"Rs.\",\"Rs.\",\"Rs.\",\"Rs.\",\"Rs.\",\"Rs.\",\"Rs.\",\"Rs.\",\"Rs.\",null,\"Rs.\",\"Rs.\",\"Rs.\",\"Rs.\",\"Rs.\",\"Rs.\",\"Rs.\",\"Rs.\",null,\"Rs.\",\"Rs.\",\"Rs.\",\"Rs.\",null,null,\"Rs.\",\"Rs.\",\"Rs.\",\"Rs.\",\"Rs.\",\"Rs.\"],\"type\":\"scatter\"},{\"hovertext\":[0.0,1.0,2.0,3.0,4.0,5.0,6.0,7.0,8.0,9.0,10.0,11.0,12.0,13.0,14.0,15.0,16.0,17.0,18.0,19.0,20.0,21.0,22.0,23.0,24.0,25.0,26.0,27.0,28.0,29.0,30.0,31.0,32.0,33.0,34.0,35.0,36.0],\"mode\":\"lines+markers\",\"name\":\"LABEL-41\",\"x\":[0,1,2,3,4,5,6,7,8,9,10,11,12,13,14,15,16,17,18,19,20,21,22,23,24,25,26,27,28,29,30,31,32,33,34,35,36],\"y\":[\"-26%\",\"-36%\",null,null,\"-50%\",\"-71%\",\"-56%\",\"-73%\",\"-67%\",\"-63%\",\"-53%\",\"-41%\",\"-67%\",\"-61%\",\"-66%\",null,\"-30%\",\"-13%\",\"-40%\",\"-22%\",\"-46%\",\"-45%\",\"-30%\",\"-72%\",null,\"-40%\",\"-4%\",\"-31%\",\"-50%\",null,null,\"-76%\",\"-51%\",\"-58%\",\"-45%\",\"-91%\",\"-40%\"],\"type\":\"scatter\"},{\"hovertext\":[0.0,1.0,2.0,3.0,4.0,5.0,6.0,7.0,8.0,9.0,10.0,11.0,12.0,13.0,14.0,15.0,16.0,17.0,18.0,19.0,20.0,21.0,22.0,23.0,24.0,25.0,26.0,27.0,28.0,29.0,30.0,31.0,32.0,33.0,34.0,35.0,36.0],\"mode\":\"lines+markers\",\"name\":\"LABEL-43\",\"x\":[0,1,2,3,4,5,6,7,8,9,10,11,12,13,14,15,16,17,18,19,20,21,22,23,24,25,26,27,28,29,30,31,32,33,34,35,36],\"y\":[null,\"Rs.\",null,null,\"Rs.\",\"Rs.\",\"Rs.\",\"Rs.\",\"Rs.\",\"Rs.\",\"Rs.\",\"Rs.\",null,\"Rs.\",null,\"Rs.\",\"Rs.\",\"Rs.\",\"Rs.\",null,\"Rs.\",null,\"Rs.\",\"Rs.\",null,\"Rs.\",null,\"Rs.\",\"Rs.\",\"Rs.\",null,null,null,null,\"https://img.alicdn.com/imgextra/i2/O1CN01m9OC6a1UK86X51Dcq_!!6000000002498-2-tps-108-54.png\",null,\"https://img.alicdn.com/imgextra/i2/O1CN01m9OC6a1UK86X51Dcq_!!6000000002498-2-tps-108-54.png\"],\"type\":\"scatter\"},{\"hovertext\":[0.0,1.0,2.0,3.0,4.0,5.0,6.0,7.0,8.0,9.0,10.0,11.0,12.0,13.0,14.0,15.0,16.0,17.0,18.0,19.0,20.0,21.0,22.0,23.0,24.0,25.0,26.0,27.0,28.0,29.0,30.0,31.0,32.0,33.0,34.0,35.0,36.0],\"mode\":\"lines+markers\",\"name\":\"LABEL-45\",\"x\":[0,1,2,3,4,5,6,7,8,9,10,11,12,13,14,15,16,17,18,19,20,21,22,23,24,25,26,27,28,29,30,31,32,33,34,35,36],\"y\":[null,\"-66%\",null,null,\"-38%\",\"-32%\",\"-55%\",\"-39%\",\"-66%\",\"-9%\",\"-29%\",\"-77%\",null,\"-37%\",null,\"-53%\",\"-40%\",\"-40%\",\"-23%\",null,\"-19%\",null,\"-28%\",\"-28%\",null,\"-62%\",null,\"-71%\",\"-65%\",\"-13%\",null,null,null,null,null,null,null],\"type\":\"scatter\"},{\"hovertext\":[0.0,1.0,2.0,3.0,4.0,5.0,6.0,7.0,8.0,9.0,10.0,11.0,12.0,13.0,14.0,15.0,16.0,17.0,18.0,19.0,20.0,21.0,22.0,23.0,24.0,25.0,26.0,27.0,28.0,29.0,30.0,31.0,32.0,33.0,34.0,35.0,36.0],\"mode\":\"lines+markers\",\"name\":\"LABEL-47\",\"x\":[0,1,2,3,4,5,6,7,8,9,10,11,12,13,14,15,16,17,18,19,20,21,22,23,24,25,26,27,28,29,30,31,32,33,34,35,36],\"y\":[null,\"499\",\"3,500\",null,\"1,800\",\"109\",\"3,999\",\"999\",\"1,099\",null,\"450\",\"788\",\"400\",\"1,400\",\"1,500\",\"4,000\",\"898\",\"430\",\"800\",\"3,299\",\"5,600\",\"899\",\"2,200\",\"3,399\",\"1,299\",\"1,133\",\"1,400\",\"899\",\"750\",\"1,390\",null,null,null,null,null,null,null],\"type\":\"scatter\"},{\"hovertext\":[0.0,1.0,2.0,3.0,4.0,5.0,6.0,7.0,8.0,9.0,10.0,11.0,12.0,13.0,14.0,15.0,16.0,17.0,18.0,19.0,20.0,21.0,22.0,23.0,24.0,25.0,26.0,27.0,28.0,29.0,30.0,31.0,32.0,33.0,34.0,35.0,36.0],\"mode\":\"lines+markers\",\"name\":\"LABEL-49\",\"x\":[0,1,2,3,4,5,6,7,8,9,10,11,12,13,14,15,16,17,18,19,20,21,22,23,24,25,26,27,28,29,30,31,32,33,34,35,36],\"y\":[null,null,null,\"Oud Collection - Arabic Perfumes Dirham_Men - Eau De Perfume - 100ml Long Lasting Frangrances\",null,null,null,null,null,null,null,null,null,null,null,null,null,null,null,null,null,null,null,null,null,null,null,null,null,null,null,null,null,null,null,null,null],\"type\":\"scatter\"},{\"hovertext\":[0.0,1.0,2.0,3.0,4.0,5.0,6.0,7.0,8.0,9.0,10.0,11.0,12.0,13.0,14.0,15.0,16.0,17.0,18.0,19.0,20.0,21.0,22.0,23.0,24.0,25.0,26.0,27.0,28.0,29.0,30.0,31.0,32.0,33.0,34.0,35.0,36.0],\"mode\":\"lines+markers\",\"name\":\"LABEL-51\",\"x\":[0,1,2,3,4,5,6,7,8,9,10,11,12,13,14,15,16,17,18,19,20,21,22,23,24,25,26,27,28,29,30,31,32,33,34,35,36],\"y\":[null,null,null,299.0,null,null,null,null,null,null,null,null,null,null,null,null,null,null,null,null,null,null,null,null,null,null,null,null,null,null,null,null,null,null,null,null,null],\"type\":\"scatter\"},{\"hovertext\":[0.0,1.0,2.0,3.0,4.0,5.0,6.0,7.0,8.0,9.0,10.0,11.0,12.0,13.0,14.0,15.0,16.0,17.0,18.0,19.0,20.0,21.0,22.0,23.0,24.0,25.0,26.0,27.0,28.0,29.0,30.0,31.0,32.0,33.0,34.0,35.0,36.0],\"mode\":\"lines+markers\",\"name\":\"LABEL-53\",\"x\":[0,1,2,3,4,5,6,7,8,9,10,11,12,13,14,15,16,17,18,19,20,21,22,23,24,25,26,27,28,29,30,31,32,33,34,35,36],\"y\":[null,null,null,999.0,null,null,null,null,null,null,null,null,null,null,null,null,null,null,null,null,null,null,null,null,null,null,null,null,null,null,null,null,null,null,null,null,null],\"type\":\"scatter\"},{\"hovertext\":[0.0,1.0,2.0,3.0,4.0,5.0,6.0,7.0,8.0,9.0,10.0,11.0,12.0,13.0,14.0,15.0,16.0,17.0,18.0,19.0,20.0,21.0,22.0,23.0,24.0,25.0,26.0,27.0,28.0,29.0,30.0,31.0,32.0,33.0,34.0,35.0,36.0],\"mode\":\"lines+markers\",\"name\":\"LABEL-55\",\"x\":[0,1,2,3,4,5,6,7,8,9,10,11,12,13,14,15,16,17,18,19,20,21,22,23,24,25,26,27,28,29,30,31,32,33,34,35,36],\"y\":[null,null,null,\"(10)\",null,null,null,null,null,null,null,null,null,null,null,null,null,null,null,null,null,null,null,null,null,null,null,null,null,null,null,null,null,null,null,null,null],\"type\":\"scatter\"},{\"hovertext\":[0.0,1.0,2.0,3.0,4.0,5.0,6.0,7.0,8.0,9.0,10.0,11.0,12.0,13.0,14.0,15.0,16.0,17.0,18.0,19.0,20.0,21.0,22.0,23.0,24.0,25.0,26.0,27.0,28.0,29.0,30.0,31.0,32.0,33.0,34.0,35.0,36.0],\"mode\":\"lines+markers\",\"name\":\"LABEL-57\",\"x\":[0,1,2,3,4,5,6,7,8,9,10,11,12,13,14,15,16,17,18,19,20,21,22,23,24,25,26,27,28,29,30,31,32,33,34,35,36],\"y\":[null,null,null,null,\"https://img.alicdn.com/imgextra/i2/O1CN01m9OC6a1UK86X51Dcq_!!6000000002498-2-tps-108-54.png\",null,null,null,null,null,null,null,null,\"https://img.alicdn.com/imgextra/i2/O1CN01m9OC6a1UK86X51Dcq_!!6000000002498-2-tps-108-54.png\",\"https://img.alicdn.com/imgextra/i2/O1CN01m9OC6a1UK86X51Dcq_!!6000000002498-2-tps-108-54.png\",null,null,null,null,null,\"https://img.alicdn.com/imgextra/i2/O1CN01m9OC6a1UK86X51Dcq_!!6000000002498-2-tps-108-54.png\",null,\"https://img.alicdn.com/imgextra/i2/O1CN01m9OC6a1UK86X51Dcq_!!6000000002498-2-tps-108-54.png\",null,null,null,\"https://img.alicdn.com/imgextra/i2/O1CN01m9OC6a1UK86X51Dcq_!!6000000002498-2-tps-108-54.png\",\"https://img.alicdn.com/imgextra/i2/O1CN01m9OC6a1UK86X51Dcq_!!6000000002498-2-tps-108-54.png\",null,null,null,null,null,null,null,null,null],\"type\":\"scatter\"},{\"hovertext\":[0.0,1.0,2.0,3.0,4.0,5.0,6.0,7.0,8.0,9.0,10.0,11.0,12.0,13.0,14.0,15.0,16.0,17.0,18.0,19.0,20.0,21.0,22.0,23.0,24.0,25.0,26.0,27.0,28.0,29.0,30.0,31.0,32.0,33.0,34.0,35.0,36.0],\"mode\":\"lines+markers\",\"name\":\"LABEL-59\",\"x\":[0,1,2,3,4,5,6,7,8,9,10,11,12,13,14,15,16,17,18,19,20,21,22,23,24,25,26,27,28,29,30,31,32,33,34,35,36],\"y\":[null,null,null,null,null,null,\"https://img.alicdn.com/imgextra/i2/O1CN01m9OC6a1UK86X51Dcq_!!6000000002498-2-tps-108-54.png\",null,null,null,null,null,null,null,null,null,\"https://img.alicdn.com/imgextra/i2/O1CN01m9OC6a1UK86X51Dcq_!!6000000002498-2-tps-108-54.png\",null,null,null,null,null,null,null,null,null,null,null,null,null,null,null,null,null,null,null,null],\"type\":\"scatter\"},{\"hovertext\":[0.0,1.0,2.0,3.0,4.0,5.0,6.0,7.0,8.0,9.0,10.0,11.0,12.0,13.0,14.0,15.0,16.0,17.0,18.0,19.0,20.0,21.0,22.0,23.0,24.0,25.0,26.0,27.0,28.0,29.0,30.0,31.0,32.0,33.0,34.0,35.0,36.0],\"mode\":\"lines+markers\",\"name\":\"LABEL-61\",\"x\":[0,1,2,3,4,5,6,7,8,9,10,11,12,13,14,15,16,17,18,19,20,21,22,23,24,25,26,27,28,29,30,31,32,33,34,35,36],\"y\":[null,null,null,null,null,null,null,null,null,null,null,null,null,null,null,null,null,null,null,null,null,null,null,null,null,null,null,null,null,null,\"Load More\",null,null,null,null,null,null],\"type\":\"scatter\"}],                        {\"template\":{\"data\":{\"histogram2dcontour\":[{\"type\":\"histogram2dcontour\",\"colorbar\":{\"outlinewidth\":0,\"ticks\":\"\"},\"colorscale\":[[0.0,\"#0d0887\"],[0.1111111111111111,\"#46039f\"],[0.2222222222222222,\"#7201a8\"],[0.3333333333333333,\"#9c179e\"],[0.4444444444444444,\"#bd3786\"],[0.5555555555555556,\"#d8576b\"],[0.6666666666666666,\"#ed7953\"],[0.7777777777777778,\"#fb9f3a\"],[0.8888888888888888,\"#fdca26\"],[1.0,\"#f0f921\"]]}],\"choropleth\":[{\"type\":\"choropleth\",\"colorbar\":{\"outlinewidth\":0,\"ticks\":\"\"}}],\"histogram2d\":[{\"type\":\"histogram2d\",\"colorbar\":{\"outlinewidth\":0,\"ticks\":\"\"},\"colorscale\":[[0.0,\"#0d0887\"],[0.1111111111111111,\"#46039f\"],[0.2222222222222222,\"#7201a8\"],[0.3333333333333333,\"#9c179e\"],[0.4444444444444444,\"#bd3786\"],[0.5555555555555556,\"#d8576b\"],[0.6666666666666666,\"#ed7953\"],[0.7777777777777778,\"#fb9f3a\"],[0.8888888888888888,\"#fdca26\"],[1.0,\"#f0f921\"]]}],\"heatmap\":[{\"type\":\"heatmap\",\"colorbar\":{\"outlinewidth\":0,\"ticks\":\"\"},\"colorscale\":[[0.0,\"#0d0887\"],[0.1111111111111111,\"#46039f\"],[0.2222222222222222,\"#7201a8\"],[0.3333333333333333,\"#9c179e\"],[0.4444444444444444,\"#bd3786\"],[0.5555555555555556,\"#d8576b\"],[0.6666666666666666,\"#ed7953\"],[0.7777777777777778,\"#fb9f3a\"],[0.8888888888888888,\"#fdca26\"],[1.0,\"#f0f921\"]]}],\"heatmapgl\":[{\"type\":\"heatmapgl\",\"colorbar\":{\"outlinewidth\":0,\"ticks\":\"\"},\"colorscale\":[[0.0,\"#0d0887\"],[0.1111111111111111,\"#46039f\"],[0.2222222222222222,\"#7201a8\"],[0.3333333333333333,\"#9c179e\"],[0.4444444444444444,\"#bd3786\"],[0.5555555555555556,\"#d8576b\"],[0.6666666666666666,\"#ed7953\"],[0.7777777777777778,\"#fb9f3a\"],[0.8888888888888888,\"#fdca26\"],[1.0,\"#f0f921\"]]}],\"contourcarpet\":[{\"type\":\"contourcarpet\",\"colorbar\":{\"outlinewidth\":0,\"ticks\":\"\"}}],\"contour\":[{\"type\":\"contour\",\"colorbar\":{\"outlinewidth\":0,\"ticks\":\"\"},\"colorscale\":[[0.0,\"#0d0887\"],[0.1111111111111111,\"#46039f\"],[0.2222222222222222,\"#7201a8\"],[0.3333333333333333,\"#9c179e\"],[0.4444444444444444,\"#bd3786\"],[0.5555555555555556,\"#d8576b\"],[0.6666666666666666,\"#ed7953\"],[0.7777777777777778,\"#fb9f3a\"],[0.8888888888888888,\"#fdca26\"],[1.0,\"#f0f921\"]]}],\"surface\":[{\"type\":\"surface\",\"colorbar\":{\"outlinewidth\":0,\"ticks\":\"\"},\"colorscale\":[[0.0,\"#0d0887\"],[0.1111111111111111,\"#46039f\"],[0.2222222222222222,\"#7201a8\"],[0.3333333333333333,\"#9c179e\"],[0.4444444444444444,\"#bd3786\"],[0.5555555555555556,\"#d8576b\"],[0.6666666666666666,\"#ed7953\"],[0.7777777777777778,\"#fb9f3a\"],[0.8888888888888888,\"#fdca26\"],[1.0,\"#f0f921\"]]}],\"mesh3d\":[{\"type\":\"mesh3d\",\"colorbar\":{\"outlinewidth\":0,\"ticks\":\"\"}}],\"scatter\":[{\"fillpattern\":{\"fillmode\":\"overlay\",\"size\":10,\"solidity\":0.2},\"type\":\"scatter\"}],\"parcoords\":[{\"type\":\"parcoords\",\"line\":{\"colorbar\":{\"outlinewidth\":0,\"ticks\":\"\"}}}],\"scatterpolargl\":[{\"type\":\"scatterpolargl\",\"marker\":{\"colorbar\":{\"outlinewidth\":0,\"ticks\":\"\"}}}],\"bar\":[{\"error_x\":{\"color\":\"#2a3f5f\"},\"error_y\":{\"color\":\"#2a3f5f\"},\"marker\":{\"line\":{\"color\":\"#E5ECF6\",\"width\":0.5},\"pattern\":{\"fillmode\":\"overlay\",\"size\":10,\"solidity\":0.2}},\"type\":\"bar\"}],\"scattergeo\":[{\"type\":\"scattergeo\",\"marker\":{\"colorbar\":{\"outlinewidth\":0,\"ticks\":\"\"}}}],\"scatterpolar\":[{\"type\":\"scatterpolar\",\"marker\":{\"colorbar\":{\"outlinewidth\":0,\"ticks\":\"\"}}}],\"histogram\":[{\"marker\":{\"pattern\":{\"fillmode\":\"overlay\",\"size\":10,\"solidity\":0.2}},\"type\":\"histogram\"}],\"scattergl\":[{\"type\":\"scattergl\",\"marker\":{\"colorbar\":{\"outlinewidth\":0,\"ticks\":\"\"}}}],\"scatter3d\":[{\"type\":\"scatter3d\",\"line\":{\"colorbar\":{\"outlinewidth\":0,\"ticks\":\"\"}},\"marker\":{\"colorbar\":{\"outlinewidth\":0,\"ticks\":\"\"}}}],\"scattermapbox\":[{\"type\":\"scattermapbox\",\"marker\":{\"colorbar\":{\"outlinewidth\":0,\"ticks\":\"\"}}}],\"scatterternary\":[{\"type\":\"scatterternary\",\"marker\":{\"colorbar\":{\"outlinewidth\":0,\"ticks\":\"\"}}}],\"scattercarpet\":[{\"type\":\"scattercarpet\",\"marker\":{\"colorbar\":{\"outlinewidth\":0,\"ticks\":\"\"}}}],\"carpet\":[{\"aaxis\":{\"endlinecolor\":\"#2a3f5f\",\"gridcolor\":\"white\",\"linecolor\":\"white\",\"minorgridcolor\":\"white\",\"startlinecolor\":\"#2a3f5f\"},\"baxis\":{\"endlinecolor\":\"#2a3f5f\",\"gridcolor\":\"white\",\"linecolor\":\"white\",\"minorgridcolor\":\"white\",\"startlinecolor\":\"#2a3f5f\"},\"type\":\"carpet\"}],\"table\":[{\"cells\":{\"fill\":{\"color\":\"#EBF0F8\"},\"line\":{\"color\":\"white\"}},\"header\":{\"fill\":{\"color\":\"#C8D4E3\"},\"line\":{\"color\":\"white\"}},\"type\":\"table\"}],\"barpolar\":[{\"marker\":{\"line\":{\"color\":\"#E5ECF6\",\"width\":0.5},\"pattern\":{\"fillmode\":\"overlay\",\"size\":10,\"solidity\":0.2}},\"type\":\"barpolar\"}],\"pie\":[{\"automargin\":true,\"type\":\"pie\"}]},\"layout\":{\"autotypenumbers\":\"strict\",\"colorway\":[\"#636efa\",\"#EF553B\",\"#00cc96\",\"#ab63fa\",\"#FFA15A\",\"#19d3f3\",\"#FF6692\",\"#B6E880\",\"#FF97FF\",\"#FECB52\"],\"font\":{\"color\":\"#2a3f5f\"},\"hovermode\":\"closest\",\"hoverlabel\":{\"align\":\"left\"},\"paper_bgcolor\":\"white\",\"plot_bgcolor\":\"#E5ECF6\",\"polar\":{\"bgcolor\":\"#E5ECF6\",\"angularaxis\":{\"gridcolor\":\"white\",\"linecolor\":\"white\",\"ticks\":\"\"},\"radialaxis\":{\"gridcolor\":\"white\",\"linecolor\":\"white\",\"ticks\":\"\"}},\"ternary\":{\"bgcolor\":\"#E5ECF6\",\"aaxis\":{\"gridcolor\":\"white\",\"linecolor\":\"white\",\"ticks\":\"\"},\"baxis\":{\"gridcolor\":\"white\",\"linecolor\":\"white\",\"ticks\":\"\"},\"caxis\":{\"gridcolor\":\"white\",\"linecolor\":\"white\",\"ticks\":\"\"}},\"coloraxis\":{\"colorbar\":{\"outlinewidth\":0,\"ticks\":\"\"}},\"colorscale\":{\"sequential\":[[0.0,\"#0d0887\"],[0.1111111111111111,\"#46039f\"],[0.2222222222222222,\"#7201a8\"],[0.3333333333333333,\"#9c179e\"],[0.4444444444444444,\"#bd3786\"],[0.5555555555555556,\"#d8576b\"],[0.6666666666666666,\"#ed7953\"],[0.7777777777777778,\"#fb9f3a\"],[0.8888888888888888,\"#fdca26\"],[1.0,\"#f0f921\"]],\"sequentialminus\":[[0.0,\"#0d0887\"],[0.1111111111111111,\"#46039f\"],[0.2222222222222222,\"#7201a8\"],[0.3333333333333333,\"#9c179e\"],[0.4444444444444444,\"#bd3786\"],[0.5555555555555556,\"#d8576b\"],[0.6666666666666666,\"#ed7953\"],[0.7777777777777778,\"#fb9f3a\"],[0.8888888888888888,\"#fdca26\"],[1.0,\"#f0f921\"]],\"diverging\":[[0,\"#8e0152\"],[0.1,\"#c51b7d\"],[0.2,\"#de77ae\"],[0.3,\"#f1b6da\"],[0.4,\"#fde0ef\"],[0.5,\"#f7f7f7\"],[0.6,\"#e6f5d0\"],[0.7,\"#b8e186\"],[0.8,\"#7fbc41\"],[0.9,\"#4d9221\"],[1,\"#276419\"]]},\"xaxis\":{\"gridcolor\":\"white\",\"linecolor\":\"white\",\"ticks\":\"\",\"title\":{\"standoff\":15},\"zerolinecolor\":\"white\",\"automargin\":true,\"zerolinewidth\":2},\"yaxis\":{\"gridcolor\":\"white\",\"linecolor\":\"white\",\"ticks\":\"\",\"title\":{\"standoff\":15},\"zerolinecolor\":\"white\",\"automargin\":true,\"zerolinewidth\":2},\"scene\":{\"xaxis\":{\"backgroundcolor\":\"#E5ECF6\",\"gridcolor\":\"white\",\"linecolor\":\"white\",\"showbackground\":true,\"ticks\":\"\",\"zerolinecolor\":\"white\",\"gridwidth\":2},\"yaxis\":{\"backgroundcolor\":\"#E5ECF6\",\"gridcolor\":\"white\",\"linecolor\":\"white\",\"showbackground\":true,\"ticks\":\"\",\"zerolinecolor\":\"white\",\"gridwidth\":2},\"zaxis\":{\"backgroundcolor\":\"#E5ECF6\",\"gridcolor\":\"white\",\"linecolor\":\"white\",\"showbackground\":true,\"ticks\":\"\",\"zerolinecolor\":\"white\",\"gridwidth\":2}},\"shapedefaults\":{\"line\":{\"color\":\"#2a3f5f\"}},\"annotationdefaults\":{\"arrowcolor\":\"#2a3f5f\",\"arrowhead\":0,\"arrowwidth\":1},\"geo\":{\"bgcolor\":\"white\",\"landcolor\":\"#E5ECF6\",\"subunitcolor\":\"white\",\"showland\":true,\"showlakes\":true,\"lakecolor\":\"white\"},\"title\":{\"x\":0.05},\"mapbox\":{\"style\":\"light\"}}},\"yaxis\":{\"title\":{\"text\":\"\"},\"showticklabels\":false},\"title\":{\"text\":\"Real Price Over Time for Different Products\"},\"xaxis\":{\"title\":{\"text\":\"Time\"}},\"width\":1200,\"height\":800},                        {\"responsive\": true}                    ).then(function(){\n",
       "                            \n",
       "var gd = document.getElementById('83b88f00-7089-4417-935f-6582e1743a86');\n",
       "var x = new MutationObserver(function (mutations, observer) {{\n",
       "        var display = window.getComputedStyle(gd).display;\n",
       "        if (!display || display === 'none') {{\n",
       "            console.log([gd, 'removed!']);\n",
       "            Plotly.purge(gd);\n",
       "            observer.disconnect();\n",
       "        }}\n",
       "}});\n",
       "\n",
       "// Listen for the removal of the full notebook cells\n",
       "var notebookContainer = gd.closest('#notebook-container');\n",
       "if (notebookContainer) {{\n",
       "    x.observe(notebookContainer, {childList: true});\n",
       "}}\n",
       "\n",
       "// Listen for the clearing of the current output cell\n",
       "var outputEl = gd.closest('.output');\n",
       "if (outputEl) {{\n",
       "    x.observe(outputEl, {childList: true});\n",
       "}}\n",
       "\n",
       "                        })                };                });            </script>        </div>"
      ]
     },
     "metadata": {},
     "output_type": "display_data"
    }
   ],
   "source": [
    "import pandas as pd\n",
    "import plotly.graph_objs as go\n",
    "import plotly.io as pio\n",
    "\n",
    "# Load data from Excel file\n",
    "df = pd.read_excel('front products.xlsx')\n",
    "\n",
    "# Extract product names and real prices\n",
    "products = df.iloc[:, ::2]  # Extract every other column\n",
    "prices = df.iloc[:, 1::2]    # Extract the remaining columns\n",
    "\n",
    "# Create a line graph for each product\n",
    "fig = go.Figure()\n",
    "\n",
    "for product_name, price_values in zip(products.columns, prices.columns):\n",
    "    fig.add_trace(go.Scatter(\n",
    "        x=prices.index,\n",
    "        y=prices[price_values],\n",
    "        mode='lines+markers',\n",
    "        name=product_name,  # Use product name as trace name\n",
    "        hovertext=products.index,  # Set hover text to index name\n",
    "    ))\n",
    "\n",
    "# Update layout\n",
    "fig.update_layout(\n",
    "    title='Real Price Over Time for Different Products',\n",
    "    xaxis_title='Time',\n",
    "    yaxis_title='',  # Empty y-axis title\n",
    "    width=1200,  # Increase width\n",
    "    height=800,  # Increase height\n",
    "    yaxis=dict(showticklabels=False)  # Do not show tick labels on y-axis\n",
    ")\n",
    "\n",
    "# Show the plot\n",
    "pio.show(fig)\n"
   ]
  },
  {
   "cell_type": "code",
   "execution_count": null,
   "id": "b9128c1b",
   "metadata": {},
   "outputs": [],
   "source": []
  }
 ],
 "metadata": {
  "kernelspec": {
   "display_name": "Python 3 (ipykernel)",
   "language": "python",
   "name": "python3"
  },
  "language_info": {
   "codemirror_mode": {
    "name": "ipython",
    "version": 3
   },
   "file_extension": ".py",
   "mimetype": "text/x-python",
   "name": "python",
   "nbconvert_exporter": "python",
   "pygments_lexer": "ipython3",
   "version": "3.11.5"
  }
 },
 "nbformat": 4,
 "nbformat_minor": 5
}
